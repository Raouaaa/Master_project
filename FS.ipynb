{
 "cells": [
  {
   "cell_type": "markdown",
   "metadata": {},
   "source": [
    "## Extract the subjects view"
   ]
  },
  {
   "cell_type": "code",
   "execution_count": 1,
   "metadata": {},
   "outputs": [],
   "source": [
    "import os\n",
    "import scipy.io as sio\n",
    "import numpy as np"
   ]
  },
  {
   "cell_type": "code",
   "execution_count": 2,
   "metadata": {},
   "outputs": [],
   "source": [
    "def handle_subj_ops(subj):\n",
    "    subj_file = os.path.join(src_fold, 'subject' + format(subj)+ '.mat')\n",
    "    data = sio.loadmat(subj_file)['A']\n",
    "    # eliminate unwanted regions\n",
    "    #data = data[:, mask]\n",
    "\n",
    "    #subj_dest_fold = os.path.join(dst_fold, 'subject' + format(subj))\n",
    "    #os.mkdir(subj_dest_fold)\n",
    "    return data\n"
   ]
  },
  {
   "cell_type": "code",
   "execution_count": 3,
   "metadata": {},
   "outputs": [],
   "source": [
    "def extract_subj_store(subj, data):\n",
    "\n",
    "    #subj_dest_fold = os.path.join(dst_fold, 'subject' + format(subj))\n",
    "    #Proceeded by transpose  to obtain 4 matrices for each subject, already checked that it is symmetric\n",
    "    data=data.transpose(2,0,1)\n",
    "    #the first matrix (network) in the dataset (over 4)\n",
    "    #upper_tri=np.triu(data[0])\n",
    "    matrix=data[0]\n",
    "    #Vectorize \n",
    "    ui=np.triu_indices(35)\n",
    "    vector=matrix[ui]\n",
    "    \n",
    "\n",
    "    #f = os.path.join(subj_dest_fold, 'subjectA'+ format(subj)  + '.mat' )\n",
    "    ## needed data for classification, labels and features(brain grahps' weights in our case)\n",
    "    #d = {}\n",
    "    #d ['vector']=vector\n",
    "    #sio.savemat(f,d)\n",
    "    return vector"
   ]
  },
  {
   "cell_type": "code",
   "execution_count": 4,
   "metadata": {},
   "outputs": [],
   "source": [
    "def create_dataset(subjects,src_fold,dst_fold):\n",
    "    #subj_dest_fold = os.path.join(dst_fold, 'subject' + format(subj))\n",
    "    d={}\n",
    "    Features_vectors=[0 for i in range(630)]\n",
    "    #v=np.array([[0 for i in range(630)]])\n",
    "    for subj in subjects:\n",
    "        subj_data=handle_subj_ops(subj)\n",
    "        vector=extract_subj_store(subj,subj_data)\n",
    "        Features_vectors=np.vstack((Features_vectors,vector))\n",
    "        \n",
    "        #v=np.append(v,np.array(vector))\n",
    "        #d['subject'+format(subj)]=vector\n",
    "    #d['A']=v\n",
    "    Features_vectors=np.delete(Features_vectors,0,0)\n",
    "    d['Features_vectors']=Features_vectors\n",
    "    f = os.path.join(dst_fold, 'Feature_vectors' + '.mat' )\n",
    "    sio.savemat(f,d)    \n",
    "    "
   ]
  },
  {
   "cell_type": "markdown",
   "metadata": {},
   "source": [
    "### --------------------Main------------------------"
   ]
  },
  {
   "cell_type": "code",
   "execution_count": 5,
   "metadata": {},
   "outputs": [],
   "source": [
    "src_fold  = '/home/raoua/Desktop/BASIRA/working repo/Data_77subjects/LH77subjects/'\n",
    "label_file = '/home/raoua/Desktop/BASIRA/working repo/Data_77subjects/labels77.mat'\n",
    "dst_fold = '/home/raoua/Desktop/BASIRA/working repo/intermediate/'"
   ]
  },
  {
   "cell_type": "code",
   "execution_count": 6,
   "metadata": {},
   "outputs": [],
   "source": [
    "subjects=range(1,78)\n",
    "#for subj in subjects:\n",
    "#    # read and create necessary folders\n",
    "#    subj_data = handle_subj_ops(subj)\n",
    "#    extract_subj_store(subj, subj_data)\n",
    "create_dataset(subjects,src_fold,dst_fold)"
   ]
  },
  {
   "cell_type": "markdown",
   "metadata": {},
   "source": [
    "### Start over here "
   ]
  },
  {
   "cell_type": "code",
   "execution_count": 1,
   "metadata": {},
   "outputs": [],
   "source": [
    "import scipy.io as sio"
   ]
  },
  {
   "cell_type": "code",
   "execution_count": 2,
   "metadata": {},
   "outputs": [],
   "source": [
    "Data=sio.loadmat('./intermediate/Feature_vectors.mat')"
   ]
  },
  {
   "cell_type": "code",
   "execution_count": 3,
   "metadata": {},
   "outputs": [],
   "source": [
    "X=Data['Features_vectors']"
   ]
  },
  {
   "cell_type": "code",
   "execution_count": 4,
   "metadata": {},
   "outputs": [],
   "source": [
    "X = X.astype(float)"
   ]
  },
  {
   "cell_type": "code",
   "execution_count": 5,
   "metadata": {},
   "outputs": [],
   "source": [
    "labels=sio.loadmat('./labels77.mat')"
   ]
  },
  {
   "cell_type": "code",
   "execution_count": 6,
   "metadata": {},
   "outputs": [],
   "source": [
    "y=labels['labels']"
   ]
  },
  {
   "cell_type": "code",
   "execution_count": 7,
   "metadata": {},
   "outputs": [
    {
     "data": {
      "text/plain": [
       "dtype('float64')"
      ]
     },
     "execution_count": 7,
     "metadata": {},
     "output_type": "execute_result"
    }
   ],
   "source": [
    "X.dtype"
   ]
  },
  {
   "cell_type": "markdown",
   "metadata": {},
   "source": [
    "### Feature selection"
   ]
  },
  {
   "cell_type": "code",
   "execution_count": 8,
   "metadata": {},
   "outputs": [],
   "source": [
    "y=y[:, 0]"
   ]
  },
  {
   "cell_type": "code",
   "execution_count": 9,
   "metadata": {},
   "outputs": [],
   "source": [
    " n_samples, n_features = X.shape    # number of samples and number of features"
   ]
  },
  {
   "cell_type": "code",
   "execution_count": 10,
   "metadata": {},
   "outputs": [],
   "source": [
    "from sklearn.model_selection import KFold\n",
    "from sklearn import svm\n",
    "from sklearn.metrics import accuracy_score\n",
    "from skfeature.function.similarity_based import reliefF"
   ]
  },
  {
   "cell_type": "markdown",
   "metadata": {},
   "source": [
    "### 5-fold"
   ]
  },
  {
   "cell_type": "code",
   "execution_count": 11,
   "metadata": {},
   "outputs": [],
   "source": [
    "# split data into 5 folds\n",
    "kf5=KFold(n_splits=5,shuffle=True)\n",
    "\n",
    "#ss = cross_validate(n_samples, n_folds=5, shuffle=True)"
   ]
  },
  {
   "cell_type": "code",
   "execution_count": 12,
   "metadata": {},
   "outputs": [
    {
     "data": {
      "text/plain": [
       "5"
      ]
     },
     "execution_count": 12,
     "metadata": {},
     "output_type": "execute_result"
    }
   ],
   "source": [
    "kf5.get_n_splits(X)"
   ]
  },
  {
   "cell_type": "code",
   "execution_count": 13,
   "metadata": {},
   "outputs": [],
   "source": [
    "# Number of selected features (top k ranked features)\n",
    "\n",
    "#top K selected features varying from 10 to 100 (with a step size of 10 features)\n",
    "num_fea = [i for i in range(10,110,10)]\n",
    "clf = svm.LinearSVC()    # linear SVM\n",
    "correct=0\n",
    "accuracy=[]"
   ]
  },
  {
   "cell_type": "code",
   "execution_count": 14,
   "metadata": {},
   "outputs": [],
   "source": [
    "#MutInfFS\n",
    "from skfeature.function.information_theoretical_based import MIFS\n",
    "#laplacian\n",
    "from skfeature.function.similarity_based import lap_score\n",
    "from skfeature.utility import construct_W\n",
    "# norm\n",
    "from skfeature.function.sparse_learning_based import ll_l21\n",
    "from skfeature.utility.sparse_learning import *\n",
    "#UDFS\n",
    "from skfeature.function.sparse_learning_based import UDFS\n",
    "from skfeature.utility.sparse_learning import feature_ranking\n",
    "#cFS(correlation based FS)\n",
    "from skfeature.function.statistical_based import CFS"
   ]
  },
  {
   "cell_type": "code",
   "execution_count": 15,
   "metadata": {},
   "outputs": [],
   "source": [
    "def relief_FS(X_train,y_train):\n",
    "    score=reliefF.reliefF(X_train,y_train)\n",
    "    idx=reliefF.feature_ranking(score)\n",
    "    return(idx)"
   ]
  },
  {
   "cell_type": "code",
   "execution_count": 16,
   "metadata": {},
   "outputs": [],
   "source": [
    "def MIFS_FS(k,X_train,y_train):\n",
    "    idx = MIFS.mifs(X_train, y_train, n_selected_features=k)\n",
    "    #print(idx)\n",
    "    return(idx)"
   ]
  },
  {
   "cell_type": "code",
   "execution_count": 17,
   "metadata": {},
   "outputs": [],
   "source": [
    "def lap_score_FS():\n",
    "    # construct affinity matrix\n",
    "    kwargs_W = {\"metric\": \"euclidean\", \"neighbor_mode\": \"knn\", \"weight_mode\": \"heat_kernel\", \"k\": 5, 't': 1}\n",
    "    W = construct_W.construct_W(X, **kwargs_W)\n",
    "    # obtain the scores of features\n",
    "    score = lap_score.lap_score(X, W=W)\n",
    "    idx=lap_score.feature_ranking(score)\n",
    "    return(idx)"
   ]
  },
  {
   "cell_type": "code",
   "execution_count": 18,
   "metadata": {},
   "outputs": [],
   "source": [
    "def ll_l21_FS(X_train,y,train_index):\n",
    "    Y = construct_label_matrix_pan(y)\n",
    "    Y_train=Y[train_index]\n",
    "    Weight, obj, value_gamma = ll_l21.proximal_gradient_descent(X_train, Y[train_index], 0.1, verbose=False)\n",
    "    idx = feature_ranking(Weight)\n",
    "    return(idx)\n",
    "    \n",
    "    "
   ]
  },
  {
   "cell_type": "code",
   "execution_count": 19,
   "metadata": {},
   "outputs": [],
   "source": [
    "def UDFS_FS():\n",
    "    Weight = UDFS.udfs(X)\n",
    "    idx=feature_ranking(Weight)\n",
    "    return(idx)\n",
    "    "
   ]
  },
  {
   "cell_type": "code",
   "execution_count": 20,
   "metadata": {},
   "outputs": [],
   "source": [
    "def CFS_FS(X_train,y_train):\n",
    "    idx = CFS.cfs(X_train, y_train)\n",
    "    return(idx)\n",
    "    "
   ]
  },
  {
   "cell_type": "code",
   "execution_count": 21,
   "metadata": {},
   "outputs": [],
   "source": [
    "'''We generate an average similarity matrix S̄ by merging all similarity matrices\n",
    "across all threshold'''\n",
    "#M1,M2 and M3 had the same dimension\n",
    "# matrices_pool=[M1,M2,M3]\n",
    "def Avg_Similarity_matrix(k,matrices_pool):\n",
    "    # All the matrices have the same dimension\n",
    "    return(np.average(matrices_pool))    \n",
    "        \n",
    "        \n",
    "        \n",
    "    \n",
    "    "
   ]
  },
  {
   "cell_type": "markdown",
   "metadata": {},
   "source": [
    "____________________________Experimentations_________________________________"
   ]
  },
  {
   "cell_type": "code",
   "execution_count": 90,
   "metadata": {},
   "outputs": [],
   "source": [
    "import numpy as np\n",
    "M=np.array([[2, 2, 1],\n",
    "       [3, 3, 3],\n",
    "       [1, 0, 1]])\n",
    "M1=np.array([[2, 2, 0],\n",
    "       [3, 0, 3],\n",
    "       [0, 0, 1]])\n",
    "M2=np.array([[0, 2, 1],\n",
    "       [3, 0, 5],\n",
    "       [7, 0, 0]])\n",
    "M3=np.array([[0, 2, 1.5],\n",
    "       [3, 2, 5],\n",
    "       [7, 0, 0.5]])\n",
    "pool_matrices=[M,M1,M2,M3]\n",
    "n,m=M.shape"
   ]
  },
  {
   "cell_type": "code",
   "execution_count": 88,
   "metadata": {},
   "outputs": [
    {
     "data": {
      "text/plain": [
       "array([[1.   , 2.   , 0.875],\n",
       "       [3.   , 1.25 , 4.   ],\n",
       "       [3.75 , 0.   , 0.625]])"
      ]
     },
     "execution_count": 88,
     "metadata": {},
     "output_type": "execute_result"
    }
   ],
   "source": [
    "np.average(pool_matrices, axis=0)"
   ]
  },
  {
   "cell_type": "code",
   "execution_count": 107,
   "metadata": {},
   "outputs": [
    {
     "ename": "ValueError",
     "evalue": "could not broadcast input array from shape (77,10) into shape (77)",
     "output_type": "error",
     "traceback": [
      "\u001b[0;31m---------------------------------------------------------------------------\u001b[0m",
      "\u001b[0;31mValueError\u001b[0m                                Traceback (most recent call last)",
      "\u001b[0;32m<ipython-input-107-711dc801d229>\u001b[0m in \u001b[0;36m<module>\u001b[0;34m\u001b[0m\n\u001b[0;32m----> 1\u001b[0;31m \u001b[0mnp\u001b[0m\u001b[0;34m.\u001b[0m\u001b[0marray\u001b[0m\u001b[0;34m(\u001b[0m\u001b[0mpool_matrices\u001b[0m\u001b[0;34m)\u001b[0m\u001b[0;34m.\u001b[0m\u001b[0mreshape\u001b[0m\u001b[0;34m(\u001b[0m\u001b[0;36m77\u001b[0m\u001b[0;34m,\u001b[0m \u001b[0;36m10\u001b[0m\u001b[0;34m)\u001b[0m\u001b[0;34m\u001b[0m\u001b[0;34m\u001b[0m\u001b[0m\n\u001b[0m",
      "\u001b[0;31mValueError\u001b[0m: could not broadcast input array from shape (77,10) into shape (77)"
     ]
    }
   ],
   "source": [
    "np.array(pool_matrices).reshape(77, 10)"
   ]
  },
  {
   "cell_type": "code",
   "execution_count": 101,
   "metadata": {},
   "outputs": [
    {
     "ename": "ValueError",
     "evalue": "could not broadcast input array from shape (77,10) into shape (77)",
     "output_type": "error",
     "traceback": [
      "\u001b[0;31m---------------------------------------------------------------------------\u001b[0m",
      "\u001b[0;31mValueError\u001b[0m                                Traceback (most recent call last)",
      "\u001b[0;32m<ipython-input-101-534a3c662a3d>\u001b[0m in \u001b[0;36m<module>\u001b[0;34m\u001b[0m\n\u001b[0;32m----> 1\u001b[0;31m \u001b[0mnp\u001b[0m\u001b[0;34m.\u001b[0m\u001b[0mndarray\u001b[0m\u001b[0;34m.\u001b[0m\u001b[0mmean\u001b[0m\u001b[0;34m(\u001b[0m\u001b[0mnp\u001b[0m\u001b[0;34m.\u001b[0m\u001b[0marray\u001b[0m\u001b[0;34m(\u001b[0m\u001b[0mpool_matrices\u001b[0m\u001b[0;34m)\u001b[0m\u001b[0;34m)\u001b[0m\u001b[0;34m\u001b[0m\u001b[0;34m\u001b[0m\u001b[0m\n\u001b[0m",
      "\u001b[0;31mValueError\u001b[0m: could not broadcast input array from shape (77,10) into shape (77)"
     ]
    }
   ],
   "source": [
    "np.ndarray.mean(np.array(pool_matrices))"
   ]
  },
  {
   "cell_type": "raw",
   "metadata": {},
   "source": [
    "element=np.zeros(n)"
   ]
  },
  {
   "cell_type": "raw",
   "metadata": {},
   "source": [
    "element"
   ]
  },
  {
   "cell_type": "raw",
   "metadata": {},
   "source": [
    "average_matrice=[]"
   ]
  },
  {
   "cell_type": "raw",
   "metadata": {},
   "source": [
    "element=np.zeros(n)\n",
    "avg_matrice=[]\n",
    "#avg_matrice=dict()\n",
    "for i in range(n):\n",
    "    for matrice in pool_matrices:\n",
    "        vector=matrice[:,i]\n",
    "        element=element+vector\n",
    "        #print(element)\n",
    "        \n",
    "    average=element/n\n",
    "    #newArray = np.append(average, axis = 1)\n",
    "    avg_matrice.append(average)\n",
    "    #print(average)\n",
    "result=np.array(average_matrice)\n",
    "print('you missed this!!',result)\n",
    "    "
   ]
  },
  {
   "cell_type": "raw",
   "metadata": {},
   "source": [
    "np.asarray(avg_matrice)"
   ]
  },
  {
   "cell_type": "raw",
   "metadata": {},
   "source": [
    "np.transpose(np.asarray(avg_matrice))"
   ]
  },
  {
   "cell_type": "raw",
   "metadata": {},
   "source": [
    "np.average(M[:,0])"
   ]
  },
  {
   "cell_type": "raw",
   "metadata": {},
   "source": [
    "n,m=M.shape\n",
    "for i in range(n-1):\n",
    "    print(np.average(M[i]))"
   ]
  },
  {
   "cell_type": "raw",
   "metadata": {},
   "source": [
    "result=np.average(M,axis=1)"
   ]
  },
  {
   "cell_type": "markdown",
   "metadata": {},
   "source": [
    "____________________________________________________________________________________"
   ]
  },
  {
   "cell_type": "raw",
   "metadata": {},
   "source": [
    "#def training(cv,num_fea,FS_method):\n",
    "#   accuracy=[]\n",
    "#   #pool_matrices=[]\n",
    "#   for k in num_fea: \n",
    "#       for train_index, test_index in cv.split(X):\n",
    "#           #print(\"TRAIN:\", train_index, \"TEST:\", test_index)\n",
    "#           X_train, X_test = X[train_index], X[test_index]\n",
    "#           y_train, y_test = y[train_index], y[test_index]\n",
    "#\n",
    "#           if FS_method==reliefF:\n",
    "#               idx=relief_FS(X_train,y_train)\n",
    "#           #elif FS_method==MIFS: ##ERROR\n",
    "#           #    idx=MIFS_FS(k,X_train,y_train)\n",
    "#           elif FS_method==lap_score:\n",
    "#               idx=lap_score_FS()\n",
    "#           elif FS_method==ll_l21:\n",
    "#               idx=ll_l21_FS(X_train,y,train_index)\n",
    "#           elif FS_method==UDFS:\n",
    "#               idx=UDFS_FS()\n",
    "#           elif FS_method==CFS:\n",
    "#               idx=CFS_FS(X_train,y_train)\n",
    "#           selected_features = X[:, idx[0:k]]\n",
    "#           # train a classification model with the selected features on the training dataset\n",
    "#           clf.fit(selected_features[train_index], y[train_index])\n",
    "#           # predict the class labels of test data\n",
    "#           y_predict = clf.predict(selected_features[test_index])\n",
    "#           # obtain the classification accuracy on the test data\n",
    "#           acc = accuracy_score(y[test_index], y_predict)\n",
    "#           #correct = correct + acc\n",
    "#       #accuracy.append(float(correct)/10)\n",
    "#       accuracy.append(acc)\n",
    "#       #pool_matrices.append(selected_features)\n",
    "#   #performance.append(accuracy)\n",
    "#   return(accuracy)\n",
    "#   #return(pool_matrices)"
   ]
  },
  {
   "cell_type": "code",
   "execution_count": 32,
   "metadata": {},
   "outputs": [],
   "source": [
    "def training(cv,k,FS_method):\n",
    "    accuracy=[]\n",
    "    #pool_matrices=[]\n",
    "    #for k in num_fea: \n",
    "    for train_index, test_index in cv.split(X):\n",
    "        #print(\"TRAIN:\", train_index, \"TEST:\", test_index)\n",
    "        X_train, X_test = X[train_index], X[test_index]\n",
    "        y_train, y_test = y[train_index], y[test_index]\n",
    "        if FS_method==reliefF:\n",
    "            idx=relief_FS(X_train,y_train)\n",
    "        #elif FS_method==MIFS: ##ERROR\n",
    "        #    idx=MIFS_FS(k,X_train,y_train)\n",
    "        elif FS_method==lap_score:\n",
    "            idx=lap_score_FS()\n",
    "        elif FS_method==ll_l21:\n",
    "            idx=ll_l21_FS(X_train,y,train_index)\n",
    "        elif FS_method==UDFS:\n",
    "            idx=UDFS_FS()\n",
    "        elif FS_method==CFS:\n",
    "            idx=CFS_FS(X_train,y_train)\n",
    "        selected_features = X[:, idx[0:k]]\n",
    "        #µfeatures=X[idx[0:k],:]\n",
    "        print('ranking vector = ',idx[0:k])\n",
    "        print('selected_features = ',selected_features)\n",
    "        #print('features = ',features)\n",
    "        # train a classification model with the selected features on the training dataset\n",
    "        clf.fit(selected_features[train_index], y[train_index])  # predict the class labels of test data\n",
    "        y_predict = clf.predict(selected_features[test_index])\n",
    "        # obtain the classification accuracy on the test data\n",
    "        acc = accuracy_score(y[test_index], y_predict)\n",
    "        #correct = correct + acc\n",
    "    #accuracy.append(float(correct)/10)\n",
    "    accuracy.append(acc)\n",
    "    #pool_matrices.append(selected_features)\n",
    "    #performance.append(accuracy)\n",
    "    #return(selected_features)\n",
    "    #return(pool_matrices)"
   ]
  },
  {
   "cell_type": "code",
   "execution_count": 33,
   "metadata": {},
   "outputs": [
    {
     "name": "stdout",
     "output_type": "stream",
     "text": [
      "ranking vector =  [194 185 169 430 191 192   5 104 285 176]\n",
      "selected_features =  [[2.20724e-01 7.55151e-02 1.68101e-01 3.58347e-02 2.05294e-01 2.05294e-01\n",
      "  2.05294e-01 2.05294e-01 1.28421e-01 1.11726e-01]\n",
      " [1.80820e-01 1.85003e-01 1.65045e-01 2.06500e-01 1.40342e-01 1.40342e-01\n",
      "  1.40342e-01 1.40342e-01 1.86543e-01 3.65176e-02]\n",
      " [1.57849e-01 5.41562e-02 1.01033e-01 4.54283e-02 1.48199e-01 1.48199e-01\n",
      "  1.48199e-01 1.48199e-01 9.23050e-02 9.05616e-02]\n",
      " [1.39375e-01 3.02122e-02 6.15838e-02 9.29143e-03 1.03870e-01 1.03870e-01\n",
      "  1.03870e-01 1.03870e-01 4.06630e-02 1.60426e-03]\n",
      " [2.82306e-01 1.68959e-01 2.25032e-01 8.04876e-02 2.52834e-01 2.52834e-01\n",
      "  2.52834e-01 2.52834e-01 1.36561e-01 1.71522e-01]\n",
      " [1.17436e-01 8.93672e-02 9.72770e-02 8.29085e-02 1.22937e-01 1.22937e-01\n",
      "  1.22937e-01 1.22937e-01 9.08183e-02 5.45670e-02]\n",
      " [1.54193e-01 7.50120e-02 1.02548e-01 6.17720e-02 1.56436e-01 1.56436e-01\n",
      "  1.56436e-01 1.56436e-01 8.93084e-02 7.83550e-02]\n",
      " [2.14231e-01 1.70543e-01 2.16108e-01 1.31204e-01 2.05005e-01 2.05005e-01\n",
      "  2.05005e-01 2.05005e-01 1.76769e-01 1.07628e-01]\n",
      " [2.06952e-01 1.32625e-01 1.47097e-01 4.62665e-02 2.04120e-01 2.04120e-01\n",
      "  2.04120e-01 2.04120e-01 6.07392e-02 3.59364e-02]\n",
      " [2.06660e-01 1.48505e-01 2.06444e-01 9.32758e-02 1.93373e-01 1.93373e-01\n",
      "  1.93373e-01 1.93373e-01 1.51214e-01 1.46928e-01]\n",
      " [1.17622e-01 3.73448e-02 2.07692e-01 1.04532e-01 1.36766e-01 1.36766e-01\n",
      "  1.36766e-01 1.36766e-01 6.58154e-02 6.68539e-02]\n",
      " [1.74877e-01 6.08048e-02 1.49007e-01 1.90304e-02 1.81285e-01 1.81285e-01\n",
      "  1.81285e-01 1.81285e-01 6.91716e-02 9.53295e-02]\n",
      " [2.62731e-01 1.74851e-01 2.21961e-01 9.90150e-02 2.47515e-01 2.47515e-01\n",
      "  2.47515e-01 2.47515e-01 1.46126e-01 1.84785e-01]\n",
      " [2.09937e-01 1.57858e-01 1.99800e-01 1.00480e-01 1.62221e-01 1.62221e-01\n",
      "  1.62221e-01 1.62221e-01 1.42422e-01 8.24191e-02]\n",
      " [2.64422e-01 1.39915e-01 2.56400e-01 4.47726e-02 2.48062e-01 2.48062e-01\n",
      "  2.48062e-01 2.48062e-01 1.61258e-01 1.77439e-01]\n",
      " [1.72254e-01 1.38980e-01 1.20516e-01 1.65192e-01 1.44264e-01 1.44264e-01\n",
      "  1.44264e-01 1.44264e-01 1.46728e-01 6.53791e-02]\n",
      " [2.10449e-01 2.38603e-01 2.09320e-01 1.43274e-01 2.22031e-01 2.22031e-01\n",
      "  2.22031e-01 2.22031e-01 1.13991e-01 1.21016e-01]\n",
      " [2.11738e-01 1.35188e-01 1.48890e-01 4.64592e-02 2.12518e-01 2.12518e-01\n",
      "  2.12518e-01 2.12518e-01 6.01615e-02 1.12440e-01]\n",
      " [1.92972e-01 2.40269e-01 1.03561e-01 1.84470e-01 1.83989e-01 1.83989e-01\n",
      "  1.83989e-01 1.83989e-01 4.77612e-02 7.62369e-02]\n",
      " [2.18203e-01 2.13752e-01 2.25448e-01 2.25732e-04 2.32913e-01 2.32913e-01\n",
      "  2.32913e-01 2.32913e-01 1.19219e-02 1.71123e-01]\n",
      " [1.75780e-01 1.91563e-01 1.98071e-01 7.10819e-02 2.10357e-01 2.10357e-01\n",
      "  2.10357e-01 2.10357e-01 7.75900e-02 1.08798e-01]\n",
      " [1.33214e-01 9.37178e-03 1.45556e-01 6.03091e-02 1.67321e-01 1.67321e-01\n",
      "  1.67321e-01 1.67321e-01 7.58755e-02 6.29034e-02]\n",
      " [3.34532e-01 3.21217e-01 3.09446e-01 1.49791e-01 3.21836e-01 3.21836e-01\n",
      "  3.21836e-01 3.21836e-01 1.38019e-01 2.29922e-01]\n",
      " [3.11290e-01 2.00312e-01 2.33766e-01 4.24947e-02 2.53998e-01 2.53998e-01\n",
      "  2.53998e-01 2.53998e-01 7.59491e-02 1.09205e-01]\n",
      " [8.97065e-02 8.18313e-02 7.77862e-02 1.17377e-01 9.15317e-02 9.15317e-02\n",
      "  9.15317e-02 9.15317e-02 1.13332e-01 1.87913e-02]\n",
      " [1.01863e-01 7.51590e-02 4.22865e-02 1.10377e-01 6.75319e-02 6.75319e-02\n",
      "  6.75319e-02 6.75319e-02 7.75049e-02 2.47618e-02]\n",
      " [1.58244e-01 7.43748e-02 1.68408e-01 6.33477e-02 1.48040e-01 1.48040e-01\n",
      "  1.48040e-01 1.48040e-01 1.57381e-01 6.77681e-02]\n",
      " [3.67865e-01 2.92461e-01 3.80164e-01 8.17237e-02 3.46278e-01 3.46278e-01\n",
      "  3.46278e-01 3.46278e-01 1.69427e-01 2.29174e-01]\n",
      " [1.43759e-01 3.70282e-02 1.46327e-01 6.96444e-03 1.52692e-01 1.52692e-01\n",
      "  1.52692e-01 1.52692e-01 1.02334e-01 9.85573e-02]\n",
      " [2.87221e-01 2.56046e-01 2.55839e-01 1.15668e-01 2.70682e-01 2.70682e-01\n",
      "  2.70682e-01 2.70682e-01 1.15461e-01 1.98359e-01]\n",
      " [2.86899e-01 2.67186e-01 2.72062e-01 1.12746e-01 3.07450e-01 3.07450e-01\n",
      "  3.07450e-01 3.07450e-01 1.17621e-01 2.54917e-01]\n",
      " [1.71308e-01 1.16076e-01 1.41498e-01 8.30880e-02 1.74919e-01 1.74919e-01\n",
      "  1.74919e-01 1.74919e-01 1.08510e-01 8.54072e-02]\n",
      " [4.05657e-01 3.32501e-01 4.20048e-01 9.12750e-02 4.32135e-01 4.32135e-01\n",
      "  4.32135e-01 4.32135e-01 1.78822e-01 3.76074e-01]\n",
      " [4.72027e-01 4.03193e-01 4.83646e-01 3.58259e-02 4.68053e-01 4.68053e-01\n",
      "  4.68053e-01 4.68053e-01 1.16279e-01 4.14862e-01]\n",
      " [2.13263e-01 1.74160e-01 2.19881e-01 8.01018e-02 2.33875e-01 2.33875e-01\n",
      "  2.33875e-01 2.33875e-01 1.25823e-01 1.63339e-01]\n",
      " [2.30645e-01 2.10216e-01 2.07640e-01 1.32462e-01 2.37061e-01 2.37061e-01\n",
      "  2.37061e-01 2.37061e-01 1.29886e-01 1.58099e-01]\n",
      " [2.99990e-01 2.66672e-01 2.73924e-01 1.37216e-01 2.77233e-01 2.77233e-01\n",
      "  2.77233e-01 2.77233e-01 1.44468e-01 2.27685e-01]\n",
      " [2.90653e-01 2.29427e-01 2.56620e-01 9.50610e-02 2.88561e-01 2.88561e-01\n",
      "  2.88561e-01 2.88561e-01 1.22254e-01 1.94363e-01]\n",
      " [2.74027e-01 2.46723e-01 2.56734e-01 1.31056e-01 2.69841e-01 2.69841e-01\n",
      "  2.69841e-01 2.69841e-01 1.41066e-01 1.94838e-01]\n",
      " [1.29731e-01 1.31724e-01 9.56296e-02 1.51125e-01 1.33783e-01 1.33783e-01\n",
      "  1.33783e-01 1.33783e-01 1.15030e-01 9.32744e-02]\n",
      " [2.20378e-01 2.42591e-01 2.43088e-01 7.22251e-02 2.79154e-01 2.79154e-01\n",
      "  2.79154e-01 2.79154e-01 7.27215e-02 1.86318e-01]\n",
      " [1.06531e-01 4.26886e-04 7.69981e-02 3.79918e-02 1.02787e-01 1.02787e-01\n",
      "  1.02787e-01 1.02787e-01 3.85794e-02 6.42531e-02]\n",
      " [1.78322e-01 2.54358e-02 9.83258e-02 1.00847e-01 1.38983e-01 1.38983e-01\n",
      "  1.38983e-01 1.38983e-01 1.73737e-01 7.73807e-03]\n",
      " [1.58743e-01 1.52926e-01 1.36031e-01 1.81978e-01 1.36325e-01 1.36325e-01\n",
      "  1.36325e-01 1.36325e-01 1.65083e-01 6.97060e-03]\n",
      " [9.45256e-02 9.78626e-02 7.45173e-02 1.60269e-01 7.13021e-02 7.13021e-02\n",
      "  7.13021e-02 7.13021e-02 1.36924e-01 8.51464e-03]\n",
      " [1.83586e-01 1.52756e-01 1.52469e-01 8.73335e-02 1.86251e-01 1.86251e-01\n",
      "  1.86251e-01 1.86251e-01 8.70464e-02 6.61782e-02]\n",
      " [1.17808e-01 6.84208e-02 1.44671e-01 9.86727e-02 1.46293e-01 1.46293e-01\n",
      "  1.46293e-01 1.46293e-01 1.74923e-01 4.88714e-02]\n",
      " [1.03199e-02 1.30982e-01 5.49222e-02 3.82346e-02 5.38510e-03 5.38510e-03\n",
      "  5.38510e-03 5.38510e-03 3.78249e-02 8.46789e-02]\n",
      " [2.19385e-01 1.28138e-01 1.83571e-01 7.65784e-02 1.83963e-01 1.83963e-01\n",
      "  1.83963e-01 1.83963e-01 1.32011e-01 1.30633e-01]\n",
      " [1.25525e-01 3.43545e-02 9.14855e-02 6.64133e-02 1.27165e-01 1.27165e-01\n",
      "  1.27165e-01 1.27165e-01 1.23544e-01 2.48962e-02]\n",
      " [5.24706e-02 1.26841e-02 1.80224e-02 1.66213e-01 4.03239e-02 4.03239e-02\n",
      "  4.03239e-02 4.03239e-02 1.71551e-01 2.59169e-02]\n",
      " [1.20823e-01 8.00381e-03 8.03709e-02 2.65431e-02 1.31993e-01 1.31993e-01\n",
      "  1.31993e-01 1.31993e-01 4.58240e-02 5.61207e-02]\n",
      " [7.26997e-02 4.25516e-02 8.69952e-02 8.85652e-02 1.11797e-01 1.11797e-01\n",
      "  1.11797e-01 1.11797e-01 1.33009e-01 3.63111e-02]\n",
      " [2.02622e-01 9.66563e-02 2.15296e-01 5.14884e-02 1.94957e-01 1.94957e-01\n",
      "  1.94957e-01 1.94957e-01 1.70128e-01 1.29906e-01]\n",
      " [1.96702e-01 1.07712e-01 1.30540e-01 6.30204e-02 1.58960e-01 1.58960e-01\n",
      "  1.58960e-01 1.58960e-01 8.58478e-02 1.04936e-01]\n",
      " [1.92747e-01 9.61532e-02 1.59663e-01 4.66886e-02 1.84431e-01 1.84431e-01\n",
      "  1.84431e-01 1.84431e-01 1.10199e-01 1.11469e-01]\n",
      " [1.11331e-01 1.13480e-01 5.80958e-02 1.79595e-01 7.83795e-02 7.83795e-02\n",
      "  7.83795e-02 7.83795e-02 1.24210e-01 5.93304e-03]\n",
      " [2.70367e-01 1.89478e-01 2.23643e-01 1.85035e-01 2.37060e-01 2.37060e-01\n",
      "  2.37060e-01 2.37060e-01 2.19201e-01 1.41918e-01]\n",
      " [5.27893e-02 5.80014e-03 9.99297e-02 4.13342e-02 7.99582e-02 7.99582e-02\n",
      "  7.99582e-02 7.99582e-02 1.47064e-01 4.99294e-02]\n",
      " [1.42346e-01 1.08741e-01 1.50002e-01 7.15311e-02 1.53187e-01 1.53187e-01\n",
      "  1.53187e-01 1.53187e-01 1.12792e-01 8.24928e-02]\n",
      " [2.29906e-01 5.59082e-02 1.57304e-01 5.25691e-03 2.15318e-01 2.15318e-01\n",
      "  2.15318e-01 2.15318e-01 9.61391e-02 1.34884e-01]\n",
      " [8.83338e-02 3.25429e-02 7.09939e-02 7.95510e-02 9.71731e-02 9.71731e-02\n",
      "  9.71731e-02 9.71731e-02 1.18002e-01 1.76948e-02]\n",
      " [9.09184e-03 7.05818e-02 7.57008e-02 1.59026e-02 2.59690e-02 2.59690e-02\n",
      "  2.59690e-02 2.59690e-02 1.07836e-02 9.45883e-02]\n",
      " [1.27066e-01 4.18403e-02 7.89978e-02 5.71060e-02 1.11541e-01 1.11541e-01\n",
      "  1.11541e-01 1.11541e-01 9.42635e-02 3.72386e-02]\n",
      " [8.75999e-02 6.33091e-02 1.53632e-01 6.06680e-02 1.27598e-01 1.27598e-01\n",
      "  1.27598e-01 1.27598e-01 1.50991e-01 9.66080e-03]\n",
      " [2.06421e-03 7.96453e-02 4.38198e-02 2.64799e-03 1.17255e-03 1.17255e-03\n",
      "  1.17255e-03 1.17255e-03 3.31775e-02 8.85021e-02]\n",
      " [1.56506e-01 1.06057e-01 1.56281e-01 6.21553e-02 1.70548e-01 1.70548e-01\n",
      "  1.70548e-01 1.70548e-01 1.12379e-01 8.46929e-02]\n",
      " [8.99133e-02 4.94812e-02 4.59055e-02 8.71343e-03 7.05688e-02 7.05688e-02\n",
      "  7.05688e-02 7.05688e-02 1.04100e-01 7.40536e-03]\n",
      " [2.25937e-01 2.41692e-01 1.89983e-01 1.74551e-01 2.10895e-01 2.10895e-01\n",
      "  2.10895e-01 2.10895e-01 1.22842e-01 1.63630e-01]\n",
      " [9.89719e-02 8.61196e-03 8.85496e-02 2.34421e-02 1.00363e-01 1.00363e-01\n",
      "  1.00363e-01 1.00363e-01 5.64955e-02 2.56637e-02]\n",
      " [2.31065e-01 1.89981e-01 2.18772e-01 1.83123e-03 2.30357e-01 2.30357e-01\n",
      "  2.30357e-01 2.30357e-01 2.69604e-02 9.34033e-02]\n",
      " [1.64645e-01 6.20890e-02 1.11794e-01 4.94218e-02 1.28578e-01 1.28578e-01\n",
      "  1.28578e-01 1.28578e-01 9.91265e-02 9.17530e-02]\n",
      " [1.43598e-01 1.83565e-01 1.67396e-01 1.64518e-01 1.51144e-01 1.51144e-01\n",
      "  1.51144e-01 1.51144e-01 1.48348e-01 8.67186e-02]\n",
      " [1.55877e-01 1.34217e-01 1.50140e-01 1.08115e-01 1.56376e-01 1.56376e-01\n",
      "  1.56376e-01 1.56376e-01 1.24038e-01 5.99663e-02]\n",
      " [2.98438e-01 1.98157e-01 2.53172e-01 3.53240e-02 2.96329e-01 2.96329e-01\n",
      "  2.96329e-01 2.96329e-01 9.03386e-02 2.15899e-01]\n",
      " [1.27107e-01 7.36506e-02 1.23156e-01 7.91143e-02 1.44570e-01 1.44570e-01\n",
      "  1.44570e-01 1.44570e-01 1.28620e-01 5.37031e-02]\n",
      " [2.35432e-01 2.09054e-01 1.76449e-01 3.00751e-03 2.70005e-01 2.70005e-01\n",
      "  2.70005e-01 2.70005e-01 3.56124e-02 2.16425e-01]]\n",
      "ranking vector =  [185 194 171 186   5 104 192 191  72 187]\n",
      "selected_features =  [[7.55151e-02 2.20724e-01 5.98747e-02 5.53885e-02 2.05294e-01 2.05294e-01\n",
      "  2.05294e-01 2.05294e-01 5.78448e-02 5.53004e-02]\n",
      " [1.85003e-01 1.80820e-01 2.62704e-02 4.68879e-02 1.40342e-01 1.40342e-01\n",
      "  1.40342e-01 1.40342e-01 3.43874e-02 3.33143e-03]\n",
      " [5.41562e-02 1.57849e-01 4.37346e-02 2.60911e-02 1.48199e-01 1.48199e-01\n",
      "  1.48199e-01 1.48199e-01 4.11809e-02 2.15705e-02]\n",
      " [3.02122e-02 1.39375e-01 6.12142e-02 5.32718e-02 1.03870e-01 1.03870e-01\n",
      "  1.03870e-01 1.03870e-01 7.33199e-02 5.41930e-02]\n",
      " [1.68959e-01 2.82306e-01 8.40438e-02 1.58957e-01 2.52834e-01 2.52834e-01\n",
      "  2.52834e-01 2.52834e-01 1.44197e-01 1.14991e-01]\n",
      " [8.93672e-02 1.17436e-01 4.14750e-02 1.70622e-02 1.22937e-01 1.22937e-01\n",
      "  1.22937e-01 1.22937e-01 3.96207e-02 1.47743e-02]\n",
      " [7.50120e-02 1.54193e-01 5.69036e-02 2.59728e-02 1.56436e-01 1.56436e-01\n",
      "  1.56436e-01 1.56436e-01 8.77126e-02 9.11648e-04]\n",
      " [1.70543e-01 2.14231e-01 6.06670e-02 2.45591e-02 2.05005e-01 2.05005e-01\n",
      "  2.05005e-01 2.05005e-01 3.19495e-02 1.38390e-02]\n",
      " [1.32625e-01 2.06952e-01 9.81344e-02 6.30781e-02 2.04120e-01 2.04120e-01\n",
      "  2.04120e-01 2.04120e-01 7.91739e-02 1.04334e-01]\n",
      " [1.48505e-01 2.06660e-01 6.74262e-02 4.70251e-02 1.93373e-01 1.93373e-01\n",
      "  1.93373e-01 1.93373e-01 1.07793e-01 8.07794e-02]\n",
      " [3.73448e-02 1.17622e-01 2.72358e-02 8.18655e-03 1.36766e-01 1.36766e-01\n",
      "  1.36766e-01 1.36766e-01 5.71883e-02 3.39320e-02]\n",
      " [6.08048e-02 1.74877e-01 8.38794e-03 4.49592e-02 1.81285e-01 1.81285e-01\n",
      "  1.81285e-01 1.81285e-01 9.61183e-02 2.27641e-02]\n",
      " [1.74851e-01 2.62731e-01 1.66781e-01 1.34572e-01 2.47515e-01 2.47515e-01\n",
      "  2.47515e-01 2.47515e-01 1.77705e-01 1.61000e-01]\n",
      " [1.57858e-01 2.09937e-01 5.15052e-02 5.64235e-02 1.62221e-01 1.62221e-01\n",
      "  1.62221e-01 1.62221e-01 1.24382e-01 3.82119e-02]\n",
      " [1.39915e-01 2.64422e-01 1.26134e-01 1.27891e-01 2.48062e-01 2.48062e-01\n",
      "  2.48062e-01 2.48062e-01 1.79799e-01 1.15965e-01]\n",
      " [1.38980e-01 1.72254e-01 2.95967e-02 2.46377e-02 1.44264e-01 1.44264e-01\n",
      "  1.44264e-01 1.44264e-01 9.20495e-02 1.31330e-02]\n",
      " [2.38603e-01 2.10449e-01 6.04408e-02 8.17148e-02 2.22031e-01 2.22031e-01\n",
      "  2.22031e-01 2.22031e-01 1.24209e-01 6.60731e-02]\n",
      " [1.35188e-01 2.11738e-01 9.69575e-02 6.16077e-02 2.12518e-01 2.12518e-01\n",
      "  2.12518e-01 2.12518e-01 1.03207e-01 7.25838e-02]\n",
      " [2.40269e-01 1.92972e-01 6.05269e-02 5.47205e-02 1.83989e-01 1.83989e-01\n",
      "  1.83989e-01 1.83989e-01 1.16810e-01 9.10486e-02]\n",
      " [2.13752e-01 2.18203e-01 1.03379e-01 7.74583e-02 2.32913e-01 2.32913e-01\n",
      "  2.32913e-01 2.32913e-01 1.02758e-01 8.73141e-02]\n",
      " [1.91563e-01 1.75780e-01 1.18947e-01 6.28410e-02 2.10357e-01 2.10357e-01\n",
      "  2.10357e-01 2.10357e-01 7.54341e-02 4.30486e-02]\n",
      " [9.37178e-03 1.33214e-01 1.32168e-02 3.50163e-02 1.67321e-01 1.67321e-01\n",
      "  1.67321e-01 1.67321e-01 2.68747e-02 7.94820e-03]\n",
      " [3.21217e-01 3.34532e-01 2.03713e-01 4.65488e-02 3.21836e-01 3.21836e-01\n",
      "  3.21836e-01 3.21836e-01 1.33572e-01 1.62240e-01]\n",
      " [2.00312e-01 3.11290e-01 1.13660e-01 3.73804e-02 2.53998e-01 2.53998e-01\n",
      "  2.53998e-01 2.53998e-01 8.73724e-02 8.68423e-02]\n",
      " [8.18313e-02 8.97065e-02 3.28905e-02 1.34723e-01 9.15317e-02 9.15317e-02\n",
      "  9.15317e-02 9.15317e-02 2.51732e-02 3.91219e-02]\n",
      " [7.51590e-02 1.01863e-01 5.94574e-02 6.40811e-02 6.75319e-02 6.75319e-02\n",
      "  6.75319e-02 6.75319e-02 2.41244e-03 2.28533e-02]\n",
      " [7.43748e-02 1.58244e-01 3.82530e-03 5.92494e-02 1.48040e-01 1.48040e-01\n",
      "  1.48040e-01 1.48040e-01 5.26931e-02 1.35594e-02]\n",
      " [2.92461e-01 3.67865e-01 2.09590e-01 1.72695e-01 3.46278e-01 3.46278e-01\n",
      "  3.46278e-01 3.46278e-01 2.67182e-01 2.32384e-01]\n",
      " [3.70282e-02 1.43759e-01 3.60481e-02 1.89115e-02 1.52692e-01 1.52692e-01\n",
      "  1.52692e-01 1.52692e-01 8.43249e-02 3.97223e-03]\n",
      " [2.56046e-01 2.87221e-01 1.46595e-01 2.76503e-02 2.70682e-01 2.70682e-01\n",
      "  2.70682e-01 2.70682e-01 1.74104e-01 1.38383e-01]\n",
      " [2.67186e-01 2.86899e-01 1.84808e-01 1.88771e-01 3.07450e-01 3.07450e-01\n",
      "  3.07450e-01 3.07450e-01 2.34009e-01 1.89058e-01]\n",
      " [1.16076e-01 1.71308e-01 1.95276e-02 1.42539e-02 1.74919e-01 1.74919e-01\n",
      "  1.74919e-01 1.74919e-01 5.26014e-02 6.95469e-02]\n",
      " [3.32501e-01 4.05657e-01 2.95183e-01 2.54720e-01 4.32135e-01 4.32135e-01\n",
      "  4.32135e-01 4.32135e-01 2.39724e-01 2.41409e-01]\n",
      " [4.03193e-01 4.72027e-01 3.57003e-01 3.12768e-01 4.68053e-01 4.68053e-01\n",
      "  4.68053e-01 4.68053e-01 4.18012e-01 3.65503e-01]\n",
      " [1.74160e-01 2.13263e-01 8.72913e-02 3.23693e-02 2.33875e-01 2.33875e-01\n",
      "  2.33875e-01 2.33875e-01 1.41957e-01 8.56758e-02]\n",
      " [2.10216e-01 2.30645e-01 8.01915e-02 8.08590e-02 2.37061e-01 2.37061e-01\n",
      "  2.37061e-01 2.37061e-01 1.67826e-01 1.22628e-01]\n",
      " [2.66672e-01 2.99990e-01 1.37496e-01 7.87080e-02 2.77233e-01 2.77233e-01\n",
      "  2.77233e-01 2.77233e-01 1.63501e-01 1.24482e-01]\n",
      " [2.29427e-01 2.90653e-01 1.72319e-01 1.14682e-01 2.88561e-01 2.88561e-01\n",
      "  2.88561e-01 2.88561e-01 1.88511e-01 1.52425e-01]\n",
      " [2.46723e-01 2.74027e-01 1.62790e-01 1.91810e-01 2.69841e-01 2.69841e-01\n",
      "  2.69841e-01 2.69841e-01 1.64980e-01 1.41713e-01]\n",
      " [1.31724e-01 1.29731e-01 4.38369e-02 5.88448e-03 1.33783e-01 1.33783e-01\n",
      "  1.33783e-01 1.33783e-01 3.93764e-02 7.28162e-03]\n",
      " [2.42591e-01 2.20378e-01 1.60201e-01 9.78537e-02 2.79154e-01 2.79154e-01\n",
      "  2.79154e-01 2.79154e-01 1.55855e-01 1.27116e-01]\n",
      " [4.26886e-04 1.06531e-01 7.47133e-03 1.11186e-02 1.02787e-01 1.02787e-01\n",
      "  1.02787e-01 1.02787e-01 4.08107e-02 5.04658e-03]\n",
      " [2.54358e-02 1.78322e-01 2.64991e-02 5.39896e-03 1.38983e-01 1.38983e-01\n",
      "  1.38983e-01 1.38983e-01 6.82475e-02 2.25800e-02]\n",
      " [1.52926e-01 1.58743e-01 2.63851e-02 1.47542e-02 1.36325e-01 1.36325e-01\n",
      "  1.36325e-01 1.36325e-01 2.03080e-02 1.25035e-02]\n",
      " [9.78626e-02 9.45256e-02 8.00719e-02 9.44068e-02 7.13021e-02 7.13021e-02\n",
      "  7.13021e-02 7.13021e-02 1.31956e-02 5.15282e-02]\n",
      " [1.52756e-01 1.83586e-01 4.85436e-02 6.52733e-02 1.86251e-01 1.86251e-01\n",
      "  1.86251e-01 1.86251e-01 9.37756e-02 7.06029e-02]\n",
      " [6.84208e-02 1.17808e-01 1.05911e-03 2.28093e-02 1.46293e-01 1.46293e-01\n",
      "  1.46293e-01 1.46293e-01 6.23272e-02 6.10978e-04]\n",
      " [1.30982e-01 1.03199e-02 1.09007e-01 1.03987e-01 5.38510e-03 5.38510e-03\n",
      "  5.38510e-03 5.38510e-03 1.02080e-01 1.19289e-01]\n",
      " [1.28138e-01 2.19385e-01 5.84463e-02 2.75216e-02 1.83963e-01 1.83963e-01\n",
      "  1.83963e-01 1.83963e-01 8.18798e-02 5.27612e-02]\n",
      " [3.43545e-02 1.25525e-01 1.41093e-02 5.04409e-02 1.27165e-01 1.27165e-01\n",
      "  1.27165e-01 1.27165e-01 1.92647e-02 4.02841e-02]\n",
      " [1.26841e-02 5.24706e-02 1.08837e-01 8.83117e-02 4.03239e-02 4.03239e-02\n",
      "  4.03239e-02 4.03239e-02 6.94077e-02 7.29196e-02]\n",
      " [8.00381e-03 1.20823e-01 1.53148e-02 6.75842e-03 1.31993e-01 1.31993e-01\n",
      "  1.31993e-01 1.31993e-01 6.24012e-02 1.77554e-02]\n",
      " [4.25516e-02 7.26997e-02 1.38976e-02 3.14879e-02 1.11797e-01 1.11797e-01\n",
      "  1.11797e-01 1.11797e-01 8.82850e-03 1.91077e-02]\n",
      " [9.66563e-02 2.02622e-01 6.51575e-02 1.20702e-02 1.94957e-01 1.94957e-01\n",
      "  1.94957e-01 1.94957e-01 9.45040e-02 6.20929e-02]\n",
      " [1.07712e-01 1.96702e-01 2.33196e-02 4.40166e-02 1.58960e-01 1.58960e-01\n",
      "  1.58960e-01 1.58960e-01 9.82532e-02 2.92953e-02]\n",
      " [9.61532e-02 1.92747e-01 9.00438e-02 2.20429e-02 1.84431e-01 1.84431e-01\n",
      "  1.84431e-01 1.84431e-01 9.58403e-02 6.69676e-02]\n",
      " [1.13480e-01 1.11331e-01 4.55877e-02 4.19701e-02 7.83795e-02 7.83795e-02\n",
      "  7.83795e-02 7.83795e-02 5.83153e-03 8.31388e-02]\n",
      " [1.89478e-01 2.70367e-01 9.33759e-02 7.59562e-02 2.37060e-01 2.37060e-01\n",
      "  2.37060e-01 2.37060e-01 1.17231e-01 1.46686e-01]\n",
      " [5.80014e-03 5.27893e-02 3.11161e-02 5.16747e-02 7.99582e-02 7.99582e-02\n",
      "  7.99582e-02 7.99582e-02 1.28882e-03 3.49991e-02]\n",
      " [1.08741e-01 1.42346e-01 2.38184e-02 5.59795e-02 1.53187e-01 1.53187e-01\n",
      "  1.53187e-01 1.53187e-01 4.75590e-02 2.28994e-02]\n",
      " [5.59082e-02 2.29906e-01 1.10079e-01 6.15880e-02 2.15318e-01 2.15318e-01\n",
      "  2.15318e-01 2.15318e-01 1.44089e-01 9.09376e-02]\n",
      " [3.25429e-02 8.83338e-02 1.88138e-02 2.93405e-03 9.71731e-02 9.71731e-02\n",
      "  9.71731e-02 9.71731e-02 5.07510e-02 2.58278e-02]\n",
      " [7.05818e-02 9.09184e-03 1.38788e-01 1.70411e-01 2.59690e-02 2.59690e-02\n",
      "  2.59690e-02 2.59690e-02 1.03109e-01 1.68572e-01]\n",
      " [4.18403e-02 1.27066e-01 2.29182e-03 2.12147e-02 1.11541e-01 1.11541e-01\n",
      "  1.11541e-01 1.11541e-01 1.67765e-02 5.00955e-02]\n",
      " [6.33091e-02 8.75999e-02 1.56932e-02 3.69928e-03 1.27598e-01 1.27598e-01\n",
      "  1.27598e-01 1.27598e-01 1.44711e-02 5.24395e-03]\n",
      " [7.96453e-02 2.06421e-03 1.38330e-01 1.23486e-01 1.17255e-03 1.17255e-03\n",
      "  1.17255e-03 1.17255e-03 9.66373e-02 9.38386e-02]\n",
      " [1.06057e-01 1.56506e-01 4.23779e-02 4.65338e-02 1.70548e-01 1.70548e-01\n",
      "  1.70548e-01 1.70548e-01 1.02099e-01 6.03222e-02]\n",
      " [4.94812e-02 8.99133e-02 6.14216e-02 1.41595e-01 7.05688e-02 7.05688e-02\n",
      "  7.05688e-02 7.05688e-02 2.49641e-03 5.13065e-02]\n",
      " [2.41692e-01 2.25937e-01 5.85362e-02 5.22382e-02 2.10895e-01 2.10895e-01\n",
      "  2.10895e-01 2.10895e-01 7.14515e-02 6.16143e-02]\n",
      " [8.61196e-03 9.89719e-02 2.46287e-02 4.66426e-02 1.00363e-01 1.00363e-01\n",
      "  1.00363e-01 1.00363e-01 5.98443e-03 5.87463e-02]\n",
      " [1.89981e-01 2.31065e-01 1.12008e-01 6.79025e-02 2.30357e-01 2.30357e-01\n",
      "  2.30357e-01 2.30357e-01 1.47870e-01 1.27490e-01]\n",
      " [6.20890e-02 1.64645e-01 3.00517e-02 7.92902e-02 1.28578e-01 1.28578e-01\n",
      "  1.28578e-01 1.28578e-01 3.16728e-02 2.74847e-02]\n",
      " [1.83565e-01 1.43598e-01 5.00226e-02 1.29683e-02 1.51144e-01 1.51144e-01\n",
      "  1.51144e-01 1.51144e-01 7.89700e-04 9.87614e-03]\n",
      " [1.34217e-01 1.55877e-01 7.19806e-02 2.59923e-03 1.56376e-01 1.56376e-01\n",
      "  1.56376e-01 1.56376e-01 3.60295e-02 4.13815e-02]\n",
      " [1.98157e-01 2.98438e-01 1.52731e-01 1.23356e-01 2.96329e-01 2.96329e-01\n",
      "  2.96329e-01 2.96329e-01 2.03058e-01 1.69989e-01]\n",
      " [7.36506e-02 1.27107e-01 3.93990e-02 2.24055e-02 1.44570e-01 1.44570e-01\n",
      "  1.44570e-01 1.44570e-01 8.19668e-02 3.09911e-02]\n",
      " [2.09054e-01 2.35432e-01 1.32209e-01 1.13544e-01 2.70005e-01 2.70005e-01\n",
      "  2.70005e-01 2.70005e-01 1.26496e-01 8.77362e-02]]\n",
      "ranking vector =  [194 104   5 191 192 169 182 176 185 184]\n",
      "selected_features =  [[2.20724e-01 2.05294e-01 2.05294e-01 2.05294e-01 2.05294e-01 1.68101e-01\n",
      "  1.76990e-01 1.11726e-01 7.55151e-02 9.01337e-02]\n",
      " [1.80820e-01 1.40342e-01 1.40342e-01 1.40342e-01 1.40342e-01 1.65045e-01\n",
      "  1.53349e-01 3.65176e-02 1.85003e-01 4.16623e-02]\n",
      " [1.57849e-01 1.48199e-01 1.48199e-01 1.48199e-01 1.48199e-01 1.01033e-01\n",
      "  1.34467e-01 9.05616e-02 5.41562e-02 6.68771e-02]\n",
      " [1.39375e-01 1.03870e-01 1.03870e-01 1.03870e-01 1.03870e-01 6.15838e-02\n",
      "  9.96113e-02 1.60426e-03 3.02122e-02 1.10176e-03]\n",
      " [2.82306e-01 2.52834e-01 2.52834e-01 2.52834e-01 2.52834e-01 2.25032e-01\n",
      "  2.83320e-01 1.71522e-01 1.68959e-01 1.46757e-01]\n",
      " [1.17436e-01 1.22937e-01 1.22937e-01 1.22937e-01 1.22937e-01 9.72770e-02\n",
      "  1.22710e-01 5.45670e-02 8.93672e-02 4.13051e-02]\n",
      " [1.54193e-01 1.56436e-01 1.56436e-01 1.56436e-01 1.56436e-01 1.02548e-01\n",
      "  1.33913e-01 7.83550e-02 7.50120e-02 5.79118e-02]\n",
      " [2.14231e-01 2.05005e-01 2.05005e-01 2.05005e-01 2.05005e-01 2.16108e-01\n",
      "  1.80418e-01 1.07628e-01 1.70543e-01 1.24948e-01]\n",
      " [2.06952e-01 2.04120e-01 2.04120e-01 2.04120e-01 2.04120e-01 1.47097e-01\n",
      "  2.17420e-01 3.59364e-02 1.32625e-01 1.42671e-01]\n",
      " [2.06660e-01 1.93373e-01 1.93373e-01 1.93373e-01 1.93373e-01 2.06444e-01\n",
      "  2.03329e-01 1.46928e-01 1.48505e-01 1.05574e-01]\n",
      " [1.17622e-01 1.36766e-01 1.36766e-01 1.36766e-01 1.36766e-01 2.07692e-01\n",
      "  1.12213e-01 6.68539e-02 3.73448e-02 5.17445e-02]\n",
      " [1.74877e-01 1.81285e-01 1.81285e-01 1.81285e-01 1.81285e-01 1.49007e-01\n",
      "  1.16579e-01 9.53295e-02 6.08048e-02 5.21120e-02]\n",
      " [2.62731e-01 2.47515e-01 2.47515e-01 2.47515e-01 2.47515e-01 2.21961e-01\n",
      "  2.98094e-01 1.84785e-01 1.74851e-01 1.65355e-01]\n",
      " [2.09937e-01 1.62221e-01 1.62221e-01 1.62221e-01 1.62221e-01 1.99800e-01\n",
      "  2.19560e-01 8.24191e-02 1.57858e-01 8.26637e-02]\n",
      " [2.64422e-01 2.48062e-01 2.48062e-01 2.48062e-01 2.48062e-01 2.56400e-01\n",
      "  2.35016e-01 1.77439e-01 1.39915e-01 1.82573e-01]\n",
      " [1.72254e-01 1.44264e-01 1.44264e-01 1.44264e-01 1.44264e-01 1.20516e-01\n",
      "  1.57648e-01 6.53791e-02 1.38980e-01 3.98356e-02]\n",
      " [2.10449e-01 2.22031e-01 2.22031e-01 2.22031e-01 2.22031e-01 2.09320e-01\n",
      "  2.26259e-01 1.21016e-01 2.38603e-01 1.68032e-01]\n",
      " [2.11738e-01 2.12518e-01 2.12518e-01 2.12518e-01 2.12518e-01 1.48890e-01\n",
      "  2.10241e-01 1.12440e-01 1.35188e-01 1.57725e-01]\n",
      " [1.92972e-01 1.83989e-01 1.83989e-01 1.83989e-01 1.83989e-01 1.03561e-01\n",
      "  1.83975e-01 7.62369e-02 2.40269e-01 4.89395e-02]\n",
      " [2.18203e-01 2.32913e-01 2.32913e-01 2.32913e-01 2.32913e-01 2.25448e-01\n",
      "  2.30471e-01 1.71123e-01 2.13752e-01 1.68786e-01]\n",
      " [1.75780e-01 2.10357e-01 2.10357e-01 2.10357e-01 2.10357e-01 1.98071e-01\n",
      "  1.78870e-01 1.08798e-01 1.91563e-01 1.07547e-01]\n",
      " [1.33214e-01 1.67321e-01 1.67321e-01 1.67321e-01 1.67321e-01 1.45556e-01\n",
      "  1.82346e-01 6.29034e-02 9.37178e-03 2.92111e-02]\n",
      " [3.34532e-01 3.21836e-01 3.21836e-01 3.21836e-01 3.21836e-01 3.09446e-01\n",
      "  3.56497e-01 2.29922e-01 3.21217e-01 1.96425e-01]\n",
      " [3.11290e-01 2.53998e-01 2.53998e-01 2.53998e-01 2.53998e-01 2.33766e-01\n",
      "  2.62768e-01 1.09205e-01 2.00312e-01 1.35920e-01]\n",
      " [8.97065e-02 9.15317e-02 9.15317e-02 9.15317e-02 9.15317e-02 7.77862e-02\n",
      "  1.31172e-01 1.87913e-02 8.18313e-02 5.61285e-03]\n",
      " [1.01863e-01 6.75319e-02 6.75319e-02 6.75319e-02 6.75319e-02 4.22865e-02\n",
      "  5.45284e-02 2.47618e-02 7.51590e-02 7.42802e-03]\n",
      " [1.58244e-01 1.48040e-01 1.48040e-01 1.48040e-01 1.48040e-01 1.68408e-01\n",
      "  1.67478e-01 6.77681e-02 7.43748e-02 2.33701e-02]\n",
      " [3.67865e-01 3.46278e-01 3.46278e-01 3.46278e-01 3.46278e-01 3.80164e-01\n",
      "  4.34488e-01 2.29174e-01 2.92461e-01 2.80453e-01]\n",
      " [1.43759e-01 1.52692e-01 1.52692e-01 1.52692e-01 1.52692e-01 1.46327e-01\n",
      "  2.00032e-01 9.85573e-02 3.70282e-02 1.01204e-01]\n",
      " [2.87221e-01 2.70682e-01 2.70682e-01 2.70682e-01 2.70682e-01 2.55839e-01\n",
      "  2.91908e-01 1.98359e-01 2.56046e-01 1.95760e-01]\n",
      " [2.86899e-01 3.07450e-01 3.07450e-01 3.07450e-01 3.07450e-01 2.72062e-01\n",
      "  3.42709e-01 2.54917e-01 2.67186e-01 2.00928e-01]\n",
      " [1.71308e-01 1.74919e-01 1.74919e-01 1.74919e-01 1.74919e-01 1.41498e-01\n",
      "  1.42776e-01 8.54072e-02 1.16076e-01 7.10030e-02]\n",
      " [4.05657e-01 4.32135e-01 4.32135e-01 4.32135e-01 4.32135e-01 4.20048e-01\n",
      "  4.28821e-01 3.76074e-01 3.32501e-01 3.03240e-01]\n",
      " [4.72027e-01 4.68053e-01 4.68053e-01 4.68053e-01 4.68053e-01 4.83646e-01\n",
      "  4.65672e-01 4.14862e-01 4.03193e-01 4.27939e-01]\n",
      " [2.13263e-01 2.33875e-01 2.33875e-01 2.33875e-01 2.33875e-01 2.19881e-01\n",
      "  2.06565e-01 1.63339e-01 1.74160e-01 1.69417e-01]\n",
      " [2.30645e-01 2.37061e-01 2.37061e-01 2.37061e-01 2.37061e-01 2.07640e-01\n",
      "  2.87990e-01 1.58099e-01 2.10216e-01 1.53831e-01]\n",
      " [2.99990e-01 2.77233e-01 2.77233e-01 2.77233e-01 2.77233e-01 2.73924e-01\n",
      "  3.24117e-01 2.27685e-01 2.66672e-01 2.11710e-01]\n",
      " [2.90653e-01 2.88561e-01 2.88561e-01 2.88561e-01 2.88561e-01 2.56620e-01\n",
      "  2.69816e-01 1.94363e-01 2.29427e-01 2.05993e-01]\n",
      " [2.74027e-01 2.69841e-01 2.69841e-01 2.69841e-01 2.69841e-01 2.56734e-01\n",
      "  2.36724e-01 1.94838e-01 2.46723e-01 1.76989e-01]\n",
      " [1.29731e-01 1.33783e-01 1.33783e-01 1.33783e-01 1.33783e-01 9.56296e-02\n",
      "  1.69736e-01 9.32744e-02 1.31724e-01 8.25577e-02]\n",
      " [2.20378e-01 2.79154e-01 2.79154e-01 2.79154e-01 2.79154e-01 2.43088e-01\n",
      "  3.25767e-01 1.86318e-01 2.42591e-01 1.91955e-01]\n",
      " [1.06531e-01 1.02787e-01 1.02787e-01 1.02787e-01 1.02787e-01 7.69981e-02\n",
      "  1.17436e-01 6.42531e-02 4.26886e-04 4.11523e-03]\n",
      " [1.78322e-01 1.38983e-01 1.38983e-01 1.38983e-01 1.38983e-01 9.83258e-02\n",
      "  1.56002e-01 7.73807e-03 2.54358e-02 5.65537e-02]\n",
      " [1.58743e-01 1.36325e-01 1.36325e-01 1.36325e-01 1.36325e-01 1.36031e-01\n",
      "  1.46900e-01 6.97060e-03 1.52926e-01 4.57485e-02]\n",
      " [9.45256e-02 7.13021e-02 7.13021e-02 7.13021e-02 7.13021e-02 7.45173e-02\n",
      "  7.43845e-02 8.51464e-03 9.78626e-02 3.76616e-02]\n",
      " [1.83586e-01 1.86251e-01 1.86251e-01 1.86251e-01 1.86251e-01 1.52469e-01\n",
      "  1.46725e-01 6.61782e-02 1.52756e-01 1.16032e-01]\n",
      " [1.17808e-01 1.46293e-01 1.46293e-01 1.46293e-01 1.46293e-01 1.44671e-01\n",
      "  1.23459e-01 4.88714e-02 6.84208e-02 1.72224e-02]\n",
      " [1.03199e-02 5.38510e-03 5.38510e-03 5.38510e-03 5.38510e-03 5.49222e-02\n",
      "  3.26285e-02 8.46789e-02 1.30982e-01 7.00030e-02]\n",
      " [2.19385e-01 1.83963e-01 1.83963e-01 1.83963e-01 1.83963e-01 1.83571e-01\n",
      "  2.19850e-01 1.30633e-01 1.28138e-01 8.61514e-02]\n",
      " [1.25525e-01 1.27165e-01 1.27165e-01 1.27165e-01 1.27165e-01 9.14855e-02\n",
      "  1.16544e-01 2.48962e-02 3.43545e-02 3.02792e-03]\n",
      " [5.24706e-02 4.03239e-02 4.03239e-02 4.03239e-02 4.03239e-02 1.80224e-02\n",
      "  5.09684e-02 2.59169e-02 1.26841e-02 4.31632e-02]\n",
      " [1.20823e-01 1.31993e-01 1.31993e-01 1.31993e-01 1.31993e-01 8.03709e-02\n",
      "  1.01499e-01 5.61207e-02 8.00381e-03 7.02581e-02]\n",
      " [7.26997e-02 1.11797e-01 1.11797e-01 1.11797e-01 1.11797e-01 8.69952e-02\n",
      "  1.21257e-01 3.63111e-02 4.25516e-02 4.28725e-02]\n",
      " [2.02622e-01 1.94957e-01 1.94957e-01 1.94957e-01 1.94957e-01 2.15296e-01\n",
      "  1.77011e-01 1.29906e-01 9.66563e-02 1.29737e-01]\n",
      " [1.96702e-01 1.58960e-01 1.58960e-01 1.58960e-01 1.58960e-01 1.30540e-01\n",
      "  2.13794e-01 1.04936e-01 1.07712e-01 5.02356e-02]\n",
      " [1.92747e-01 1.84431e-01 1.84431e-01 1.84431e-01 1.84431e-01 1.59663e-01\n",
      "  1.97519e-01 1.11469e-01 9.61532e-02 1.10214e-01]\n",
      " [1.11331e-01 7.83795e-02 7.83795e-02 7.83795e-02 7.83795e-02 5.80958e-02\n",
      "  6.10375e-02 5.93304e-03 1.13480e-01 2.06179e-02]\n",
      " [2.70367e-01 2.37060e-01 2.37060e-01 2.37060e-01 2.37060e-01 2.23643e-01\n",
      "  2.21472e-01 1.41918e-01 1.89478e-01 1.51237e-01]\n",
      " [5.27893e-02 7.99582e-02 7.99582e-02 7.99582e-02 7.99582e-02 9.99297e-02\n",
      "  5.24563e-02 4.99294e-02 5.80014e-03 1.99419e-02]\n",
      " [1.42346e-01 1.53187e-01 1.53187e-01 1.53187e-01 1.53187e-01 1.50002e-01\n",
      "  1.80595e-01 8.24928e-02 1.08741e-01 7.72117e-02]\n",
      " [2.29906e-01 2.15318e-01 2.15318e-01 2.15318e-01 2.15318e-01 1.57304e-01\n",
      "  2.12975e-01 1.34884e-01 5.59082e-02 2.10026e-01]\n",
      " [8.83338e-02 9.71731e-02 9.71731e-02 9.71731e-02 9.71731e-02 7.09939e-02\n",
      "  1.62801e-01 1.76948e-02 3.25429e-02 3.86416e-02]\n",
      " [9.09184e-03 2.59690e-02 2.59690e-02 2.59690e-02 2.59690e-02 7.57008e-02\n",
      "  1.66437e-02 9.45883e-02 7.05818e-02 1.20066e-01]\n",
      " [1.27066e-01 1.11541e-01 1.11541e-01 1.11541e-01 1.11541e-01 7.89978e-02\n",
      "  6.34939e-02 3.72386e-02 4.18403e-02 6.11296e-02]\n",
      " [8.75999e-02 1.27598e-01 1.27598e-01 1.27598e-01 1.27598e-01 1.53632e-01\n",
      "  1.43524e-01 9.66080e-03 6.33091e-02 5.91768e-02]\n",
      " [2.06421e-03 1.17255e-03 1.17255e-03 1.17255e-03 1.17255e-03 4.38198e-02\n",
      "  8.00996e-03 8.85021e-02 7.96453e-02 5.76147e-02]\n",
      " [1.56506e-01 1.70548e-01 1.70548e-01 1.70548e-01 1.70548e-01 1.56281e-01\n",
      "  1.81232e-01 8.46929e-02 1.06057e-01 9.40362e-02]\n",
      " [8.99133e-02 7.05688e-02 7.05688e-02 7.05688e-02 7.05688e-02 4.59055e-02\n",
      "  1.72561e-02 7.40536e-03 4.94812e-02 8.04819e-03]\n",
      " [2.25937e-01 2.10895e-01 2.10895e-01 2.10895e-01 2.10895e-01 1.89983e-01\n",
      "  2.14988e-01 1.63630e-01 2.41692e-01 1.75413e-01]\n",
      " [9.89719e-02 1.00363e-01 1.00363e-01 1.00363e-01 1.00363e-01 8.85496e-02\n",
      "  1.14828e-01 2.56637e-02 8.61196e-03 1.31777e-03]\n",
      " [2.31065e-01 2.30357e-01 2.30357e-01 2.30357e-01 2.30357e-01 2.18772e-01\n",
      "  2.37815e-01 9.34033e-02 1.89981e-01 1.30006e-01]\n",
      " [1.64645e-01 1.28578e-01 1.28578e-01 1.28578e-01 1.28578e-01 1.11794e-01\n",
      "  1.80694e-01 9.17530e-02 6.20890e-02 1.38572e-02]\n",
      " [1.43598e-01 1.51144e-01 1.51144e-01 1.51144e-01 1.51144e-01 1.67396e-01\n",
      "  1.54400e-01 8.67186e-02 1.83565e-01 9.06784e-02]\n",
      " [1.55877e-01 1.56376e-01 1.56376e-01 1.56376e-01 1.56376e-01 1.50140e-01\n",
      "  1.45170e-01 5.99663e-02 1.34217e-01 7.76800e-02]\n",
      " [2.98438e-01 2.96329e-01 2.96329e-01 2.96329e-01 2.96329e-01 2.53172e-01\n",
      "  3.27110e-01 2.15899e-01 1.98157e-01 2.10244e-01]\n",
      " [1.27107e-01 1.44570e-01 1.44570e-01 1.44570e-01 1.44570e-01 1.23156e-01\n",
      "  2.15120e-01 5.37031e-02 7.36506e-02 7.39608e-02]\n",
      " [2.35432e-01 2.70005e-01 2.70005e-01 2.70005e-01 2.70005e-01 1.76449e-01\n",
      "  2.96210e-01 2.16425e-01 2.09054e-01 1.19741e-01]]\n",
      "ranking vector =  [182 194 104 192 191   5 169 185 180  72]\n",
      "selected_features =  [[1.76990e-01 2.20724e-01 2.05294e-01 2.05294e-01 2.05294e-01 2.05294e-01\n",
      "  1.68101e-01 7.55151e-02 1.96268e-01 5.78448e-02]\n",
      " [1.53349e-01 1.80820e-01 1.40342e-01 1.40342e-01 1.40342e-01 1.40342e-01\n",
      "  1.65045e-01 1.85003e-01 1.78812e-01 3.43874e-02]\n",
      " [1.34467e-01 1.57849e-01 1.48199e-01 1.48199e-01 1.48199e-01 1.48199e-01\n",
      "  1.01033e-01 5.41562e-02 2.05841e-01 4.11809e-02]\n",
      " [9.96113e-02 1.39375e-01 1.03870e-01 1.03870e-01 1.03870e-01 1.03870e-01\n",
      "  6.15838e-02 3.02122e-02 2.07626e-01 7.33199e-02]\n",
      " [2.83320e-01 2.82306e-01 2.52834e-01 2.52834e-01 2.52834e-01 2.52834e-01\n",
      "  2.25032e-01 1.68959e-01 2.61903e-01 1.44197e-01]\n",
      " [1.22710e-01 1.17436e-01 1.22937e-01 1.22937e-01 1.22937e-01 1.22937e-01\n",
      "  9.72770e-02 8.93672e-02 2.14202e-01 3.96207e-02]\n",
      " [1.33913e-01 1.54193e-01 1.56436e-01 1.56436e-01 1.56436e-01 1.56436e-01\n",
      "  1.02548e-01 7.50120e-02 3.05579e-01 8.77126e-02]\n",
      " [1.80418e-01 2.14231e-01 2.05005e-01 2.05005e-01 2.05005e-01 2.05005e-01\n",
      "  2.16108e-01 1.70543e-01 2.38300e-01 3.19495e-02]\n",
      " [2.17420e-01 2.06952e-01 2.04120e-01 2.04120e-01 2.04120e-01 2.04120e-01\n",
      "  1.47097e-01 1.32625e-01 2.83760e-01 7.91739e-02]\n",
      " [2.03329e-01 2.06660e-01 1.93373e-01 1.93373e-01 1.93373e-01 1.93373e-01\n",
      "  2.06444e-01 1.48505e-01 2.81361e-01 1.07793e-01]\n",
      " [1.12213e-01 1.17622e-01 1.36766e-01 1.36766e-01 1.36766e-01 1.36766e-01\n",
      "  2.07692e-01 3.73448e-02 2.61556e-01 5.71883e-02]\n",
      " [1.16579e-01 1.74877e-01 1.81285e-01 1.81285e-01 1.81285e-01 1.81285e-01\n",
      "  1.49007e-01 6.08048e-02 2.94558e-01 9.61183e-02]\n",
      " [2.98094e-01 2.62731e-01 2.47515e-01 2.47515e-01 2.47515e-01 2.47515e-01\n",
      "  2.21961e-01 1.74851e-01 3.16550e-01 1.77705e-01]\n",
      " [2.19560e-01 2.09937e-01 1.62221e-01 1.62221e-01 1.62221e-01 1.62221e-01\n",
      "  1.99800e-01 1.57858e-01 2.41410e-01 1.24382e-01]\n",
      " [2.35016e-01 2.64422e-01 2.48062e-01 2.48062e-01 2.48062e-01 2.48062e-01\n",
      "  2.56400e-01 1.39915e-01 3.52082e-01 1.79799e-01]\n",
      " [1.57648e-01 1.72254e-01 1.44264e-01 1.44264e-01 1.44264e-01 1.44264e-01\n",
      "  1.20516e-01 1.38980e-01 2.41502e-01 9.20495e-02]\n",
      " [2.26259e-01 2.10449e-01 2.22031e-01 2.22031e-01 2.22031e-01 2.22031e-01\n",
      "  2.09320e-01 2.38603e-01 2.95180e-01 1.24209e-01]\n",
      " [2.10241e-01 2.11738e-01 2.12518e-01 2.12518e-01 2.12518e-01 2.12518e-01\n",
      "  1.48890e-01 1.35188e-01 2.45803e-01 1.03207e-01]\n",
      " [1.83975e-01 1.92972e-01 1.83989e-01 1.83989e-01 1.83989e-01 1.83989e-01\n",
      "  1.03561e-01 2.40269e-01 2.76443e-01 1.16810e-01]\n",
      " [2.30471e-01 2.18203e-01 2.32913e-01 2.32913e-01 2.32913e-01 2.32913e-01\n",
      "  2.25448e-01 2.13752e-01 2.39574e-01 1.02758e-01]\n",
      " [1.78870e-01 1.75780e-01 2.10357e-01 2.10357e-01 2.10357e-01 2.10357e-01\n",
      "  1.98071e-01 1.91563e-01 3.12890e-01 7.54341e-02]\n",
      " [1.82346e-01 1.33214e-01 1.67321e-01 1.67321e-01 1.67321e-01 1.67321e-01\n",
      "  1.45556e-01 9.37178e-03 1.52912e-01 2.68747e-02]\n",
      " [3.56497e-01 3.34532e-01 3.21836e-01 3.21836e-01 3.21836e-01 3.21836e-01\n",
      "  3.09446e-01 3.21217e-01 3.62573e-01 1.33572e-01]\n",
      " [2.62768e-01 3.11290e-01 2.53998e-01 2.53998e-01 2.53998e-01 2.53998e-01\n",
      "  2.33766e-01 2.00312e-01 3.32500e-01 8.73724e-02]\n",
      " [1.31172e-01 8.97065e-02 9.15317e-02 9.15317e-02 9.15317e-02 9.15317e-02\n",
      "  7.77862e-02 8.18313e-02 1.77975e-01 2.51732e-02]\n",
      " [5.45284e-02 1.01863e-01 6.75319e-02 6.75319e-02 6.75319e-02 6.75319e-02\n",
      "  4.22865e-02 7.51590e-02 1.38168e-01 2.41244e-03]\n",
      " [1.67478e-01 1.58244e-01 1.48040e-01 1.48040e-01 1.48040e-01 1.48040e-01\n",
      "  1.68408e-01 7.43748e-02 2.64267e-01 5.26931e-02]\n",
      " [4.34488e-01 3.67865e-01 3.46278e-01 3.46278e-01 3.46278e-01 3.46278e-01\n",
      "  3.80164e-01 2.92461e-01 4.88813e-01 2.67182e-01]\n",
      " [2.00032e-01 1.43759e-01 1.52692e-01 1.52692e-01 1.52692e-01 1.52692e-01\n",
      "  1.46327e-01 3.70282e-02 2.69583e-01 8.43249e-02]\n",
      " [2.91908e-01 2.87221e-01 2.70682e-01 2.70682e-01 2.70682e-01 2.70682e-01\n",
      "  2.55839e-01 2.56046e-01 3.27368e-01 1.74104e-01]\n",
      " [3.42709e-01 2.86899e-01 3.07450e-01 3.07450e-01 3.07450e-01 3.07450e-01\n",
      "  2.72062e-01 2.67186e-01 3.81930e-01 2.34009e-01]\n",
      " [1.42776e-01 1.71308e-01 1.74919e-01 1.74919e-01 1.74919e-01 1.74919e-01\n",
      "  1.41498e-01 1.16076e-01 2.14316e-01 5.26014e-02]\n",
      " [4.28821e-01 4.05657e-01 4.32135e-01 4.32135e-01 4.32135e-01 4.32135e-01\n",
      "  4.20048e-01 3.32501e-01 4.72325e-01 2.39724e-01]\n",
      " [4.65672e-01 4.72027e-01 4.68053e-01 4.68053e-01 4.68053e-01 4.68053e-01\n",
      "  4.83646e-01 4.03193e-01 5.86345e-01 4.18012e-01]\n",
      " [2.06565e-01 2.13263e-01 2.33875e-01 2.33875e-01 2.33875e-01 2.33875e-01\n",
      "  2.19881e-01 1.74160e-01 3.28318e-01 1.41957e-01]\n",
      " [2.87990e-01 2.30645e-01 2.37061e-01 2.37061e-01 2.37061e-01 2.37061e-01\n",
      "  2.07640e-01 2.10216e-01 3.26261e-01 1.67826e-01]\n",
      " [3.24117e-01 2.99990e-01 2.77233e-01 2.77233e-01 2.77233e-01 2.77233e-01\n",
      "  2.73924e-01 2.66672e-01 2.98174e-01 1.63501e-01]\n",
      " [2.69816e-01 2.90653e-01 2.88561e-01 2.88561e-01 2.88561e-01 2.88561e-01\n",
      "  2.56620e-01 2.29427e-01 4.21294e-01 1.88511e-01]\n",
      " [2.36724e-01 2.74027e-01 2.69841e-01 2.69841e-01 2.69841e-01 2.69841e-01\n",
      "  2.56734e-01 2.46723e-01 3.27071e-01 1.64980e-01]\n",
      " [1.69736e-01 1.29731e-01 1.33783e-01 1.33783e-01 1.33783e-01 1.33783e-01\n",
      "  9.56296e-02 1.31724e-01 2.64473e-01 3.93764e-02]\n",
      " [3.25767e-01 2.20378e-01 2.79154e-01 2.79154e-01 2.79154e-01 2.79154e-01\n",
      "  2.43088e-01 2.42591e-01 3.16583e-01 1.55855e-01]\n",
      " [1.17436e-01 1.06531e-01 1.02787e-01 1.02787e-01 1.02787e-01 1.02787e-01\n",
      "  7.69981e-02 4.26886e-04 2.02214e-01 4.08107e-02]\n",
      " [1.56002e-01 1.78322e-01 1.38983e-01 1.38983e-01 1.38983e-01 1.38983e-01\n",
      "  9.83258e-02 2.54358e-02 2.92092e-01 6.82475e-02]\n",
      " [1.46900e-01 1.58743e-01 1.36325e-01 1.36325e-01 1.36325e-01 1.36325e-01\n",
      "  1.36031e-01 1.52926e-01 1.97540e-01 2.03080e-02]\n",
      " [7.43845e-02 9.45256e-02 7.13021e-02 7.13021e-02 7.13021e-02 7.13021e-02\n",
      "  7.45173e-02 9.78626e-02 1.31982e-01 1.31956e-02]\n",
      " [1.46725e-01 1.83586e-01 1.86251e-01 1.86251e-01 1.86251e-01 1.86251e-01\n",
      "  1.52469e-01 1.52756e-01 3.38484e-01 9.37756e-02]\n",
      " [1.23459e-01 1.17808e-01 1.46293e-01 1.46293e-01 1.46293e-01 1.46293e-01\n",
      "  1.44671e-01 6.84208e-02 2.24994e-01 6.23272e-02]\n",
      " [3.26285e-02 1.03199e-02 5.38510e-03 5.38510e-03 5.38510e-03 5.38510e-03\n",
      "  5.49222e-02 1.30982e-01 1.14052e-01 1.02080e-01]\n",
      " [2.19850e-01 2.19385e-01 1.83963e-01 1.83963e-01 1.83963e-01 1.83963e-01\n",
      "  1.83571e-01 1.28138e-01 2.79337e-01 8.18798e-02]\n",
      " [1.16544e-01 1.25525e-01 1.27165e-01 1.27165e-01 1.27165e-01 1.27165e-01\n",
      "  9.14855e-02 3.43545e-02 1.74192e-01 1.92647e-02]\n",
      " [5.09684e-02 5.24706e-02 4.03239e-02 4.03239e-02 4.03239e-02 4.03239e-02\n",
      "  1.80224e-02 1.26841e-02 1.12835e-01 6.94077e-02]\n",
      " [1.01499e-01 1.20823e-01 1.31993e-01 1.31993e-01 1.31993e-01 1.31993e-01\n",
      "  8.03709e-02 8.00381e-03 2.28976e-01 6.24012e-02]\n",
      " [1.21257e-01 7.26997e-02 1.11797e-01 1.11797e-01 1.11797e-01 1.11797e-01\n",
      "  8.69952e-02 4.25516e-02 1.77748e-01 8.82850e-03]\n",
      " [1.77011e-01 2.02622e-01 1.94957e-01 1.94957e-01 1.94957e-01 1.94957e-01\n",
      "  2.15296e-01 9.66563e-02 3.03155e-01 9.45040e-02]\n",
      " [2.13794e-01 1.96702e-01 1.58960e-01 1.58960e-01 1.58960e-01 1.58960e-01\n",
      "  1.30540e-01 1.07712e-01 2.47728e-01 9.82532e-02]\n",
      " [1.97519e-01 1.92747e-01 1.84431e-01 1.84431e-01 1.84431e-01 1.84431e-01\n",
      "  1.59663e-01 9.61532e-02 2.73692e-01 9.58403e-02]\n",
      " [6.10375e-02 1.11331e-01 7.83795e-02 7.83795e-02 7.83795e-02 7.83795e-02\n",
      "  5.80958e-02 1.13480e-01 3.07723e-01 5.83153e-03]\n",
      " [2.21472e-01 2.70367e-01 2.37060e-01 2.37060e-01 2.37060e-01 2.37060e-01\n",
      "  2.23643e-01 1.89478e-01 2.97936e-01 1.17231e-01]\n",
      " [5.24563e-02 5.27893e-02 7.99582e-02 7.99582e-02 7.99582e-02 7.99582e-02\n",
      "  9.99297e-02 5.80014e-03 1.50373e-01 1.28882e-03]\n",
      " [1.80595e-01 1.42346e-01 1.53187e-01 1.53187e-01 1.53187e-01 1.53187e-01\n",
      "  1.50002e-01 1.08741e-01 2.72435e-01 4.75590e-02]\n",
      " [2.12975e-01 2.29906e-01 2.15318e-01 2.15318e-01 2.15318e-01 2.15318e-01\n",
      "  1.57304e-01 5.59082e-02 3.37283e-01 1.44089e-01]\n",
      " [1.62801e-01 8.83338e-02 9.71731e-02 9.71731e-02 9.71731e-02 9.71731e-02\n",
      "  7.09939e-02 3.25429e-02 2.03680e-01 5.07510e-02]\n",
      " [1.66437e-02 9.09184e-03 2.59690e-02 2.59690e-02 2.59690e-02 2.59690e-02\n",
      "  7.57008e-02 7.05818e-02 5.30257e-02 1.03109e-01]\n",
      " [6.34939e-02 1.27066e-01 1.11541e-01 1.11541e-01 1.11541e-01 1.11541e-01\n",
      "  7.89978e-02 4.18403e-02 1.82601e-01 1.67765e-02]\n",
      " [1.43524e-01 8.75999e-02 1.27598e-01 1.27598e-01 1.27598e-01 1.27598e-01\n",
      "  1.53632e-01 6.33091e-02 2.65623e-01 1.44711e-02]\n",
      " [8.00996e-03 2.06421e-03 1.17255e-03 1.17255e-03 1.17255e-03 1.17255e-03\n",
      "  4.38198e-02 7.96453e-02 1.18249e-01 9.66373e-02]\n",
      " [1.81232e-01 1.56506e-01 1.70548e-01 1.70548e-01 1.70548e-01 1.70548e-01\n",
      "  1.56281e-01 1.06057e-01 3.15932e-01 1.02099e-01]\n",
      " [1.72561e-02 8.99133e-02 7.05688e-02 7.05688e-02 7.05688e-02 7.05688e-02\n",
      "  4.59055e-02 4.94812e-02 1.61100e-01 2.49641e-03]\n",
      " [2.14988e-01 2.25937e-01 2.10895e-01 2.10895e-01 2.10895e-01 2.10895e-01\n",
      "  1.89983e-01 2.41692e-01 2.84353e-01 7.14515e-02]\n",
      " [1.14828e-01 9.89719e-02 1.00363e-01 1.00363e-01 1.00363e-01 1.00363e-01\n",
      "  8.85496e-02 8.61196e-03 1.44437e-01 5.98443e-03]\n",
      " [2.37815e-01 2.31065e-01 2.30357e-01 2.30357e-01 2.30357e-01 2.30357e-01\n",
      "  2.18772e-01 1.89981e-01 2.69788e-01 1.47870e-01]\n",
      " [1.80694e-01 1.64645e-01 1.28578e-01 1.28578e-01 1.28578e-01 1.28578e-01\n",
      "  1.11794e-01 6.20890e-02 2.59872e-01 3.16728e-02]\n",
      " [1.54400e-01 1.43598e-01 1.51144e-01 1.51144e-01 1.51144e-01 1.51144e-01\n",
      "  1.67396e-01 1.83565e-01 2.55032e-01 7.89700e-04]\n",
      " [1.45170e-01 1.55877e-01 1.56376e-01 1.56376e-01 1.56376e-01 1.56376e-01\n",
      "  1.50140e-01 1.34217e-01 2.31059e-01 3.60295e-02]\n",
      " [3.27110e-01 2.98438e-01 2.96329e-01 2.96329e-01 2.96329e-01 2.96329e-01\n",
      "  2.53172e-01 1.98157e-01 4.02878e-01 2.03058e-01]\n",
      " [2.15120e-01 1.27107e-01 1.44570e-01 1.44570e-01 1.44570e-01 1.44570e-01\n",
      "  1.23156e-01 7.36506e-02 2.69122e-01 8.19668e-02]\n",
      " [2.96210e-01 2.35432e-01 2.70005e-01 2.70005e-01 2.70005e-01 2.70005e-01\n",
      "  1.76449e-01 2.09054e-01 3.34384e-01 1.26496e-01]]\n",
      "ranking vector =  [  5 191 192 104 169 194 185 182 176 184]\n",
      "selected_features =  [[2.05294e-01 2.05294e-01 2.05294e-01 2.05294e-01 1.68101e-01 2.20724e-01\n",
      "  7.55151e-02 1.76990e-01 1.11726e-01 9.01337e-02]\n",
      " [1.40342e-01 1.40342e-01 1.40342e-01 1.40342e-01 1.65045e-01 1.80820e-01\n",
      "  1.85003e-01 1.53349e-01 3.65176e-02 4.16623e-02]\n",
      " [1.48199e-01 1.48199e-01 1.48199e-01 1.48199e-01 1.01033e-01 1.57849e-01\n",
      "  5.41562e-02 1.34467e-01 9.05616e-02 6.68771e-02]\n",
      " [1.03870e-01 1.03870e-01 1.03870e-01 1.03870e-01 6.15838e-02 1.39375e-01\n",
      "  3.02122e-02 9.96113e-02 1.60426e-03 1.10176e-03]\n",
      " [2.52834e-01 2.52834e-01 2.52834e-01 2.52834e-01 2.25032e-01 2.82306e-01\n",
      "  1.68959e-01 2.83320e-01 1.71522e-01 1.46757e-01]\n",
      " [1.22937e-01 1.22937e-01 1.22937e-01 1.22937e-01 9.72770e-02 1.17436e-01\n",
      "  8.93672e-02 1.22710e-01 5.45670e-02 4.13051e-02]\n",
      " [1.56436e-01 1.56436e-01 1.56436e-01 1.56436e-01 1.02548e-01 1.54193e-01\n",
      "  7.50120e-02 1.33913e-01 7.83550e-02 5.79118e-02]\n",
      " [2.05005e-01 2.05005e-01 2.05005e-01 2.05005e-01 2.16108e-01 2.14231e-01\n",
      "  1.70543e-01 1.80418e-01 1.07628e-01 1.24948e-01]\n",
      " [2.04120e-01 2.04120e-01 2.04120e-01 2.04120e-01 1.47097e-01 2.06952e-01\n",
      "  1.32625e-01 2.17420e-01 3.59364e-02 1.42671e-01]\n",
      " [1.93373e-01 1.93373e-01 1.93373e-01 1.93373e-01 2.06444e-01 2.06660e-01\n",
      "  1.48505e-01 2.03329e-01 1.46928e-01 1.05574e-01]\n",
      " [1.36766e-01 1.36766e-01 1.36766e-01 1.36766e-01 2.07692e-01 1.17622e-01\n",
      "  3.73448e-02 1.12213e-01 6.68539e-02 5.17445e-02]\n",
      " [1.81285e-01 1.81285e-01 1.81285e-01 1.81285e-01 1.49007e-01 1.74877e-01\n",
      "  6.08048e-02 1.16579e-01 9.53295e-02 5.21120e-02]\n",
      " [2.47515e-01 2.47515e-01 2.47515e-01 2.47515e-01 2.21961e-01 2.62731e-01\n",
      "  1.74851e-01 2.98094e-01 1.84785e-01 1.65355e-01]\n",
      " [1.62221e-01 1.62221e-01 1.62221e-01 1.62221e-01 1.99800e-01 2.09937e-01\n",
      "  1.57858e-01 2.19560e-01 8.24191e-02 8.26637e-02]\n",
      " [2.48062e-01 2.48062e-01 2.48062e-01 2.48062e-01 2.56400e-01 2.64422e-01\n",
      "  1.39915e-01 2.35016e-01 1.77439e-01 1.82573e-01]\n",
      " [1.44264e-01 1.44264e-01 1.44264e-01 1.44264e-01 1.20516e-01 1.72254e-01\n",
      "  1.38980e-01 1.57648e-01 6.53791e-02 3.98356e-02]\n",
      " [2.22031e-01 2.22031e-01 2.22031e-01 2.22031e-01 2.09320e-01 2.10449e-01\n",
      "  2.38603e-01 2.26259e-01 1.21016e-01 1.68032e-01]\n",
      " [2.12518e-01 2.12518e-01 2.12518e-01 2.12518e-01 1.48890e-01 2.11738e-01\n",
      "  1.35188e-01 2.10241e-01 1.12440e-01 1.57725e-01]\n",
      " [1.83989e-01 1.83989e-01 1.83989e-01 1.83989e-01 1.03561e-01 1.92972e-01\n",
      "  2.40269e-01 1.83975e-01 7.62369e-02 4.89395e-02]\n",
      " [2.32913e-01 2.32913e-01 2.32913e-01 2.32913e-01 2.25448e-01 2.18203e-01\n",
      "  2.13752e-01 2.30471e-01 1.71123e-01 1.68786e-01]\n",
      " [2.10357e-01 2.10357e-01 2.10357e-01 2.10357e-01 1.98071e-01 1.75780e-01\n",
      "  1.91563e-01 1.78870e-01 1.08798e-01 1.07547e-01]\n",
      " [1.67321e-01 1.67321e-01 1.67321e-01 1.67321e-01 1.45556e-01 1.33214e-01\n",
      "  9.37178e-03 1.82346e-01 6.29034e-02 2.92111e-02]\n",
      " [3.21836e-01 3.21836e-01 3.21836e-01 3.21836e-01 3.09446e-01 3.34532e-01\n",
      "  3.21217e-01 3.56497e-01 2.29922e-01 1.96425e-01]\n",
      " [2.53998e-01 2.53998e-01 2.53998e-01 2.53998e-01 2.33766e-01 3.11290e-01\n",
      "  2.00312e-01 2.62768e-01 1.09205e-01 1.35920e-01]\n",
      " [9.15317e-02 9.15317e-02 9.15317e-02 9.15317e-02 7.77862e-02 8.97065e-02\n",
      "  8.18313e-02 1.31172e-01 1.87913e-02 5.61285e-03]\n",
      " [6.75319e-02 6.75319e-02 6.75319e-02 6.75319e-02 4.22865e-02 1.01863e-01\n",
      "  7.51590e-02 5.45284e-02 2.47618e-02 7.42802e-03]\n",
      " [1.48040e-01 1.48040e-01 1.48040e-01 1.48040e-01 1.68408e-01 1.58244e-01\n",
      "  7.43748e-02 1.67478e-01 6.77681e-02 2.33701e-02]\n",
      " [3.46278e-01 3.46278e-01 3.46278e-01 3.46278e-01 3.80164e-01 3.67865e-01\n",
      "  2.92461e-01 4.34488e-01 2.29174e-01 2.80453e-01]\n",
      " [1.52692e-01 1.52692e-01 1.52692e-01 1.52692e-01 1.46327e-01 1.43759e-01\n",
      "  3.70282e-02 2.00032e-01 9.85573e-02 1.01204e-01]\n",
      " [2.70682e-01 2.70682e-01 2.70682e-01 2.70682e-01 2.55839e-01 2.87221e-01\n",
      "  2.56046e-01 2.91908e-01 1.98359e-01 1.95760e-01]\n",
      " [3.07450e-01 3.07450e-01 3.07450e-01 3.07450e-01 2.72062e-01 2.86899e-01\n",
      "  2.67186e-01 3.42709e-01 2.54917e-01 2.00928e-01]\n",
      " [1.74919e-01 1.74919e-01 1.74919e-01 1.74919e-01 1.41498e-01 1.71308e-01\n",
      "  1.16076e-01 1.42776e-01 8.54072e-02 7.10030e-02]\n",
      " [4.32135e-01 4.32135e-01 4.32135e-01 4.32135e-01 4.20048e-01 4.05657e-01\n",
      "  3.32501e-01 4.28821e-01 3.76074e-01 3.03240e-01]\n",
      " [4.68053e-01 4.68053e-01 4.68053e-01 4.68053e-01 4.83646e-01 4.72027e-01\n",
      "  4.03193e-01 4.65672e-01 4.14862e-01 4.27939e-01]\n",
      " [2.33875e-01 2.33875e-01 2.33875e-01 2.33875e-01 2.19881e-01 2.13263e-01\n",
      "  1.74160e-01 2.06565e-01 1.63339e-01 1.69417e-01]\n",
      " [2.37061e-01 2.37061e-01 2.37061e-01 2.37061e-01 2.07640e-01 2.30645e-01\n",
      "  2.10216e-01 2.87990e-01 1.58099e-01 1.53831e-01]\n",
      " [2.77233e-01 2.77233e-01 2.77233e-01 2.77233e-01 2.73924e-01 2.99990e-01\n",
      "  2.66672e-01 3.24117e-01 2.27685e-01 2.11710e-01]\n",
      " [2.88561e-01 2.88561e-01 2.88561e-01 2.88561e-01 2.56620e-01 2.90653e-01\n",
      "  2.29427e-01 2.69816e-01 1.94363e-01 2.05993e-01]\n",
      " [2.69841e-01 2.69841e-01 2.69841e-01 2.69841e-01 2.56734e-01 2.74027e-01\n",
      "  2.46723e-01 2.36724e-01 1.94838e-01 1.76989e-01]\n",
      " [1.33783e-01 1.33783e-01 1.33783e-01 1.33783e-01 9.56296e-02 1.29731e-01\n",
      "  1.31724e-01 1.69736e-01 9.32744e-02 8.25577e-02]\n",
      " [2.79154e-01 2.79154e-01 2.79154e-01 2.79154e-01 2.43088e-01 2.20378e-01\n",
      "  2.42591e-01 3.25767e-01 1.86318e-01 1.91955e-01]\n",
      " [1.02787e-01 1.02787e-01 1.02787e-01 1.02787e-01 7.69981e-02 1.06531e-01\n",
      "  4.26886e-04 1.17436e-01 6.42531e-02 4.11523e-03]\n",
      " [1.38983e-01 1.38983e-01 1.38983e-01 1.38983e-01 9.83258e-02 1.78322e-01\n",
      "  2.54358e-02 1.56002e-01 7.73807e-03 5.65537e-02]\n",
      " [1.36325e-01 1.36325e-01 1.36325e-01 1.36325e-01 1.36031e-01 1.58743e-01\n",
      "  1.52926e-01 1.46900e-01 6.97060e-03 4.57485e-02]\n",
      " [7.13021e-02 7.13021e-02 7.13021e-02 7.13021e-02 7.45173e-02 9.45256e-02\n",
      "  9.78626e-02 7.43845e-02 8.51464e-03 3.76616e-02]\n",
      " [1.86251e-01 1.86251e-01 1.86251e-01 1.86251e-01 1.52469e-01 1.83586e-01\n",
      "  1.52756e-01 1.46725e-01 6.61782e-02 1.16032e-01]\n",
      " [1.46293e-01 1.46293e-01 1.46293e-01 1.46293e-01 1.44671e-01 1.17808e-01\n",
      "  6.84208e-02 1.23459e-01 4.88714e-02 1.72224e-02]\n",
      " [5.38510e-03 5.38510e-03 5.38510e-03 5.38510e-03 5.49222e-02 1.03199e-02\n",
      "  1.30982e-01 3.26285e-02 8.46789e-02 7.00030e-02]\n",
      " [1.83963e-01 1.83963e-01 1.83963e-01 1.83963e-01 1.83571e-01 2.19385e-01\n",
      "  1.28138e-01 2.19850e-01 1.30633e-01 8.61514e-02]\n",
      " [1.27165e-01 1.27165e-01 1.27165e-01 1.27165e-01 9.14855e-02 1.25525e-01\n",
      "  3.43545e-02 1.16544e-01 2.48962e-02 3.02792e-03]\n",
      " [4.03239e-02 4.03239e-02 4.03239e-02 4.03239e-02 1.80224e-02 5.24706e-02\n",
      "  1.26841e-02 5.09684e-02 2.59169e-02 4.31632e-02]\n",
      " [1.31993e-01 1.31993e-01 1.31993e-01 1.31993e-01 8.03709e-02 1.20823e-01\n",
      "  8.00381e-03 1.01499e-01 5.61207e-02 7.02581e-02]\n",
      " [1.11797e-01 1.11797e-01 1.11797e-01 1.11797e-01 8.69952e-02 7.26997e-02\n",
      "  4.25516e-02 1.21257e-01 3.63111e-02 4.28725e-02]\n",
      " [1.94957e-01 1.94957e-01 1.94957e-01 1.94957e-01 2.15296e-01 2.02622e-01\n",
      "  9.66563e-02 1.77011e-01 1.29906e-01 1.29737e-01]\n",
      " [1.58960e-01 1.58960e-01 1.58960e-01 1.58960e-01 1.30540e-01 1.96702e-01\n",
      "  1.07712e-01 2.13794e-01 1.04936e-01 5.02356e-02]\n",
      " [1.84431e-01 1.84431e-01 1.84431e-01 1.84431e-01 1.59663e-01 1.92747e-01\n",
      "  9.61532e-02 1.97519e-01 1.11469e-01 1.10214e-01]\n",
      " [7.83795e-02 7.83795e-02 7.83795e-02 7.83795e-02 5.80958e-02 1.11331e-01\n",
      "  1.13480e-01 6.10375e-02 5.93304e-03 2.06179e-02]\n",
      " [2.37060e-01 2.37060e-01 2.37060e-01 2.37060e-01 2.23643e-01 2.70367e-01\n",
      "  1.89478e-01 2.21472e-01 1.41918e-01 1.51237e-01]\n",
      " [7.99582e-02 7.99582e-02 7.99582e-02 7.99582e-02 9.99297e-02 5.27893e-02\n",
      "  5.80014e-03 5.24563e-02 4.99294e-02 1.99419e-02]\n",
      " [1.53187e-01 1.53187e-01 1.53187e-01 1.53187e-01 1.50002e-01 1.42346e-01\n",
      "  1.08741e-01 1.80595e-01 8.24928e-02 7.72117e-02]\n",
      " [2.15318e-01 2.15318e-01 2.15318e-01 2.15318e-01 1.57304e-01 2.29906e-01\n",
      "  5.59082e-02 2.12975e-01 1.34884e-01 2.10026e-01]\n",
      " [9.71731e-02 9.71731e-02 9.71731e-02 9.71731e-02 7.09939e-02 8.83338e-02\n",
      "  3.25429e-02 1.62801e-01 1.76948e-02 3.86416e-02]\n",
      " [2.59690e-02 2.59690e-02 2.59690e-02 2.59690e-02 7.57008e-02 9.09184e-03\n",
      "  7.05818e-02 1.66437e-02 9.45883e-02 1.20066e-01]\n",
      " [1.11541e-01 1.11541e-01 1.11541e-01 1.11541e-01 7.89978e-02 1.27066e-01\n",
      "  4.18403e-02 6.34939e-02 3.72386e-02 6.11296e-02]\n",
      " [1.27598e-01 1.27598e-01 1.27598e-01 1.27598e-01 1.53632e-01 8.75999e-02\n",
      "  6.33091e-02 1.43524e-01 9.66080e-03 5.91768e-02]\n",
      " [1.17255e-03 1.17255e-03 1.17255e-03 1.17255e-03 4.38198e-02 2.06421e-03\n",
      "  7.96453e-02 8.00996e-03 8.85021e-02 5.76147e-02]\n",
      " [1.70548e-01 1.70548e-01 1.70548e-01 1.70548e-01 1.56281e-01 1.56506e-01\n",
      "  1.06057e-01 1.81232e-01 8.46929e-02 9.40362e-02]\n",
      " [7.05688e-02 7.05688e-02 7.05688e-02 7.05688e-02 4.59055e-02 8.99133e-02\n",
      "  4.94812e-02 1.72561e-02 7.40536e-03 8.04819e-03]\n",
      " [2.10895e-01 2.10895e-01 2.10895e-01 2.10895e-01 1.89983e-01 2.25937e-01\n",
      "  2.41692e-01 2.14988e-01 1.63630e-01 1.75413e-01]\n",
      " [1.00363e-01 1.00363e-01 1.00363e-01 1.00363e-01 8.85496e-02 9.89719e-02\n",
      "  8.61196e-03 1.14828e-01 2.56637e-02 1.31777e-03]\n",
      " [2.30357e-01 2.30357e-01 2.30357e-01 2.30357e-01 2.18772e-01 2.31065e-01\n",
      "  1.89981e-01 2.37815e-01 9.34033e-02 1.30006e-01]\n",
      " [1.28578e-01 1.28578e-01 1.28578e-01 1.28578e-01 1.11794e-01 1.64645e-01\n",
      "  6.20890e-02 1.80694e-01 9.17530e-02 1.38572e-02]\n",
      " [1.51144e-01 1.51144e-01 1.51144e-01 1.51144e-01 1.67396e-01 1.43598e-01\n",
      "  1.83565e-01 1.54400e-01 8.67186e-02 9.06784e-02]\n",
      " [1.56376e-01 1.56376e-01 1.56376e-01 1.56376e-01 1.50140e-01 1.55877e-01\n",
      "  1.34217e-01 1.45170e-01 5.99663e-02 7.76800e-02]\n",
      " [2.96329e-01 2.96329e-01 2.96329e-01 2.96329e-01 2.53172e-01 2.98438e-01\n",
      "  1.98157e-01 3.27110e-01 2.15899e-01 2.10244e-01]\n",
      " [1.44570e-01 1.44570e-01 1.44570e-01 1.44570e-01 1.23156e-01 1.27107e-01\n",
      "  7.36506e-02 2.15120e-01 5.37031e-02 7.39608e-02]\n",
      " [2.70005e-01 2.70005e-01 2.70005e-01 2.70005e-01 1.76449e-01 2.35432e-01\n",
      "  2.09054e-01 2.96210e-01 2.16425e-01 1.19741e-01]]\n"
     ]
    }
   ],
   "source": [
    "k=10\n",
    "training(kf5,k,reliefF)"
   ]
  },
  {
   "cell_type": "code",
   "execution_count": 81,
   "metadata": {},
   "outputs": [
    {
     "data": {
      "text/plain": [
       "(77, 10)"
      ]
     },
     "execution_count": 81,
     "metadata": {},
     "output_type": "execute_result"
    }
   ],
   "source": [
    "selected_features_kf5.shape"
   ]
  },
  {
   "cell_type": "code",
   "execution_count": 82,
   "metadata": {},
   "outputs": [],
   "source": [
    "def main_pipeline(cv,k):\n",
    "    pool_matrices=[]\n",
    "    pool_FS=[reliefF,lap_score,ll_l21,UDFS,CFS]\n",
    "    #for k in num_fea:\n",
    "    for FS in pool_FS:\n",
    "        pool_matrices.append(training(cv,k,FS))\n",
    "    #FS_to_FS_similarity=np.average(pool_matrices,axis=0)\n",
    "    #return(FS_to_FS_similarity)\n",
    "    return(pool_matrices)       "
   ]
  },
  {
   "cell_type": "code",
   "execution_count": 92,
   "metadata": {},
   "outputs": [],
   "source": [
    "pool_matrices=main_pipeline(kf5,10)"
   ]
  },
  {
   "cell_type": "code",
   "execution_count": 94,
   "metadata": {},
   "outputs": [
    {
     "ename": "ValueError",
     "evalue": "could not broadcast input array from shape (77,10) into shape (77)",
     "output_type": "error",
     "traceback": [
      "\u001b[0;31m---------------------------------------------------------------------------\u001b[0m",
      "\u001b[0;31mValueError\u001b[0m                                Traceback (most recent call last)",
      "\u001b[0;32m<ipython-input-94-747ea7a7fab7>\u001b[0m in \u001b[0;36m<module>\u001b[0;34m\u001b[0m\n\u001b[0;32m----> 1\u001b[0;31m \u001b[0mnp\u001b[0m\u001b[0;34m.\u001b[0m\u001b[0marray\u001b[0m\u001b[0;34m(\u001b[0m\u001b[0mpool_matrices\u001b[0m\u001b[0;34m)\u001b[0m\u001b[0;34m\u001b[0m\u001b[0;34m\u001b[0m\u001b[0m\n\u001b[0m",
      "\u001b[0;31mValueError\u001b[0m: could not broadcast input array from shape (77,10) into shape (77)"
     ]
    }
   ],
   "source": [
    "np.array(pool_matrices)"
   ]
  },
  {
   "cell_type": "code",
   "execution_count": 68,
   "metadata": {},
   "outputs": [
    {
     "ename": "ValueError",
     "evalue": "could not broadcast input array from shape (77,10) into shape (77)",
     "output_type": "error",
     "traceback": [
      "\u001b[0;31m---------------------------------------------------------------------------\u001b[0m",
      "\u001b[0;31mValueError\u001b[0m                                Traceback (most recent call last)",
      "\u001b[0;32m<ipython-input-68-5133a5c4866b>\u001b[0m in \u001b[0;36m<module>\u001b[0;34m\u001b[0m\n\u001b[0;32m----> 1\u001b[0;31m \u001b[0mnewa\u001b[0m\u001b[0;34m=\u001b[0m\u001b[0mnp\u001b[0m\u001b[0;34m.\u001b[0m\u001b[0marray\u001b[0m\u001b[0;34m(\u001b[0m\u001b[0ma\u001b[0m\u001b[0;34m)\u001b[0m\u001b[0;34m\u001b[0m\u001b[0;34m\u001b[0m\u001b[0m\n\u001b[0m",
      "\u001b[0;31mValueError\u001b[0m: could not broadcast input array from shape (77,10) into shape (77)"
     ]
    }
   ],
   "source": []
  },
  {
   "cell_type": "code",
   "execution_count": 61,
   "metadata": {},
   "outputs": [],
   "source": [
    "element=pool_matrices[0]\n",
    "a=element.astype(object)"
   ]
  },
  {
   "cell_type": "code",
   "execution_count": 63,
   "metadata": {},
   "outputs": [
    {
     "data": {
      "text/plain": [
       "numpy.ndarray"
      ]
     },
     "execution_count": 63,
     "metadata": {},
     "output_type": "execute_result"
    }
   ],
   "source": [
    "type(a)"
   ]
  },
  {
   "cell_type": "code",
   "execution_count": 64,
   "metadata": {},
   "outputs": [
    {
     "data": {
      "text/plain": [
       "numpy.ndarray"
      ]
     },
     "execution_count": 64,
     "metadata": {},
     "output_type": "execute_result"
    }
   ],
   "source": [
    "type(pool_matrices[0])"
   ]
  },
  {
   "cell_type": "code",
   "execution_count": 48,
   "metadata": {},
   "outputs": [
    {
     "ename": "ValueError",
     "evalue": "could not broadcast input array from shape (77,10) into shape (77)",
     "output_type": "error",
     "traceback": [
      "\u001b[0;31m---------------------------------------------------------------------------\u001b[0m",
      "\u001b[0;31mValueError\u001b[0m                                Traceback (most recent call last)",
      "\u001b[0;32m<ipython-input-48-829811af0637>\u001b[0m in \u001b[0;36m<module>\u001b[0;34m\u001b[0m\n\u001b[0;32m----> 1\u001b[0;31m \u001b[0mFS_to_FS_similarity\u001b[0m\u001b[0;34m=\u001b[0m\u001b[0mnp\u001b[0m\u001b[0;34m.\u001b[0m\u001b[0mmean\u001b[0m\u001b[0;34m(\u001b[0m\u001b[0mpool_matrices\u001b[0m\u001b[0;34m,\u001b[0m\u001b[0maxis\u001b[0m\u001b[0;34m=\u001b[0m\u001b[0;36m1\u001b[0m\u001b[0;34m)\u001b[0m\u001b[0;34m\u001b[0m\u001b[0;34m\u001b[0m\u001b[0m\n\u001b[0m",
      "\u001b[0;32m/usr/local/lib/python3.6/dist-packages/numpy/core/fromnumeric.py\u001b[0m in \u001b[0;36mmean\u001b[0;34m(a, axis, dtype, out, keepdims)\u001b[0m\n\u001b[1;32m   2918\u001b[0m \u001b[0;34m\u001b[0m\u001b[0m\n\u001b[1;32m   2919\u001b[0m     return _methods._mean(a, axis=axis, dtype=dtype,\n\u001b[0;32m-> 2920\u001b[0;31m                           out=out, **kwargs)\n\u001b[0m\u001b[1;32m   2921\u001b[0m \u001b[0;34m\u001b[0m\u001b[0m\n\u001b[1;32m   2922\u001b[0m \u001b[0;34m\u001b[0m\u001b[0m\n",
      "\u001b[0;32m/usr/local/lib/python3.6/dist-packages/numpy/core/_methods.py\u001b[0m in \u001b[0;36m_mean\u001b[0;34m(a, axis, dtype, out, keepdims)\u001b[0m\n\u001b[1;32m     57\u001b[0m \u001b[0;34m\u001b[0m\u001b[0m\n\u001b[1;32m     58\u001b[0m \u001b[0;32mdef\u001b[0m \u001b[0m_mean\u001b[0m\u001b[0;34m(\u001b[0m\u001b[0ma\u001b[0m\u001b[0;34m,\u001b[0m \u001b[0maxis\u001b[0m\u001b[0;34m=\u001b[0m\u001b[0;32mNone\u001b[0m\u001b[0;34m,\u001b[0m \u001b[0mdtype\u001b[0m\u001b[0;34m=\u001b[0m\u001b[0;32mNone\u001b[0m\u001b[0;34m,\u001b[0m \u001b[0mout\u001b[0m\u001b[0;34m=\u001b[0m\u001b[0;32mNone\u001b[0m\u001b[0;34m,\u001b[0m \u001b[0mkeepdims\u001b[0m\u001b[0;34m=\u001b[0m\u001b[0;32mFalse\u001b[0m\u001b[0;34m)\u001b[0m\u001b[0;34m:\u001b[0m\u001b[0;34m\u001b[0m\u001b[0;34m\u001b[0m\u001b[0m\n\u001b[0;32m---> 59\u001b[0;31m     \u001b[0marr\u001b[0m \u001b[0;34m=\u001b[0m \u001b[0masanyarray\u001b[0m\u001b[0;34m(\u001b[0m\u001b[0ma\u001b[0m\u001b[0;34m)\u001b[0m\u001b[0;34m\u001b[0m\u001b[0;34m\u001b[0m\u001b[0m\n\u001b[0m\u001b[1;32m     60\u001b[0m \u001b[0;34m\u001b[0m\u001b[0m\n\u001b[1;32m     61\u001b[0m     \u001b[0mis_float16_result\u001b[0m \u001b[0;34m=\u001b[0m \u001b[0;32mFalse\u001b[0m\u001b[0;34m\u001b[0m\u001b[0;34m\u001b[0m\u001b[0m\n",
      "\u001b[0;32m/usr/local/lib/python3.6/dist-packages/numpy/core/numeric.py\u001b[0m in \u001b[0;36masanyarray\u001b[0;34m(a, dtype, order)\u001b[0m\n\u001b[1;32m    551\u001b[0m \u001b[0;34m\u001b[0m\u001b[0m\n\u001b[1;32m    552\u001b[0m     \"\"\"\n\u001b[0;32m--> 553\u001b[0;31m     \u001b[0;32mreturn\u001b[0m \u001b[0marray\u001b[0m\u001b[0;34m(\u001b[0m\u001b[0ma\u001b[0m\u001b[0;34m,\u001b[0m \u001b[0mdtype\u001b[0m\u001b[0;34m,\u001b[0m \u001b[0mcopy\u001b[0m\u001b[0;34m=\u001b[0m\u001b[0;32mFalse\u001b[0m\u001b[0;34m,\u001b[0m \u001b[0morder\u001b[0m\u001b[0;34m=\u001b[0m\u001b[0morder\u001b[0m\u001b[0;34m,\u001b[0m \u001b[0msubok\u001b[0m\u001b[0;34m=\u001b[0m\u001b[0;32mTrue\u001b[0m\u001b[0;34m)\u001b[0m\u001b[0;34m\u001b[0m\u001b[0;34m\u001b[0m\u001b[0m\n\u001b[0m\u001b[1;32m    554\u001b[0m \u001b[0;34m\u001b[0m\u001b[0m\n\u001b[1;32m    555\u001b[0m \u001b[0;34m\u001b[0m\u001b[0m\n",
      "\u001b[0;31mValueError\u001b[0m: could not broadcast input array from shape (77,10) into shape (77)"
     ]
    }
   ],
   "source": [
    "FS_to_FS_similarity=np.mean(pool_matrices,axis=1)"
   ]
  },
  {
   "cell_type": "code",
   "execution_count": 44,
   "metadata": {},
   "outputs": [
    {
     "data": {
      "text/plain": [
       "array([[1.33333333, 2.        , 0.66666667],\n",
       "       [3.        , 1.        , 3.66666667],\n",
       "       [2.66666667, 0.        , 0.66666667]])"
      ]
     },
     "execution_count": 44,
     "metadata": {},
     "output_type": "execute_result"
    }
   ],
   "source": [
    "FS_to_FS_similarity"
   ]
  },
  {
   "cell_type": "code",
   "execution_count": 31,
   "metadata": {},
   "outputs": [
    {
     "data": {
      "text/plain": [
       "[10, 20, 30, 40, 50, 60, 70, 80, 90, 100]"
      ]
     },
     "execution_count": 31,
     "metadata": {},
     "output_type": "execute_result"
    }
   ],
   "source": [
    "num_fea"
   ]
  },
  {
   "cell_type": "code",
   "execution_count": 32,
   "metadata": {},
   "outputs": [
    {
     "ename": "ValueError",
     "evalue": "could not broadcast input array from shape (77,10) into shape (77)",
     "output_type": "error",
     "traceback": [
      "\u001b[0;31m---------------------------------------------------------------------------\u001b[0m",
      "\u001b[0;31mValueError\u001b[0m                                Traceback (most recent call last)",
      "\u001b[0;32m<ipython-input-32-be132fd29ada>\u001b[0m in \u001b[0;36m<module>\u001b[0;34m\u001b[0m\n\u001b[1;32m      2\u001b[0m \u001b[0;32mfor\u001b[0m \u001b[0mk\u001b[0m \u001b[0;32min\u001b[0m \u001b[0mnum_fea\u001b[0m\u001b[0;34m:\u001b[0m\u001b[0;34m\u001b[0m\u001b[0;34m\u001b[0m\u001b[0m\n\u001b[1;32m      3\u001b[0m     \u001b[0mpool_matrices\u001b[0m\u001b[0;34m=\u001b[0m\u001b[0mmain_pipeline\u001b[0m\u001b[0;34m(\u001b[0m\u001b[0mkf5\u001b[0m\u001b[0;34m,\u001b[0m\u001b[0mk\u001b[0m\u001b[0;34m)\u001b[0m\u001b[0;34m\u001b[0m\u001b[0;34m\u001b[0m\u001b[0m\n\u001b[0;32m----> 4\u001b[0;31m     \u001b[0mFS_to_FS_similarity\u001b[0m\u001b[0;34m=\u001b[0m\u001b[0mnp\u001b[0m\u001b[0;34m.\u001b[0m\u001b[0maverage\u001b[0m\u001b[0;34m(\u001b[0m\u001b[0mpool_matrices\u001b[0m\u001b[0;34m,\u001b[0m\u001b[0maxis\u001b[0m\u001b[0;34m=\u001b[0m\u001b[0;36m0\u001b[0m\u001b[0;34m)\u001b[0m\u001b[0;34m\u001b[0m\u001b[0;34m\u001b[0m\u001b[0m\n\u001b[0m\u001b[1;32m      5\u001b[0m     \u001b[0msimilarity\u001b[0m\u001b[0;34m.\u001b[0m\u001b[0mappend\u001b[0m\u001b[0;34m(\u001b[0m\u001b[0mFS_to_FS_similarity\u001b[0m\u001b[0;34m)\u001b[0m\u001b[0;34m\u001b[0m\u001b[0;34m\u001b[0m\u001b[0m\n\u001b[1;32m      6\u001b[0m \u001b[0;34m\u001b[0m\u001b[0m\n",
      "\u001b[0;32m/usr/local/lib/python3.6/dist-packages/numpy/lib/function_base.py\u001b[0m in \u001b[0;36maverage\u001b[0;34m(a, axis, weights, returned)\u001b[0m\n\u001b[1;32m    351\u001b[0m \u001b[0;34m\u001b[0m\u001b[0m\n\u001b[1;32m    352\u001b[0m     \"\"\"\n\u001b[0;32m--> 353\u001b[0;31m     \u001b[0ma\u001b[0m \u001b[0;34m=\u001b[0m \u001b[0mnp\u001b[0m\u001b[0;34m.\u001b[0m\u001b[0masanyarray\u001b[0m\u001b[0;34m(\u001b[0m\u001b[0ma\u001b[0m\u001b[0;34m)\u001b[0m\u001b[0;34m\u001b[0m\u001b[0;34m\u001b[0m\u001b[0m\n\u001b[0m\u001b[1;32m    354\u001b[0m \u001b[0;34m\u001b[0m\u001b[0m\n\u001b[1;32m    355\u001b[0m     \u001b[0;32mif\u001b[0m \u001b[0mweights\u001b[0m \u001b[0;32mis\u001b[0m \u001b[0;32mNone\u001b[0m\u001b[0;34m:\u001b[0m\u001b[0;34m\u001b[0m\u001b[0;34m\u001b[0m\u001b[0m\n",
      "\u001b[0;32m/usr/local/lib/python3.6/dist-packages/numpy/core/numeric.py\u001b[0m in \u001b[0;36masanyarray\u001b[0;34m(a, dtype, order)\u001b[0m\n\u001b[1;32m    551\u001b[0m \u001b[0;34m\u001b[0m\u001b[0m\n\u001b[1;32m    552\u001b[0m     \"\"\"\n\u001b[0;32m--> 553\u001b[0;31m     \u001b[0;32mreturn\u001b[0m \u001b[0marray\u001b[0m\u001b[0;34m(\u001b[0m\u001b[0ma\u001b[0m\u001b[0;34m,\u001b[0m \u001b[0mdtype\u001b[0m\u001b[0;34m,\u001b[0m \u001b[0mcopy\u001b[0m\u001b[0;34m=\u001b[0m\u001b[0;32mFalse\u001b[0m\u001b[0;34m,\u001b[0m \u001b[0morder\u001b[0m\u001b[0;34m=\u001b[0m\u001b[0morder\u001b[0m\u001b[0;34m,\u001b[0m \u001b[0msubok\u001b[0m\u001b[0;34m=\u001b[0m\u001b[0;32mTrue\u001b[0m\u001b[0;34m)\u001b[0m\u001b[0;34m\u001b[0m\u001b[0;34m\u001b[0m\u001b[0m\n\u001b[0m\u001b[1;32m    554\u001b[0m \u001b[0;34m\u001b[0m\u001b[0m\n\u001b[1;32m    555\u001b[0m \u001b[0;34m\u001b[0m\u001b[0m\n",
      "\u001b[0;31mValueError\u001b[0m: could not broadcast input array from shape (77,10) into shape (77)"
     ]
    }
   ],
   "source": [
    "similarity=[]\n",
    "for k in num_fea:\n",
    "    pool_matrices=main_pipeline(kf5,k)\n",
    "    FS_to_FS_similarity=np.average(pool_matrices,axis=0)\n",
    "    similarity.append(FS_to_FS_similarity)\n",
    "    "
   ]
  },
  {
   "cell_type": "markdown",
   "metadata": {},
   "source": [
    "#### 10-Fold"
   ]
  },
  {
   "cell_type": "code",
   "execution_count": 44,
   "metadata": {},
   "outputs": [],
   "source": [
    "#test=training(num_fea,reliefF)\n",
    "# split data into 10 folds\n",
    "kf10=KFold(n_splits=10,shuffle=True)"
   ]
  },
  {
   "cell_type": "code",
   "execution_count": 45,
   "metadata": {},
   "outputs": [
    {
     "data": {
      "text/plain": [
       "10"
      ]
     },
     "execution_count": 45,
     "metadata": {},
     "output_type": "execute_result"
    }
   ],
   "source": [
    "kf10.get_n_splits()"
   ]
  },
  {
   "cell_type": "markdown",
   "metadata": {},
   "source": [
    "#### LOO"
   ]
  },
  {
   "cell_type": "code",
   "execution_count": 51,
   "metadata": {},
   "outputs": [],
   "source": [
    "from sklearn.model_selection import LeaveOneOut\n",
    "loo=LeaveOneOut()"
   ]
  },
  {
   "cell_type": "code",
   "execution_count": 53,
   "metadata": {},
   "outputs": [
    {
     "data": {
      "text/plain": [
       "77"
      ]
     },
     "execution_count": 53,
     "metadata": {},
     "output_type": "execute_result"
    }
   ],
   "source": [
    "loo.get_n_splits(X)"
   ]
  },
  {
   "cell_type": "code",
   "execution_count": 54,
   "metadata": {},
   "outputs": [],
   "source": [
    "def main_pipeline(cv):\n",
    "    performance=[]\n",
    "    Pool_FS=[reliefF,lap_score,ll_l21,UDFS,CFS]\n",
    "    for FS in Pool_FS:\n",
    "        performance.append(training(cv,num_fea,FS))\n",
    "    return(performance)\n",
    "        "
   ]
  },
  {
   "cell_type": "code",
   "execution_count": 55,
   "metadata": {},
   "outputs": [],
   "source": [
    "performance10=main_pipeline(kf10)"
   ]
  },
  {
   "cell_type": "code",
   "execution_count": null,
   "metadata": {},
   "outputs": [],
   "source": [
    "performance_loo=main_pipeline(loo)"
   ]
  },
  {
   "cell_type": "code",
   "execution_count": 57,
   "metadata": {},
   "outputs": [
    {
     "data": {
      "text/plain": [
       "5"
      ]
     },
     "execution_count": 57,
     "metadata": {},
     "output_type": "execute_result"
    }
   ],
   "source": [
    "len(performance10)"
   ]
  },
  {
   "cell_type": "code",
   "execution_count": 58,
   "metadata": {},
   "outputs": [],
   "source": [
    "def save_performance(file_name,dst_fold,performance):\n",
    "    Pool_FS_names=['reliefF','lap_score','ll_l21','UDFS','CFS']\n",
    "    d={}\n",
    "    for name in Pool_FS_names:\n",
    "        d[name]=performance[Pool_FS_names.index(name)]\n",
    "    #dst_fold='/home/raoua/Desktop/BASIRA/working repo/intermediate/'\n",
    "    f = os.path.join(dst_fold, file_name + '.mat' )\n",
    "    sio.savemat(f,d)"
   ]
  },
  {
   "cell_type": "code",
   "execution_count": 62,
   "metadata": {},
   "outputs": [],
   "source": [
    "import matplotlib.pyplot as plt\n",
    "%matplotlib inline\n",
    "import seaborn as sns \n",
    "sns.set()\n",
    "def plot_performance(result,num_fea):\n",
    "    line1, = plt.plot(num_fea,result['reliefF'][0], label='reliefF')\n",
    "    line2, = plt.plot(num_fea,result['lap_score'][0], marker='', label='lap_score')\n",
    "    line3, = plt.plot(num_fea,result['ll_l21'][0], marker='', label='ll_l21')\n",
    "    line4, = plt.plot(num_fea,result['UDFS'][0], marker='', label='UDFS')\n",
    "    line5, = plt.plot(num_fea,result['CFS'][0], marker='', label='CFS')\n",
    "    plt.legend(bbox_to_anchor=(1.05, 1), loc='upper left', borderaxespad=0)\n",
    "    plt.xlabel('Top k ranked features')\n",
    "    plt.ylabel('Accuracy')\n",
    "    #plt.title('Feature selection methods performance using 5-fold CV')"
   ]
  },
  {
   "cell_type": "markdown",
   "metadata": {},
   "source": [
    "### -------------- Main Program ------------------"
   ]
  },
  {
   "cell_type": "code",
   "execution_count": 60,
   "metadata": {},
   "outputs": [],
   "source": [
    "## import cv method here\n",
    "import os\n",
    "## cv=instance()\n",
    "##dst_fold='bla/bla/bla'\n",
    "#performance_x=main_pipeline(cv)\n",
    "## due to the fact that this pipeline is time consuming I chose to save the results of the pipeline so \n",
    "## I don't have to rerun the whole pipeline from zero\n",
    "dst_fold='/home/raoua/Desktop/BASIRA/working repo/intermediate/'\n",
    "save_performance('Pool_FS_Accuracy_10fold',dst_fold,performance10)\n",
    "## Read the performance result for later processing\n",
    "#result_file= sio.loadmat('blalalalal')\n"
   ]
  },
  {
   "cell_type": "code",
   "execution_count": 63,
   "metadata": {},
   "outputs": [],
   "source": [
    "import scipy.io as sio\n",
    "result=sio.loadmat('./intermediate/Pool_FS_Accuracy_10fold.mat')"
   ]
  },
  {
   "cell_type": "code",
   "execution_count": 66,
   "metadata": {},
   "outputs": [
    {
     "data": {
      "text/plain": [
       "Text(0.5, 1.0, 'Feature selection methods performance using 10-fold CV')"
      ]
     },
     "execution_count": 66,
     "metadata": {},
     "output_type": "execute_result"
    },
    {
     "data": {
      "image/png": "[encoded data removed]",
      "text/plain": [
       "<Figure size 432x288 with 1 Axes>"
      ]
     },
     "metadata": {},
     "output_type": "display_data"
    }
   ],
   "source": [
    "plot_performance(result,num_fea)\n",
    "plt.title('Feature selection methods performance using 10-fold CV')"
   ]
  },
  {
   "cell_type": "markdown",
   "metadata": {},
   "source": [
    "### Plot the results"
   ]
  },
  {
   "cell_type": "code",
   "execution_count": 29,
   "metadata": {},
   "outputs": [
    {
     "name": "stderr",
     "output_type": "stream",
     "text": [
      "/usr/local/lib/python3.6/dist-packages/matplotlib/__init__.py:886: MatplotlibDeprecationWarning: \n",
      "examples.directory is deprecated; in the future, examples will be found relative to the 'datapath' directory.\n",
      "  \"found relative to the 'datapath' directory.\".format(key))\n"
     ]
    }
   ],
   "source": [
    "import matplotlib.pyplot as plt\n",
    "%matplotlib inline\n",
    "import seaborn as sns \n",
    "sns.set()"
   ]
  },
  {
   "cell_type": "code",
   "execution_count": 61,
   "metadata": {},
   "outputs": [
    {
     "data": {
      "text/plain": [
       "Text(0.5, 1.0, 'Feature selection methods performance using 5-fold CV')"
      ]
     },
     "execution_count": 61,
     "metadata": {},
     "output_type": "execute_result"
    },
    {
     "data": {
      "image/png": "[encoded data removed]",
      "text/plain": [
       "<Figure size 432x288 with 1 Axes>"
      ]
     },
     "metadata": {
      "needs_background": "light"
     },
     "output_type": "display_data"
    }
   ],
   "source": [
    "import matplotlib.pyplot as plt\n",
    "#from matplotlib.legend_handler import HandlerLine2D\n",
    "\n",
    "line1, = plt.plot(num_fea,result['reliefF'][0], label='reliefF')\n",
    "line2, = plt.plot(num_fea,result['lap_score'][0], marker='', label='lap_score')\n",
    "line3, = plt.plot(num_fea,result['ll_l21'][0], marker='', label='ll_l21')\n",
    "line4, = plt.plot(num_fea,result['UDFS'][0], marker='', label='UDFS')\n",
    "line5, = plt.plot(num_fea,result['CFS'][0], marker='', label='CFS')\n",
    "plt.legend(bbox_to_anchor=(1.05, 1), loc='upper left', borderaxespad=0)\n",
    "plt.xlabel('Top k ranked features')\n",
    "plt.ylabel('Accuracy')\n",
    "plt.title('Feature selection methods performance using 5-fold CV')"
   ]
  },
  {
   "cell_type": "code",
   "execution_count": null,
   "metadata": {},
   "outputs": [],
   "source": []
  }
 ],
 "metadata": {
  "kernelspec": {
   "display_name": "Python 3",
   "language": "python",
   "name": "python3"
  },
  "language_info": {
   "codemirror_mode": {
    "name": "ipython",
    "version": 3
   },
   "file_extension": ".py",
   "mimetype": "text/x-python",
   "name": "python",
   "nbconvert_exporter": "python",
   "pygments_lexer": "ipython3",
   "version": "3.6.7"
  }
 },
 "nbformat": 4,
 "nbformat_minor": 2
}
