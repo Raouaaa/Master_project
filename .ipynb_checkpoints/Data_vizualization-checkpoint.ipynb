{
 "cells": [
  {
   "cell_type": "code",
   "execution_count": 21,
   "metadata": {},
   "outputs": [],
   "source": [
    "import scipy.io as sio\n",
    "import numpy as np"
   ]
  },
  {
   "cell_type": "code",
   "execution_count": null,
   "metadata": {},
   "outputs": [],
   "source": [
    "Data=sio.loadmat('./intermediate/Feature_vectors.mat')"
   ]
  },
  {
   "cell_type": "code",
   "execution_count": null,
   "metadata": {},
   "outputs": [],
   "source": [
    "X=Data['Features_vectors']"
   ]
  },
  {
   "cell_type": "code",
   "execution_count": null,
   "metadata": {},
   "outputs": [],
   "source": [
    "X = X.astype(float)"
   ]
  },
  {
   "cell_type": "code",
   "execution_count": null,
   "metadata": {},
   "outputs": [],
   "source": [
    "#I transposed it the first time because the next operation of dropping the null values does not work for axis =0 \n",
    "X=np.transpose(X)"
   ]
  },
  {
   "cell_type": "code",
   "execution_count": null,
   "metadata": {},
   "outputs": [],
   "source": [
    "X = X[~np.all(X == 0, axis=1)]"
   ]
  },
  {
   "cell_type": "code",
   "execution_count": null,
   "metadata": {},
   "outputs": [],
   "source": [
    "# Itranspose it back to not change the next operations \n",
    "X=np.transpose(X)"
   ]
  },
  {
   "cell_type": "code",
   "execution_count": null,
   "metadata": {},
   "outputs": [],
   "source": [
    "labels=sio.loadmat('./labels77.mat')"
   ]
  },
  {
   "cell_type": "code",
   "execution_count": null,
   "metadata": {},
   "outputs": [],
   "source": [
    "y=labels['labels']"
   ]
  },
  {
   "cell_type": "code",
   "execution_count": null,
   "metadata": {},
   "outputs": [],
   "source": [
    "X.dtype"
   ]
  },
  {
   "cell_type": "code",
   "execution_count": null,
   "metadata": {},
   "outputs": [],
   "source": [
    "from sklearn.decomposition import PCA\n",
    "from sklearn.datasets import load_iris\n",
    "from sklearn import svm\n",
    "#from sklearn import cross_validation\n",
    "from sklearn.model_selection import KFold\n",
    "iris=load_iris()\n",
    "kf5=KFold(n_splits=5,shuffle=True)\n",
    "for train_index,test_index in kf5.split(iris.data):\n",
    "        X_train, X_test = iris.data[train_index],iris.data[test_index]\n",
    "        y_train, y_test = iris.target[train_index], iris.target[test_index]\n",
    "        pca = PCA(n_components=2).fit(X_train)\n",
    "        pca_2d = pca.transform(X_train)\n",
    "        svmClassifier_2d =   svm.LinearSVC(random_state=111).fit(pca_2d, y_train)\n"
   ]
  },
  {
   "cell_type": "code",
   "execution_count": 26,
   "metadata": {},
   "outputs": [
    {
     "data": {
      "text/plain": [
       "(-4.304029669743972, 4.725970330255835, -2.1912825410291434, 2.378717458970759)"
      ]
     },
     "execution_count": 26,
     "metadata": {},
     "output_type": "execute_result"
    },
    {
     "data": {
      "image/png": "[encoded data removed]",
      "text/plain": [
       "<Figure size 432x288 with 1 Axes>"
      ]
     },
     "metadata": {
      "needs_background": "light"
     },
     "output_type": "display_data"
    }
   ],
   "source": [
    "import pylab as pl\n",
    "import numpy as np\n",
    "for i in range(0, pca_2d.shape[0]):\n",
    "    if y_train[i] == 0:\n",
    "        c1 = pl.scatter(pca_2d[i,0],pca_2d[i,1],c='b',    s=50,marker='*')\n",
    "    elif y_train[i] == 1:\n",
    "        c2 = pl.scatter(pca_2d[i,0],pca_2d[i,1],c='r',    s=50,marker='o')\n",
    "    #elif y_train[i] == 2:\n",
    "    #    c3 = pl.scatter(pca_2d[i,0],pca_2d[i,1],c='b',    s=50,marker='*')\n",
    "        pl.legend([c1, c2], ['AD', 'MCD'])\n",
    "x_min, x_max = pca_2d[:, 0].min() - 1,   pca_2d[:,0].max() + 1\n",
    "y_min, y_max = pca_2d[:, 1].min() - 1,   pca_2d[:, 1].max() + 1\n",
    "xx, yy = np.meshgrid(np.arange(x_min, x_max, .01),   np.arange(y_min, y_max, .01))\n",
    "Z = svmClassifier_2d.predict(np.c_[xx.ravel(),  yy.ravel()])\n",
    "Z = Z.reshape(xx.shape)\n",
    "pl.contour(xx, yy, Z)\n",
    "pl.title('Support Vector Machine Decision Surface')\n",
    "pl.axis('off')\n"
   ]
  },
  {
   "cell_type": "code",
   "execution_count": 9,
   "metadata": {},
   "outputs": [
    {
     "name": "stdout",
     "output_type": "stream",
     "text": [
      "train [  0   1   2   3   4   5   6   7   8   9  13  14  15  16  17  18  19  20\n",
      "  21  23  24  25  26  27  28  30  33  35  36  37  40  42  43  44  45  47\n",
      "  48  49  50  51  52  53  55  56  58  59  60  61  62  63  64  65  66  69\n",
      "  71  72  73  74  75  77  79  81  82  83  84  86  87  88  89  91  92  93\n",
      "  94  95  97  98  99 100 101 103 104 105 107 108 110 111 112 113 114 115\n",
      " 116 117 118 119 120 121 122 123 124 125 126 127 129 130 131 133 134 135\n",
      " 136 137 138 139 140 142 143 144 145 146 147 149]\n",
      "test [ 10  11  12  22  29  31  32  34  38  39  41  46  54  57  67  68  70  76\n",
      "  78  80  85  90  96 102 106 109 128 132 141 148]\n",
      "train [  2   3   4   6   7   8   9  10  11  12  13  14  15  16  18  21  22  24\n",
      "  27  28  29  31  32  33  34  35  36  37  38  39  41  42  43  44  45  46\n",
      "  47  49  50  51  52  53  54  55  56  57  58  59  62  63  66  67  68  70\n",
      "  72  73  74  76  77  78  79  80  81  82  83  85  86  87  90  91  92  95\n",
      "  96  97  98  99 100 101 102 103 105 106 107 108 109 110 112 113 114 115\n",
      " 117 118 119 120 121 122 123 125 126 128 129 130 131 132 134 135 136 137\n",
      " 138 139 140 141 142 143 144 145 146 147 148 149]\n",
      "test [  0   1   5  17  19  20  23  25  26  30  40  48  60  61  64  65  69  71\n",
      "  75  84  88  89  93  94 104 111 116 124 127 133]\n",
      "train [  0   1   2   4   5   6   7   9  10  11  12  13  14  15  16  17  18  19\n",
      "  20  21  22  23  24  25  26  27  28  29  30  31  32  33  34  36  37  38\n",
      "  39  40  41  42  43  46  47  48  49  52  53  54  57  58  59  60  61  63\n",
      "  64  65  67  68  69  70  71  73  74  75  76  77  78  80  81  82  84  85\n",
      "  87  88  89  90  91  93  94  96  97  98  99 100 101 102 104 106 108 109\n",
      " 110 111 112 113 115 116 118 120 121 123 124 125 127 128 129 130 132 133\n",
      " 134 135 137 140 141 142 143 144 146 147 148 149]\n",
      "test [  3   8  35  44  45  50  51  55  56  62  66  72  79  83  86  92  95 103\n",
      " 105 107 114 117 119 122 126 131 136 138 139 145]\n",
      "train [  0   1   3   4   5   8  10  11  12  13  14  15  16  17  18  19  20  22\n",
      "  23  25  26  28  29  30  31  32  33  34  35  38  39  40  41  42  44  45\n",
      "  46  48  50  51  53  54  55  56  57  58  59  60  61  62  64  65  66  67\n",
      "  68  69  70  71  72  73  74  75  76  78  79  80  83  84  85  86  87  88\n",
      "  89  90  91  92  93  94  95  96  97  99 101 102 103 104 105 106 107 109\n",
      " 111 113 114 116 117 119 122 123 124 125 126 127 128 130 131 132 133 134\n",
      " 135 136 138 139 140 141 143 144 145 146 147 148]\n",
      "test [  2   6   7   9  21  24  27  36  37  43  47  49  52  63  77  81  82  98\n",
      " 100 108 110 112 115 118 120 121 129 137 142 149]\n",
      "train [  0   1   2   3   5   6   7   8   9  10  11  12  17  19  20  21  22  23\n",
      "  24  25  26  27  29  30  31  32  34  35  36  37  38  39  40  41  43  44\n",
      "  45  46  47  48  49  50  51  52  54  55  56  57  60  61  62  63  64  65\n",
      "  66  67  68  69  70  71  72  75  76  77  78  79  80  81  82  83  84  85\n",
      "  86  88  89  90  92  93  94  95  96  98 100 102 103 104 105 106 107 108\n",
      " 109 110 111 112 114 115 116 117 118 119 120 121 122 124 126 127 128 129\n",
      " 131 132 133 136 137 138 139 141 142 145 148 149]\n",
      "test [  4  13  14  15  16  18  28  33  42  53  58  59  73  74  87  91  97  99\n",
      " 101 113 123 125 130 134 135 140 143 144 146 147]\n"
     ]
    }
   ],
   "source": [
    "for train,test in kf5.split(iris.data):\n",
    "    print('train',train)\n",
    "    print('test',test)"
   ]
  },
  {
   "cell_type": "code",
   "execution_count": null,
   "metadata": {},
   "outputs": [],
   "source": []
  }
 ],
 "metadata": {
  "kernelspec": {
   "display_name": "Python 3",
   "language": "python",
   "name": "python3"
  },
  "language_info": {
   "codemirror_mode": {
    "name": "ipython",
    "version": 3
   },
   "file_extension": ".py",
   "mimetype": "text/x-python",
   "name": "python",
   "nbconvert_exporter": "python",
   "pygments_lexer": "ipython3",
   "version": "3.5.3"
  }
 },
 "nbformat": 4,
 "nbformat_minor": 2
}
