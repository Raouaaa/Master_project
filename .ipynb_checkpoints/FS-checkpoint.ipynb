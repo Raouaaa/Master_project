{
 "cells": [
  {
   "cell_type": "markdown",
   "metadata": {},
   "source": [
    "## Extract the subjects view"
   ]
  },
  {
   "cell_type": "code",
   "execution_count": 1,
   "metadata": {},
   "outputs": [],
   "source": [
    "import os\n",
    "import scipy.io as sio\n",
    "import numpy as np"
   ]
  },
  {
   "cell_type": "code",
   "execution_count": 2,
   "metadata": {},
   "outputs": [],
   "source": [
    "def handle_subj_ops(subj):\n",
    "    subj_file = os.path.join(src_fold, 'subject' + format(subj)+ '.mat')\n",
    "    data = sio.loadmat(subj_file)['A']\n",
    "    # eliminate unwanted regions\n",
    "    #data = data[:, mask]\n",
    "\n",
    "    #subj_dest_fold = os.path.join(dst_fold, 'subject' + format(subj))\n",
    "    #os.mkdir(subj_dest_fold)\n",
    "    return data\n"
   ]
  },
  {
   "cell_type": "code",
   "execution_count": 3,
   "metadata": {},
   "outputs": [],
   "source": [
    "def extract_subj_store(subj, data):\n",
    "\n",
    "    #subj_dest_fold = os.path.join(dst_fold, 'subject' + format(subj))\n",
    "    #Proceeded by transpose  to obtain 4 matrices for each subject, already checked that it is symmetric\n",
    "    data=data.transpose(2,0,1)\n",
    "    #the first matrix (network) in the dataset (over 4)\n",
    "    #upper_tri=np.triu(data[0])\n",
    "    matrix=data[0]\n",
    "    #Vectorize \n",
    "    ui=np.triu_indices(35)\n",
    "    vector=matrix[ui]\n",
    "    \n",
    "\n",
    "    #f = os.path.join(subj_dest_fold, 'subjectA'+ format(subj)  + '.mat' )\n",
    "    ## needed data for classification, labels and features(brain grahps' weights in our case)\n",
    "    #d = {}\n",
    "    #d ['vector']=vector\n",
    "    #sio.savemat(f,d)\n",
    "    return vector"
   ]
  },
  {
   "cell_type": "code",
   "execution_count": 4,
   "metadata": {},
   "outputs": [],
   "source": [
    "def create_dataset(subjects,src_fold,dst_fold):\n",
    "    #subj_dest_fold = os.path.join(dst_fold, 'subject' + format(subj))\n",
    "    d={}\n",
    "    Features_vectors=[0 for i in range(630)]\n",
    "    #v=np.array([[0 for i in range(630)]])\n",
    "    for subj in subjects:\n",
    "        subj_data=handle_subj_ops(subj)\n",
    "        vector=extract_subj_store(subj,subj_data)\n",
    "        Features_vectors=np.vstack((Features_vectors,vector))\n",
    "        \n",
    "        #v=np.append(v,np.array(vector))\n",
    "        #d['subject'+format(subj)]=vector\n",
    "    #d['A']=v\n",
    "    Features_vectors=np.delete(Features_vectors,0,0)\n",
    "    d['Features_vectors']=Features_vectors\n",
    "    f = os.path.join(dst_fold, 'Feature_vectors' + '.mat' )\n",
    "    sio.savemat(f,d)    \n",
    "    "
   ]
  },
  {
   "cell_type": "markdown",
   "metadata": {},
   "source": [
    "# --------------------Main------------------------"
   ]
  },
  {
   "cell_type": "code",
   "execution_count": null,
   "metadata": {},
   "outputs": [],
   "source": [
    "src_fold  = '/home/raoua/Desktop/BASIRA/working repo/Data_77subjects/LH77subjects/'\n",
    "label_file = '/home/raoua/Desktop/BASIRA/working repo/Data_77subjects/labels77.mat'\n",
    "dst_fold = '/home/raoua/Desktop/BASIRA/working repo/intermediate/'"
   ]
  },
  {
   "cell_type": "code",
   "execution_count": null,
   "metadata": {},
   "outputs": [],
   "source": [
    "subjects=range(1,78)\n",
    "#for subj in subjects:\n",
    "#    # read and create necessary folders\n",
    "#    subj_data = handle_subj_ops(subj)\n",
    "#    extract_subj_store(subj, subj_data)\n",
    "create_dataset(subjects,src_fold,dst_fold)"
   ]
  },
  {
   "cell_type": "markdown",
   "metadata": {},
   "source": [
    "### Work with GPU"
   ]
  },
  {
   "cell_type": "code",
   "execution_count": null,
   "metadata": {},
   "outputs": [],
   "source": [
    "from keras import backend as K\n",
    "if 'tensorflow' == K.backend():\n",
    "    import tensorflow as tf\n",
    "from keras.backend.tensorflow_backend import set_session\n",
    "config2 = tf.ConfigProto()\n",
    "config2.gpu_options.allow_growth = True\n",
    "set_session(tf.Session(config=config2))"
   ]
  },
  {
   "cell_type": "markdown",
   "metadata": {},
   "source": [
    "### Start over here "
   ]
  },
  {
   "cell_type": "code",
   "execution_count": 1,
   "metadata": {},
   "outputs": [],
   "source": [
    "import scipy.io as sio\n",
    "import numpy as np"
   ]
  },
  {
   "cell_type": "raw",
   "metadata": {},
   "source": [
    "Data=sio.loadmat('./intermediate/Feature_vectors.mat')"
   ]
  },
  {
   "cell_type": "code",
   "execution_count": 2,
   "metadata": {},
   "outputs": [],
   "source": [
    "Data=sio.loadmat('LHmat1.mat')"
   ]
  },
  {
   "cell_type": "code",
   "execution_count": 3,
   "metadata": {},
   "outputs": [
    {
     "data": {
      "text/plain": [
       "{'LHmat1': array([[0.0176007 , 0.14745   , 0.16505   , ..., 0.0154293 , 0.0154293 ,\n",
       "         0.27216   ],\n",
       "        [0.0152086 , 0.0855809 , 0.10079   , ..., 0.0132863 , 0.0132863 ,\n",
       "         0.19974   ],\n",
       "        [0.0790664 , 0.0795773 , 0.158644  , ..., 0.0191432 , 0.0191432 ,\n",
       "         0.139108  ],\n",
       "        ...,\n",
       "        [0.0868267 , 0.143509  , 0.0566822 , ..., 0.0345723 , 0.0345723 ,\n",
       "         0.14606   ],\n",
       "        [0.0636159 , 0.173055  , 0.109439  , ..., 0.0092263 , 0.0092263 ,\n",
       "         0.269375  ],\n",
       "        [0.0450063 , 0.124946  , 0.0799401 , ..., 0.00283139, 0.00283139,\n",
       "         0.206063  ]]),\n",
       " '__globals__': [],\n",
       " '__header__': b'MATLAB 5.0 MAT-file, Platform: PCWIN64, Created on: Thu May 17 18:22:41 2018',\n",
       " '__version__': '1.0'}"
      ]
     },
     "execution_count": 3,
     "metadata": {},
     "output_type": "execute_result"
    }
   ],
   "source": [
    "Data"
   ]
  },
  {
   "cell_type": "raw",
   "metadata": {},
   "source": [
    "X=Data['Features_vectors']"
   ]
  },
  {
   "cell_type": "code",
   "execution_count": 4,
   "metadata": {},
   "outputs": [],
   "source": [
    "X=Data['LHmat1']"
   ]
  },
  {
   "cell_type": "code",
   "execution_count": 5,
   "metadata": {},
   "outputs": [
    {
     "data": {
      "text/plain": [
       "(77, 595)"
      ]
     },
     "execution_count": 5,
     "metadata": {},
     "output_type": "execute_result"
    }
   ],
   "source": [
    "X.shape"
   ]
  },
  {
   "cell_type": "code",
   "execution_count": 6,
   "metadata": {},
   "outputs": [],
   "source": [
    "X = X.astype(float)"
   ]
  },
  {
   "cell_type": "code",
   "execution_count": 7,
   "metadata": {},
   "outputs": [
    {
     "data": {
      "text/plain": [
       "(77, 595)"
      ]
     },
     "execution_count": 7,
     "metadata": {},
     "output_type": "execute_result"
    }
   ],
   "source": [
    "X.shape"
   ]
  },
  {
   "cell_type": "markdown",
   "metadata": {},
   "source": [
    "## Data cleaning \n",
    "### Drop the null features "
   ]
  },
  {
   "cell_type": "raw",
   "metadata": {},
   "source": [
    "#I transposed it the first time because the next operation of dropping the null values does not work for axis =0 \n",
    "X=np.transpose(X)"
   ]
  },
  {
   "cell_type": "raw",
   "metadata": {},
   "source": [
    "X = X[~np.all(X == 0, axis=1)]"
   ]
  },
  {
   "cell_type": "raw",
   "metadata": {},
   "source": [
    "# Itranspose it back to not change the next operations \n",
    "X=np.transpose(X)"
   ]
  },
  {
   "cell_type": "raw",
   "metadata": {},
   "source": [
    "X.shape"
   ]
  },
  {
   "cell_type": "code",
   "execution_count": 8,
   "metadata": {},
   "outputs": [],
   "source": [
    "labels=sio.loadmat('./labels77.mat')"
   ]
  },
  {
   "cell_type": "code",
   "execution_count": 9,
   "metadata": {},
   "outputs": [],
   "source": [
    "y=labels['labels']"
   ]
  },
  {
   "cell_type": "code",
   "execution_count": 10,
   "metadata": {},
   "outputs": [
    {
     "data": {
      "text/plain": [
       "dtype('float64')"
      ]
     },
     "execution_count": 10,
     "metadata": {},
     "output_type": "execute_result"
    }
   ],
   "source": [
    "X.dtype"
   ]
  },
  {
   "cell_type": "markdown",
   "metadata": {},
   "source": [
    "### Feature selection"
   ]
  },
  {
   "cell_type": "code",
   "execution_count": 11,
   "metadata": {},
   "outputs": [],
   "source": [
    "y=y[:, 0]"
   ]
  },
  {
   "cell_type": "code",
   "execution_count": 12,
   "metadata": {},
   "outputs": [],
   "source": [
    "n_samples, n_features = X.shape    # number of samples and number of features"
   ]
  },
  {
   "cell_type": "code",
   "execution_count": 13,
   "metadata": {},
   "outputs": [],
   "source": [
    "from sklearn.model_selection import KFold\n",
    "from sklearn import svm\n",
    "from sklearn.metrics import accuracy_score\n",
    "from skfeature.function.similarity_based import reliefF"
   ]
  },
  {
   "cell_type": "markdown",
   "metadata": {},
   "source": [
    "### 5-fold"
   ]
  },
  {
   "cell_type": "code",
   "execution_count": 14,
   "metadata": {},
   "outputs": [],
   "source": [
    "# split data into 5 folds\n",
    "kf5=KFold(n_splits=5,shuffle=True)\n",
    "kf10=KFold(n_splits=5,shuffle=True)\n",
    "#ss = cross_validate(n_samples, n_folds=5, shuffle=True)"
   ]
  },
  {
   "cell_type": "code",
   "execution_count": 15,
   "metadata": {},
   "outputs": [
    {
     "data": {
      "text/plain": [
       "5"
      ]
     },
     "execution_count": 15,
     "metadata": {},
     "output_type": "execute_result"
    }
   ],
   "source": [
    "kf5.get_n_splits(X)"
   ]
  },
  {
   "cell_type": "code",
   "execution_count": 16,
   "metadata": {},
   "outputs": [],
   "source": [
    "# Number of selected features (top k ranked features)\n",
    "\n",
    "#top K selected features varying from 10 to 100 (with a step size of 10 features)\n",
    "num_fea = [i for i in range(10,110,10)]\n",
    "clf = svm.LinearSVC()    # linear SVM\n",
    "correct=0\n",
    "accuracy=[]"
   ]
  },
  {
   "cell_type": "markdown",
   "metadata": {},
   "source": [
    "### Feature selection methods"
   ]
  },
  {
   "cell_type": "code",
   "execution_count": 17,
   "metadata": {},
   "outputs": [],
   "source": [
    "#MutInfFS\n",
    "\n",
    "from skfeature.function.information_theoretical_based import MIFS\n",
    "#laplacian\n",
    "from skfeature.function.similarity_based import lap_score\n",
    "from skfeature.utility import construct_W\n",
    "# norm\n",
    "from skfeature.function.sparse_learning_based import ll_l21\n",
    "from skfeature.utility.sparse_learning import *\n",
    "#UDFS\n",
    "from skfeature.function.sparse_learning_based import UDFS\n",
    "from skfeature.utility.sparse_learning import feature_ranking\n",
    "from skfeature.function.similarity_based import fisher_score\n",
    "\n",
    "from skfeature.function.statistical_based import chi_square\n",
    "\n",
    "from skfeature.function.statistical_based import gini_index\n",
    "from skfeature.function.information_theoretical_based import FCBF\n",
    "from skfeature.function.similarity_based import trace_ratio\n",
    "from skfeature.function.similarity_based import SPEC\n",
    "from skfeature.function.information_theoretical_based import CIFE\n",
    "from skfeature.function.streaming import alpha_investing\n",
    "from skfeature.function.information_theoretical_based import CMIM\n",
    "from skfeature.function.sparse_learning_based import ls_l21\n",
    "\n",
    "from skfeature.function.sparse_learning_based import MCFS\n",
    "from skfeature.utility import construct_W\n"
   ]
  },
  {
   "cell_type": "code",
   "execution_count": 18,
   "metadata": {},
   "outputs": [],
   "source": [
    "def relief_FS(X_train,y_train, k):\n",
    "    \n",
    "    n_samples, n_features = X.shape\n",
    "    score=reliefF.reliefF(X_train,y_train,k)\n",
    "    idx=reliefF.feature_ranking(score)\n",
    "    return(idx,score)"
   ]
  },
  {
   "cell_type": "code",
   "execution_count": null,
   "metadata": {},
   "outputs": [],
   "source": []
  },
  {
   "cell_type": "code",
   "execution_count": 19,
   "metadata": {},
   "outputs": [],
   "source": [
    "def MIFS_FS(k,X_train,y_train):\n",
    "    idx = MIFS.mifs(X_train, y_train, n_selected_features=k)\n",
    "    #print(idx)\n",
    "    return(idx)"
   ]
  },
  {
   "cell_type": "code",
   "execution_count": 20,
   "metadata": {},
   "outputs": [],
   "source": [
    "#laplacian\n",
    "from skfeature.function.similarity_based import lap_score\n",
    "from skfeature.utility import construct_W\n",
    "def lap_score_FS(X):\n",
    "    # construct affinity matrix\n",
    "    kwargs_W = {\"metric\": \"euclidean\", \"neighbor_mode\": \"knn\", \"weight_mode\": \"heat_kernel\", \"k\": 5, 't': 1}\n",
    "    W = construct_W.construct_W(X, **kwargs_W)\n",
    "    # obtain the scores of features\n",
    "    score = lap_score.lap_score(X, W=W)\n",
    "    idx=lap_score.feature_ranking(score)\n",
    "    return(idx,score)"
   ]
  },
  {
   "cell_type": "code",
   "execution_count": 21,
   "metadata": {},
   "outputs": [],
   "source": [
    "def ll_l21_FS(X_train,y,train_index):\n",
    "    Y = construct_label_matrix_pan(y)\n",
    "    Y_train=Y[train_index]\n",
    "    Weight, obj, value_gamma = ll_l21.proximal_gradient_descent(X_train, Y[train_index], 0.1, verbose=False)\n",
    "    #print(\"weight \",Weight)\n",
    "    idx = feature_ranking(Weight)\n",
    "    \n",
    "    return(idx,Weight)\n",
    "    \n",
    "    "
   ]
  },
  {
   "cell_type": "code",
   "execution_count": 22,
   "metadata": {},
   "outputs": [],
   "source": [
    "def UDFS_FS():\n",
    "    Weight = UDFS.udfs(X)\n",
    "    idx=feature_ranking(Weight)\n",
    "    return(idx,Weight)\n",
    "    "
   ]
  },
  {
   "cell_type": "code",
   "execution_count": 23,
   "metadata": {},
   "outputs": [],
   "source": [
    "def fisher_score_FS(X_train,y_train):\n",
    "    score = fisher_score.fisher_score(X_train, y_train)\n",
    "    idx = fisher_score.feature_ranking(score)\n",
    "    return(idx,score)"
   ]
  },
  {
   "cell_type": "code",
   "execution_count": 24,
   "metadata": {},
   "outputs": [],
   "source": [
    "def chi_square_FS(X,y):\n",
    "    score = chi_square.chi_square(X, y)\n",
    "    idx = chi_square.feature_ranking(score)\n",
    "    return(idx,score)"
   ]
  },
  {
   "cell_type": "code",
   "execution_count": 25,
   "metadata": {},
   "outputs": [],
   "source": [
    "def gini_index_FS(X_train,y_train):\n",
    "    score = gini_index.gini_index(X_train, y_train)\n",
    "    # rank features in descending order according to score\n",
    "    idx = gini_index.feature_ranking(score)\n",
    "    return(idx,score)"
   ]
  },
  {
   "cell_type": "code",
   "execution_count": 26,
   "metadata": {},
   "outputs": [],
   "source": [
    "def FCBF_FS(X_train,y_train,k):\n",
    "    #idx = FCBF.fcbf(X_train, y_train, n_selected_features=k)\n",
    "    #return(idx)\n",
    "    return(fcbf(X_train, y_train, n_selected_features=k))"
   ]
  },
  {
   "cell_type": "code",
   "execution_count": 27,
   "metadata": {},
   "outputs": [],
   "source": [
    "def trace_ratio_FS(X,train_index,y_train):\n",
    "    _,k=X.shape\n",
    "    feature_idx, feature_score, subset_score=trace_ratio.trace_ratio(X[train_index], y_train, k, style='fisher')\n",
    "    return(feature_idx,feature_score)"
   ]
  },
  {
   "cell_type": "code",
   "execution_count": 28,
   "metadata": {},
   "outputs": [
    {
     "data": {
      "text/plain": [
       "(77, 595)"
      ]
     },
     "execution_count": 28,
     "metadata": {},
     "output_type": "execute_result"
    }
   ],
   "source": [
    "X.shape"
   ]
  },
  {
   "cell_type": "code",
   "execution_count": 29,
   "metadata": {},
   "outputs": [],
   "source": [
    "def spec_FS(X_train):\n",
    "    \n",
    "    kwargs = {'style': 0}\n",
    "\n",
    "    # obtain the scores of features\n",
    "    score = SPEC.spec(X_train, **kwargs)\n",
    "\n",
    "    # sort the feature scores in an descending order according to the feature scores\n",
    "    idx = SPEC.feature_ranking(score, **kwargs)\n",
    "    return(idx,score)\n",
    "    "
   ]
  },
  {
   "cell_type": "code",
   "execution_count": 30,
   "metadata": {},
   "outputs": [],
   "source": [
    "def CIFE_FS(X_train,y_train):\n",
    "    F, J_CMI, MIfy=CIFE.cife(X_train, y_train, n_selected_features=num_fea)\n",
    "    return(F)"
   ]
  },
  {
   "cell_type": "code",
   "execution_count": 31,
   "metadata": {},
   "outputs": [],
   "source": [
    "def alpha_investing_FS(X_train,y_train):\n",
    "    idx = alpha_investing.alpha_investing(X_train, y_train, 0.05, 0.05)\n",
    "    return(idx)\n"
   ]
  },
  {
   "cell_type": "code",
   "execution_count": 32,
   "metadata": {},
   "outputs": [],
   "source": [
    "def CMIM_FS(X_train,y_train,num_fea):\n",
    "    idx,_,_ = CMIM.cmim(X_train, y_train, n_selected_features=num_fea)\n",
    "    #F, J_CMIM,MIfy= CMIM.cmim(X_train, y_train, n_selected_features=k)\n",
    "    return(idx)\n",
    "        "
   ]
  },
  {
   "cell_type": "code",
   "execution_count": 33,
   "metadata": {},
   "outputs": [],
   "source": [
    "def ls_l21_FS(X_train,y,train_index):\n",
    "    Y = construct_label_matrix_pan(y)\n",
    "    Y_train=Y[train_index]\n",
    "    W, obj, value_gamma=ls_l21.proximal_gradient_descent(X_train, Y_train, 0.1, verbose=False)\n",
    "    idx = feature_ranking(W)\n",
    "\n",
    "    return(idx,W)"
   ]
  },
  {
   "cell_type": "code",
   "execution_count": 34,
   "metadata": {},
   "outputs": [],
   "source": [
    "def MCFS_FS(X_train,k):\n",
    "    # construct affinity matrix\n",
    "    kwargs = {\"metric\": \"euclidean\", \"neighborMode\": \"knn\", \"weightMode\": \"heatKernel\", \"k\": 5, 't': 1}\n",
    "    W = construct_W.construct_W(X_train, **kwargs)\n",
    "    num_fea_ = k    # specify the number of selected features\n",
    "    num_cluster = 20    # specify the number of clusters, it is usually set as the number of classes in the ground truth\n",
    "\n",
    "    # obtain the feature weight matrix\n",
    "    Weight = MCFS.mcfs(X_train, n_selected_features=num_fea_, W=W, n_clusters=20)\n",
    "\n",
    "    # sort the feature scores in an ascending order according to the feature scores\n",
    "    idx = MCFS.feature_ranking(Weight)\n",
    "    return(idx,Weight)\n",
    "    "
   ]
  },
  {
   "cell_type": "markdown",
   "metadata": {},
   "source": [
    "_____________________________________________________________________________________________________________________________"
   ]
  },
  {
   "cell_type": "code",
   "execution_count": 35,
   "metadata": {},
   "outputs": [],
   "source": [
    "from boruta_py.boruta import BorutaPy\n",
    "from sklearn.ensemble import RandomForestClassifier\n",
    "def boruta_FS(X_train,y_train):\n",
    "    rf = RandomForestClassifier(n_jobs=-1, class_weight=None, max_depth=7, random_state=0)\n",
    "   # Define Boruta feature selection method \n",
    "    feat_selector = BorutaPy(rf, n_estimators='auto', verbose=2, random_state=0)\n",
    "    feat_selector.fit(X_train, y_train)\n",
    "    idx=feat_selector.ranking_\n",
    "    \n",
    "    return(idx)"
   ]
  },
  {
   "cell_type": "raw",
   "metadata": {},
   "source": [
    "import lightgbm as lgb\n",
    "from sklearn.model_selection import train_test_split\n",
    "X_train, X_test, y_train, y_test = train_test_split(X, y, test_size=0.33, random_state=42)\n",
    "param = {\"max_depth\": 5, \"learning_rate\" : 0.1, \"num_leaves\": 900, \"n_estimators\": 100}\n",
    "#num_round = 10\n",
    "\n",
    "#model2 = lgb.train(params=param,train_set=X_train)\n",
    "#ax=lgb.plot_importance(model2, max_num_features=10)\n",
    "#plt.show()\n",
    "data=lgb.Dataset(X_train) #instantiate a Dataset object\n",
    "model2 = lgb.train(params=param, train_set=data, num_boost_round =10, valid_sets=None)\n",
    "model2.feature_importance()"
   ]
  },
  {
   "cell_type": "markdown",
   "metadata": {},
   "source": [
    "------------------------------------------------------------------------------------------------------------------------------------"
   ]
  },
  {
   "cell_type": "markdown",
   "metadata": {},
   "source": [
    "## Add more FS to the pool and implement new ones "
   ]
  },
  {
   "cell_type": "code",
   "execution_count": 36,
   "metadata": {},
   "outputs": [],
   "source": [
    "pool_FS=[reliefF,lap_score,ll_l21,ls_l21,UDFS,fisher_score,chi_square,gini_index,SPEC,BorutaPy]#,MCFS]#trace_ratio,"
   ]
  },
  {
   "cell_type": "markdown",
   "metadata": {},
   "source": [
    "### Vizualize classification results"
   ]
  },
  {
   "cell_type": "code",
   "execution_count": 37,
   "metadata": {},
   "outputs": [],
   "source": [
    "import numpy as np\n",
    "from sklearn.model_selection import train_test_split\n",
    "#X_train, X_test, y_train, y_test = train_test_split(X, y, test_size=0.33, random_state=42)"
   ]
  },
  {
   "cell_type": "code",
   "execution_count": 38,
   "metadata": {},
   "outputs": [],
   "source": [
    "  #   X_train, X_test = X[train_index], X[test_index]\n",
    "k=10\n",
    "X_train, X_test, y_train, y_test = train_test_split(X, y, test_size=0.33, random_state=42)\n",
    "     #   y_train, y_test = y[train_index], y[test_index]\n",
    "#if FS_method==reliefF:\n",
    "idx,score=relief_FS(X_train,y_train,k)\n",
    "\n",
    "selected_features_train = X_train[:, idx]\n",
    "selected_features_test = X_test[:, idx]\n",
    "    # train a classification model with the selected features on the training dataset\n",
    "clf.fit(selected_features_train, y_train)  # predict the class labels of test data\n",
    "y_predict = clf.predict(selected_features_test)\n",
    "    # obtain the classification accuracy on the test data\n",
    "acc = accuracy_score(y_test, y_predict)"
   ]
  },
  {
   "cell_type": "raw",
   "metadata": {},
   "source": [
    "selected_features_train = X_train[:, idx]"
   ]
  },
  {
   "cell_type": "raw",
   "metadata": {},
   "source": [
    "X_train, X_test, y_train, y_test = train_test_split(X, y, test_size=0.33, random_state=42)"
   ]
  },
  {
   "cell_type": "code",
   "execution_count": 39,
   "metadata": {},
   "outputs": [
    {
     "name": "stdout",
     "output_type": "stream",
     "text": [
      "[[6 4]\n",
      " [8 8]]\n",
      "              precision    recall  f1-score   support\n",
      "\n",
      "           0       0.43      0.60      0.50        10\n",
      "           1       0.67      0.50      0.57        16\n",
      "\n",
      "    accuracy                           0.54        26\n",
      "   macro avg       0.55      0.55      0.54        26\n",
      "weighted avg       0.58      0.54      0.54        26\n",
      "\n"
     ]
    }
   ],
   "source": [
    "from sklearn.metrics import classification_report, confusion_matrix\n",
    "print(confusion_matrix(y_test,y_predict))\n",
    "print(classification_report(y_test,y_predict))"
   ]
  },
  {
   "cell_type": "code",
   "execution_count": 40,
   "metadata": {},
   "outputs": [],
   "source": [
    "from sklearn.decomposition import PCA\n",
    "pca = PCA(n_components=2).fit(selected_features_train)\n",
    "pca_2d = pca.transform(selected_features_train)"
   ]
  },
  {
   "cell_type": "code",
   "execution_count": 41,
   "metadata": {},
   "outputs": [
    {
     "data": {
      "image/png": "[encoded data removed]",
      "text/plain": [
       "<Figure size 432x288 with 1 Axes>"
      ]
     },
     "metadata": {
      "needs_background": "light"
     },
     "output_type": "display_data"
    }
   ],
   "source": [
    "from sklearn.decomposition import PCA\n",
    "pca = PCA(n_components=2).fit(selected_features_train)\n",
    "pca_2d = pca.transform(selected_features_train)\n",
    "import pylab as pl\n",
    "for i in range(0, pca_2d.shape[0]):\n",
    "    if y_train[i] == 0:\n",
    "        c1 = pl.scatter(pca_2d[i,0],pca_2d[i,1],c='r',    marker='+')\n",
    "    elif y_train[i] == 1:\n",
    "        c2 = pl.scatter(pca_2d[i,0],pca_2d[i,1],c='b',    marker='o')\n",
    "\n",
    "pl.legend([c1, c2], ['AD', 'MCI'])\n",
    "pl.title('Linear SVM classifier without Feature selection')\n",
    "pl.show()"
   ]
  },
  {
   "cell_type": "code",
   "execution_count": 42,
   "metadata": {},
   "outputs": [
    {
     "data": {
      "text/plain": [
       "<generator object _BaseKFold.split at 0x7f7adc9350a0>"
      ]
     },
     "execution_count": 42,
     "metadata": {},
     "output_type": "execute_result"
    }
   ],
   "source": [
    "kf5.split(X)"
   ]
  },
  {
   "cell_type": "raw",
   "metadata": {},
   "source": [
    "#correct=0\n",
    "correct=[]\n",
    "for train_index, test_index in kf5.split(X):\n",
    "    X_train, X_test = X[train_index], X[test_index]\n",
    "    y_train, y_test = y[train_index], y[test_index]\n",
    "    \n",
    "    idx_5,score_5=relief_FS(X_train,y_train)\n",
    "    selected_features_train = X_train[:, idx_5]\n",
    "    selected_features_test = X_test[:, idx_5]\n",
    "    # train a classification model with the selected features on the training dataset\n",
    "    clf.fit(selected_features_train, y_train)  # predict the class labels of test data\n",
    "    y_predict = clf.predict(selected_features_test)\n",
    "    acc = accuracy_score(y[test_index], y_predict)\n",
    "        #accuracy[]\n",
    "    correct.append(acc)\n"
   ]
  },
  {
   "cell_type": "raw",
   "metadata": {},
   "source": [
    "max(correct)"
   ]
  },
  {
   "cell_type": "code",
   "execution_count": 43,
   "metadata": {},
   "outputs": [
    {
     "data": {
      "image/png": "[encoded data removed]",
      "text/plain": [
       "<Figure size 432x288 with 1 Axes>"
      ]
     },
     "metadata": {
      "needs_background": "light"
     },
     "output_type": "display_data"
    }
   ],
   "source": [
    "from sklearn.decomposition import PCA\n",
    "pca = PCA(n_components=2).fit(selected_features_train)\n",
    "pca_2d = pca.transform(selected_features_train)\n",
    "import pylab as pl\n",
    "for i in range(0, pca_2d.shape[0]):\n",
    "    if y_train[i] == 0:\n",
    "        c1 = pl.scatter(pca_2d[i,0],pca_2d[i,1],c='r',    marker='+')\n",
    "    elif y_train[i] == 1:\n",
    "        c2 = pl.scatter(pca_2d[i,0],pca_2d[i,1],c='b',    marker='o')\n",
    "\n",
    "pl.legend([c1, c2], ['AD', 'MCI'])\n",
    "pl.title('Linear SVM classifier with Feature selection evaluated with 5 fold cv')\n",
    "pl.show()"
   ]
  },
  {
   "cell_type": "code",
   "execution_count": 44,
   "metadata": {},
   "outputs": [],
   "source": [
    "kf3=KFold(n_splits=3,shuffle=True)\n",
    "kf5=KFold(n_splits=5,shuffle=True)\n",
    "kf10=KFold(n_splits=10,shuffle=True)"
   ]
  },
  {
   "cell_type": "raw",
   "metadata": {},
   "source": [
    "for train_index, test_index in kf3.split(X):\n",
    "    X_train, X_test = X[train_index], X[test_index]\n",
    "    y_train, y_test = y[train_index], y[test_index]\n",
    "    \n",
    "    idx_3,score_3=relief_FS(X_train,y_train)\n",
    "    selected_features_train = X_train[:, idx_3]\n",
    "    selected_features_test = X_test[:, idx_3]\n",
    "    # train a classification model with the selected features on the training dataset\n",
    "    clf.fit(selected_features_train, y_train)  # predict the class labels of test data\n",
    "    y_predict = clf.predict(selected_features_test)\n",
    "    acc = accuracy_score(y[test_index], y_predict)"
   ]
  },
  {
   "cell_type": "raw",
   "metadata": {},
   "source": [
    "data_cv3=np.array([idx_3,score_3])"
   ]
  },
  {
   "cell_type": "raw",
   "metadata": {},
   "source": [
    "for train_index, test_index in kf10.split(X):\n",
    "    X_train, X_test = X[train_index], X[test_index]\n",
    "    y_train, y_test = y[train_index], y[test_index]\n",
    "    \n",
    "    idx_10,score_10=relief_FS(X_train,y_train)\n",
    "    selected_features_train = X_train[:, idx_10]\n",
    "    selected_features_test = X_test[:, idx_10]\n",
    "    # train a classification model with the selected features on the training dataset\n",
    "    clf.fit(selected_features_train, y_train)  # predict the class labels of test data\n",
    "    y_predict = clf.predict(selected_features_test)\n",
    "    acc = accuracy_score(y[test_index], y_predict)"
   ]
  },
  {
   "cell_type": "raw",
   "metadata": {},
   "source": [
    "matrices=[idx_3,idx_5,idx_10]"
   ]
  },
  {
   "cell_type": "raw",
   "metadata": {},
   "source": [
    "scores=[score_3,score_5,score_10]"
   ]
  },
  {
   "cell_type": "raw",
   "metadata": {},
   "source": [
    "matrice_score=np.array(scores)"
   ]
  },
  {
   "cell_type": "raw",
   "metadata": {},
   "source": [
    "matrice_score"
   ]
  },
  {
   "cell_type": "raw",
   "metadata": {},
   "source": [
    "idx_matrice=np.array(matrices)"
   ]
  },
  {
   "cell_type": "raw",
   "metadata": {},
   "source": [
    "matrice_fea=[]\n",
    "for i in range(num_cv):\n",
    "    ranked_features=X[idx_matrice[i,:]]\n",
    "    matrice_fea.append(ranked_features)"
   ]
  },
  {
   "cell_type": "raw",
   "metadata": {},
   "source": [
    "## select top 10 ranked features \n",
    "idx_matrice[:,:10]"
   ]
  },
  {
   "cell_type": "raw",
   "metadata": {},
   "source": [
    "data_cv3[:,:10]"
   ]
  },
  {
   "cell_type": "raw",
   "metadata": {},
   "source": [
    "\n",
    "from ReliefF import ReliefF\n",
    "num_fea=[5,10,15,20]"
   ]
  },
  {
   "cell_type": "raw",
   "metadata": {},
   "source": [
    "mat_temp=np.zeros((1,595))"
   ]
  },
  {
   "cell_type": "raw",
   "metadata": {},
   "source": [
    "mat_temp[:,1]"
   ]
  },
  {
   "cell_type": "raw",
   "metadata": {},
   "source": [
    "def alternative_solution(X,y,FS_method,cv):\n",
    "    mat_temp=np.zeros((1,595))\n",
    "    correct=0\n",
    "    best_k=5\n",
    "    max_rate=0\n",
    "    for k in num_fea:\n",
    "        #accuracy_final=0\n",
    "        for train_index, test_index in cv.split(X):\n",
    "            X_train, X_test = X[train_index], X[test_index]\n",
    "            y_train, y_test = y[train_index], y[test_index]\n",
    "            if FS_method==reliefF:\n",
    "                idx,score=relief_FS(X_train,y_train)\n",
    "        \n",
    "            selected_features = X[:, idx]\n",
    "            clf.fit(selected_features[train_index], y[train_index])  # predict the class labels of test data\n",
    "            y_predict = clf.predict(selected_features[test_index])\n",
    "            # obtain the classification accuracy on the test data\n",
    "            acc = accuracy_score(y[test_index], y_predict)\n",
    "            #accuracy[]\n",
    "            correct = correct + acc\n",
    "        accuracy=float(correct)/cv.get_n_splits(X)\n",
    "        if accuracy> max_rate:\n",
    "            max_rate=accuracy\n",
    "            best_k=k\n",
    "    ranking,score_=relief_FS(X,y)\n",
    "    mat_temp=mat_temp+ranking\n",
    "    return(mat_temp)\n",
    "\n",
    "        # output the average classification accuracy over all folds\n",
    "          "
   ]
  },
  {
   "cell_type": "raw",
   "metadata": {},
   "source": [
    "alternative_solution(X,y,reliefF,kf5).shape"
   ]
  },
  {
   "cell_type": "markdown",
   "metadata": {},
   "source": [
    "____________________________________________________________________________________"
   ]
  },
  {
   "cell_type": "markdown",
   "metadata": {},
   "source": [
    "### Training"
   ]
  },
  {
   "cell_type": "code",
   "execution_count": 45,
   "metadata": {},
   "outputs": [],
   "source": [
    "import pandas as pd\n",
    "def normalize_ranks(X,feature_ranking,cv):\n",
    "    p=cv.get_n_splits(X)\n",
    "    mat_temp=np.zeros((595,2))\n",
    "    mat_temp[:,0]=[i for i in range(595)]\n",
    "    mat_temp[:,1]=feature_ranking.sum(axis=0)/p\n",
    "    labels=['new_ranks','normalized_ranks']\n",
    "    df_ranks=pd.DataFrame(mat_temp,columns=labels)\n",
    "    df_ranks=df_ranks.sort_values(by ='normalized_ranks')\n",
    "    newranks=list(df_ranks.new_ranks.values.astype('int'))\n",
    "    return(newranks)\n"
   ]
  },
  {
   "cell_type": "code",
   "execution_count": 46,
   "metadata": {},
   "outputs": [],
   "source": [
    "def training(cv,k,FS_method):\n",
    "    accuracy=[]\n",
    "    featureranking=[]\n",
    "    featureweight=[]\n",
    "    normalized_rank_=[]\n",
    "    correct=0\n",
    "    selected_features_=[]\n",
    "    for train_index, test_index in cv.split(X):\n",
    "        X_train, X_test = X[train_index], X[test_index]\n",
    "        y_train, y_test = y[train_index], y[test_index]\n",
    "        if FS_method==reliefF:\n",
    "            #ok=True\n",
    "            idx,score=relief_FS(X_train,y_train,k)\n",
    "        #elif FS_method==MIFS: ##ERROR\n",
    "        #    idx,score=MIFS_FS(k,X_train,y_train)\n",
    "        elif FS_method==lap_score:\n",
    "            #ok=True\n",
    "            idx,score=lap_score_FS(X)\n",
    "        elif FS_method==ll_l21:\n",
    "            #ok=True\n",
    "            idx,score=ll_l21_FS(X_train,y,train_index)\n",
    "        elif FS_method==UDFS:\n",
    "            #ok=True\n",
    "            idx,score=UDFS_FS()\n",
    "        elif FS_method==fisher_score:\n",
    "            #ok=True\n",
    "            idx,score=fisher_score_FS(X_train,y_train)\n",
    "        elif FS_method==chi_square:\n",
    "            #ok=True\n",
    "            idx,score=chi_square_FS(X_train,y_train)\n",
    "        elif FS_method==gini_index:\n",
    "            #ok=True\n",
    "            idx,score=gini_index_FS(X_train,y_train)\n",
    "        #elif FS_method==FCBF:\n",
    "        #    idx=FCBF_FS(X_train,y_train,k)\n",
    "       # elif FS_method==BorutaPy:\n",
    "            #ok=False\n",
    "       #     idx=boruta_FS(X_train,y_train) \n",
    "        #elif FS_method==trace_ratio:\n",
    "        #    idx=trace_ratio_FS(X,train_index,y_train)\n",
    "        elif FS_method==SPEC:\n",
    "           # ok=True\n",
    "            idx,score=spec_FS(X_train)\n",
    "        #elif FS_method==CIFE:#Takes too long \n",
    "        #    idx=CIFE_FS(X_train,y_train)\n",
    "        #elif FS_method==alpha_investing:#Error\n",
    "        #    idx=alpha_investing_FS(X_train,y_train)\n",
    "        #elif FS_method==CMIM:# Same ranking of the original features \n",
    "         #   n,m=X_train.shape\n",
    "         #   idx=CMIM_FS(X_train,y_train,m)\n",
    "        elif FS_method==ls_l21:\n",
    "            #ok=True\n",
    "            idx,score=ls_l21_FS(X_train,y,train_index)\n",
    "        #elif FS_method==MCFS:\n",
    "         #   idx=MCFS_FS(X_train,k)\n",
    "        selected_features = X[:, idx[0:k]]\n",
    "        #selected_features_.extend(selected_features)\n",
    "        #normalized_rank=sum(score[0:k])/77\n",
    "        #normalized_rank_.append(normalized_rank)\n",
    "        featureranking.extend([idx])\n",
    "        featureweight.extend([score[0:k]])\n",
    "        # train a classification model with the selected features on the training dataset\n",
    "        clf.fit(selected_features[train_index], y[train_index])  # predict the class labels of test data\n",
    "        y_predict = clf.predict(selected_features[test_index])\n",
    "        # obtain the classification accuracy on the test data\n",
    "        acc = accuracy_score(y[test_index], y_predict)\n",
    "        #accuracy[]\n",
    "        correct = correct + acc\n",
    "\n",
    "        # output the average classification accuracy over all folds\n",
    "    #featureranking=idx[0:k]\n",
    "    #featureweight=score[0:k]\n",
    "    newranks=normalize_ranks(X,np.array(featureranking),cv)\n",
    "    accuracy=float(correct)/cv.get_n_splits(X)\n",
    "    #return(np.array(newranks[0:k]),accuracy)\n",
    "   # if ok==True:\n",
    "    return(np.array(newranks)[0:k],accuracy,np.array(featureweight))\n",
    "    #else:\n",
    "     #   return(np.array(newranks)[0:k],accuracy)\n",
    "    #return(np.array(newranks[0:k]),accuracy)#,np.array(featureweight))\n",
    "    #return(featureranking,accuracy,featureweight)\n",
    "    #return(accuracy,np.array(normalized_rank_),featureranking,featureweight)"
   ]
  },
  {
   "cell_type": "code",
   "execution_count": 47,
   "metadata": {},
   "outputs": [],
   "source": [
    "pool_FS=[reliefF,lap_score,ll_l21,ls_l21,UDFS,fisher_score,chi_square,gini_index,SPEC]#,BorutaPy]#,MCFS]#trace_ratio,"
   ]
  },
  {
   "cell_type": "markdown",
   "metadata": {},
   "source": [
    "### Circular Graph"
   ]
  },
  {
   "cell_type": "code",
   "execution_count": null,
   "metadata": {},
   "outputs": [],
   "source": []
  },
  {
   "cell_type": "code",
   "execution_count": 48,
   "metadata": {},
   "outputs": [],
   "source": [
    "def check_symmetric(a, rtol=1e-05, atol=1e-08):\n",
    "    return np.allclose(a, a.T, rtol=rtol, atol=atol)"
   ]
  },
  {
   "cell_type": "raw",
   "metadata": {},
   "source": [
    "def normalize_ranking(X):\n",
    "    mn, mx = X.min(), X.max()\n",
    "    normalized_X = (X - mn) / (mx - mn)\n",
    "    return(normalized_X)"
   ]
  },
  {
   "cell_type": "markdown",
   "metadata": {},
   "source": [
    "### Store rankings of FS methods for each k for different CV methods"
   ]
  },
  {
   "cell_type": "code",
   "execution_count": 49,
   "metadata": {},
   "outputs": [],
   "source": [
    "import pandas as pd\n",
    "#labels=['reliefF','lap_score','ll_l21']\n",
    "labels=['reliefF','lap_score','ll_l21','ls_l21','UDFS','fisher_score','chi_square','gini_index','SPEC']#,'Borotapy']\n",
    "#weight_labels=['reliefF','lap_score','ll_l21','ls_l21','UDFS','fisher_score','chi_square','gini_index','SPEC']\n",
    "dataframe_ranking=pd.DataFrame(index=num_fea,columns=labels)\n",
    "dataframe_weights=pd.DataFrame(index=num_fea,columns=labels)\n",
    "dataframe_accuracies=pd.DataFrame(index=num_fea,columns=labels)"
   ]
  },
  {
   "cell_type": "code",
   "execution_count": 50,
   "metadata": {},
   "outputs": [],
   "source": [
    "#matrix_=np.zeros((50,589*3))\n",
    "for i in range(len(pool_FS)):\n",
    "    for k in num_fea:\n",
    "        ranking__,acc__,weight__=training(kf5,k,pool_FS[i])\n",
    "        #ranking__,acc__,=training(kf5,k,pool_FS[i])\n",
    "        dataframe_ranking[labels[i]][k]=ranking__\n",
    "        \n",
    "        dataframe_weights[labels[i]][k]=weight__\n",
    "        dataframe_accuracies[labels[i]][k]=acc__\n",
    "        \n",
    "    \n",
    "    "
   ]
  },
  {
   "cell_type": "code",
   "execution_count": 51,
   "metadata": {},
   "outputs": [],
   "source": [
    "dataframe_ranking_5fold=dataframe_ranking.copy()\n",
    "dataframe_weights_5fold=dataframe_weights.copy()\n",
    "dataframe_accuracies_5fold=dataframe_accuracies.copy()"
   ]
  },
  {
   "cell_type": "code",
   "execution_count": null,
   "metadata": {},
   "outputs": [],
   "source": []
  },
  {
   "cell_type": "code",
   "execution_count": 54,
   "metadata": {},
   "outputs": [],
   "source": [
    "kf10=KFold(n_splits=10,shuffle=True)\n",
    "from sklearn.model_selection import LeaveOneOut\n",
    "loo=LeaveOneOut()"
   ]
  },
  {
   "cell_type": "code",
   "execution_count": 55,
   "metadata": {},
   "outputs": [],
   "source": [
    "for i in range(len(pool_FS)):\n",
    "    for k in num_fea:\n",
    "        ranking__,acc__,weight__=training(kf10,k,pool_FS[i])\n",
    "        dataframe_ranking[labels[i]][k]=ranking__\n",
    "        dataframe_weights[labels[i]][k]=weight__\n",
    "        dataframe_accuracies[labels[i]][k]=acc__\n",
    "        "
   ]
  },
  {
   "cell_type": "code",
   "execution_count": 56,
   "metadata": {},
   "outputs": [],
   "source": [
    "dataframe_ranking_10fold=dataframe_ranking.copy()\n",
    "dataframe_weights_10fold=dataframe_weights.copy()\n",
    "dataframe_accuracies_10fold=dataframe_accuracies.copy()"
   ]
  },
  {
   "cell_type": "code",
   "execution_count": null,
   "metadata": {},
   "outputs": [],
   "source": [
    "for i in range(len(pool_FS)):\n",
    "    for k in num_fea:\n",
    "        ranking__,acc__,weight__=training(loo,k,pool_FS[i])\n",
    "        dataframe_ranking[labels[i]][k]=ranking__\n",
    "        dataframe_weights[labels[i]][k]=weight__\n",
    "        dataframe_accuracies[labels[i]][k]=acc__\n",
    "        "
   ]
  },
  {
   "cell_type": "code",
   "execution_count": null,
   "metadata": {},
   "outputs": [],
   "source": [
    "dataframe_ranking_loo=dataframe_ranking.copy()\n",
    "dataframe_weights_loo=dataframe_weights.copy()\n",
    "dataframe_accuracies_loo=dataframe_accuracies.copy()"
   ]
  },
  {
   "cell_type": "code",
   "execution_count": 61,
   "metadata": {},
   "outputs": [
    {
     "data": {
      "text/html": [
       "<div>\n",
       "<style scoped>\n",
       "    .dataframe tbody tr th:only-of-type {\n",
       "        vertical-align: middle;\n",
       "    }\n",
       "\n",
       "    .dataframe tbody tr th {\n",
       "        vertical-align: top;\n",
       "    }\n",
       "\n",
       "    .dataframe thead th {\n",
       "        text-align: right;\n",
       "    }\n",
       "</style>\n",
       "<table border=\"1\" class=\"dataframe\">\n",
       "  <thead>\n",
       "    <tr style=\"text-align: right;\">\n",
       "      <th></th>\n",
       "      <th>reliefF</th>\n",
       "      <th>lap_score</th>\n",
       "      <th>ll_l21</th>\n",
       "      <th>ls_l21</th>\n",
       "      <th>UDFS</th>\n",
       "      <th>fisher_score</th>\n",
       "      <th>chi_square</th>\n",
       "      <th>gini_index</th>\n",
       "      <th>SPEC</th>\n",
       "    </tr>\n",
       "  </thead>\n",
       "  <tbody>\n",
       "    <tr>\n",
       "      <th>10</th>\n",
       "      <td>[594, 584, 586, 331, 588, 581, 579, 74, 53, 77]</td>\n",
       "      <td>[578, 153, 291, 593, 576, 154, 245, 163, 403, ...</td>\n",
       "      <td>[594, 203, 202, 201, 200, 199, 198, 197, 196, ...</td>\n",
       "      <td>[594, 234, 235, 233, 238, 237, 239, 240, 236, ...</td>\n",
       "      <td>[504, 156, 2, 594, 484, 187, 208, 319, 235, 199]</td>\n",
       "      <td>[496, 479, 176, 345, 119, 583, 543, 266, 147, ...</td>\n",
       "      <td>[13, 30, 14, 214, 26, 205, 198, 15, 184, 12]</td>\n",
       "      <td>[421, 416, 575, 426, 417, 169, 425, 422, 4, 424]</td>\n",
       "      <td>[588, 576, 575, 584, 566, 589, 562, 577, 593, ...</td>\n",
       "    </tr>\n",
       "    <tr>\n",
       "      <th>20</th>\n",
       "      <td>[593, 585, 589, 318, 524, 344, 350, 592, 300, ...</td>\n",
       "      <td>[578, 153, 291, 593, 576, 154, 245, 163, 403, ...</td>\n",
       "      <td>[594, 203, 202, 201, 200, 199, 198, 197, 196, ...</td>\n",
       "      <td>[594, 234, 235, 233, 238, 237, 239, 240, 236, ...</td>\n",
       "      <td>[504, 156, 2, 594, 484, 187, 208, 319, 235, 19...</td>\n",
       "      <td>[496, 479, 176, 345, 119, 583, 543, 266, 147, ...</td>\n",
       "      <td>[13, 30, 14, 214, 26, 205, 198, 15, 184, 12, 2...</td>\n",
       "      <td>[421, 416, 575, 426, 417, 169, 425, 422, 4, 42...</td>\n",
       "      <td>[588, 576, 575, 584, 566, 589, 562, 577, 593, ...</td>\n",
       "    </tr>\n",
       "    <tr>\n",
       "      <th>30</th>\n",
       "      <td>[3, 4, 41, 1, 9, 16, 5, 264, 34, 215, 389, 18,...</td>\n",
       "      <td>[578, 153, 291, 593, 576, 154, 245, 163, 403, ...</td>\n",
       "      <td>[594, 203, 202, 201, 200, 199, 198, 197, 196, ...</td>\n",
       "      <td>[594, 234, 235, 233, 238, 237, 239, 240, 236, ...</td>\n",
       "      <td>[504, 156, 2, 594, 484, 187, 208, 319, 235, 19...</td>\n",
       "      <td>[496, 479, 176, 345, 119, 583, 543, 266, 147, ...</td>\n",
       "      <td>[13, 30, 14, 214, 26, 205, 198, 15, 184, 12, 2...</td>\n",
       "      <td>[421, 416, 575, 426, 417, 169, 425, 422, 4, 42...</td>\n",
       "      <td>[588, 576, 575, 584, 566, 589, 562, 577, 593, ...</td>\n",
       "    </tr>\n",
       "    <tr>\n",
       "      <th>40</th>\n",
       "      <td>[4, 3, 5, 15, 12, 10, 463, 16, 2, 483, 434, 45...</td>\n",
       "      <td>[578, 153, 291, 593, 576, 154, 245, 163, 403, ...</td>\n",
       "      <td>[594, 203, 202, 201, 200, 199, 198, 197, 196, ...</td>\n",
       "      <td>[594, 234, 235, 233, 238, 237, 239, 240, 236, ...</td>\n",
       "      <td>[504, 156, 2, 594, 484, 187, 208, 319, 235, 19...</td>\n",
       "      <td>[496, 479, 176, 345, 119, 583, 543, 266, 147, ...</td>\n",
       "      <td>[13, 30, 14, 214, 26, 205, 198, 15, 184, 12, 2...</td>\n",
       "      <td>[421, 416, 575, 426, 417, 169, 425, 422, 4, 42...</td>\n",
       "      <td>[588, 576, 575, 584, 566, 589, 562, 577, 593, ...</td>\n",
       "    </tr>\n",
       "    <tr>\n",
       "      <th>50</th>\n",
       "      <td>[4, 3, 12, 11, 15, 9, 5, 10, 19, 17, 16, 29, 4...</td>\n",
       "      <td>[578, 153, 291, 593, 576, 154, 245, 163, 403, ...</td>\n",
       "      <td>[594, 203, 202, 201, 200, 199, 198, 197, 196, ...</td>\n",
       "      <td>[594, 234, 235, 233, 238, 237, 239, 240, 236, ...</td>\n",
       "      <td>[504, 156, 2, 594, 484, 187, 208, 319, 235, 19...</td>\n",
       "      <td>[496, 479, 176, 345, 119, 583, 543, 266, 147, ...</td>\n",
       "      <td>[13, 30, 14, 214, 26, 205, 198, 15, 184, 12, 2...</td>\n",
       "      <td>[421, 416, 575, 426, 417, 169, 425, 422, 4, 42...</td>\n",
       "      <td>[588, 576, 575, 584, 566, 589, 562, 577, 593, ...</td>\n",
       "    </tr>\n",
       "  </tbody>\n",
       "</table>\n",
       "</div>"
      ],
      "text/plain": [
       "                                              reliefF  \\\n",
       "10    [594, 584, 586, 331, 588, 581, 579, 74, 53, 77]   \n",
       "20  [593, 585, 589, 318, 524, 344, 350, 592, 300, ...   \n",
       "30  [3, 4, 41, 1, 9, 16, 5, 264, 34, 215, 389, 18,...   \n",
       "40  [4, 3, 5, 15, 12, 10, 463, 16, 2, 483, 434, 45...   \n",
       "50  [4, 3, 12, 11, 15, 9, 5, 10, 19, 17, 16, 29, 4...   \n",
       "\n",
       "                                            lap_score  \\\n",
       "10  [578, 153, 291, 593, 576, 154, 245, 163, 403, ...   \n",
       "20  [578, 153, 291, 593, 576, 154, 245, 163, 403, ...   \n",
       "30  [578, 153, 291, 593, 576, 154, 245, 163, 403, ...   \n",
       "40  [578, 153, 291, 593, 576, 154, 245, 163, 403, ...   \n",
       "50  [578, 153, 291, 593, 576, 154, 245, 163, 403, ...   \n",
       "\n",
       "                                               ll_l21  \\\n",
       "10  [594, 203, 202, 201, 200, 199, 198, 197, 196, ...   \n",
       "20  [594, 203, 202, 201, 200, 199, 198, 197, 196, ...   \n",
       "30  [594, 203, 202, 201, 200, 199, 198, 197, 196, ...   \n",
       "40  [594, 203, 202, 201, 200, 199, 198, 197, 196, ...   \n",
       "50  [594, 203, 202, 201, 200, 199, 198, 197, 196, ...   \n",
       "\n",
       "                                               ls_l21  \\\n",
       "10  [594, 234, 235, 233, 238, 237, 239, 240, 236, ...   \n",
       "20  [594, 234, 235, 233, 238, 237, 239, 240, 236, ...   \n",
       "30  [594, 234, 235, 233, 238, 237, 239, 240, 236, ...   \n",
       "40  [594, 234, 235, 233, 238, 237, 239, 240, 236, ...   \n",
       "50  [594, 234, 235, 233, 238, 237, 239, 240, 236, ...   \n",
       "\n",
       "                                                 UDFS  \\\n",
       "10   [504, 156, 2, 594, 484, 187, 208, 319, 235, 199]   \n",
       "20  [504, 156, 2, 594, 484, 187, 208, 319, 235, 19...   \n",
       "30  [504, 156, 2, 594, 484, 187, 208, 319, 235, 19...   \n",
       "40  [504, 156, 2, 594, 484, 187, 208, 319, 235, 19...   \n",
       "50  [504, 156, 2, 594, 484, 187, 208, 319, 235, 19...   \n",
       "\n",
       "                                         fisher_score  \\\n",
       "10  [496, 479, 176, 345, 119, 583, 543, 266, 147, ...   \n",
       "20  [496, 479, 176, 345, 119, 583, 543, 266, 147, ...   \n",
       "30  [496, 479, 176, 345, 119, 583, 543, 266, 147, ...   \n",
       "40  [496, 479, 176, 345, 119, 583, 543, 266, 147, ...   \n",
       "50  [496, 479, 176, 345, 119, 583, 543, 266, 147, ...   \n",
       "\n",
       "                                           chi_square  \\\n",
       "10       [13, 30, 14, 214, 26, 205, 198, 15, 184, 12]   \n",
       "20  [13, 30, 14, 214, 26, 205, 198, 15, 184, 12, 2...   \n",
       "30  [13, 30, 14, 214, 26, 205, 198, 15, 184, 12, 2...   \n",
       "40  [13, 30, 14, 214, 26, 205, 198, 15, 184, 12, 2...   \n",
       "50  [13, 30, 14, 214, 26, 205, 198, 15, 184, 12, 2...   \n",
       "\n",
       "                                           gini_index  \\\n",
       "10   [421, 416, 575, 426, 417, 169, 425, 422, 4, 424]   \n",
       "20  [421, 416, 575, 426, 417, 169, 425, 422, 4, 42...   \n",
       "30  [421, 416, 575, 426, 417, 169, 425, 422, 4, 42...   \n",
       "40  [421, 416, 575, 426, 417, 169, 425, 422, 4, 42...   \n",
       "50  [421, 416, 575, 426, 417, 169, 425, 422, 4, 42...   \n",
       "\n",
       "                                                 SPEC  \n",
       "10  [588, 576, 575, 584, 566, 589, 562, 577, 593, ...  \n",
       "20  [588, 576, 575, 584, 566, 589, 562, 577, 593, ...  \n",
       "30  [588, 576, 575, 584, 566, 589, 562, 577, 593, ...  \n",
       "40  [588, 576, 575, 584, 566, 589, 562, 577, 593, ...  \n",
       "50  [588, 576, 575, 584, 566, 589, 562, 577, 593, ...  "
      ]
     },
     "execution_count": 61,
     "metadata": {},
     "output_type": "execute_result"
    }
   ],
   "source": [
    "dataframe_ranking_loo.head(5)"
   ]
  },
  {
   "cell_type": "markdown",
   "metadata": {},
   "source": [
    "### Overlapping matrices"
   ]
  },
  {
   "cell_type": "code",
   "execution_count": 62,
   "metadata": {},
   "outputs": [],
   "source": [
    "def intersection(a,b):\n",
    "    ''' A function that return the percentage of common elements to both a and b'''\n",
    "    sum_=0\n",
    "    for x in range(a.shape[0]):\n",
    "       # for y in range(a.shape[1]):\n",
    "        sum_+=np.sum((a[x]==b[x]))\n",
    "    percentage=(sum_*100)/a.size\n",
    "    return(percentage)"
   ]
  },
  {
   "cell_type": "code",
   "execution_count": 63,
   "metadata": {},
   "outputs": [],
   "source": [
    "def FS_to_FS_similarity(FS_k):\n",
    "    n=len(FS_k)\n",
    "    m=np.ones((n,n))\n",
    "    for i in range(n):\n",
    "        for j in range(i+1,n):\n",
    "            m[i,j]=intersection(FS_k[i],FS_k[j])\n",
    "            m[j,i]=m[i,j]\n",
    "    #for i in range(n):\n",
    "    #    m[i,i]=intersection(FS_k[i],FS_k[i])/100\n",
    "    return(m)"
   ]
  },
  {
   "cell_type": "raw",
   "metadata": {},
   "source": [
    "dataframe_ranking_5fold.drop(['overlapping'], axis=1,inplace=True)"
   ]
  },
  {
   "cell_type": "code",
   "execution_count": 64,
   "metadata": {},
   "outputs": [],
   "source": [
    "dataframe_ranking_5fold['overlapping']=dataframe_ranking_5fold.apply(\n",
    "    lambda row:FS_to_FS_similarity(row),axis=1)"
   ]
  },
  {
   "cell_type": "code",
   "execution_count": 65,
   "metadata": {},
   "outputs": [],
   "source": [
    "dataframe_ranking_10fold['overlapping']=dataframe_ranking_10fold.apply(\n",
    "    lambda row:FS_to_FS_similarity(row),axis=1)"
   ]
  },
  {
   "cell_type": "code",
   "execution_count": 66,
   "metadata": {},
   "outputs": [],
   "source": [
    "dataframe_ranking_loo['overlapping']=dataframe_ranking_loo.apply(\n",
    "    lambda row:FS_to_FS_similarity(row),axis=1)"
   ]
  },
  {
   "cell_type": "code",
   "execution_count": 67,
   "metadata": {},
   "outputs": [
    {
     "data": {
      "text/plain": [
       "True"
      ]
     },
     "execution_count": 67,
     "metadata": {},
     "output_type": "execute_result"
    }
   ],
   "source": [
    "check_symmetric(dataframe_ranking_5fold.overlapping[10])"
   ]
  },
  {
   "cell_type": "raw",
   "metadata": {},
   "source": [
    "dataframe_ranking_5fold.overlapping[40]"
   ]
  },
  {
   "cell_type": "code",
   "execution_count": 69,
   "metadata": {},
   "outputs": [
    {
     "data": {
      "text/plain": [
       "(77, 595)"
      ]
     },
     "execution_count": 69,
     "metadata": {},
     "output_type": "execute_result"
    }
   ],
   "source": [
    "X.shape"
   ]
  },
  {
   "cell_type": "markdown",
   "metadata": {},
   "source": [
    "#### 5-fold"
   ]
  },
  {
   "cell_type": "code",
   "execution_count": 70,
   "metadata": {},
   "outputs": [],
   "source": [
    "import matplotlib.pyplot as plt"
   ]
  },
  {
   "cell_type": "code",
   "execution_count": 71,
   "metadata": {},
   "outputs": [
    {
     "data": {
      "text/plain": [
       "Text(0.5, 1.0, 'num_fea=100')"
      ]
     },
     "execution_count": 71,
     "metadata": {},
     "output_type": "execute_result"
    },
    {
     "data": {
      "image/png": "[encoded data removed]",
      "text/plain": [
       "<Figure size 1440x720 with 10 Axes>"
      ]
     },
     "metadata": {
      "needs_background": "light"
     },
     "output_type": "display_data"
    }
   ],
   "source": [
    "import matplotlib.pyplot as plt\n",
    "plt.figure(figsize=(20,10))\n",
    "plt.suptitle('Overlapping matrices', fontsize=16)\n",
    "\n",
    "plt.subplot(2, 5, 1)\n",
    "plt.imshow(dataframe_ranking_5fold.overlapping[10])\n",
    "plt.title('num_fea=10')\n",
    "plt.subplot(2, 5, 2)\n",
    "plt.imshow(dataframe_ranking_5fold.overlapping[20])\n",
    "plt.title('num_fea=20')\n",
    "plt.subplot(2, 5, 3)\n",
    "plt.imshow(dataframe_ranking_5fold.overlapping[30])\n",
    "plt.title('num_fea=30')\n",
    "plt.subplot(2, 5, 4)\n",
    "plt.imshow(dataframe_ranking_5fold.overlapping[40])\n",
    "plt.title('num_fea=40')\n",
    "plt.subplot(2, 5, 5)\n",
    "plt.imshow(dataframe_ranking_5fold.overlapping[50])\n",
    "plt.title('num_fea=50')\n",
    "plt.subplot(2, 5, 6)\n",
    "plt.imshow(dataframe_ranking_5fold.overlapping[60])\n",
    "plt.title('num_fea=60')\n",
    "plt.subplot(2, 5, 7)\n",
    "plt.imshow(dataframe_ranking_5fold.overlapping[70])\n",
    "plt.title('num_fea=70')\n",
    "plt.subplot(2, 5, 8)\n",
    "plt.imshow(dataframe_ranking_5fold.overlapping[80])\n",
    "plt.title('num_fea=80')\n",
    "plt.subplot(2, 5, 9)\n",
    "plt.imshow(dataframe_ranking_5fold.overlapping[90])\n",
    "plt.title('num_fea=90')\n",
    "plt.subplot(2, 5, 10)\n",
    "plt.imshow(dataframe_ranking_5fold.overlapping[100])\n",
    "plt.title('num_fea=100')"
   ]
  },
  {
   "cell_type": "markdown",
   "metadata": {},
   "source": [
    "#### 10-fold"
   ]
  },
  {
   "cell_type": "code",
   "execution_count": 72,
   "metadata": {},
   "outputs": [
    {
     "data": {
      "text/plain": [
       "Text(0.5, 1.0, 'num_fea=100')"
      ]
     },
     "execution_count": 72,
     "metadata": {},
     "output_type": "execute_result"
    },
    {
     "data": {
      "image/png": "[encoded data removed]",
      "text/plain": [
       "<Figure size 1440x720 with 10 Axes>"
      ]
     },
     "metadata": {
      "needs_background": "light"
     },
     "output_type": "display_data"
    }
   ],
   "source": [
    "import matplotlib.pyplot as plt\n",
    "plt.figure(figsize=(20,10))\n",
    "plt.suptitle('Overlapping matrices', fontsize=16)\n",
    "\n",
    "plt.subplot(2, 5, 1)\n",
    "plt.imshow(dataframe_ranking_10fold.overlapping[10])\n",
    "plt.title('num_fea=10')\n",
    "plt.subplot(2, 5, 2)\n",
    "plt.imshow(dataframe_ranking_10fold.overlapping[20])\n",
    "plt.title('num_fea=20')\n",
    "plt.subplot(2, 5, 3)\n",
    "plt.imshow(dataframe_ranking_10fold.overlapping[30])\n",
    "plt.title('num_fea=30')\n",
    "plt.subplot(2, 5, 4)\n",
    "plt.imshow(dataframe_ranking_10fold.overlapping[40])\n",
    "plt.title('num_fea=40')\n",
    "plt.subplot(2, 5, 5)\n",
    "plt.imshow(dataframe_ranking_10fold.overlapping[50])\n",
    "plt.title('num_fea=50')\n",
    "plt.subplot(2, 5, 6)\n",
    "plt.imshow(dataframe_ranking_10fold.overlapping[60])\n",
    "plt.title('num_fea=60')\n",
    "plt.subplot(2, 5, 7)\n",
    "plt.imshow(dataframe_ranking_10fold.overlapping[70])\n",
    "plt.title('num_fea=70')\n",
    "plt.subplot(2, 5, 8)\n",
    "plt.imshow(dataframe_ranking_10fold.overlapping[80])\n",
    "plt.title('num_fea=80')\n",
    "plt.subplot(2, 5, 9)\n",
    "plt.imshow(dataframe_ranking_10fold.overlapping[90])\n",
    "plt.title('num_fea=90')\n",
    "plt.subplot(2, 5, 10)\n",
    "plt.imshow(dataframe_ranking_10fold.overlapping[100])\n",
    "plt.title('num_fea=100')\n"
   ]
  },
  {
   "cell_type": "markdown",
   "metadata": {},
   "source": [
    "##### LOO"
   ]
  },
  {
   "cell_type": "code",
   "execution_count": 73,
   "metadata": {},
   "outputs": [
    {
     "data": {
      "text/plain": [
       "Text(0.5, 1.0, 'num_fea=100')"
      ]
     },
     "execution_count": 73,
     "metadata": {},
     "output_type": "execute_result"
    },
    {
     "data": {
      "image/png": "[encoded data removed]",
      "text/plain": [
       "<Figure size 1440x720 with 10 Axes>"
      ]
     },
     "metadata": {
      "needs_background": "light"
     },
     "output_type": "display_data"
    }
   ],
   "source": [
    "plt.figure(figsize=(20,10))\n",
    "plt.suptitle('Overlapping matrices', fontsize=16)\n",
    "\n",
    "plt.subplot(2, 5, 1)\n",
    "plt.imshow(dataframe_ranking_loo.overlapping[10])\n",
    "plt.title('num_fea=10')\n",
    "plt.subplot(2, 5, 2)\n",
    "plt.imshow(dataframe_ranking_loo.overlapping[20])\n",
    "plt.title('num_fea=20')\n",
    "plt.subplot(2, 5, 3)\n",
    "plt.imshow(dataframe_ranking_loo.overlapping[30])\n",
    "plt.title('num_fea=30')\n",
    "plt.subplot(2, 5, 4)\n",
    "plt.imshow(dataframe_ranking_loo.overlapping[40])\n",
    "plt.title('num_fea=40')\n",
    "plt.subplot(2, 5, 5)\n",
    "plt.imshow(dataframe_ranking_loo.overlapping[50])\n",
    "plt.title('num_fea=50')\n",
    "plt.subplot(2, 5, 6)\n",
    "plt.imshow(dataframe_ranking_loo.overlapping[60])\n",
    "plt.title('num_fea=60')\n",
    "plt.subplot(2, 5, 7)\n",
    "plt.imshow(dataframe_ranking_loo.overlapping[70])\n",
    "plt.title('num_fea=70')\n",
    "plt.subplot(2, 5, 8)\n",
    "plt.imshow(dataframe_ranking_loo.overlapping[80])\n",
    "plt.title('num_fea=80')\n",
    "plt.subplot(2, 5, 9)\n",
    "plt.imshow(dataframe_ranking_loo.overlapping[90])\n",
    "plt.title('num_fea=90')\n",
    "plt.subplot(2, 5, 10)\n",
    "plt.imshow(dataframe_ranking_loo.overlapping[100])\n",
    "plt.title('num_fea=100')\n"
   ]
  },
  {
   "cell_type": "markdown",
   "metadata": {},
   "source": [
    "### Average similarities"
   ]
  },
  {
   "cell_type": "code",
   "execution_count": 74,
   "metadata": {},
   "outputs": [],
   "source": [
    "import seaborn as sns \n",
    "sns.set()"
   ]
  },
  {
   "cell_type": "code",
   "execution_count": 62,
   "metadata": {},
   "outputs": [
    {
     "data": {
      "text/plain": [
       "Text(0.5, 1.0, 'Distribution of average similarity 5-fold')"
      ]
     },
     "execution_count": 62,
     "metadata": {},
     "output_type": "execute_result"
    },
    {
     "data": {
      "image/png": "[encoded data removed]",
      "text/plain": [
       "<Figure size 432x288 with 1 Axes>"
      ]
     },
     "metadata": {},
     "output_type": "display_data"
    }
   ],
   "source": [
    "plt.hist(dataframe_ranking_5fold.overlapping.mean())\n",
    "plt.title('Distribution of average similarity 5-fold')"
   ]
  },
  {
   "cell_type": "markdown",
   "metadata": {},
   "source": [
    "### Z-score"
   ]
  },
  {
   "cell_type": "code",
   "execution_count": null,
   "metadata": {},
   "outputs": [],
   "source": [
    "avg_sim_normalized=stats.zscore(dataframe_ranking_5fold.overlapping.mean(), axis=1, ddof=1)"
   ]
  },
  {
   "cell_type": "code",
   "execution_count": null,
   "metadata": {},
   "outputs": [],
   "source": [
    "plt.hist(avg_sim_normalized)\n",
    "plt.title('z-score normalized average similarity:5-fold')"
   ]
  },
  {
   "cell_type": "markdown",
   "metadata": {},
   "source": [
    "### Manual min-max scaler"
   ]
  },
  {
   "cell_type": "code",
   "execution_count": null,
   "metadata": {},
   "outputs": [],
   "source": [
    "avg_sim=dataframe_ranking_5fold.overlapping.mean()"
   ]
  },
  {
   "cell_type": "code",
   "execution_count": null,
   "metadata": {},
   "outputs": [],
   "source": [
    "mn, mx = avg_sim.min(), avg_sim.max()\n",
    "dist01 = (avg_sim - mn) / (mx - mn)"
   ]
  },
  {
   "cell_type": "code",
   "execution_count": null,
   "metadata": {},
   "outputs": [],
   "source": [
    "check_symmetric(avg_sim)"
   ]
  },
  {
   "cell_type": "code",
   "execution_count": null,
   "metadata": {},
   "outputs": [],
   "source": [
    "plt.hist(avg_sim)"
   ]
  },
  {
   "cell_type": "code",
   "execution_count": null,
   "metadata": {},
   "outputs": [],
   "source": [
    "tested_avg_sim=dist01"
   ]
  },
  {
   "cell_type": "code",
   "execution_count": null,
   "metadata": {},
   "outputs": [],
   "source": [
    "plt.hist(tested_avg_sim)"
   ]
  },
  {
   "cell_type": "markdown",
   "metadata": {},
   "source": [
    "## Average similarity matrix"
   ]
  },
  {
   "cell_type": "code",
   "execution_count": 75,
   "metadata": {},
   "outputs": [
    {
     "data": {
      "text/plain": [
       "Text(0.5, 1.0, 'Average similarity case 5 fold CV')"
      ]
     },
     "execution_count": 75,
     "metadata": {},
     "output_type": "execute_result"
    },
    {
     "data": {
      "image/png": "[encoded data removed]",
      "text/plain": [
       "<Figure size 432x288 with 2 Axes>"
      ]
     },
     "metadata": {},
     "output_type": "display_data"
    }
   ],
   "source": [
    "sns.heatmap(dataframe_ranking_5fold.overlapping.mean())\n",
    "plt.title('Average similarity case 5 fold CV')"
   ]
  },
  {
   "cell_type": "code",
   "execution_count": 76,
   "metadata": {},
   "outputs": [
    {
     "data": {
      "text/plain": [
       "Text(0.5, 1.0, 'Average similarity case 10 fold CV')"
      ]
     },
     "execution_count": 76,
     "metadata": {},
     "output_type": "execute_result"
    },
    {
     "data": {
      "image/png": "[encoded data removed]",
      "text/plain": [
       "<Figure size 432x288 with 2 Axes>"
      ]
     },
     "metadata": {},
     "output_type": "display_data"
    }
   ],
   "source": [
    "sns.heatmap(dataframe_ranking_10fold.overlapping.mean())\n",
    "plt.title('Average similarity case 10 fold CV')"
   ]
  },
  {
   "cell_type": "code",
   "execution_count": 77,
   "metadata": {},
   "outputs": [
    {
     "data": {
      "text/plain": [
       "Text(0.5, 1.0, 'Average similarity case LOO CV')"
      ]
     },
     "execution_count": 77,
     "metadata": {},
     "output_type": "execute_result"
    },
    {
     "data": {
      "image/png": "[encoded data removed]",
      "text/plain": [
       "<Figure size 432x288 with 2 Axes>"
      ]
     },
     "metadata": {},
     "output_type": "display_data"
    }
   ],
   "source": [
    "sns.heatmap(dataframe_ranking_loo.overlapping.mean())\n",
    "plt.title('Average similarity case LOO CV')"
   ]
  },
  {
   "cell_type": "code",
   "execution_count": 78,
   "metadata": {},
   "outputs": [
    {
     "data": {
      "text/plain": [
       "10     [[1.0, 0.0, 10.0, 10.0, 0.0, 0.0, 0.0, 0.0, 0....\n",
       "20     [[1.0, 0.0, 0.0, 0.0, 0.0, 0.0, 0.0, 0.0, 0.0]...\n",
       "30     [[1.0, 0.0, 0.0, 0.0, 0.0, 0.0, 0.0, 0.0, 0.0]...\n",
       "40     [[1.0, 0.0, 0.0, 0.0, 0.0, 0.0, 0.0, 0.0, 0.0]...\n",
       "50     [[1.0, 0.0, 0.0, 0.0, 0.0, 0.0, 0.0, 0.0, 0.0]...\n",
       "60     [[1.0, 0.0, 0.0, 0.0, 0.0, 0.0, 0.0, 0.0, 0.0]...\n",
       "70     [[1.0, 0.0, 0.0, 0.0, 0.0, 0.0, 0.0, 0.0, 0.0]...\n",
       "80     [[1.0, 0.0, 0.0, 0.0, 0.0, 0.0, 0.0, 0.0, 0.0]...\n",
       "90     [[1.0, 0.0, 0.0, 0.0, 0.0, 0.0, 0.0, 0.0, 0.0]...\n",
       "100    [[1.0, 0.0, 0.0, 0.0, 0.0, 0.0, 0.0, 0.0, 0.0]...\n",
       "Name: overlapping, dtype: object"
      ]
     },
     "execution_count": 78,
     "metadata": {},
     "output_type": "execute_result"
    }
   ],
   "source": [
    "dataframe_ranking_loo.overlapping"
   ]
  },
  {
   "cell_type": "markdown",
   "metadata": {},
   "source": [
    " ### Accuracy similarity matrices"
   ]
  },
  {
   "cell_type": "raw",
   "metadata": {},
   "source": [
    "plt.hist(acc_sim_matrice_5fold)\n",
    "plt.title('Distribution of accuraccy similarity matrix')"
   ]
  },
  {
   "cell_type": "code",
   "execution_count": null,
   "metadata": {},
   "outputs": [],
   "source": [
    "check_symmetric(acc_sim_matrice_5fold)"
   ]
  },
  {
   "cell_type": "markdown",
   "metadata": {},
   "source": [
    "#### Z-score normalization"
   ]
  },
  {
   "cell_type": "raw",
   "metadata": {},
   "source": [
    "from scipy import stats"
   ]
  },
  {
   "cell_type": "raw",
   "metadata": {},
   "source": [
    "#acc_sim_normalized=stats.zscore(acc_sim_matrice_5fold, axis=1, ddof=1)\n",
    "acc_sim_normalized=stats.zscore(acc_sim_matrice_5fold, axis=1, ddof=1)"
   ]
  },
  {
   "cell_type": "raw",
   "metadata": {},
   "source": [
    "avg_sim_normalized\n",
    "acc_sim_normalized"
   ]
  },
  {
   "cell_type": "raw",
   "metadata": {},
   "source": [
    "plt.hist(acc_sim_normalized)\n",
    "plt.title('z-score normalized accuracy similarity matrix: 5-fold')"
   ]
  },
  {
   "cell_type": "markdown",
   "metadata": {},
   "source": [
    "### Min-max normalization"
   ]
  },
  {
   "cell_type": "raw",
   "metadata": {},
   "source": [
    "from sklearn.preprocessing import MinMaxScaler"
   ]
  },
  {
   "cell_type": "raw",
   "metadata": {},
   "source": [
    "scaler = MinMaxScaler()\n",
    "scaler.fit(acc_sim_matrice_5fold)\n",
    "min_max_normalized_acc=scaler.transform(acc_sim_matrice_5fold)"
   ]
  },
  {
   "cell_type": "raw",
   "metadata": {},
   "source": [
    "acc_sim_matrice_5fold.min()"
   ]
  },
  {
   "cell_type": "raw",
   "metadata": {},
   "source": [
    "acc_sim_matrice_5fold.max()"
   ]
  },
  {
   "cell_type": "raw",
   "metadata": {},
   "source": [
    "mn, mx = acc_sim_matrice_5fold.min(), acc_sim_matrice_5fold.max()\n",
    "dist01 = (acc_sim_matrice_5fold - mn) / (mx - mn)"
   ]
  },
  {
   "cell_type": "raw",
   "metadata": {},
   "source": [
    "check_symmetric(dist01)"
   ]
  },
  {
   "cell_type": "raw",
   "metadata": {},
   "source": [
    "tested_normalization_accuracy=dist01"
   ]
  },
  {
   "cell_type": "raw",
   "metadata": {},
   "source": [
    "tested_avg_sim\n",
    "tested_normalization_accuracy"
   ]
  },
  {
   "cell_type": "markdown",
   "metadata": {},
   "source": [
    "### This package gives us a non symmetric matrix"
   ]
  },
  {
   "cell_type": "raw",
   "metadata": {},
   "source": [
    "plt.hist(min_max_normalized_acc)\n",
    "plt.title('Min-max normalized accuracy sim matrix: 5-fold')"
   ]
  },
  {
   "cell_type": "raw",
   "metadata": {},
   "source": [
    "sns.heatmap(min_max_normalized_acc,annot=True)\n",
    "plt.title('acc sim matrix after min-max normalization:5-fold')"
   ]
  },
  {
   "cell_type": "markdown",
   "metadata": {},
   "source": [
    "### Accuracy similarity matrix"
   ]
  },
  {
   "cell_type": "code",
   "execution_count": 79,
   "metadata": {},
   "outputs": [],
   "source": [
    "df_5fold_acc=dataframe_accuracies_5fold.copy()"
   ]
  },
  {
   "cell_type": "code",
   "execution_count": 80,
   "metadata": {},
   "outputs": [],
   "source": [
    "df_5fold_acc.loc['mean'] =df_5fold_acc.mean()"
   ]
  },
  {
   "cell_type": "code",
   "execution_count": 81,
   "metadata": {},
   "outputs": [],
   "source": [
    "from statistics import mean\n",
    "import math\n",
    "def cost(ai,aj):\n",
    "    sigma=10\n",
    "    return(math.exp(-abs(ai-aj)/sigma))\n",
    "def matrix_acc(list_):\n",
    "    n=len(list_)\n",
    "    m=np.ones((n,n))\n",
    "    for i in range(n-1):\n",
    "        for j in range(i+1,n):\n",
    "            m[i,j]=cost(list_[i],list_[j])\n",
    "            m[j,i]=m[i,j]\n",
    "    for i in range(n):\n",
    "        m[i,i]=cost(list_[i],list_[i])\n",
    "    \n",
    "    return(m)"
   ]
  },
  {
   "cell_type": "code",
   "execution_count": 82,
   "metadata": {},
   "outputs": [],
   "source": [
    "acc_sim_matrice_5fold=matrix_acc(list(df_5fold_acc.loc['mean']))"
   ]
  },
  {
   "cell_type": "code",
   "execution_count": 83,
   "metadata": {},
   "outputs": [
    {
     "data": {
      "text/plain": [
       "Text(0.5, 1.0, 'Accuracy similarity matrice: 5-fold cv')"
      ]
     },
     "execution_count": 83,
     "metadata": {},
     "output_type": "execute_result"
    },
    {
     "data": {
      "image/png": "[encoded data removed]",
      "text/plain": [
       "<Figure size 432x288 with 2 Axes>"
      ]
     },
     "metadata": {},
     "output_type": "display_data"
    }
   ],
   "source": [
    "sns.heatmap(acc_sim_matrice_5fold)\n",
    "plt.title('Accuracy similarity matrice: 5-fold cv')"
   ]
  },
  {
   "cell_type": "code",
   "execution_count": 84,
   "metadata": {},
   "outputs": [],
   "source": [
    "df_10fold_acc=dataframe_accuracies_10fold.copy()"
   ]
  },
  {
   "cell_type": "code",
   "execution_count": 85,
   "metadata": {},
   "outputs": [],
   "source": [
    "df_10fold_acc.loc['mean'] =df_10fold_acc.mean()"
   ]
  },
  {
   "cell_type": "code",
   "execution_count": 86,
   "metadata": {},
   "outputs": [],
   "source": [
    "acc_sim_matrice_10fold=matrix_acc(list(df_10fold_acc.loc['mean']))"
   ]
  },
  {
   "cell_type": "code",
   "execution_count": 87,
   "metadata": {},
   "outputs": [
    {
     "data": {
      "text/plain": [
       "Text(0.5, 1.0, 'Accuracy similarity matrice: 10-fold cv')"
      ]
     },
     "execution_count": 87,
     "metadata": {},
     "output_type": "execute_result"
    },
    {
     "data": {
      "image/png": "[encoded data removed]",
      "text/plain": [
       "<Figure size 432x288 with 2 Axes>"
      ]
     },
     "metadata": {},
     "output_type": "display_data"
    }
   ],
   "source": [
    "sns.heatmap(acc_sim_matrice_10fold)\n",
    "plt.title('Accuracy similarity matrice: 10-fold cv')"
   ]
  },
  {
   "cell_type": "code",
   "execution_count": 88,
   "metadata": {},
   "outputs": [],
   "source": [
    "df_loo_acc=dataframe_accuracies_loo.copy()"
   ]
  },
  {
   "cell_type": "code",
   "execution_count": 89,
   "metadata": {},
   "outputs": [],
   "source": [
    "df_loo_acc.loc['mean'] =df_loo_acc.mean()"
   ]
  },
  {
   "cell_type": "code",
   "execution_count": 90,
   "metadata": {},
   "outputs": [],
   "source": [
    "acc_sim_matrice_loo=matrix_acc(list(df_loo_acc.loc['mean']))"
   ]
  },
  {
   "cell_type": "code",
   "execution_count": 91,
   "metadata": {},
   "outputs": [
    {
     "data": {
      "text/plain": [
       "Text(0.5, 1.0, 'Accuracy similarity matrice: LOO cv')"
      ]
     },
     "execution_count": 91,
     "metadata": {},
     "output_type": "execute_result"
    },
    {
     "data": {
      "image/png": "[encoded data removed]",
      "text/plain": [
       "<Figure size 432x288 with 2 Axes>"
      ]
     },
     "metadata": {},
     "output_type": "display_data"
    }
   ],
   "source": [
    "sns.heatmap(acc_sim_matrice_loo)\n",
    "plt.title('Accuracy similarity matrice: LOO cv')"
   ]
  },
  {
   "cell_type": "code",
   "execution_count": 92,
   "metadata": {},
   "outputs": [],
   "source": [
    "import seaborn as sns \n",
    "sns.set()"
   ]
  },
  {
   "cell_type": "markdown",
   "metadata": {},
   "source": [
    "### Final similarity without stability"
   ]
  },
  {
   "cell_type": "code",
   "execution_count": 93,
   "metadata": {},
   "outputs": [
    {
     "data": {
      "text/plain": [
       "Text(0.5, 1.0, 'Final similarity matrice without stability: 5-fold cv')"
      ]
     },
     "execution_count": 93,
     "metadata": {},
     "output_type": "execute_result"
    },
    {
     "data": {
      "image/png": "[encoded data removed]",
      "text/plain": [
       "<Figure size 432x288 with 2 Axes>"
      ]
     },
     "metadata": {},
     "output_type": "display_data"
    }
   ],
   "source": [
    "avg_sim_5fold=dataframe_ranking_5fold.overlapping.mean()\n",
    "Final_sim_5fold=np.multiply(avg_sim_5fold,acc_sim_matrice_5fold)\n",
    "sns.heatmap(Final_sim_5fold,annot=True)\n",
    "plt.title('Final similarity matrice without stability: 5-fold cv')"
   ]
  },
  {
   "cell_type": "markdown",
   "metadata": {},
   "source": [
    "### Z-score normalized"
   ]
  },
  {
   "cell_type": "raw",
   "metadata": {},
   "source": [
    "#avg_sim_normalized\n",
    "#acc_sim_normalized\n",
    "normalized_final_sim_5fold=np.multiply(avg_sim_normalized,acc_sim_normalized)"
   ]
  },
  {
   "cell_type": "raw",
   "metadata": {},
   "source": [
    "sns.heatmap(normalized_final_sim_5fold)\n",
    "plt.title('normalized final similarity without stability:5-fold')"
   ]
  },
  {
   "cell_type": "markdown",
   "metadata": {},
   "source": [
    "### Min-max normalized"
   ]
  },
  {
   "cell_type": "raw",
   "metadata": {},
   "source": [
    "#tested_avg_sim\n",
    "#tested_normalization_accuracy\n",
    "tested_final_sim=np.multiply(tested_avg_sim,tested_normalization_accuracy)"
   ]
  },
  {
   "cell_type": "raw",
   "metadata": {},
   "source": [
    "check_symmetric(tested_final_sim)"
   ]
  },
  {
   "cell_type": "raw",
   "metadata": {},
   "source": [
    "sns.heatmap(tested_final_sim,annot=True)"
   ]
  },
  {
   "cell_type": "code",
   "execution_count": 94,
   "metadata": {},
   "outputs": [
    {
     "data": {
      "text/plain": [
       "Text(0.5, 1.0, 'Final similarity matrice without stability: 10-fold cv')"
      ]
     },
     "execution_count": 94,
     "metadata": {},
     "output_type": "execute_result"
    },
    {
     "data": {
      "image/png": "[encoded data removed]",
      "text/plain": [
       "<Figure size 432x288 with 2 Axes>"
      ]
     },
     "metadata": {},
     "output_type": "display_data"
    }
   ],
   "source": [
    "avg_sim_10fold=dataframe_ranking_10fold.overlapping.mean()\n",
    "Final_sim_10fold=np.multiply(avg_sim_10fold,acc_sim_matrice_10fold)\n",
    "sns.heatmap(Final_sim_10fold,annot=True)\n",
    "plt.title('Final similarity matrice without stability: 10-fold cv')"
   ]
  },
  {
   "cell_type": "code",
   "execution_count": 95,
   "metadata": {},
   "outputs": [
    {
     "data": {
      "text/plain": [
       "Text(0.5, 1.0, 'Final similarity matrice without stability: LOO cv')"
      ]
     },
     "execution_count": 95,
     "metadata": {},
     "output_type": "execute_result"
    },
    {
     "data": {
      "image/png": "[encoded data removed]",
      "text/plain": [
       "<Figure size 432x288 with 2 Axes>"
      ]
     },
     "metadata": {},
     "output_type": "display_data"
    }
   ],
   "source": [
    "avg_sim_loo=dataframe_ranking_loo.overlapping.mean()\n",
    "Final_sim_loo=np.multiply(avg_sim_loo,acc_sim_matrice_loo)\n",
    "sns.heatmap(Final_sim_loo,annot=True)\n",
    "plt.title('Final similarity matrice without stability: LOO cv')"
   ]
  },
  {
   "cell_type": "markdown",
   "metadata": {},
   "source": [
    "### Binary overlapping for FS reliefF and k =10 (5-fold,10fold and LOO)"
   ]
  },
  {
   "cell_type": "code",
   "execution_count": 96,
   "metadata": {},
   "outputs": [],
   "source": [
    "def binary_intersection(a,b,k):\n",
    "    ''' A function that return the percentage of common elements to both a and b'''\n",
    "    sum_=0\n",
    "    for x in range(a.shape[0]):\n",
    "        for y in range(a.shape[1]):\n",
    "            sum_+=np.sum((a[x,y]==b[x,y]))\n",
    "    #percentage=(sum_*100)/k\n",
    "    percentage=(sum_*100)/b.size\n",
    "    return(percentage)"
   ]
  },
  {
   "cell_type": "code",
   "execution_count": 97,
   "metadata": {},
   "outputs": [],
   "source": [
    "def binary_matrice(FS_k,k):\n",
    "    n=len(FS_k)\n",
    "    m=np.ones((n,n))\n",
    "    for i in range(n):\n",
    "        for j in range(i+1,n):\n",
    "            m[i,j]=binary_intersection(FS_k[i],FS_k[j],k)\n",
    "            m[j,i]=m[i,j]\n",
    "   # for i in range(n):\n",
    "    #    m[i,i]=intersection(FS_k[i],FS_k[i])/100\n",
    "    return(m)"
   ]
  },
  {
   "cell_type": "raw",
   "metadata": {},
   "source": [
    "def normalise_matrix(a):\n",
    "    row_sums = a.sum(axis=1)\n",
    "    new_matrix = a / row_sums[:, np.newaxis]\n",
    "    return(new_matrix)"
   ]
  },
  {
   "cell_type": "raw",
   "metadata": {},
   "source": [
    "binary_matrice(FS_k,k)"
   ]
  },
  {
   "cell_type": "raw",
   "metadata": {},
   "source": [
    "X.shape"
   ]
  },
  {
   "cell_type": "code",
   "execution_count": 98,
   "metadata": {},
   "outputs": [],
   "source": [
    "FS_k=[dataframe_ranking_5fold.overlapping[100],dataframe_ranking_10fold.overlapping[100],\n",
    "      dataframe_ranking_loo.overlapping[100]]\n",
    "k=100"
   ]
  },
  {
   "cell_type": "code",
   "execution_count": 99,
   "metadata": {},
   "outputs": [],
   "source": [
    "labels=['5fold','10fold','LOO']\n",
    "dataframe=pd.DataFrame(binary_matrice(FS_k,k),columns=labels,index=labels)"
   ]
  },
  {
   "cell_type": "code",
   "execution_count": 100,
   "metadata": {},
   "outputs": [
    {
     "data": {
      "text/plain": [
       "Text(0.5, 1.0, 'The overlap in % between top 100 features discovered using a pair of CV methods')"
      ]
     },
     "execution_count": 100,
     "metadata": {},
     "output_type": "execute_result"
    },
    {
     "data": {
      "image/png": "[encoded data removed]",
      "text/plain": [
       "<Figure size 432x288 with 2 Axes>"
      ]
     },
     "metadata": {},
     "output_type": "display_data"
    }
   ],
   "source": [
    "sns.heatmap(dataframe)\n",
    "plt.title('The overlap in % between top 100 features discovered using a pair of CV methods')"
   ]
  },
  {
   "cell_type": "markdown",
   "metadata": {},
   "source": [
    "### Weighted overlapping for FS reliefF and k =10 (5-fold,10fold and LOO)"
   ]
  },
  {
   "cell_type": "code",
   "execution_count": null,
   "metadata": {},
   "outputs": [],
   "source": [
    "dataframe_weights_5fold.reliefF[10]"
   ]
  },
  {
   "cell_type": "markdown",
   "metadata": {},
   "source": [
    "### Identify the most reproducible feature selection method"
   ]
  },
  {
   "cell_type": "code",
   "execution_count": 101,
   "metadata": {},
   "outputs": [],
   "source": [
    "# Centrality measure \n",
    "import networkx as nx\n",
    "G_5fold=nx.from_numpy_matrix(Final_sim_5fold)\n",
    "#centrality_5fold=nx.degree_centrality(G_5fold)"
   ]
  },
  {
   "cell_type": "raw",
   "metadata": {},
   "source": [
    "centrality_5fold"
   ]
  },
  {
   "cell_type": "raw",
   "metadata": {},
   "source": [
    "import networkx as nx\n",
    "normalized_G=nx.from_numpy_matrix(Final_sim_5fold)"
   ]
  },
  {
   "cell_type": "code",
   "execution_count": 102,
   "metadata": {},
   "outputs": [],
   "source": [
    "G_10fold=nx.from_numpy_matrix(Final_sim_10fold)\n",
    "#centrality_10fold=nx.degree_centrality(G_10fold)"
   ]
  },
  {
   "cell_type": "code",
   "execution_count": 103,
   "metadata": {},
   "outputs": [],
   "source": [
    "G_loo=nx.from_numpy_matrix(Final_sim_loo)\n",
    "#centrality_loo=nx.degree_centrality(G_loo)"
   ]
  },
  {
   "cell_type": "raw",
   "metadata": {},
   "source": [
    "centrality_loo"
   ]
  },
  {
   "cell_type": "markdown",
   "metadata": {},
   "source": [
    "#### Calculate betweenness and closeness centrality"
   ]
  },
  {
   "cell_type": "code",
   "execution_count": 104,
   "metadata": {},
   "outputs": [],
   "source": [
    "bc_5fold=nx.betweenness_centrality(G_5fold)\n",
    "cc_5fold=nx.closeness_centrality(G_5fold)"
   ]
  },
  {
   "cell_type": "code",
   "execution_count": 105,
   "metadata": {},
   "outputs": [
    {
     "data": {
      "text/plain": [
       "{0: 0.033928571428571426,\n",
       " 1: 0.054761904761904755,\n",
       " 2: 0.01607142857142857,\n",
       " 3: 0.049999999999999996,\n",
       " 4: 0.04583333333333332,\n",
       " 5: 0.01607142857142857,\n",
       " 6: 0.03988095238095238,\n",
       " 7: 0.024999999999999998,\n",
       " 8: 0.07559523809523809}"
      ]
     },
     "execution_count": 105,
     "metadata": {},
     "output_type": "execute_result"
    }
   ],
   "source": [
    "bc_5fold"
   ]
  },
  {
   "cell_type": "code",
   "execution_count": 106,
   "metadata": {},
   "outputs": [
    {
     "data": {
      "text/plain": [
       "{0: 0.8,\n",
       " 1: 0.7272727272727273,\n",
       " 2: 0.7272727272727273,\n",
       " 3: 0.8888888888888888,\n",
       " 4: 0.8,\n",
       " 5: 0.6666666666666666,\n",
       " 6: 0.8,\n",
       " 7: 0.8,\n",
       " 8: 0.8888888888888888}"
      ]
     },
     "execution_count": 106,
     "metadata": {},
     "output_type": "execute_result"
    }
   ],
   "source": [
    "cc_5fold"
   ]
  },
  {
   "cell_type": "code",
   "execution_count": 107,
   "metadata": {},
   "outputs": [
    {
     "data": {
      "text/plain": [
       "(array([153, 448, 394, 522, 141, 585, 142, 124, 295, 132]),\n",
       " 0.3916666666666667,\n",
       " array([[-0.04641459, -0.09766469, -0.16100475,  0.        , -0.04641459,\n",
       "         -0.09766469, -0.11071863, -0.11516352, -0.07254147, -0.11071863],\n",
       "        [-0.00215914, -0.08387676, -0.08598722,  0.        , -0.00215914,\n",
       "         -0.08387676, -0.1033274 , -0.15079247, -0.02411936, -0.1033274 ],\n",
       "        [-0.08041036, -0.05013807, -0.17028561,  0.        , -0.08041036,\n",
       "         -0.05013807, -0.15197184, -0.16688121, -0.10911515, -0.15197184],\n",
       "        [-0.04901291, -0.16795477, -0.20095484,  0.        , -0.04901291,\n",
       "         -0.16795477, -0.14576251, -0.12476224, -0.07636775, -0.14576251],\n",
       "        [-0.05315027, -0.12928444, -0.11935647,  0.        , -0.05315027,\n",
       "         -0.12928444, -0.10753122, -0.16630817, -0.04115818, -0.10753122]]))"
      ]
     },
     "execution_count": 107,
     "metadata": {},
     "output_type": "execute_result"
    }
   ],
   "source": [
    "training(kf5,10,reliefF)"
   ]
  },
  {
   "cell_type": "markdown",
   "metadata": {},
   "source": [
    "### Determine best K and avearge accuracy "
   ]
  },
  {
   "cell_type": "code",
   "execution_count": 108,
   "metadata": {},
   "outputs": [
    {
     "data": {
      "text/plain": [
       "[<matplotlib.lines.Line2D at 0x7f2a8c7a3f60>]"
      ]
     },
     "execution_count": 108,
     "metadata": {},
     "output_type": "execute_result"
    },
    {
     "data": {
      "image/png": "[encoded data removed]",
      "text/plain": [
       "<Figure size 432x288 with 1 Axes>"
      ]
     },
     "metadata": {},
     "output_type": "display_data"
    }
   ],
   "source": [
    "plt.plot(dataframe_accuracies_5fold.index,dataframe_accuracies_5fold.reliefF)"
   ]
  },
  {
   "cell_type": "markdown",
   "metadata": {},
   "source": [
    "### Max average accuarcy "
   ]
  },
  {
   "cell_type": "code",
   "execution_count": 109,
   "metadata": {},
   "outputs": [
    {
     "data": {
      "text/plain": [
       "0.48083333333333333"
      ]
     },
     "execution_count": 109,
     "metadata": {},
     "output_type": "execute_result"
    }
   ],
   "source": [
    "dataframe_accuracies_5fold.reliefF.max()"
   ]
  },
  {
   "cell_type": "code",
   "execution_count": 110,
   "metadata": {},
   "outputs": [
    {
     "data": {
      "text/plain": [
       "[10]"
      ]
     },
     "execution_count": 110,
     "metadata": {},
     "output_type": "execute_result"
    }
   ],
   "source": [
    "dataframe_accuracies_5fold.index[dataframe_accuracies_5fold.reliefF == dataframe_accuracies_5fold.reliefF.max()].tolist()"
   ]
  },
  {
   "cell_type": "markdown",
   "metadata": {},
   "source": [
    "### ==> Highest average accuarcy is when k=20"
   ]
  },
  {
   "cell_type": "code",
   "execution_count": 111,
   "metadata": {},
   "outputs": [
    {
     "data": {
      "text/plain": [
       "Int64Index([10, 20, 30, 40, 50, 60, 70, 80, 90, 100], dtype='int64')"
      ]
     },
     "execution_count": 111,
     "metadata": {},
     "output_type": "execute_result"
    }
   ],
   "source": [
    "dataframe_accuracies_5fold.index"
   ]
  },
  {
   "cell_type": "markdown",
   "metadata": {},
   "source": [
    "### ==> Most reproducible FS methods is reliefF with the highest closeness centrality. So reliefF is identified as the most important node in the graph for 5-fold cross validation, consequently as the best FS method, with an average accuracy of 0.585 reached at k=20 top ranked features "
   ]
  },
  {
   "cell_type": "code",
   "execution_count": null,
   "metadata": {},
   "outputs": [],
   "source": []
  },
  {
   "cell_type": "markdown",
   "metadata": {},
   "source": [
    "## Classification results "
   ]
  },
  {
   "cell_type": "code",
   "execution_count": 143,
   "metadata": {},
   "outputs": [],
   "source": [
    "new_rankings,acc,_=training(kf5,20,reliefF)"
   ]
  },
  {
   "cell_type": "code",
   "execution_count": 146,
   "metadata": {},
   "outputs": [],
   "source": [
    "selected_features=X[:,new_rankings]"
   ]
  },
  {
   "cell_type": "code",
   "execution_count": 147,
   "metadata": {},
   "outputs": [
    {
     "data": {
      "text/plain": [
       "(77, 20)"
      ]
     },
     "execution_count": 147,
     "metadata": {},
     "output_type": "execute_result"
    }
   ],
   "source": [
    "selected_features.shape"
   ]
  },
  {
   "cell_type": "code",
   "execution_count": null,
   "metadata": {},
   "outputs": [],
   "source": []
  },
  {
   "cell_type": "code",
   "execution_count": 112,
   "metadata": {},
   "outputs": [],
   "source": [
    "k=10\n",
    "for train_index, test_index in kf5.split(X):\n",
    "    X_train, X_test = X[train_index], X[test_index]\n",
    "    y_train, y_test = y[train_index], y[test_index]\n",
    "\n",
    "    idx,score=relief_FS(X_train,y_train,k)\n",
    "    selected_features = X[:, idx[0:k]]\n",
    "\n",
    "    clf.fit(selected_features[train_index], y[train_index])  # predict the class labels of test data\n",
    "    y_predict = clf.predict(selected_features[test_index])\n"
   ]
  },
  {
   "cell_type": "code",
   "execution_count": 113,
   "metadata": {},
   "outputs": [
    {
     "data": {
      "image/png": "[encoded data removed]",
      "text/plain": [
       "<Figure size 432x288 with 1 Axes>"
      ]
     },
     "metadata": {},
     "output_type": "display_data"
    }
   ],
   "source": [
    "from sklearn.decomposition import PCA\n",
    "pca = PCA(n_components=2).fit(selected_features[train_index])\n",
    "pca_2d = pca.transform(selected_features[train_index])\n",
    "import pylab as pl\n",
    "for i in range(0, pca_2d.shape[0]):\n",
    "    if y_train[i] == 0:\n",
    "        c1 = pl.scatter(pca_2d[i,0],pca_2d[i,1],c='r',    marker='+')\n",
    "    elif y_train[i] == 1:\n",
    "        c2 = pl.scatter(pca_2d[i,0],pca_2d[i,1],c='b',    marker='o')\n",
    "\n",
    "pl.legend([c1, c2], ['AD', 'MCI'])\n",
    "pl.title('Linear SVM classifier using reliefF Feature selection and 5-fold CV')\n",
    "pl.show()"
   ]
  },
  {
   "cell_type": "code",
   "execution_count": 141,
   "metadata": {},
   "outputs": [],
   "source": [
    "bc_10fold=nx.betweenness_centrality(G_10fold)\n",
    "cc_10fold=nx.closeness_centrality(G_10fold)"
   ]
  },
  {
   "cell_type": "code",
   "execution_count": 144,
   "metadata": {},
   "outputs": [
    {
     "data": {
      "text/plain": [
       "{0: 0.019047619047619046,\n",
       " 1: 0.057738095238095234,\n",
       " 2: 0.027976190476190474,\n",
       " 3: 0.1261904761904762,\n",
       " 4: 0.09345238095238093,\n",
       " 5: 0.08154761904761904,\n",
       " 6: 0.023214285714285715,\n",
       " 7: 0.01607142857142857,\n",
       " 8: 0.019047619047619046}"
      ]
     },
     "execution_count": 144,
     "metadata": {},
     "output_type": "execute_result"
    }
   ],
   "source": [
    "bc_10fold"
   ]
  },
  {
   "cell_type": "code",
   "execution_count": 143,
   "metadata": {},
   "outputs": [
    {
     "data": {
      "text/plain": [
       "{0: 0.6666666666666666,\n",
       " 1: 0.7272727272727273,\n",
       " 2: 0.7272727272727273,\n",
       " 3: 0.8888888888888888,\n",
       " 4: 0.8,\n",
       " 5: 0.8,\n",
       " 6: 0.7272727272727273,\n",
       " 7: 0.6666666666666666,\n",
       " 8: 0.6666666666666666}"
      ]
     },
     "execution_count": 143,
     "metadata": {},
     "output_type": "execute_result"
    }
   ],
   "source": [
    "cc_10fold"
   ]
  },
  {
   "cell_type": "code",
   "execution_count": 117,
   "metadata": {},
   "outputs": [],
   "source": [
    "bc_loo=nx.betweenness_centrality(G_loo)\n",
    "cc_loo=nx.closeness_centrality(G_loo)"
   ]
  },
  {
   "cell_type": "code",
   "execution_count": 118,
   "metadata": {},
   "outputs": [
    {
     "data": {
      "text/plain": [
       "{0: 0.0,\n",
       " 1: 0.125,\n",
       " 2: 0.3988095238095238,\n",
       " 3: 0.15476190476190477,\n",
       " 4: 0.047619047619047616,\n",
       " 5: 0.10119047619047618,\n",
       " 6: 0.0,\n",
       " 7: 0.10714285714285714,\n",
       " 8: 0.10119047619047618}"
      ]
     },
     "execution_count": 118,
     "metadata": {},
     "output_type": "execute_result"
    }
   ],
   "source": [
    "bc_loo"
   ]
  },
  {
   "cell_type": "code",
   "execution_count": 119,
   "metadata": {},
   "outputs": [
    {
     "data": {
      "text/plain": [
       "{0: 0.5,\n",
       " 1: 0.5333333333333333,\n",
       " 2: 0.7272727272727273,\n",
       " 3: 0.6153846153846154,\n",
       " 4: 0.47058823529411764,\n",
       " 5: 0.5333333333333333,\n",
       " 6: 0.5,\n",
       " 7: 0.5714285714285714,\n",
       " 8: 0.6153846153846154}"
      ]
     },
     "execution_count": 119,
     "metadata": {},
     "output_type": "execute_result"
    }
   ],
   "source": [
    "cc_loo"
   ]
  },
  {
   "cell_type": "code",
   "execution_count": 120,
   "metadata": {},
   "outputs": [
    {
     "data": {
      "text/plain": [
       "{0: 0.033928571428571426,\n",
       " 1: 0.054761904761904755,\n",
       " 2: 0.01607142857142857,\n",
       " 3: 0.049999999999999996,\n",
       " 4: 0.04583333333333332,\n",
       " 5: 0.01607142857142857,\n",
       " 6: 0.03988095238095238,\n",
       " 7: 0.024999999999999998,\n",
       " 8: 0.07559523809523809}"
      ]
     },
     "execution_count": 120,
     "metadata": {},
     "output_type": "execute_result"
    }
   ],
   "source": [
    "bc_5fold"
   ]
  },
  {
   "cell_type": "code",
   "execution_count": 121,
   "metadata": {},
   "outputs": [
    {
     "data": {
      "text/plain": [
       "{0: 0.8,\n",
       " 1: 0.7272727272727273,\n",
       " 2: 0.7272727272727273,\n",
       " 3: 0.8888888888888888,\n",
       " 4: 0.8,\n",
       " 5: 0.6666666666666666,\n",
       " 6: 0.8,\n",
       " 7: 0.8,\n",
       " 8: 0.8888888888888888}"
      ]
     },
     "execution_count": 121,
     "metadata": {},
     "output_type": "execute_result"
    }
   ],
   "source": [
    "cc_5fold"
   ]
  },
  {
   "cell_type": "code",
   "execution_count": 122,
   "metadata": {},
   "outputs": [
    {
     "data": {
      "text/plain": [
       "Text(0.5, 1.0, 'Betweeness centrality')"
      ]
     },
     "execution_count": 122,
     "metadata": {},
     "output_type": "execute_result"
    },
    {
     "data": {
      "image/png": "[encoded data removed]",
      "text/plain": [
       "<Figure size 432x288 with 1 Axes>"
      ]
     },
     "metadata": {},
     "output_type": "display_data"
    }
   ],
   "source": [
    "plt.hist(bc_5fold.values())\n",
    "plt.title('Betweeness centrality')"
   ]
  },
  {
   "cell_type": "code",
   "execution_count": 123,
   "metadata": {},
   "outputs": [
    {
     "data": {
      "text/plain": [
       "Text(0.5, 1.0, 'closeness centrality')"
      ]
     },
     "execution_count": 123,
     "metadata": {},
     "output_type": "execute_result"
    },
    {
     "data": {
      "image/png": "[encoded data removed]",
      "text/plain": [
       "<Figure size 432x288 with 1 Axes>"
      ]
     },
     "metadata": {},
     "output_type": "display_data"
    }
   ],
   "source": [
    "plt.hist(cc_5fold.values())\n",
    "plt.title('closeness centrality')"
   ]
  },
  {
   "cell_type": "markdown",
   "metadata": {},
   "source": [
    "#### Calculate closeness centrality"
   ]
  },
  {
   "cell_type": "code",
   "execution_count": 124,
   "metadata": {},
   "outputs": [],
   "source": [
    "cc_5fold=nx.closeness_centrality(G_5fold)\n",
    "bc_5fold=nx.betweenness_centrality(G_5fold)"
   ]
  },
  {
   "cell_type": "code",
   "execution_count": 125,
   "metadata": {},
   "outputs": [
    {
     "data": {
      "text/plain": [
       "Text(0.5, 1.0, 'Distribution of betweeness centrality')"
      ]
     },
     "execution_count": 125,
     "metadata": {},
     "output_type": "execute_result"
    },
    {
     "data": {
      "image/png": "[encoded data removed]",
      "text/plain": [
       "<Figure size 432x288 with 1 Axes>"
      ]
     },
     "metadata": {},
     "output_type": "display_data"
    }
   ],
   "source": [
    "plt.hist(bc_5fold.values())\n",
    "plt.title('Distribution of betweeness centrality')"
   ]
  },
  {
   "cell_type": "code",
   "execution_count": 126,
   "metadata": {},
   "outputs": [
    {
     "data": {
      "text/plain": [
       "Text(0.5, 1.0, 'Distribution of closeness centrality')"
      ]
     },
     "execution_count": 126,
     "metadata": {},
     "output_type": "execute_result"
    },
    {
     "data": {
      "image/png": "[encoded data removed]",
      "text/plain": [
       "<Figure size 432x288 with 1 Axes>"
      ]
     },
     "metadata": {},
     "output_type": "display_data"
    }
   ],
   "source": [
    "plt.hist(cc_5fold.values())\n",
    "plt.title('Distribution of closeness centrality')"
   ]
  },
  {
   "cell_type": "code",
   "execution_count": 127,
   "metadata": {},
   "outputs": [
    {
     "name": "stdout",
     "output_type": "stream",
     "text": [
      "Nodes of graph: \n",
      "[0, 1, 2, 3, 4, 5, 6, 7, 8]\n",
      "Edges of graph: \n",
      "[(0, 0), (0, 1), (0, 2), (0, 3), (0, 6), (0, 7), (0, 8), (1, 1), (1, 2), (1, 3), (1, 4), (1, 5), (2, 2), (2, 3), (2, 7), (2, 8), (3, 3), (3, 4), (3, 6), (3, 7), (3, 8), (4, 4), (4, 5), (4, 6), (4, 7), (4, 8), (5, 8), (5, 5), (5, 6), (6, 6), (6, 7), (6, 8), (7, 7), (7, 8), (8, 8)]\n"
     ]
    },
    {
     "data": {
      "image/png": "[encoded data removed]",
      "text/plain": [
       "<Figure size 432x288 with 1 Axes>"
      ]
     },
     "metadata": {},
     "output_type": "display_data"
    }
   ],
   "source": [
    "import networkx as nx\n",
    "import matplotlib.pyplot as plt\n",
    "\n",
    "#G=nx.path_graph(4)\n",
    "\n",
    "print(\"Nodes of graph: \")\n",
    "print(G_5fold.nodes())\n",
    "print(\"Edges of graph: \")\n",
    "print(G_5fold.edges())\n",
    "nx.draw(G_5fold)\n",
    "#plt.savefig(\"path_graph1.png\")\n",
    "plt.show()"
   ]
  },
  {
   "cell_type": "code",
   "execution_count": null,
   "metadata": {},
   "outputs": [],
   "source": [
    "reliefF\n",
    "lap_score\n",
    "ll_l21\n",
    "ls_l21\n",
    "UDFS\n",
    "fisher_score\n",
    "chi_square\n",
    "gini_index\n",
    "SPEC\n"
   ]
  },
  {
   "cell_type": "code",
   "execution_count": 152,
   "metadata": {},
   "outputs": [
    {
     "data": {
      "image/png": "[encoded data removed]",
      "text/plain": [
       "<Figure size 360x360 with 1 Axes>"
      ]
     },
     "metadata": {},
     "output_type": "display_data"
    }
   ],
   "source": [
    "import matplotlib.pyplot as plt\n",
    "\n",
    "import networkx as nx\n",
    "G=G_loo\n",
    "#G=nx.from_numpy_matrix(final_sim_kf5)\n",
    "pos=nx.spring_layout(G) # positions for all nodes\n",
    "\n",
    "# nodes\n",
    "nx.draw_networkx_nodes(G,pos,\n",
    "                       nodelist=[0,1,2,3,4,5,6,7,8],\n",
    "                       node_color='r',\n",
    "                       node_size=500,\n",
    "                   alpha=0.8)\n",
    "#nx.draw_networkx_nodes(G,pos,\n",
    "#                       nodelist=[4,5,6,7],\n",
    "#                       node_color='b',\n",
    "#                       node_size=500,\n",
    "#                   alpha=0.8)\n",
    "\n",
    "# edges\n",
    "nx.draw_networkx_edges(G,pos,width=1.0,alpha=0.5)\n",
    "nx.draw_networkx_edges(G,pos,\n",
    "                       width=2,alpha=0.5,edge_color='b')\n",
    "#nx.draw_networkx_edges(G,pos,\n",
    "#                       edgelist=[(4,5),(5,6),(6,7),(7,4)],\n",
    "#                       width=8,alpha=0.5,edge_color='b')\n",
    "\n",
    "#reliefF,lap_score,ll_l21,UDFS,fisher_score,chi_square,gini_index\n",
    "# some math labels\n",
    "labels={}\n",
    "labels[0]=r'reliefF'\n",
    "labels[1]=r'lap_score'\n",
    "labels[2]=r'll_l21'\n",
    "labels[3]=r'ls_l21'\n",
    "labels[4]=r'UDFS'\n",
    "labels[5]=r'fisher_score'\n",
    "labels[6]=r'chi_square'\n",
    "labels[7]=r'gini_index'\n",
    "labels[8]=r'SPEC'\n",
    "nx.draw_networkx_labels(G,pos,labels,font_size=12)\n",
    "\n",
    "#plt.axis('off')\n",
    "\n",
    "plt.rcParams[\"figure.figsize\"] = (5,5)\n",
    "#plt.savefig(\"5fold_graph.png\") # save as png\n",
    "#plt.figure(figsize=(10,10))\n",
    "plt.title('RH: loo graph')\n",
    "plt.show() # display"
   ]
  },
  {
   "cell_type": "markdown",
   "metadata": {},
   "source": [
    "import plotly.plotly as py"
   ]
  },
  {
   "cell_type": "markdown",
   "metadata": {},
   "source": [
    "### Stability construction"
   ]
  },
  {
   "cell_type": "code",
   "execution_count": 153,
   "metadata": {},
   "outputs": [],
   "source": [
    "def kuncheva_stability(featidx,d):\n",
    "    q,k = featidx.shape\n",
    "    #q = size(featidx,1);\n",
    "    #q=num_methods\n",
    "    r = np.zeros((q,q))\n",
    "    for n in range(1,q-1):\n",
    "        for m in range(n,q-1):\n",
    "            r[n,m] = len(np.intersect1d(featidx[n,0],featidx[n,1])) + len(np.intersect1d(featidx[n,0],featidx[n + 1,1])) + len(np.intersect1d(featidx[n,0],featidx[n-1,1]))\n",
    "    A = np.true_divide(np.subtract(r, (k**2/d)),(k-(k**2/d)))\n",
    "    S = 2*sum(sum(A))/(q*(q-1))\n",
    "    return(S)"
   ]
  },
  {
   "cell_type": "code",
   "execution_count": 154,
   "metadata": {},
   "outputs": [],
   "source": [
    "def get_ranking_matrix(a,k):\n",
    "    #The columns are the respective rankings of pool_FS\n",
    "    #a=dataframe_ranking_5fold.loc[10]\n",
    "    a=a.as_matrix(columns=None)\n",
    "    b=np.zeros((k,len(pool_FS)))\n",
    "    for i in range(len(a)):\n",
    "        b[:,i]=a[i]\n",
    "    return(b)"
   ]
  },
  {
   "cell_type": "code",
   "execution_count": 155,
   "metadata": {},
   "outputs": [],
   "source": [
    "def normalize_stability(matrix):\n",
    "    n,m=matrix.shape\n",
    "    norm_mat = np.zeros((n,m))\n",
    "    for i in range(n):\n",
    "        for j in range(m):\n",
    "            norm_mat[i,j] = 100*(matrix[i,j] - np.min(matrix)) / (np.max(matrix) - np.min(matrix))\n",
    "    return(norm_mat)"
   ]
  },
  {
   "cell_type": "code",
   "execution_count": null,
   "metadata": {},
   "outputs": [],
   "source": [
    "b=get_ranking_matrix(dataframe_ranking_5fold.loc[10],10)"
   ]
  },
  {
   "cell_type": "code",
   "execution_count": null,
   "metadata": {},
   "outputs": [],
   "source": [
    "np.max(b)"
   ]
  },
  {
   "cell_type": "code",
   "execution_count": 88,
   "metadata": {},
   "outputs": [
    {
     "data": {
      "text/plain": [
       "array([[496., 430.],\n",
       "       [357., 310.],\n",
       "       [  4.,  58.],\n",
       "       [157., 593.],\n",
       "       [262., 428.],\n",
       "       [538., 312.],\n",
       "       [579., 416.],\n",
       "       [ 52., 191.],\n",
       "       [501., 558.],\n",
       "       [502., 415.]])"
      ]
     },
     "execution_count": 88,
     "metadata": {},
     "output_type": "execute_result"
    }
   ],
   "source": [
    "np.transpose(np.vstack((b[:,i],b[:,j])))"
   ]
  },
  {
   "cell_type": "code",
   "execution_count": 158,
   "metadata": {},
   "outputs": [],
   "source": [
    "def get_stability(ranking_matrix):\n",
    "    stab_mat=np.zeros((len(pool_FS),len(pool_FS)))\n",
    "    for i in range(len(pool_FS)):\n",
    "        for j in range(len(pool_FS)):\n",
    "            if i!=j:\n",
    "                stab_mat[i,j] = kuncheva_stability(np.transpose(np.vstack((ranking_matrix[:,i],ranking_matrix[:,j]))),595)\n",
    "    stab_mat=np.abs(stab_mat)\n",
    "    stab_mat=normalize_stability(stab_mat)\n",
    "    return(stab_mat)"
   ]
  },
  {
   "cell_type": "raw",
   "metadata": {},
   "source": [
    "def kuncheva_stability(featidx,d):\n",
    "    # featidx the ranking of \n",
    "\n",
    "    #featidx = featidx(1:200,:); %We only take 100 first values\n",
    "    q,k = featidx.shape;\n",
    "    #q = size(featidx,1);\n",
    "    #q=num_methods\n",
    "    r = NaN(q,q);\n",
    "    for n = 2:q-1\n",
    "        for m = n+1:q-1\n",
    "            r[n,m] = len(intersect(featidx(n,1),featidx(n,2))) + len(intersect(featidx(n,1),featidx(n + 1,2))) + len(intersect(featidx(n,1),featidx(n-1,2)))\n",
    "    end\n",
    "end\n",
    "A = (r-(k^2/d))./(k-(k^2/d));\n",
    "A(isnan(A)) = 0;\n",
    "S = 2.*sum(A(:))./(q*(q-1));\n"
   ]
  },
  {
   "cell_type": "raw",
   "metadata": {},
   "source": [
    "def intersection_cardinality(a,b):\n",
    "    '''cardinality of the intersection of the two subsets or length of the intersection of two subsets'''\n",
    "    r=0\n",
    "    for x in range(a.shape[0]):\n",
    "        for y in range(a.shape[0]):\n",
    "            r+=np.sum((a[x]==b[y]))\n",
    "    return(r)"
   ]
  },
  {
   "cell_type": "raw",
   "metadata": {},
   "source": [
    "intersection_cardinality(dataframe_ranking_5fold.reliefF[20],dataframe_ranking_5fold.SPEC[20])"
   ]
  },
  {
   "cell_type": "code",
   "execution_count": 133,
   "metadata": {},
   "outputs": [],
   "source": [
    "df_ranking_5fold=dataframe_ranking_5fold.copy()"
   ]
  },
  {
   "cell_type": "code",
   "execution_count": 167,
   "metadata": {},
   "outputs": [],
   "source": [
    "df_ranking_10fold=dataframe_ranking_10fold.copy()"
   ]
  },
  {
   "cell_type": "code",
   "execution_count": 168,
   "metadata": {},
   "outputs": [],
   "source": [
    "df_ranking_loo=dataframe_ranking_loo.copy()"
   ]
  },
  {
   "cell_type": "code",
   "execution_count": 134,
   "metadata": {},
   "outputs": [],
   "source": [
    "df_ranking_5fold.drop(['overlapping'],axis=1,inplace=True)"
   ]
  },
  {
   "cell_type": "code",
   "execution_count": 169,
   "metadata": {},
   "outputs": [],
   "source": [
    "df_ranking_10fold.drop(['overlapping'],axis=1,inplace=True)"
   ]
  },
  {
   "cell_type": "code",
   "execution_count": 170,
   "metadata": {},
   "outputs": [],
   "source": [
    "df_ranking_loo.drop(['overlapping'],axis=1,inplace=True)"
   ]
  },
  {
   "cell_type": "code",
   "execution_count": 135,
   "metadata": {},
   "outputs": [
    {
     "data": {
      "text/plain": [
       "Index(['reliefF', 'lap_score', 'll_l21', 'ls_l21', 'UDFS', 'fisher_score',\n",
       "       'chi_square', 'gini_index', 'SPEC'],\n",
       "      dtype='object')"
      ]
     },
     "execution_count": 135,
     "metadata": {},
     "output_type": "execute_result"
    }
   ],
   "source": [
    "df_ranking_5fold.columns"
   ]
  },
  {
   "cell_type": "raw",
   "metadata": {},
   "source": [
    "\n",
    "def kuncheva_score(featidx,k):\n",
    "    '''\n",
    "    Input:\n",
    "          list_: different ranking matrices of the different FS methods\n",
    "          k: top k ranked features (for k in num_fea)\n",
    "          d : is the number of features in the dataset \n",
    "    Output:\n",
    "           kuncheva_score_: the stability score'''\n",
    "\n",
    "    n=len(mat1)\n",
    "    q=\n",
    "    r = np.zeros((n,n))\n",
    "    #kuncheva index r\n",
    "    for i in range(n-1):\n",
    "        for j in range(i+1,n-1):\n",
    "            #pass\n",
    "\n",
    "            #r[i,j]=intersection_cardinality(ranking_[i],ranking_[j])\n",
    "            r[i,j]=len(np.intersect1d(featidx[n,1],featidx[n,2])) + len(np.intersect1d(featidx[n,1],featidx[n + 1,2])) + len(np.intersect1d(featidx(n,1),featidx[n-1,2]))\n",
    "    #for n in range(2,q):\n",
    "    #    for m in range(n+1,q):\n",
    "            # r is the length of the intersection of two sets \n",
    "              #r(n,m) = len(intersect(featidx[n,1],featidx[n,2])) + len(intersect(featidx[n,1],featidx[n + 1,2])) + len(intersect(featidx(n,1),featidx[n-1,2]))\n",
    "    # This is the consistency index for two subsets        \n",
    "    A = np.true_divide((r-((k**2/d)*np.ones((n,n)))),(k-(k**2/d)))\n",
    "    #A(isnan(A)) = 0;\n",
    "    #kuncheva_score_ = 2*np.sum(A)/(q*(q-1))\n",
    "          \n",
    "    #return(kuncheva_score_)\n",
    "    return(r)\n",
    "\n"
   ]
  },
  {
   "cell_type": "raw",
   "metadata": {},
   "source": [
    "def rowIndex(row):\n",
    "    return(kuncheva_score(list(row),589,row.name))\n",
    "    \n",
    "df_ranking_5fold['stability']=df_ranking_5fold.apply(rowIndex,axis=1)"
   ]
  },
  {
   "cell_type": "code",
   "execution_count": 136,
   "metadata": {},
   "outputs": [],
   "source": [
    "def rowStability(row):\n",
    "    matrix=get_ranking_matrix(row,row.name)\n",
    "    return(get_stability(matrix))\n",
    "\n"
   ]
  },
  {
   "cell_type": "code",
   "execution_count": 137,
   "metadata": {},
   "outputs": [
    {
     "name": "stderr",
     "output_type": "stream",
     "text": [
      "/usr/local/lib/python3.5/dist-packages/ipykernel_launcher.py:4: FutureWarning: Method .as_matrix will be removed in a future version. Use .values instead.\n",
      "  after removing the cwd from sys.path.\n"
     ]
    }
   ],
   "source": [
    "df_ranking_5fold['stability']=df_ranking_5fold.apply(rowStability,axis=1)"
   ]
  },
  {
   "cell_type": "code",
   "execution_count": 171,
   "metadata": {},
   "outputs": [
    {
     "name": "stderr",
     "output_type": "stream",
     "text": [
      "/usr/local/lib/python3.5/dist-packages/ipykernel_launcher.py:4: FutureWarning: Method .as_matrix will be removed in a future version. Use .values instead.\n",
      "  after removing the cwd from sys.path.\n"
     ]
    }
   ],
   "source": [
    "df_ranking_10fold['stability']=df_ranking_10fold.apply(rowStability,axis=1)"
   ]
  },
  {
   "cell_type": "code",
   "execution_count": null,
   "metadata": {},
   "outputs": [
    {
     "name": "stderr",
     "output_type": "stream",
     "text": [
      "/usr/local/lib/python3.5/dist-packages/ipykernel_launcher.py:4: FutureWarning: Method .as_matrix will be removed in a future version. Use .values instead.\n",
      "  after removing the cwd from sys.path.\n"
     ]
    }
   ],
   "source": [
    "df_ranking_loo['stability']=df_ranking_loo.apply(rowStability,axis=1)"
   ]
  },
  {
   "cell_type": "code",
   "execution_count": null,
   "metadata": {},
   "outputs": [],
   "source": []
  },
  {
   "cell_type": "markdown",
   "metadata": {},
   "source": [
    "#### Mean stability K"
   ]
  },
  {
   "cell_type": "code",
   "execution_count": 138,
   "metadata": {},
   "outputs": [],
   "source": [
    "average_5fold_stability=df_ranking_5fold.stability.mean()"
   ]
  },
  {
   "cell_type": "code",
   "execution_count": 175,
   "metadata": {},
   "outputs": [],
   "source": [
    "average_10fold_stability=df_ranking_10fold.stability.mean()"
   ]
  },
  {
   "cell_type": "code",
   "execution_count": 176,
   "metadata": {},
   "outputs": [],
   "source": [
    "average_loo_stability=df_ranking_loo.stability.mean()"
   ]
  },
  {
   "cell_type": "code",
   "execution_count": 178,
   "metadata": {},
   "outputs": [
    {
     "data": {
      "text/plain": [
       "Text(0.5, 1.0, 'RH: Average 5-fold stability')"
      ]
     },
     "execution_count": 178,
     "metadata": {},
     "output_type": "execute_result"
    },
    {
     "data": {
      "image/png": "[encoded data removed]",
      "text/plain": [
       "<Figure size 360x360 with 2 Axes>"
      ]
     },
     "metadata": {},
     "output_type": "display_data"
    }
   ],
   "source": [
    "sns.heatmap(average_5fold_stability)\n",
    "plt.title('RH: Average 5-fold stability')"
   ]
  },
  {
   "cell_type": "raw",
   "metadata": {},
   "source": [
    "average_5fold_stability=df_ranking_5fold.stability.mean()"
   ]
  },
  {
   "cell_type": "code",
   "execution_count": 187,
   "metadata": {},
   "outputs": [
    {
     "data": {
      "text/plain": [
       "Text(0.5, 1.0, 'RH: Average 10-fold stability')"
      ]
     },
     "execution_count": 187,
     "metadata": {},
     "output_type": "execute_result"
    },
    {
     "data": {
      "image/png": "[encoded data removed]",
      "text/plain": [
       "<Figure size 360x360 with 2 Axes>"
      ]
     },
     "metadata": {},
     "output_type": "display_data"
    }
   ],
   "source": [
    "sns.heatmap(average_10fold_stability)\n",
    "plt.title('RH: Average 10-fold stability')"
   ]
  },
  {
   "cell_type": "code",
   "execution_count": 191,
   "metadata": {},
   "outputs": [
    {
     "data": {
      "text/plain": [
       "Text(0.5, 1.0, 'RH: Average loo stability')"
      ]
     },
     "execution_count": 191,
     "metadata": {},
     "output_type": "execute_result"
    },
    {
     "data": {
      "image/png": "[encoded data removed]",
      "text/plain": [
       "<Figure size 360x360 with 2 Axes>"
      ]
     },
     "metadata": {},
     "output_type": "display_data"
    }
   ],
   "source": [
    "sns.heatmap(average_loo_stability)\n",
    "plt.title('RH: Average loo stability')"
   ]
  },
  {
   "cell_type": "markdown",
   "metadata": {},
   "source": [
    "### Similarity with stability"
   ]
  },
  {
   "cell_type": "code",
   "execution_count": 181,
   "metadata": {},
   "outputs": [],
   "source": [
    "Final_sim_5fold_stability=np.multiply(acc_sim_matrice_5fold,avg_sim_5fold,\n",
    "                                      average_5fold_stability)"
   ]
  },
  {
   "cell_type": "code",
   "execution_count": 182,
   "metadata": {},
   "outputs": [],
   "source": [
    "Final_sim_10fold_stability=np.multiply(acc_sim_matrice_10fold,avg_sim_10fold,\n",
    "                                      average_10fold_stability)"
   ]
  },
  {
   "cell_type": "code",
   "execution_count": 183,
   "metadata": {},
   "outputs": [],
   "source": [
    "Final_sim_loo_stability=np.multiply(acc_sim_matrice_loo,avg_sim_loo,\n",
    "                                      average_loo_stability)"
   ]
  },
  {
   "cell_type": "code",
   "execution_count": 188,
   "metadata": {},
   "outputs": [
    {
     "data": {
      "text/plain": [
       "Text(0.5, 1.0, 'RH: Final similarity matrice with stability 5fold')"
      ]
     },
     "execution_count": 188,
     "metadata": {},
     "output_type": "execute_result"
    },
    {
     "data": {
      "image/png": "[encoded data removed]",
      "text/plain": [
       "<Figure size 360x360 with 2 Axes>"
      ]
     },
     "metadata": {},
     "output_type": "display_data"
    }
   ],
   "source": [
    "sns.heatmap(Final_sim_5fold_stability)\n",
    "plt.title('RH: Final similarity matrice with stability 5fold')"
   ]
  },
  {
   "cell_type": "code",
   "execution_count": 189,
   "metadata": {},
   "outputs": [
    {
     "data": {
      "text/plain": [
       "Text(0.5, 1.0, 'RH:Final similarity matrice with stability 10-fold')"
      ]
     },
     "execution_count": 189,
     "metadata": {},
     "output_type": "execute_result"
    },
    {
     "data": {
      "image/png": "[encoded data removed]",
      "text/plain": [
       "<Figure size 360x360 with 2 Axes>"
      ]
     },
     "metadata": {},
     "output_type": "display_data"
    }
   ],
   "source": [
    "sns.heatmap(Final_sim_10fold_stability)\n",
    "plt.title('RH:Final similarity matrice with stability 10-fold')"
   ]
  },
  {
   "cell_type": "code",
   "execution_count": 190,
   "metadata": {},
   "outputs": [
    {
     "data": {
      "text/plain": [
       "Text(0.5, 1.0, 'RH:Final similarity matrice with stability loo')"
      ]
     },
     "execution_count": 190,
     "metadata": {},
     "output_type": "execute_result"
    },
    {
     "data": {
      "image/png": "[encoded data removed]",
      "text/plain": [
       "<Figure size 360x360 with 2 Axes>"
      ]
     },
     "metadata": {},
     "output_type": "display_data"
    }
   ],
   "source": [
    "sns.heatmap(Final_sim_loo_stability)\n",
    "plt.title('RH:Final similarity matrice with stability loo')"
   ]
  },
  {
   "cell_type": "markdown",
   "metadata": {},
   "source": [
    "### Centrality  after stability"
   ]
  },
  {
   "cell_type": "code",
   "execution_count": 198,
   "metadata": {},
   "outputs": [],
   "source": [
    "import networkx as nx\n",
    "G_5fold_stability=nx.from_numpy_matrix(Final_sim_5fold_stability)\n",
    "G_10fold_stability=nx.from_numpy_matrix(Final_sim_10fold_stability)\n",
    "G_loo_stability=nx.from_numpy_matrix(Final_sim_loo_stability)\n",
    "#centrality_5fold_stability=nx.degree_centrality(G_5fold_stability)"
   ]
  },
  {
   "cell_type": "code",
   "execution_count": null,
   "metadata": {},
   "outputs": [],
   "source": [
    "centrality_5fold_stability"
   ]
  },
  {
   "cell_type": "code",
   "execution_count": 199,
   "metadata": {},
   "outputs": [],
   "source": [
    "cc_5fold=nx.closeness_centrality(G_5fold_stability)\n",
    "bc_5fold=nx.betweenness_centrality(G_5fold_stability)\n",
    "cc_10fold=nx.closeness_centrality(G_10fold_stability)\n",
    "bc_10fold=nx.betweenness_centrality(G_10fold_stability)\n",
    "cc_loo=nx.closeness_centrality(G_loo_stability)\n",
    "bc_loo=nx.betweenness_centrality(G_loo_stability)"
   ]
  },
  {
   "cell_type": "code",
   "execution_count": 194,
   "metadata": {},
   "outputs": [
    {
     "data": {
      "text/plain": [
       "{0: 0.033928571428571426,\n",
       " 1: 0.054761904761904755,\n",
       " 2: 0.01607142857142857,\n",
       " 3: 0.049999999999999996,\n",
       " 4: 0.04583333333333332,\n",
       " 5: 0.01607142857142857,\n",
       " 6: 0.03988095238095238,\n",
       " 7: 0.024999999999999998,\n",
       " 8: 0.07559523809523809}"
      ]
     },
     "execution_count": 194,
     "metadata": {},
     "output_type": "execute_result"
    }
   ],
   "source": [
    "bc_5fold"
   ]
  },
  {
   "cell_type": "code",
   "execution_count": 195,
   "metadata": {},
   "outputs": [
    {
     "data": {
      "text/plain": [
       "{0: 0.8,\n",
       " 1: 0.7272727272727273,\n",
       " 2: 0.7272727272727273,\n",
       " 3: 0.8888888888888888,\n",
       " 4: 0.8,\n",
       " 5: 0.6666666666666666,\n",
       " 6: 0.8,\n",
       " 7: 0.8,\n",
       " 8: 0.8888888888888888}"
      ]
     },
     "execution_count": 195,
     "metadata": {},
     "output_type": "execute_result"
    }
   ],
   "source": [
    "cc_5fold"
   ]
  },
  {
   "cell_type": "code",
   "execution_count": 200,
   "metadata": {},
   "outputs": [
    {
     "data": {
      "text/plain": [
       "{0: 0.019047619047619046,\n",
       " 1: 0.057738095238095234,\n",
       " 2: 0.027976190476190474,\n",
       " 3: 0.1261904761904762,\n",
       " 4: 0.09345238095238093,\n",
       " 5: 0.08154761904761904,\n",
       " 6: 0.023214285714285715,\n",
       " 7: 0.01607142857142857,\n",
       " 8: 0.019047619047619046}"
      ]
     },
     "execution_count": 200,
     "metadata": {},
     "output_type": "execute_result"
    }
   ],
   "source": [
    "bc_10fold"
   ]
  },
  {
   "cell_type": "code",
   "execution_count": 201,
   "metadata": {},
   "outputs": [
    {
     "data": {
      "text/plain": [
       "{0: 0.6666666666666666,\n",
       " 1: 0.7272727272727273,\n",
       " 2: 0.7272727272727273,\n",
       " 3: 0.8888888888888888,\n",
       " 4: 0.8,\n",
       " 5: 0.8,\n",
       " 6: 0.7272727272727273,\n",
       " 7: 0.6666666666666666,\n",
       " 8: 0.6666666666666666}"
      ]
     },
     "execution_count": 201,
     "metadata": {},
     "output_type": "execute_result"
    }
   ],
   "source": [
    "cc_10fold"
   ]
  },
  {
   "cell_type": "code",
   "execution_count": 202,
   "metadata": {},
   "outputs": [
    {
     "data": {
      "text/plain": [
       "{0: 0.0,\n",
       " 1: 0.125,\n",
       " 2: 0.3988095238095238,\n",
       " 3: 0.15476190476190477,\n",
       " 4: 0.047619047619047616,\n",
       " 5: 0.10119047619047618,\n",
       " 6: 0.0,\n",
       " 7: 0.10714285714285714,\n",
       " 8: 0.10119047619047618}"
      ]
     },
     "execution_count": 202,
     "metadata": {},
     "output_type": "execute_result"
    }
   ],
   "source": [
    "bc_loo"
   ]
  },
  {
   "cell_type": "code",
   "execution_count": 203,
   "metadata": {},
   "outputs": [
    {
     "data": {
      "text/plain": [
       "{0: 0.5,\n",
       " 1: 0.5333333333333333,\n",
       " 2: 0.7272727272727273,\n",
       " 3: 0.6153846153846154,\n",
       " 4: 0.47058823529411764,\n",
       " 5: 0.5333333333333333,\n",
       " 6: 0.5,\n",
       " 7: 0.5714285714285714,\n",
       " 8: 0.6153846153846154}"
      ]
     },
     "execution_count": 203,
     "metadata": {},
     "output_type": "execute_result"
    }
   ],
   "source": [
    "cc_loo"
   ]
  },
  {
   "cell_type": "markdown",
   "metadata": {},
   "source": [
    "### Draw the graphs after stability "
   ]
  },
  {
   "cell_type": "code",
   "execution_count": 205,
   "metadata": {},
   "outputs": [
    {
     "data": {
      "image/png": "[encoded data removed]",
      "text/plain": [
       "<Figure size 360x360 with 1 Axes>"
      ]
     },
     "metadata": {},
     "output_type": "display_data"
    }
   ],
   "source": [
    "import matplotlib.pyplot as plt\n",
    "\n",
    "import networkx as nx\n",
    "G=G_loo_stability\n",
    "#G=nx.from_numpy_matrix(final_sim_kf5)\n",
    "pos=nx.spring_layout(G) # positions for all nodes\n",
    "\n",
    "# nodes\n",
    "nx.draw_networkx_nodes(G,pos,\n",
    "                       nodelist=[0,1,2,3,4,5,6,7,8],\n",
    "                       node_color='r',\n",
    "                       node_size=500,\n",
    "                   alpha=0.8)\n",
    "#nx.draw_networkx_nodes(G,pos,\n",
    "#                       nodelist=[4,5,6,7],\n",
    "#                       node_color='b',\n",
    "#                       node_size=500,\n",
    "#                   alpha=0.8)\n",
    "\n",
    "# edges\n",
    "nx.draw_networkx_edges(G,pos,width=1.0,alpha=0.5)\n",
    "nx.draw_networkx_edges(G,pos,\n",
    "                       width=2,alpha=0.5,edge_color='b')\n",
    "#nx.draw_networkx_edges(G,pos,\n",
    "#                       edgelist=[(4,5),(5,6),(6,7),(7,4)],\n",
    "#                       width=8,alpha=0.5,edge_color='b')\n",
    "\n",
    "#reliefF,lap_score,ll_l21,UDFS,fisher_score,chi_square,gini_index\n",
    "# some math labels\n",
    "labels={}\n",
    "labels[0]=r'reliefF'\n",
    "labels[1]=r'lap_score'\n",
    "labels[2]=r'll_l21'\n",
    "labels[3]=r'ls_l21'\n",
    "labels[4]=r'UDFS'\n",
    "labels[5]=r'fisher_score'\n",
    "labels[6]=r'chi_square'\n",
    "labels[7]=r'gini_index'\n",
    "labels[8]=r'SPEC'\n",
    "nx.draw_networkx_labels(G,pos,labels,font_size=12)\n",
    "\n",
    "#plt.axis('off')\n",
    "\n",
    "plt.rcParams[\"figure.figsize\"] = (5,5)\n",
    "#plt.savefig(\"5foldstability_graph.png\") # save as png\n",
    "plt.title('RH: loo graph with stability')\n",
    "#plt.figure(figsize=(10,10))\n",
    "plt.show() # display"
   ]
  },
  {
   "cell_type": "raw",
   "metadata": {},
   "source": [
    "pos = nx.spring_layout(G_5fold_stability)\n"
   ]
  },
  {
   "cell_type": "raw",
   "metadata": {},
   "source": [
    "import matplotlib.pyplot as plt\n",
    "import matplotlib.colors as mcolors\n",
    "\n",
    "# for Notebook\n",
    "%matplotlib inline"
   ]
  },
  {
   "cell_type": "raw",
   "metadata": {},
   "source": [
    "def draw(G, pos, measures, measure_name):\n",
    "    \n",
    "    nodes = nx.draw_networkx_nodes(G, pos, node_size=250, cmap=plt.cm.plasma, \n",
    "                                   node_color=measures.values(),\n",
    "                                   nodelist=measures.keys())\n",
    "    nodes.set_norm(mcolors.SymLogNorm(linthresh=0.01, linscale=1))\n",
    "    \n",
    "    # labels = nx.draw_networkx_labels(G, pos)\n",
    "    edges = nx.draw_networkx_edges(G, pos)\n",
    "\n",
    "    plt.title(measure_name)\n",
    "    plt.colorbar(nodes)\n",
    "    plt.axis('off')\n",
    "    plt.show()"
   ]
  },
  {
   "cell_type": "raw",
   "metadata": {},
   "source": [
    "G = nx.karate_club_graph()\n",
    "pos = nx.spring_layout(G)"
   ]
  },
  {
   "cell_type": "raw",
   "metadata": {},
   "source": [
    "draw(G_5fold_stability, pos, nx.degree_centrality(G_5fold_stabilit), 'Degree Centrality')\n"
   ]
  },
  {
   "cell_type": "code",
   "execution_count": null,
   "metadata": {},
   "outputs": [],
   "source": [
    "bc_5fold"
   ]
  },
  {
   "cell_type": "raw",
   "metadata": {},
   "source": [
    "kuncheva_score(list(df_ranking_5fold.loc[10]),589,10)"
   ]
  },
  {
   "cell_type": "raw",
   "metadata": {},
   "source": [
    "dataframe_ranking_5fold.reliefF[10]"
   ]
  },
  {
   "cell_type": "raw",
   "metadata": {},
   "source": [
    "def kuncheva_stability_matrix(pool_FS,num_fea):\n",
    "\n",
    "    #S_k={}\n",
    "    #similarities=[]\n",
    "    for k in num_fea:\n",
    "        FS_k=[]\n",
    "    \n",
    "        for FS in pool_FS:\n",
    "            _feature_ranking,_acc=training(cv,k,FS)\n",
    "            #FS_k_ranking.append(_feature_ranking)\n",
    "            FS_k.append(_feature_ranking)\n",
    "        S_k[k]=FS_k\n",
    "            \n",
    "    n=len(ranking_matrices)\n",
    "    m=np.ones((n,n))\n",
    "    for i in range(n-1):\n",
    "        for j in range(i+1,n):\n",
    "            m[i,j]=kuncheva_score(ranking_matrices[i],ranking_matrices[j])\n",
    "            #m[j,i]=m[i,j]\n",
    "    #for i in range(n):\n",
    "    #    m[i,i]=cost(list_[i],list_[i])\n",
    "    \n",
    "    return(m)"
   ]
  },
  {
   "cell_type": "markdown",
   "metadata": {},
   "source": [
    "# ARCHIVE"
   ]
  },
  {
   "cell_type": "markdown",
   "metadata": {},
   "source": [
    "### Store the results in a csv file"
   ]
  },
  {
   "cell_type": "raw",
   "metadata": {},
   "source": [
    "dataframe_ranking_loo.to_csv('./Dataframes/ranking_loo.csv')"
   ]
  },
  {
   "cell_type": "raw",
   "metadata": {},
   "source": [
    "dataframe_weights_loo.to_csv('./Dataframes/weights_loo.csv')"
   ]
  },
  {
   "cell_type": "raw",
   "metadata": {},
   "source": [
    "dataframe_accuracies_loo.to_csv('./Dataframes/accuracies_loo.csv')"
   ]
  },
  {
   "cell_type": "raw",
   "metadata": {},
   "source": [
    "dataframe_ranking_5fold.to_csv('./Dataframes/ranking_5fold.csv')"
   ]
  },
  {
   "cell_type": "raw",
   "metadata": {},
   "source": [
    "dataframe_weights_5fold.to_csv('./Dataframes/weights_5fold.csv')"
   ]
  },
  {
   "cell_type": "raw",
   "metadata": {},
   "source": [
    "dataframe_accuracies_5fold.to_csv('./Dataframes/accuracies_5fold.csv')"
   ]
  },
  {
   "cell_type": "markdown",
   "metadata": {},
   "source": [
    "### Store the dataframes into .mat files"
   ]
  },
  {
   "cell_type": "code",
   "execution_count": null,
   "metadata": {},
   "outputs": [],
   "source": [
    "# Turn it into dict"
   ]
  },
  {
   "cell_type": "code",
   "execution_count": null,
   "metadata": {},
   "outputs": [],
   "source": [
    "d=dict()"
   ]
  },
  {
   "cell_type": "code",
   "execution_count": null,
   "metadata": {},
   "outputs": [],
   "source": [
    "d['data']=example"
   ]
  },
  {
   "cell_type": "code",
   "execution_count": null,
   "metadata": {},
   "outputs": [],
   "source": [
    "import os\n",
    "dst_fold='/home/jupyter/Master_project/Dataframes'\n",
    "file_name='ranking_5fold'"
   ]
  },
  {
   "cell_type": "code",
   "execution_count": null,
   "metadata": {},
   "outputs": [],
   "source": [
    "f = os.path.join(dst_fold, file_name + '.mat' )\n",
    "sio.savemat(f,d)"
   ]
  },
  {
   "cell_type": "code",
   "execution_count": null,
   "metadata": {},
   "outputs": [],
   "source": [
    "rank_5fold=sio.loadmat('./Dataframes/ranking_5fold.mat')"
   ]
  },
  {
   "cell_type": "code",
   "execution_count": null,
   "metadata": {},
   "outputs": [],
   "source": [
    "rank_5fold['data']"
   ]
  },
  {
   "cell_type": "code",
   "execution_count": null,
   "metadata": {},
   "outputs": [],
   "source": [
    "df=pd.DataFrame(example)"
   ]
  },
  {
   "cell_type": "code",
   "execution_count": null,
   "metadata": {},
   "outputs": [],
   "source": [
    "df=pd.DataFrame(list(example.items()))"
   ]
  },
  {
   "cell_type": "code",
   "execution_count": null,
   "metadata": {},
   "outputs": [],
   "source": [
    "df"
   ]
  },
  {
   "cell_type": "code",
   "execution_count": null,
   "metadata": {},
   "outputs": [],
   "source": [
    "the padataframe_ranking_10fold.reliefF[10].shape"
   ]
  },
  {
   "cell_type": "markdown",
   "metadata": {},
   "source": [
    "### Binary overlapping for FS reliefF and k =10 (5-fold,10fold and 15 fold cv)"
   ]
  },
  {
   "cell_type": "raw",
   "metadata": {},
   "source": [
    "\n",
    "def normalise(matrix)\n",
    "    norm_mat = zeros(size(matrix,1),size(matrix,2));\n",
    "    for i=1:size(matrix,1)\n",
    "        for j=1:size(matrix,2)\n",
    "            norm_mat(i,j) = 100*(matrix(i,j) - min(matrix(:)) ) / ( max(matrix(:)) - min(matrix(:)) );\n",
    "        end\n",
    "    end\n",
    "end\n"
   ]
  },
  {
   "cell_type": "code",
   "execution_count": null,
   "metadata": {},
   "outputs": [],
   "source": []
  },
  {
   "cell_type": "code",
   "execution_count": null,
   "metadata": {},
   "outputs": [],
   "source": []
  },
  {
   "cell_type": "code",
   "execution_count": null,
   "metadata": {},
   "outputs": [],
   "source": []
  },
  {
   "cell_type": "code",
   "execution_count": null,
   "metadata": {},
   "outputs": [],
   "source": [
    "a=normalise_matrix(dataframe_ranking_5fold.reliefF[10])\n",
    "b=normalise_matrix(dataframe_ranking_10fold.reliefF[10])\n",
    "c=normalise_matrix(dataframe_ranking_loo.reliefF[10])"
   ]
  },
  {
   "cell_type": "code",
   "execution_count": null,
   "metadata": {},
   "outputs": [],
   "source": [
    "def overlapping_cv(a,b,c,k):\n",
    "    overlapped_cv=binary_matrice([a,b,c],k)\n",
    "    return(overlapped_cv)"
   ]
  },
  {
   "cell_type": "code",
   "execution_count": null,
   "metadata": {},
   "outputs": [],
   "source": [
    "test=binary_matrice([dataframe_ranking_5fold.reliefF[10],dataframe_ranking_10fold.reliefF[10],dataframe_ranking_loo.reliefF[10]],\n",
    "              10)"
   ]
  },
  {
   "cell_type": "code",
   "execution_count": null,
   "metadata": {},
   "outputs": [],
   "source": [
    "result=overlapping_cv(a,b,c,10)"
   ]
  },
  {
   "cell_type": "code",
   "execution_count": null,
   "metadata": {},
   "outputs": [],
   "source": [
    "test"
   ]
  },
  {
   "cell_type": "code",
   "execution_count": null,
   "metadata": {},
   "outputs": [],
   "source": [
    "result=binary_matrice([ranking_dict_kf5['reliefF'],ranking_dict_kf10['reliefF'],ranking_dict_kf15['reliefF']],10)"
   ]
  },
  {
   "cell_type": "code",
   "execution_count": null,
   "metadata": {},
   "outputs": [],
   "source": [
    "import pandas as pd\n",
    "labels=['5fold','10fold','LOO']\n",
    "dataframe=pd.DataFrame(test,columns=labels,index=labels)"
   ]
  },
  {
   "cell_type": "code",
   "execution_count": null,
   "metadata": {},
   "outputs": [],
   "source": [
    "dataframe"
   ]
  },
  {
   "cell_type": "code",
   "execution_count": null,
   "metadata": {},
   "outputs": [],
   "source": [
    "import seaborn as sns; sns.set()"
   ]
  },
  {
   "cell_type": "code",
   "execution_count": null,
   "metadata": {},
   "outputs": [],
   "source": [
    "sns.heatmap(dataframe)"
   ]
  },
  {
   "cell_type": "markdown",
   "metadata": {},
   "source": [
    "### Average ranking matrices of different FS methods "
   ]
  },
  {
   "cell_type": "code",
   "execution_count": null,
   "metadata": {},
   "outputs": [],
   "source": [
    "import seaborn as sns; sns.set()\n",
    "sns.heatmap(dataframe)"
   ]
  },
  {
   "cell_type": "markdown",
   "metadata": {},
   "source": [
    "### Weighted matrice"
   ]
  },
  {
   "cell_type": "code",
   "execution_count": null,
   "metadata": {},
   "outputs": [],
   "source": [
    "matrice"
   ]
  },
  {
   "cell_type": "code",
   "execution_count": null,
   "metadata": {},
   "outputs": [],
   "source": [
    "matrice"
   ]
  },
  {
   "cell_type": "code",
   "execution_count": null,
   "metadata": {},
   "outputs": [],
   "source": [
    "matrice"
   ]
  },
  {
   "cell_type": "code",
   "execution_count": null,
   "metadata": {},
   "outputs": [],
   "source": [
    "matrice0,acc_0=training(kf5,10,lap_score)"
   ]
  },
  {
   "cell_type": "code",
   "execution_count": null,
   "metadata": {},
   "outputs": [],
   "source": [
    "matrice1,acc_1=training(kf5,10,ll_l21)\n"
   ]
  },
  {
   "cell_type": "markdown",
   "metadata": {},
   "source": [
    "### Average similarity matrix "
   ]
  },
  {
   "cell_type": "code",
   "execution_count": null,
   "metadata": {},
   "outputs": [],
   "source": [
    "def intersect(a,b):\n",
    "    ''' A function that returns unique elements common to both a and b in a pythonic way '''\n",
    "    nrows, ncols = a.shape\n",
    "    dtype={'names':['f{}'.format(i) for i in range(ncols)],'formats':ncols * [a.dtype]}\n",
    "    c = np.intersect1d(a.view(dtype), b.view(dtype))\n",
    "    # This last bit is optional if you're okay with \"C\" being a structured array...\n",
    "    c = c.view(a.dtype).reshape(-1, ncols)\n",
    "    return(c)  \n",
    "\n",
    "    "
   ]
  },
  {
   "cell_type": "markdown",
   "metadata": {},
   "source": [
    "#### Overlapping function"
   ]
  },
  {
   "cell_type": "raw",
   "metadata": {},
   "source": [
    "\n",
    "def avg_similarity(pool_FS,num_fea,cv):\n",
    "    '''Input:\n",
    "    \n",
    "       pool_FS: pool of Feature selection methods\n",
    "       num_fea: a list of different fs numbers in this case the threshold varies from 10 to 100 with step 10\n",
    "       cv: Cross validation method (5-fold, 10_fold, LOO)\n",
    "       \n",
    "       Output: \n",
    "       \n",
    "       average_similarity: average similarity matrix'''\n",
    "    S_k={}\n",
    "    similarities=[]\n",
    "    for k in num_fea:\n",
    "        FS_k=[]\n",
    "    \n",
    "        for FS in pool_FS:\n",
    "            _feature_ranking,_acc=training(cv,k,FS)\n",
    "            #FS_k_ranking.append(_feature_ranking)\n",
    "            FS_k.append(_feature_ranking)\n",
    "        S_k[k]=FS_to_FS_similarity(FS_k)\n",
    "    for k in num_fea:\n",
    "        similarities.append(S_k[k])\n",
    "    average_similarity=sum(similarities)/len(num_fea)\n",
    "    return(average_similarity,S_k)"
   ]
  },
  {
   "cell_type": "markdown",
   "metadata": {},
   "source": [
    "### Accuracy similarity matrix"
   ]
  },
  {
   "cell_type": "code",
   "execution_count": null,
   "metadata": {},
   "outputs": [],
   "source": [
    "from statistics import mean\n",
    "import math\n",
    "def cost(ai,aj):\n",
    "    sigma=10\n",
    "    return(math.exp(-abs(ai-aj)/sigma))"
   ]
  },
  {
   "cell_type": "code",
   "execution_count": null,
   "metadata": {},
   "outputs": [],
   "source": [
    "def matrix_acc(list_):\n",
    "    n=len(list_)\n",
    "    m=np.ones((n,n))\n",
    "    for i in range(n-1):\n",
    "        for j in range(i+1,n):\n",
    "            m[i,j]=cost(list_[i],list_[j])\n",
    "            m[j,i]=m[i,j]\n",
    "    for i in range(n):\n",
    "        m[i,i]=cost(list_[i],list_[i])\n",
    "    \n",
    "    return(m)"
   ]
  },
  {
   "cell_type": "code",
   "execution_count": null,
   "metadata": {},
   "outputs": [],
   "source": [
    "def accuracy_similarity_matrix(pool_FS,num_fea,cv):\n",
    "    '''Input:\n",
    "    \n",
    "       pool_FS: pool of Feature selection methods\n",
    "       num_fea: a list of different fs numbers in this case the threshold varies from 10 to 100 with step 10\n",
    "       cv: Cross validation method (5-fold, 10_fold, LOO)\n",
    "       \n",
    "       Output:\n",
    "       FS-to-FS Accuracy similarity matrix\n",
    "       \n",
    "    '''\n",
    "    #avg_fs_acc_over_k={}\n",
    "    avg_fs_acc_over_k=[]\n",
    "    #FS_columns=['reliefF','lap_score','ll_l21','UDFS','fisher_score','chi_square','gini_index']\n",
    "    for FS in pool_FS:\n",
    "        acc_k=[]\n",
    "        for k in num_fea:\n",
    "            _feature_ranking,_acc=training(cv,k,FS)\n",
    "            #avg_fs_acc_over_k[k]=\n",
    "            acc_k.append(_acc)\n",
    "        #avg_fs_acc_over_k[str(FS.__name__.split('.')[3])]=mean(acc_k)\n",
    "        avg_fs_acc_over_k.append(mean(acc_k))\n",
    "    result=matrix_acc(avg_fs_acc_over_k)\n",
    "    return(result)"
   ]
  },
  {
   "cell_type": "code",
   "execution_count": null,
   "metadata": {},
   "outputs": [],
   "source": [
    "FS_k=[]\n",
    "S_k={}\n",
    "similarities=[]\n",
    "for k in num_fea:\n",
    "    FS_k=[]\n",
    "\n",
    "    for FS in pool_FS:\n",
    "        _feature_ranking,_acc=training(kf5,k,FS)\n",
    "        FS_k.append(_feature_ranking)\n",
    "    S_k[k]=FS_to_FS_similarity(FS_k)"
   ]
  },
  {
   "cell_type": "code",
   "execution_count": null,
   "metadata": {},
   "outputs": [],
   "source": [
    "similarities=[]\n",
    "for k in num_fea:\n",
    "    similarities.append(S_k[k])\n",
    "average_similarity=sum(similarities)/len(num_fea)"
   ]
  },
  {
   "cell_type": "code",
   "execution_count": null,
   "metadata": {},
   "outputs": [],
   "source": [
    "average_similarity"
   ]
  },
  {
   "cell_type": "markdown",
   "metadata": {},
   "source": [
    "================ Run those functions ============================"
   ]
  },
  {
   "cell_type": "raw",
   "metadata": {},
   "source": [
    "avg_sim_kf5,sk_kf5=avg_similarity(pool_FS,num_fea,kf5)"
   ]
  },
  {
   "cell_type": "code",
   "execution_count": null,
   "metadata": {},
   "outputs": [],
   "source": [
    "avg_sim_kf5,sk_kf5=average_similarity,S_k"
   ]
  },
  {
   "cell_type": "code",
   "execution_count": null,
   "metadata": {},
   "outputs": [],
   "source": [
    "acc_sim_kf5=accuracy_similarity_matrix(pool_FS,num_fea,kf5)"
   ]
  },
  {
   "cell_type": "code",
   "execution_count": null,
   "metadata": {},
   "outputs": [],
   "source": [
    "acc_sim_kf5"
   ]
  },
  {
   "cell_type": "code",
   "execution_count": null,
   "metadata": {},
   "outputs": [],
   "source": [
    "# Final FS similarity matrix \n",
    "final_sim_kf5=np.multiply(avg_sim_kf5,acc_sim_kf5)"
   ]
  },
  {
   "cell_type": "code",
   "execution_count": null,
   "metadata": {},
   "outputs": [],
   "source": [
    "final_sim_kf5.shape"
   ]
  },
  {
   "cell_type": "code",
   "execution_count": null,
   "metadata": {},
   "outputs": [],
   "source": [
    "import seaborn as sns; sns.set()\n",
    "sns.heatmap(acc_sim_kf5)"
   ]
  },
  {
   "cell_type": "markdown",
   "metadata": {},
   "source": [
    "### 5-fold CV overlapping matrices"
   ]
  },
  {
   "cell_type": "code",
   "execution_count": null,
   "metadata": {},
   "outputs": [],
   "source": [
    "import matplotlib.pyplot as plt\n",
    "plt.figure(figsize=(20,10))\n",
    "plt.suptitle('Overlapping matrices', fontsize=16)\n",
    "\n",
    "plt.subplot(2, 5, 1)\n",
    "plt.imshow(sk_kf5[10])\n",
    "plt.title('num_fea=10')\n",
    "plt.subplot(2, 5, 2)\n",
    "plt.imshow(sk_kf5[20])\n",
    "plt.title('num_fea=20')\n",
    "plt.subplot(2, 5, 3)\n",
    "plt.imshow(sk_kf5[30])\n",
    "plt.title('num_fea=30')\n",
    "plt.subplot(2, 5, 4)\n",
    "plt.imshow(sk_kf5[40])\n",
    "plt.title('num_fea=40')\n",
    "plt.subplot(2, 5, 5)\n",
    "plt.imshow(sk_kf5[50])\n",
    "plt.title('num_fea=50')\n",
    "plt.subplot(2, 5, 6)\n",
    "plt.imshow(sk_kf5[60])\n",
    "plt.title('num_fea=60')\n",
    "plt.subplot(2, 5, 7)\n",
    "plt.imshow(sk_kf5[70])\n",
    "plt.title('num_fea=70')\n",
    "plt.subplot(2, 5, 8)\n",
    "plt.imshow(sk_kf5[80])\n",
    "plt.title('num_fea=80')\n",
    "plt.subplot(2, 5, 9)\n",
    "plt.imshow(sk_kf5[90])\n",
    "plt.title('num_fea=90')\n",
    "plt.subplot(2, 5, 10)\n",
    "plt.imshow(sk_kf5[100])\n",
    "plt.title('num_fea=100')\n",
    "\n"
   ]
  },
  {
   "cell_type": "code",
   "execution_count": null,
   "metadata": {},
   "outputs": [],
   "source": [
    "plt.imshow(sk_kf5[10])"
   ]
  },
  {
   "cell_type": "code",
   "execution_count": null,
   "metadata": {},
   "outputs": [],
   "source": [
    "import matplotlib.pyplot as plt\n",
    "\n",
    "import networkx as nx\n",
    "\n",
    "G=nx.from_numpy_matrix(final_sim_kf5)\n",
    "pos=nx.spring_layout(G) # positions for all nodes\n",
    "\n",
    "# nodes\n",
    "nx.draw_networkx_nodes(G,pos,\n",
    "                       nodelist=[0,1,2,3,4,5,6],\n",
    "                       node_color='r',\n",
    "                       node_size=500,\n",
    "                   alpha=0.8)\n",
    "#nx.draw_networkx_nodes(G,pos,\n",
    "#                       nodelist=[4,5,6,7],\n",
    "#                       node_color='b',\n",
    "#                       node_size=500,\n",
    "#                   alpha=0.8)\n",
    "\n",
    "# edges\n",
    "nx.draw_networkx_edges(G,pos,width=1.0,alpha=0.5)\n",
    "nx.draw_networkx_edges(G,pos,\n",
    "                       width=2,alpha=0.5,edge_color='b')\n",
    "#nx.draw_networkx_edges(G,pos,\n",
    "#                       edgelist=[(4,5),(5,6),(6,7),(7,4)],\n",
    "#                       width=8,alpha=0.5,edge_color='b')\n",
    "\n",
    "#reliefF,lap_score,ll_l21,UDFS,fisher_score,chi_square,gini_index\n",
    "# some math labels\n",
    "labels={}\n",
    "labels[0]=r'reliefF'\n",
    "labels[1]=r'lap_score'\n",
    "labels[2]=r'll_l21'\n",
    "labels[3]=r'UDFS'\n",
    "labels[4]=r'fisher_score'\n",
    "labels[5]=r'chi_square'\n",
    "labels[6]=r'gini_index'\n",
    "\n",
    "nx.draw_networkx_labels(G,pos,labels,font_size=16)\n",
    "\n",
    "plt.axis('off')\n",
    "#plt.savefig(\"labels_and_colors.png\") # save as png\n",
    "plt.show() # display"
   ]
  },
  {
   "cell_type": "code",
   "execution_count": null,
   "metadata": {},
   "outputs": [],
   "source": [
    "pos"
   ]
  },
  {
   "cell_type": "markdown",
   "metadata": {},
   "source": [
    "### Identifying the most reproducible feature selection method "
   ]
  },
  {
   "cell_type": "code",
   "execution_count": null,
   "metadata": {},
   "outputs": [],
   "source": [
    "# Centrality measure \n",
    "import networkx as nx\n",
    "G=nx.from_numpy_matrix(final_sim_kf5)\n",
    "centrality=nx.degree_centrality(G)"
   ]
  },
  {
   "cell_type": "code",
   "execution_count": null,
   "metadata": {},
   "outputs": [],
   "source": [
    "centrality=nx.degree_centrality(G)"
   ]
  },
  {
   "cell_type": "code",
   "execution_count": null,
   "metadata": {},
   "outputs": [],
   "source": [
    "centrality"
   ]
  },
  {
   "cell_type": "markdown",
   "metadata": {},
   "source": [
    "### Kuncheva stability matrix "
   ]
  },
  {
   "cell_type": "code",
   "execution_count": null,
   "metadata": {},
   "outputs": [],
   "source": [
    "def intersection_cardinality(a,b):\n",
    "    '''cardinality of the intersection of the two subsets or length of the intersection of two subsets'''\n",
    "    r=0\n",
    "    for x in range(a.shape[0]):\n",
    "        for y in range(a.shape[1]):\n",
    "            r+=np.sum((a[x,y]==b[x,y]))\n",
    "    return(r)\n",
    "def kuncheva_score(list_,d):\n",
    "    '''\n",
    "    Input:\n",
    "          list_: different ranking matrices of the different FS methods\n",
    "          k: top k ranked features (for k in num_fea)\n",
    "          d : is the number of features in the dataset \n",
    "    Output:\n",
    "           kuncheva_score_: the stability score'''\n",
    "    \n",
    "    #featidx = featidx(1:200,:) \n",
    "        #We only take 100 first values\n",
    "    #q,k=featidx.shape\n",
    "    n=len(list_)\n",
    "    q=list_[0].shape[0]\n",
    "    r = np.zeros((n,n))\n",
    "    #kuncheva index r\n",
    "    for i in range(n-1):\n",
    "        for j in range(i+1,n):\n",
    "            #pass\n",
    "             r[i,j]=intersection_cardinality(list_[i],list_[j])\n",
    "    #for n in range(2,q):\n",
    "    #    for m in range(n+1,q):\n",
    "            # r is the length of the intersection of two sets \n",
    "              #r(n,m) = len(intersect(featidx[n,1],featidx[n,2])) + len(intersect(featidx[n,1],featidx[n + 1,2])) + len(intersect(featidx(n,1),featidx[n-1,2]))\n",
    "    # This is the consistency index for two subsets        \n",
    "    A = np.true_divide((r-((k**2/d)*np.ones((q,q)))),(k-(k**2/d)))\n",
    "    #A(isnan(A)) = 0;\n",
    "    kuncheva_score_ = 2*np.sum(A)/(q*(q-1))\n",
    "          \n",
    "    return(kuncheva_score_)\n",
    "\n",
    "def kuncheva_stability_matrix(pool_FS,num_fea):\n",
    "\n",
    "    #S_k={}\n",
    "    #similarities=[]\n",
    "    for k in num_fea:\n",
    "        FS_k=[]\n",
    "    \n",
    "        for FS in pool_FS:\n",
    "            _feature_ranking,_acc=training(cv,k,FS)\n",
    "            #FS_k_ranking.append(_feature_ranking)\n",
    "            FS_k.append(_feature_ranking)\n",
    "        S_k[k]=FS_k\n",
    "            \n",
    "    n=len(ranking_matrices)\n",
    "    m=np.ones((n,n))\n",
    "    for i in range(n-1):\n",
    "        for j in range(i+1,n):\n",
    "            m[i,j]=kuncheva_score(ranking_matrices[i],ranking_matrices[j])\n",
    "            #m[j,i]=m[i,j]\n",
    "    #for i in range(n):\n",
    "    #    m[i,i]=cost(list_[i],list_[i])\n",
    "    \n",
    "    return(m)"
   ]
  },
  {
   "cell_type": "code",
   "execution_count": null,
   "metadata": {},
   "outputs": [],
   "source": [
    "def kuncheva_score(list_,d):\n",
    "    '''\n",
    "    Input:\n",
    "          list_: different ranking matrices of the different FS methods\n",
    "          k: top k ranked features (for k in num_fea)\n",
    "          d : is the number of features in the dataset \n",
    "    Output:\n",
    "           kuncheva_score_: the stability score'''\n",
    "    \n",
    "    #featidx = featidx(1:200,:) \n",
    "        #We only take 100 first values\n",
    "    #q,k=featidx.shape\n",
    "    n=len(list_)\n",
    "    q=list_[0].shape[0]\n",
    "    r = np.zeros((n,n))\n",
    "    #kuncheva index r\n",
    "    for i in range(n-1):\n",
    "        for j in range(i+1,n):\n",
    "            #pass\n",
    "             r[i,j]=intersection_cardinality(list_[i],list_[j])\n",
    "    #for n in range(2,q):\n",
    "    #    for m in range(n+1,q):\n",
    "            # r is the length of the intersection of two sets \n",
    "              #r(n,m) = len(intersect(featidx[n,1],featidx[n,2])) + len(intersect(featidx[n,1],featidx[n + 1,2])) + len(intersect(featidx(n,1),featidx[n-1,2]))\n",
    "    # This is the consistency index for two subsets        \n",
    "    A = np.true_divide((r-((k**2/d)*np.ones((q,q)))),(k-(k**2/d)))\n",
    "    #A(isnan(A)) = 0;\n",
    "    kuncheva_score_ = 2*np.sum(A)/(q*(q-1))\n",
    "          \n",
    "    return(kuncheva_score_)\n",
    "\n",
    "def kuncheva_stability_matrix(pool_FS,num_fea):\n",
    "\n",
    "    #S_k={}\n",
    "    #similarities=[]\n",
    "    for k in num_fea:\n",
    "        FS_k=[]\n",
    "    \n",
    "        for FS in pool_FS:\n",
    "            _feature_ranking,_acc=training(cv,k,FS)\n",
    "            #FS_k_ranking.append(_feature_ranking)\n",
    "            FS_k.append(_feature_ranking)\n",
    "        S_k[k]=FS_k\n",
    "            \n",
    "    n=len(ranking_matrices)\n",
    "    m=np.ones((n,n))\n",
    "    for i in range(n-1):\n",
    "        for j in range(i+1,n):\n",
    "            m[i,j]=kuncheva_score(ranking_matrices[i],ranking_matrices[j])\n",
    "            #m[j,i]=m[i,j]\n",
    "    #for i in range(n):\n",
    "    #    m[i,i]=cost(list_[i],list_[i])\n",
    "    \n",
    "    return(m)"
   ]
  },
  {
   "cell_type": "code",
   "execution_count": null,
   "metadata": {},
   "outputs": [],
   "source": [
    "r=np.ones((3,3))\n",
    "k=2\n",
    "d=3\n",
    "A = np.true_divide((r-(k**2/d)*np.ones((3,3))),(k-(k**2/d)))"
   ]
  },
  {
   "cell_type": "code",
   "execution_count": null,
   "metadata": {},
   "outputs": [],
   "source": [
    "np.sum(A)"
   ]
  },
  {
   "cell_type": "code",
   "execution_count": null,
   "metadata": {},
   "outputs": [],
   "source": [
    "a=np.random.randint(low=1, high=100, size=8)\n",
    "b=np.random.randint(low=1, high=100, size=8)"
   ]
  },
  {
   "cell_type": "code",
   "execution_count": null,
   "metadata": {},
   "outputs": [],
   "source": [
    "np.zeros((3,3))"
   ]
  },
  {
   "cell_type": "markdown",
   "metadata": {},
   "source": []
  },
  {
   "cell_type": "code",
   "execution_count": null,
   "metadata": {},
   "outputs": [],
   "source": [
    "def kuncheva_stability_matrix(pool_FS,num_fea):\n",
    "\n",
    "    #S_k={}\n",
    "    #similarities=[]\n",
    "    for k in num_fea:\n",
    "        FS_k=[]\n",
    "    \n",
    "        for FS in pool_FS:\n",
    "            _feature_ranking,_acc=training(cv,k,FS)\n",
    "            #FS_k_ranking.append(_feature_ranking)\n",
    "            FS_k.append(_feature_ranking)\n",
    "        S_k[k]=FS_k\n",
    "            \n",
    "    n=len(ranking_matrices)\n",
    "    m=np.ones((n,n))\n",
    "    for i in range(n-1):\n",
    "        for j in range(i+1,n):\n",
    "            m[i,j]=kuncheva_score(ranking_matrices[i],ranking_matrices[j])\n",
    "            #m[j,i]=m[i,j]\n",
    "    #for i in range(n):\n",
    "    #    m[i,i]=cost(list_[i],list_[i])\n",
    "    \n",
    "    return(m)"
   ]
  },
  {
   "cell_type": "markdown",
   "metadata": {},
   "source": [
    "### show the overlapping matrices for each k "
   ]
  },
  {
   "cell_type": "code",
   "execution_count": null,
   "metadata": {},
   "outputs": [],
   "source": [
    "average_sim_matrix_5fold,overlapping=avg_similarity(pool_FS,num_fea,kf5)"
   ]
  },
  {
   "cell_type": "code",
   "execution_count": null,
   "metadata": {},
   "outputs": [],
   "source": [
    "overlapping[10]"
   ]
  },
  {
   "cell_type": "code",
   "execution_count": null,
   "metadata": {},
   "outputs": [],
   "source": [
    "import matplotlib.pyplot as plt\n",
    "import seaborn as sns; sns.set()"
   ]
  },
  {
   "cell_type": "code",
   "execution_count": null,
   "metadata": {},
   "outputs": [],
   "source": [
    "overlapping[10]"
   ]
  },
  {
   "cell_type": "code",
   "execution_count": null,
   "metadata": {},
   "outputs": [],
   "source": [
    "len(overlapping)"
   ]
  },
  {
   "cell_type": "code",
   "execution_count": null,
   "metadata": {},
   "outputs": [],
   "source": [
    "sns.heatmap(average_sim_matrix_5fold)"
   ]
  },
  {
   "cell_type": "code",
   "execution_count": null,
   "metadata": {},
   "outputs": [],
   "source": [
    "plt.imshow(overlapping[10])"
   ]
  },
  {
   "cell_type": "code",
   "execution_count": null,
   "metadata": {},
   "outputs": [],
   "source": [
    "kf10=KFold(n_splits=10,shuffle=True)"
   ]
  },
  {
   "cell_type": "code",
   "execution_count": null,
   "metadata": {},
   "outputs": [],
   "source": [
    "average_sim_matrix_10fold,overlapping_10=avg_similarity(pool_FS,num_fea,kf10)"
   ]
  },
  {
   "cell_type": "code",
   "execution_count": null,
   "metadata": {},
   "outputs": [],
   "source": [
    "sns.heatmap(overlapping[10],annot=True,cmap=\"coolwarm\")"
   ]
  },
  {
   "cell_type": "code",
   "execution_count": null,
   "metadata": {},
   "outputs": [],
   "source": [
    "sns.heatmap(overlapping_10[100],annot=True,cmap=\"coolwarm\")"
   ]
  },
  {
   "cell_type": "code",
   "execution_count": null,
   "metadata": {},
   "outputs": [],
   "source": [
    "sns.heatmap(overlapping_10[20],annot=True,cmap=\"BuPu\")"
   ]
  },
  {
   "cell_type": "code",
   "execution_count": null,
   "metadata": {},
   "outputs": [],
   "source": [
    "\n",
    "sns.heatmap(overlapping_10[20],annot=True,cmap=\"BuPu\")"
   ]
  },
  {
   "cell_type": "code",
   "execution_count": null,
   "metadata": {},
   "outputs": [],
   "source": [
    "sns.heatmap(overlapping_10[20],annot=True,cmap=\"Greens\")"
   ]
  },
  {
   "cell_type": "code",
   "execution_count": null,
   "metadata": {},
   "outputs": [],
   "source": [
    "\n",
    "sns.heatmap(overlapping_10[20],annot=True,cmap=\"RdBu_r\")"
   ]
  },
  {
   "cell_type": "code",
   "execution_count": null,
   "metadata": {},
   "outputs": [],
   "source": [
    "current_palette = sns.color_palette()\n",
    "sns.palplot(current_palette)"
   ]
  },
  {
   "cell_type": "code",
   "execution_count": null,
   "metadata": {},
   "outputs": [],
   "source": [
    "plt.imshow(overlapping_10[10])"
   ]
  },
  {
   "cell_type": "code",
   "execution_count": null,
   "metadata": {},
   "outputs": [],
   "source": [
    "average_sim_matrix_loo,overlapping_loo=avg_similarity(pool_FS,num_fea,loo)"
   ]
  },
  {
   "cell_type": "code",
   "execution_count": null,
   "metadata": {},
   "outputs": [],
   "source": [
    "sns.heatmap(overlapping_loo[10],annot=True,cmap=\"coolwarm\")"
   ]
  },
  {
   "cell_type": "code",
   "execution_count": null,
   "metadata": {},
   "outputs": [],
   "source": [
    "sns.heatmap(overlapping_loo[100],annot=True,cmap=\"coolwarm\")"
   ]
  },
  {
   "cell_type": "code",
   "execution_count": null,
   "metadata": {},
   "outputs": [],
   "source": [
    "overlapping_loo[100]==overlapping_loo[20]"
   ]
  },
  {
   "cell_type": "markdown",
   "metadata": {},
   "source": [
    "### 5-fold CV"
   ]
  },
  {
   "cell_type": "code",
   "execution_count": null,
   "metadata": {},
   "outputs": [],
   "source": [
    "# split data into 5 folds\n",
    "kf5=KFold(n_splits=5,shuffle=True)\n",
    "\n",
    "#ss = cross_validate(n_samples, n_folds=5, shuffle=True)"
   ]
  },
  {
   "cell_type": "code",
   "execution_count": null,
   "metadata": {},
   "outputs": [],
   "source": [
    "FS_performance_kf5=[]  \n",
    "for FS in pool_FS:\n",
    "    acc_k=[]\n",
    "       \n",
    "    for k in num_fea:\n",
    "        _feature_ranking,_acc=training(kf5,k,FS)\n",
    "        acc_k.append(_acc)\n",
    "    FS_performance_kf5.append(acc_k)"
   ]
  },
  {
   "cell_type": "code",
   "execution_count": null,
   "metadata": {},
   "outputs": [],
   "source": [
    "import matplotlib.pyplot as plt\n",
    "%matplotlib inline\n",
    "import seaborn as sns \n",
    "sns.set()\n",
    "#def plot_performance(result,num_fea):\n",
    "line1, = plt.plot(num_fea,FS_performance_kf5[0], label='reliefF')\n",
    "line2, = plt.plot(num_fea,FS_performance_kf5[1], marker='', label='lap_score')\n",
    "line3, = plt.plot(num_fea,FS_performance_kf5[2], marker='', label='ll_l21')\n",
    "line4, = plt.plot(num_fea,FS_performance_kf5[3], marker='', label='UDFS')\n",
    "line5, = plt.plot(num_fea,FS_performance_kf5[4], marker='', label='fisher_score')\n",
    "line6, = plt.plot(num_fea,FS_performance_kf5[5], marker='', label='chi_square')\n",
    "line7, = plt.plot(num_fea,FS_performance_kf5[6], marker='', label='gini_index')\n",
    "plt.legend(bbox_to_anchor=(1.05, 1), loc='upper left', borderaxespad=0)\n",
    "plt.xlabel('Top k ranked features')\n",
    "plt.ylabel('Accuracy')"
   ]
  },
  {
   "cell_type": "markdown",
   "metadata": {},
   "source": [
    "### 10-Fold CV"
   ]
  },
  {
   "cell_type": "code",
   "execution_count": null,
   "metadata": {},
   "outputs": [],
   "source": [
    "kf10=KFold(n_splits=10,shuffle=True)"
   ]
  },
  {
   "cell_type": "code",
   "execution_count": null,
   "metadata": {},
   "outputs": [],
   "source": [
    "FS_performance_kf10=[]  \n",
    "for FS in pool_FS:\n",
    "    acc_k=[]\n",
    "       \n",
    "    for k in num_fea:\n",
    "        _feature_ranking,_acc=training(kf10,k,FS)\n",
    "        acc_k.append(_acc)\n",
    "    FS_performance_kf10.append(acc_k)"
   ]
  },
  {
   "cell_type": "code",
   "execution_count": null,
   "metadata": {},
   "outputs": [],
   "source": [
    "import matplotlib.pyplot as plt\n",
    "%matplotlib inline\n",
    "import seaborn as sns \n",
    "sns.set()\n",
    "#def plot_performance(result,num_fea):\n",
    "line1, = plt.plot(num_fea,FS_performance_kf10[0], label='reliefF')\n",
    "line2, = plt.plot(num_fea,FS_performance_kf10[1], marker='', label='lap_score')\n",
    "line3, = plt.plot(num_fea,FS_performance_kf10[2], marker='', label='ll_l21')\n",
    "line4, = plt.plot(num_fea,FS_performance_kf10[3], marker='', label='UDFS')\n",
    "line5, = plt.plot(num_fea,FS_performance_kf10[4], marker='', label='fisher_score')\n",
    "line6, = plt.plot(num_fea,FS_performance_kf10[5], marker='', label='chi_square')\n",
    "line7, = plt.plot(num_fea,FS_performance_kf10[6], marker='', label='gini_index')\n",
    "plt.legend(bbox_to_anchor=(1.05, 1), loc='upper left', borderaxespad=0)\n",
    "plt.xlabel('Top k ranked features')\n",
    "plt.ylabel('Accuracy')"
   ]
  },
  {
   "cell_type": "markdown",
   "metadata": {},
   "source": [
    "### LOO CV"
   ]
  },
  {
   "cell_type": "code",
   "execution_count": null,
   "metadata": {},
   "outputs": [],
   "source": [
    "from sklearn.model_selection import LeaveOneOut\n",
    "loo=LeaveOneOut()"
   ]
  },
  {
   "cell_type": "code",
   "execution_count": null,
   "metadata": {},
   "outputs": [],
   "source": [
    "FS_performance_loo=[]  \n",
    "fea_ranking_loo=[]\n",
    "for FS in pool_FS:\n",
    "    acc_k=[]\n",
    "    fea_ranking_=[]\n",
    "       \n",
    "    for k in num_fea:\n",
    "        _feature_ranking,_acc=training(loo,k,FS)\n",
    "        acc_k.append(_acc)\n",
    "        fea_ranking_.append(_feature_ranking)\n",
    "    \n",
    "    FS_performance_loo.append(acc_k)\n",
    "    fea_ranking_loo.append(fea_ranking_)"
   ]
  },
  {
   "cell_type": "raw",
   "metadata": {},
   "source": [
    "FS_performance_loo"
   ]
  },
  {
   "cell_type": "code",
   "execution_count": null,
   "metadata": {},
   "outputs": [],
   "source": [
    "import matplotlib.pyplot as plt\n",
    "%matplotlib inline\n",
    "import seaborn as sns \n",
    "sns.set()\n",
    "#def plot_performance(result,num_fea):\n",
    "line1, = plt.plot(num_fea,FS_performance_loo[0], label='reliefF')\n",
    "line2, = plt.plot(num_fea,FS_performance_loo[1], marker='', label='lap_score')\n",
    "line3, = plt.plot(num_fea,FS_performance_loo[2], marker='', label='ll_l21')\n",
    "line4, = plt.plot(num_fea,FS_performance_loo[3], marker='', label='UDFS')\n",
    "line5, = plt.plot(num_fea,FS_performance_loo[4], marker='', label='fisher_score')\n",
    "line6, = plt.plot(num_fea,FS_performance_loo[5], marker='', label='chi_square')\n",
    "line7, = plt.plot(num_fea,FS_performance_loo[6], marker='', label='gini_index')\n",
    "plt.legend(bbox_to_anchor=(1.05, 1), loc='upper left', borderaxespad=0)\n",
    "plt.xlabel('Top k ranked features')\n",
    "plt.ylabel('Accuracy')"
   ]
  },
  {
   "cell_type": "code",
   "execution_count": null,
   "metadata": {},
   "outputs": [],
   "source": [
    "#FS_performance_loo\n",
    "labels_pool=['reliefF','lap_score','ll_l21','UDFS','fisher_score','chi_square','gini_index']\n",
    "result_acc_loo=dict()\n",
    "result_acc_loo['reliefF']=FS_performance_loo[0]\n",
    "result_acc_loo['lap_score']=FS_performance_loo[1]\n",
    "result_acc_loo['ll_l21']=FS_performance_loo[2]\n",
    "result_acc_loo['UDFS']=FS_performance_loo[3]\n",
    "result_acc_loo['fidher_score']=FS_performance_loo[4]\n",
    "result_acc_loo['chi_square']=FS_performance_loo[5]\n",
    "result_acc_loo['gini_index']=FS_performance_loo[6]"
   ]
  },
  {
   "cell_type": "code",
   "execution_count": null,
   "metadata": {},
   "outputs": [],
   "source": [
    "result_rank_loo=dict()\n",
    "result_rank_loo['reliefF']=fea_ranking_loo[0]\n",
    "result_rank_loo['lap_score']=fea_ranking_loo[1]\n",
    "result_rank_loo['ll_l21']=fea_ranking_loo[2]\n",
    "result_rank_loo['UDFS']=fea_ranking_loo[3]\n",
    "result_rank_loo['fidher_score']=fea_ranking_loo[4]\n",
    "result_rank_loo['chi_square']=fea_ranking_loo[5]\n",
    "result_rank_loo['gini_index']=fea_ranking_loo[6]"
   ]
  },
  {
   "cell_type": "code",
   "execution_count": null,
   "metadata": {},
   "outputs": [],
   "source": [
    "### Store loo ranking and accuracy"
   ]
  },
  {
   "cell_type": "code",
   "execution_count": null,
   "metadata": {},
   "outputs": [],
   "source": [
    "dst_fold = '/home/jupyter/project/Master_project/Results'"
   ]
  },
  {
   "cell_type": "code",
   "execution_count": null,
   "metadata": {},
   "outputs": [],
   "source": [
    "import os\n",
    "f = os.path.join(dst_fold, 'accuracy_loo_LH' + '.mat' )\n",
    "sio.savemat(f,result_acc_loo)"
   ]
  },
  {
   "cell_type": "code",
   "execution_count": null,
   "metadata": {},
   "outputs": [],
   "source": [
    "f1 = os.path.join(dst_fold, 'ranking_loo_LH' + '.mat' )\n",
    "sio.savemat(f1,result_acc_loo)"
   ]
  },
  {
   "cell_type": "code",
   "execution_count": null,
   "metadata": {},
   "outputs": [],
   "source": []
  },
  {
   "cell_type": "code",
   "execution_count": null,
   "metadata": {},
   "outputs": [],
   "source": [
    "ACC=accuracy_similarity_matrix(pool_FS,num_fea,kf5)"
   ]
  },
  {
   "cell_type": "code",
   "execution_count": null,
   "metadata": {},
   "outputs": [],
   "source": [
    "ACC\n"
   ]
  },
  {
   "cell_type": "raw",
   "metadata": {},
   "source": [
    "for fs in pool_FS:\n",
    "    print(str(fs.__name__.split('.')[3]))"
   ]
  },
  {
   "cell_type": "markdown",
   "metadata": {},
   "source": [
    "### FS-TO-FS Stability Matrix construction"
   ]
  },
  {
   "cell_type": "code",
   "execution_count": null,
   "metadata": {},
   "outputs": [],
   "source": [
    "result=avg_similarity(pool_FS,num_fea,kf5)"
   ]
  },
  {
   "cell_type": "code",
   "execution_count": null,
   "metadata": {},
   "outputs": [],
   "source": [
    "result_=[]\n",
    "for k in num_fea:\n",
    "    result_.append(result[k])\n"
   ]
  },
  {
   "cell_type": "code",
   "execution_count": null,
   "metadata": {},
   "outputs": [],
   "source": [
    "average_similarity=sum(result_)/len(num_fea)"
   ]
  },
  {
   "cell_type": "code",
   "execution_count": null,
   "metadata": {},
   "outputs": [],
   "source": [
    "len(result_)"
   ]
  },
  {
   "cell_type": "code",
   "execution_count": null,
   "metadata": {},
   "outputs": [],
   "source": [
    "average_similarity"
   ]
  },
  {
   "cell_type": "code",
   "execution_count": null,
   "metadata": {},
   "outputs": [],
   "source": [
    "similarities=[]\n",
    "for k in num_fea:\n",
    "    similarities.append(S_k[k])"
   ]
  },
  {
   "cell_type": "code",
   "execution_count": null,
   "metadata": {},
   "outputs": [],
   "source": [
    "S_k"
   ]
  },
  {
   "cell_type": "code",
   "execution_count": null,
   "metadata": {},
   "outputs": [],
   "source": [
    "sum(similarities)/7"
   ]
  },
  {
   "cell_type": "code",
   "execution_count": null,
   "metadata": {},
   "outputs": [],
   "source": [
    "SIMI=map(lambda x:Avg_Similarity_matrix(x),S_k)"
   ]
  },
  {
   "cell_type": "code",
   "execution_count": null,
   "metadata": {},
   "outputs": [],
   "source": [
    "for element in SIMI:\n",
    "    print(element)\n",
    "    "
   ]
  },
  {
   "cell_type": "code",
   "execution_count": null,
   "metadata": {},
   "outputs": [],
   "source": [
    "S10"
   ]
  },
  {
   "cell_type": "code",
   "execution_count": null,
   "metadata": {},
   "outputs": [],
   "source": [
    "#FS_k_ranking=[]\n",
    "FS_k=[]\n",
    "#k=10\n",
    "ranking_over_k={}\n",
    "for k in num_fea:\n",
    "    pool_FS=[reliefF,lap_score,ll_l21,UDFS,fisher_score,chi_square,gini_index]\n",
    "    for FS in pool_FS:\n",
    "        _feature_ranking=training(kf5,k,FS)\n",
    "        #FS_k_ranking.append(_feature_ranking)\n",
    "        FS_k.append(_feature_ranking)\n",
    "    ranking_over_k[k]=FS_k\n",
    "    "
   ]
  },
  {
   "cell_type": "code",
   "execution_count": null,
   "metadata": {},
   "outputs": [],
   "source": [
    "top_k_ranked_m={}\n",
    "for k in num_fea:\n",
    "    similarity=FS_to_FS_similarity(ranking_over_k[k])\n",
    "    top_k_ranked_m[k]=similarity"
   ]
  },
  {
   "cell_type": "code",
   "execution_count": null,
   "metadata": {},
   "outputs": [],
   "source": [
    "top_k_ranked_m[20].shape"
   ]
  },
  {
   "cell_type": "code",
   "execution_count": null,
   "metadata": {},
   "outputs": [],
   "source": [
    "top_k_ranked_m=[]\n",
    "for fs_k in ranking_over_k:\n",
    "    similarity_m=FS_to_FS_similarity(fs_k)\n",
    "    top_k_ranked_m.append(similarity_m)"
   ]
  },
  {
   "cell_type": "code",
   "execution_count": null,
   "metadata": {},
   "outputs": [],
   "source": [
    "ranking_over_k[0][0].shape"
   ]
  },
  {
   "cell_type": "code",
   "execution_count": null,
   "metadata": {},
   "outputs": [],
   "source": [
    "#Final similarity matrix\n",
    "average_similarity="
   ]
  },
  {
   "cell_type": "code",
   "execution_count": null,
   "metadata": {},
   "outputs": [],
   "source": [
    "sim=FS_to_FS_similarity(FS_k)"
   ]
  },
  {
   "cell_type": "code",
   "execution_count": null,
   "metadata": {},
   "outputs": [],
   "source": [
    "len(FS_k)"
   ]
  },
  {
   "cell_type": "code",
   "execution_count": null,
   "metadata": {},
   "outputs": [],
   "source": [
    "for i in range()"
   ]
  },
  {
   "cell_type": "code",
   "execution_count": null,
   "metadata": {},
   "outputs": [],
   "source": [
    "sim"
   ]
  },
  {
   "cell_type": "code",
   "execution_count": null,
   "metadata": {},
   "outputs": [],
   "source": [
    "similarity=np.array(np.nan)"
   ]
  },
  {
   "cell_type": "code",
   "execution_count": null,
   "metadata": {},
   "outputs": [],
   "source": []
  },
  {
   "cell_type": "code",
   "execution_count": null,
   "metadata": {},
   "outputs": [],
   "source": [
    "similarity_=dict()\n",
    "columns=['reliefF','lap_score','ll_l21','UDFS']\n",
    "rows=['reliefF','lap_score','ll_l21','UDFS']"
   ]
  },
  {
   "cell_type": "code",
   "execution_count": null,
   "metadata": {},
   "outputs": [],
   "source": [
    "simila"
   ]
  },
  {
   "cell_type": "markdown",
   "metadata": {},
   "source": [
    "## Sk or similarity matrix for k=10"
   ]
  },
  {
   "cell_type": "code",
   "execution_count": null,
   "metadata": {},
   "outputs": [],
   "source": [
    "def save_performance(file_name,dst_fold,performance):\n",
    "    Pool_FS_names=['reliefF','lap_score','ll_l21','UDFS','CFS']\n",
    "    d={}\n",
    "    for name in Pool_FS_names:\n",
    "        d[name]=performance[Pool_FS_names.index(name)]\n",
    "    #dst_fold='/home/raoua/Desktop/BASIRA/working repo/intermediate/'\n",
    "    f = os.path.join(dst_fold, file_name + '.mat' )\n",
    "    sio.savemat(f,d)"
   ]
  },
  {
   "cell_type": "code",
   "execution_count": null,
   "metadata": {},
   "outputs": [],
   "source": [
    "import matplotlib.pyplot as plt\n",
    "%matplotlib inline\n",
    "import seaborn as sns \n",
    "sns.set()\n",
    "def plot_performance(result,num_fea):\n",
    "    line1, = plt.plot(num_fea,result['reliefF'][0], label='reliefF')\n",
    "    line2, = plt.plot(num_fea,result['lap_score'][0], marker='', label='lap_score')\n",
    "    line3, = plt.plot(num_fea,result['ll_l21'][0], marker='', label='ll_l21')\n",
    "    line4, = plt.plot(num_fea,result['UDFS'][0], marker='', label='UDFS')\n",
    "    line5, = plt.plot(num_fea,result['CFS'][0], marker='', label='CFS')\n",
    "    plt.legend(bbox_to_anchor=(1.05, 1), loc='upper left', borderaxespad=0)\n",
    "    plt.xlabel('Top k ranked features')\n",
    "    plt.ylabel('Accuracy')\n",
    "    #plt.title('Feature selection methods performance using 5-fold CV')"
   ]
  },
  {
   "cell_type": "markdown",
   "metadata": {},
   "source": [
    "### -------------- Main Program ------------------"
   ]
  },
  {
   "cell_type": "code",
   "execution_count": null,
   "metadata": {},
   "outputs": [],
   "source": [
    "## import cv method here\n",
    "import os\n",
    "## cv=instance()\n",
    "##dst_fold='bla/bla/bla'\n",
    "#performance_x=main_pipeline(cv)\n",
    "## due to the fact that this pipeline is time consuming I chose to save the results of the pipeline so \n",
    "## I don't have to rerun the whole pipeline from zero\n",
    "dst_fold='/home/raoua/Desktop/BASIRA/working repo/intermediate/'\n",
    "save_performance('Pool_FS_Accuracy_10fold',dst_fold,performance10)\n",
    "## Read the performance result for later processing\n",
    "#result_file= sio.loadmat('blalalalal')\n"
   ]
  },
  {
   "cell_type": "code",
   "execution_count": null,
   "metadata": {},
   "outputs": [],
   "source": [
    "import scipy.io as sio\n",
    "result=sio.loadmat('./intermediate/Pool_FS_Accuracy_10fold.mat')"
   ]
  },
  {
   "cell_type": "code",
   "execution_count": null,
   "metadata": {},
   "outputs": [],
   "source": [
    "plot_performance(result,num_fea)\n",
    "plt.title('Feature selection methods performance using 10-fold CV')"
   ]
  },
  {
   "cell_type": "markdown",
   "metadata": {},
   "source": [
    "### Plot the results"
   ]
  },
  {
   "cell_type": "code",
   "execution_count": null,
   "metadata": {},
   "outputs": [],
   "source": [
    "import matplotlib.pyplot as plt\n",
    "%matplotlib inline\n",
    "import seaborn as sns \n",
    "sns.set()"
   ]
  },
  {
   "cell_type": "code",
   "execution_count": null,
   "metadata": {},
   "outputs": [],
   "source": [
    "import matplotlib.pyplot as plt\n",
    "#from matplotlib.legend_handler import HandlerLine2D\n",
    "\n",
    "line1, = plt.plot(num_fea,result['reliefF'][0], label='reliefF')\n",
    "line2, = plt.plot(num_fea,result['lap_score'][0], marker='', label='lap_score')\n",
    "line3, = plt.plot(num_fea,result['ll_l21'][0], marker='', label='ll_l21')\n",
    "line4, = plt.plot(num_fea,result['UDFS'][0], marker='', label='UDFS')\n",
    "line5, = plt.plot(num_fea,result['CFS'][0], marker='', label='CFS')\n",
    "plt.legend(bbox_to_anchor=(1.05, 1), loc='upper left', borderaxespad=0)\n",
    "plt.xlabel('Top k ranked features')\n",
    "plt.ylabel('Accuracy')\n",
    "plt.title('Feature selection methods performance using 5-fold CV')"
   ]
  },
  {
   "cell_type": "code",
   "execution_count": null,
   "metadata": {},
   "outputs": [],
   "source": [
    "from oct2py import Oct2Py\n",
    "from oct2py import octave"
   ]
  },
  {
   "cell_type": "code",
   "execution_count": null,
   "metadata": {},
   "outputs": [],
   "source": [
    "octave.addpath('/home/jupyter/Master_project/')"
   ]
  },
  {
   "cell_type": "code",
   "execution_count": null,
   "metadata": {},
   "outputs": [],
   "source": [
    "result=octave.get_stability(X,matrice)"
   ]
  },
  {
   "cell_type": "code",
   "execution_count": null,
   "metadata": {},
   "outputs": [],
   "source": [
    "X.shape"
   ]
  },
  {
   "cell_type": "code",
   "execution_count": null,
   "metadata": {},
   "outputs": [],
   "source": [
    "result.shape"
   ]
  },
  {
   "cell_type": "code",
   "execution_count": null,
   "metadata": {},
   "outputs": [],
   "source": []
  }
 ],
 "metadata": {
  "kernelspec": {
   "display_name": "Python 3",
   "language": "python",
   "name": "python3"
  },
  "language_info": {
   "codemirror_mode": {
    "name": "ipython",
    "version": 3
   },
   "file_extension": ".py",
   "mimetype": "text/x-python",
   "name": "python",
   "nbconvert_exporter": "python",
   "pygments_lexer": "ipython3",
   "version": "3.5.3"
  }
 },
 "nbformat": 4,
 "nbformat_minor": 2
}
