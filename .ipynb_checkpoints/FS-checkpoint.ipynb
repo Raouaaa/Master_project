{
 "cells": [
  {
   "cell_type": "markdown",
   "metadata": {},
   "source": [
    "## Extract the subjects view"
   ]
  },
  {
   "cell_type": "code",
   "execution_count": 1,
   "metadata": {},
   "outputs": [],
   "source": [
    "import os\n",
    "import scipy.io as sio\n",
    "import numpy as np"
   ]
  },
  {
   "cell_type": "code",
   "execution_count": 2,
   "metadata": {},
   "outputs": [],
   "source": [
    "def handle_subj_ops(subj):\n",
    "    subj_file = os.path.join(src_fold, 'subject' + format(subj)+ '.mat')\n",
    "    data = sio.loadmat(subj_file)['A']\n",
    "    # eliminate unwanted regions\n",
    "    #data = data[:, mask]\n",
    "\n",
    "    #subj_dest_fold = os.path.join(dst_fold, 'subject' + format(subj))\n",
    "    #os.mkdir(subj_dest_fold)\n",
    "    return data\n"
   ]
  },
  {
   "cell_type": "code",
   "execution_count": 3,
   "metadata": {},
   "outputs": [],
   "source": [
    "def extract_subj_store(subj, data):\n",
    "\n",
    "    #subj_dest_fold = os.path.join(dst_fold, 'subject' + format(subj))\n",
    "    #Proceeded by transpose  to obtain 4 matrices for each subject, already checked that it is symmetric\n",
    "    data=data.transpose(2,0,1)\n",
    "    #the first matrix (network) in the dataset (over 4)\n",
    "    #upper_tri=np.triu(data[0])\n",
    "    matrix=data[0]\n",
    "    #Vectorize \n",
    "    ui=np.triu_indices(35)\n",
    "    vector=matrix[ui]\n",
    "    \n",
    "\n",
    "    #f = os.path.join(subj_dest_fold, 'subjectA'+ format(subj)  + '.mat' )\n",
    "    ## needed data for classification, labels and features(brain grahps' weights in our case)\n",
    "    #d = {}\n",
    "    #d ['vector']=vector\n",
    "    #sio.savemat(f,d)\n",
    "    return vector"
   ]
  },
  {
   "cell_type": "code",
   "execution_count": 4,
   "metadata": {},
   "outputs": [],
   "source": [
    "def create_dataset(subjects,src_fold,dst_fold):\n",
    "    #subj_dest_fold = os.path.join(dst_fold, 'subject' + format(subj))\n",
    "    d={}\n",
    "    Features_vectors=[0 for i in range(630)]\n",
    "    #v=np.array([[0 for i in range(630)]])\n",
    "    for subj in subjects:\n",
    "        subj_data=handle_subj_ops(subj)\n",
    "        vector=extract_subj_store(subj,subj_data)\n",
    "        Features_vectors=np.vstack((Features_vectors,vector))\n",
    "        \n",
    "        #v=np.append(v,np.array(vector))\n",
    "        #d['subject'+format(subj)]=vector\n",
    "    #d['A']=v\n",
    "    Features_vectors=np.delete(Features_vectors,0,0)\n",
    "    d['Features_vectors']=Features_vectors\n",
    "    f = os.path.join(dst_fold, 'Feature_vectors' + '.mat' )\n",
    "    sio.savemat(f,d)    \n",
    "    "
   ]
  },
  {
   "cell_type": "markdown",
   "metadata": {},
   "source": [
    "### --------------------Main------------------------"
   ]
  },
  {
   "cell_type": "code",
   "execution_count": 5,
   "metadata": {},
   "outputs": [],
   "source": [
    "src_fold  = '/home/raoua/Desktop/BASIRA/working repo/Data_77subjects/LH77subjects/'\n",
    "label_file = '/home/raoua/Desktop/BASIRA/working repo/Data_77subjects/labels77.mat'\n",
    "dst_fold = '/home/raoua/Desktop/BASIRA/working repo/intermediate/'"
   ]
  },
  {
   "cell_type": "code",
   "execution_count": 6,
   "metadata": {},
   "outputs": [],
   "source": [
    "subjects=range(1,78)\n",
    "#for subj in subjects:\n",
    "#    # read and create necessary folders\n",
    "#    subj_data = handle_subj_ops(subj)\n",
    "#    extract_subj_store(subj, subj_data)\n",
    "create_dataset(subjects,src_fold,dst_fold)"
   ]
  },
  {
   "cell_type": "markdown",
   "metadata": {},
   "source": [
    "### Start over here "
   ]
  },
  {
   "cell_type": "code",
   "execution_count": 1,
   "metadata": {},
   "outputs": [],
   "source": [
    "import scipy.io as sio"
   ]
  },
  {
   "cell_type": "code",
   "execution_count": 2,
   "metadata": {},
   "outputs": [],
   "source": [
    "Data=sio.loadmat('./intermediate/Feature_vectors.mat')"
   ]
  },
  {
   "cell_type": "code",
   "execution_count": 3,
   "metadata": {},
   "outputs": [],
   "source": [
    "X=Data['Features_vectors']"
   ]
  },
  {
   "cell_type": "code",
   "execution_count": 4,
   "metadata": {},
   "outputs": [],
   "source": [
    "X = X.astype(float)"
   ]
  },
  {
   "cell_type": "code",
   "execution_count": 5,
   "metadata": {},
   "outputs": [],
   "source": [
    "labels=sio.loadmat('./labels77.mat')"
   ]
  },
  {
   "cell_type": "code",
   "execution_count": 6,
   "metadata": {},
   "outputs": [],
   "source": [
    "y=labels['labels']"
   ]
  },
  {
   "cell_type": "code",
   "execution_count": 7,
   "metadata": {},
   "outputs": [
    {
     "data": {
      "text/plain": [
       "dtype('float64')"
      ]
     },
     "execution_count": 7,
     "metadata": {},
     "output_type": "execute_result"
    }
   ],
   "source": [
    "X.dtype"
   ]
  },
  {
   "cell_type": "markdown",
   "metadata": {},
   "source": [
    "### Feature selection"
   ]
  },
  {
   "cell_type": "code",
   "execution_count": 8,
   "metadata": {},
   "outputs": [],
   "source": [
    "y=y[:, 0]"
   ]
  },
  {
   "cell_type": "code",
   "execution_count": 9,
   "metadata": {},
   "outputs": [],
   "source": [
    " n_samples, n_features = X.shape    # number of samples and number of features"
   ]
  },
  {
   "cell_type": "code",
   "execution_count": 10,
   "metadata": {},
   "outputs": [],
   "source": [
    "from sklearn.model_selection import KFold\n",
    "from sklearn import svm\n",
    "from sklearn.metrics import accuracy_score\n",
    "from skfeature.function.similarity_based import reliefF"
   ]
  },
  {
   "cell_type": "markdown",
   "metadata": {},
   "source": [
    "### 5-fold"
   ]
  },
  {
   "cell_type": "code",
   "execution_count": 11,
   "metadata": {},
   "outputs": [],
   "source": [
    "# split data into 5 folds\n",
    "kf5=KFold(n_splits=5,shuffle=True)\n",
    "\n",
    "#ss = cross_validate(n_samples, n_folds=5, shuffle=True)"
   ]
  },
  {
   "cell_type": "code",
   "execution_count": 12,
   "metadata": {},
   "outputs": [
    {
     "data": {
      "text/plain": [
       "5"
      ]
     },
     "execution_count": 12,
     "metadata": {},
     "output_type": "execute_result"
    }
   ],
   "source": [
    "kf5.get_n_splits(X)"
   ]
  },
  {
   "cell_type": "code",
   "execution_count": 13,
   "metadata": {},
   "outputs": [],
   "source": [
    "# Number of selected features (top k ranked features)\n",
    "\n",
    "#top K selected features varying from 10 to 100 (with a step size of 10 features)\n",
    "num_fea = [i for i in range(10,110,10)]\n",
    "clf = svm.LinearSVC()    # linear SVM\n",
    "correct=0\n",
    "accuracy=[]"
   ]
  },
  {
   "cell_type": "code",
   "execution_count": 52,
   "metadata": {},
   "outputs": [],
   "source": [
    "#MutInfFS\n",
    "from skfeature.function.information_theoretical_based import MIFS\n",
    "#laplacian\n",
    "from skfeature.function.similarity_based import lap_score\n",
    "from skfeature.utility import construct_W\n",
    "# norm\n",
    "from skfeature.function.sparse_learning_based import ll_l21\n",
    "from skfeature.utility.sparse_learning import *\n",
    "#UDFS\n",
    "from skfeature.function.sparse_learning_based import UDFS\n",
    "from skfeature.utility.sparse_learning import feature_ranking\n",
    "#cFS(correlation based FS)\n",
    "from skfeature.function.statistical_based import CFS\n",
    "from skfeature.function.information_theoretical_based import MRMR\n",
    "from skfeature.function.similarity_based import fisher_score\n",
    "#from skfeature.function.similarity_based import trace_ratio\n",
    "#from skfeature.function.information_theoretical_based import MIM\n",
    "#from skfeature.function.wrapper import decision_tree_backward\n",
    "from skfeature.function.statistical_based import chi_square\n",
    "#from skfeature.function.information_theoretical_based import FCBF\n",
    "#from skfeature.function.sparse_learning_based import RFS\n",
    "from skfeature.function.statistical_based import gini_index"
   ]
  },
  {
   "cell_type": "code",
   "execution_count": 15,
   "metadata": {},
   "outputs": [],
   "source": [
    "def relief_FS(X_train,y_train):\n",
    "    score=reliefF.reliefF(X_train,y_train)\n",
    "    idx=reliefF.feature_ranking(score)\n",
    "    return(idx)"
   ]
  },
  {
   "cell_type": "code",
   "execution_count": 16,
   "metadata": {},
   "outputs": [],
   "source": [
    "def MIFS_FS(k,X_train,y_train):\n",
    "    idx = MIFS.mifs(X_train, y_train, n_selected_features=k)\n",
    "    #print(idx)\n",
    "    return(idx)"
   ]
  },
  {
   "cell_type": "code",
   "execution_count": 17,
   "metadata": {},
   "outputs": [],
   "source": [
    "def lap_score_FS():\n",
    "    # construct affinity matrix\n",
    "    kwargs_W = {\"metric\": \"euclidean\", \"neighbor_mode\": \"knn\", \"weight_mode\": \"heat_kernel\", \"k\": 5, 't': 1}\n",
    "    W = construct_W.construct_W(X, **kwargs_W)\n",
    "    # obtain the scores of features\n",
    "    score = lap_score.lap_score(X, W=W)\n",
    "    idx=lap_score.feature_ranking(score)\n",
    "    return(idx)"
   ]
  },
  {
   "cell_type": "code",
   "execution_count": 18,
   "metadata": {},
   "outputs": [],
   "source": [
    "def ll_l21_FS(X_train,y,train_index):\n",
    "    Y = construct_label_matrix_pan(y)\n",
    "    Y_train=Y[train_index]\n",
    "    Weight, obj, value_gamma = ll_l21.proximal_gradient_descent(X_train, Y[train_index], 0.1, verbose=False)\n",
    "    #print(\"weight \",Weight)\n",
    "    idx = feature_ranking(Weight)\n",
    "    \n",
    "    return(idx)\n",
    "    \n",
    "    "
   ]
  },
  {
   "cell_type": "code",
   "execution_count": 19,
   "metadata": {},
   "outputs": [],
   "source": [
    "def UDFS_FS():\n",
    "    Weight = UDFS.udfs(X)\n",
    "    idx=feature_ranking(Weight)\n",
    "    return(idx)\n",
    "    "
   ]
  },
  {
   "cell_type": "raw",
   "metadata": {},
   "source": [
    "def CFS_FS(X_train,y_train):\n",
    "    idx = CFS.cfs(X_train, y_train)\n",
    "    return(idx)\n",
    "    "
   ]
  },
  {
   "cell_type": "raw",
   "metadata": {},
   "source": [
    "def MRMR_FS(X_train,y_train,num_fea):\n",
    "    idx,_,_ = MRMR.mrmr(X_train, y_train, n_selected_features=num_fea)\n",
    "    return(idx)"
   ]
  },
  {
   "cell_type": "code",
   "execution_count": 20,
   "metadata": {},
   "outputs": [],
   "source": [
    "def fisher_score_FS(X_train,y_train):\n",
    "    score = fisher_score.fisher_score(X_train, y_train)\n",
    "    idx = fisher_score.feature_ranking(score)\n",
    "    return(idx)"
   ]
  },
  {
   "cell_type": "raw",
   "metadata": {},
   "source": [
    "def trace_ratio_FS(X_train,y_train,num_fea):\n",
    "    idx, feature_score, subset_score = trace_ratio.trace_ratio(X_train, y_train, num_fea, style='fisher')\n",
    "    return(idx)"
   ]
  },
  {
   "cell_type": "raw",
   "metadata": {},
   "source": [
    "def MIM_FS(X_train,y_train,num_fea):\n",
    "    idx,_,_ = MIM.mim(X_train, y_train, n_selected_features=num_fea)\n",
    "    return(idx)"
   ]
  },
  {
   "cell_type": "raw",
   "metadata": {},
   "source": [
    "def decision_tree_backward_FS(X_train,y_train,n_features):\n",
    "    idx = decision_tree_backward.decision_tree_backward(X_train, y_train, n_features)\n",
    "    return(idx)"
   ]
  },
  {
   "cell_type": "code",
   "execution_count": 21,
   "metadata": {},
   "outputs": [],
   "source": [
    "def chi_square_FS(X,y):\n",
    "    score = chi_square.chi_square(X, y)\n",
    "    idx = chi_square.feature_ranking(score)\n",
    "    return(idx)"
   ]
  },
  {
   "cell_type": "raw",
   "metadata": {},
   "source": [
    "def FCBF_FS(X_train,y_train,num_feature):\n",
    "    idx = FCBF.fcbf(X_train, y_train, n_selected_features=num_feature)\n",
    "    return(idx)\n"
   ]
  },
  {
   "cell_type": "raw",
   "metadata": {},
   "source": [
    "def RFS_FS(X,y,train_index):\n",
    "    Weight = RFS.rfs(X[train_index,:], y[train_index], gamma=0.1)\n",
    "    idx = feature_ranking(Weight)\n",
    "    return(idx)"
   ]
  },
  {
   "cell_type": "code",
   "execution_count": 53,
   "metadata": {},
   "outputs": [],
   "source": [
    "def gini_index_FS(X_train,y_train):\n",
    "    score = gini_index.gini_index(X_train, y_train)\n",
    "    # rank features in descending order according to score\n",
    "    idx = gini_index.feature_ranking(score)\n",
    "    return(idx)"
   ]
  },
  {
   "cell_type": "code",
   "execution_count": 39,
   "metadata": {},
   "outputs": [
    {
     "data": {
      "text/plain": [
       "(630,)"
      ]
     },
     "execution_count": 39,
     "metadata": {},
     "output_type": "execute_result"
    }
   ],
   "source": [
    "X[3,:].shape"
   ]
  },
  {
   "cell_type": "code",
   "execution_count": 40,
   "metadata": {},
   "outputs": [
    {
     "data": {
      "text/plain": [
       "(77,)"
      ]
     },
     "execution_count": 40,
     "metadata": {},
     "output_type": "execute_result"
    }
   ],
   "source": [
    "X[:,3].shape"
   ]
  },
  {
   "cell_type": "code",
   "execution_count": 23,
   "metadata": {},
   "outputs": [],
   "source": [
    "'''We generate an average similarity matrix S̄ by merging all similarity matrices\n",
    "across all threshold'''\n",
    "#M1,M2 and M3 had the same dimension\n",
    "# matrices_pool=[M1,M2,M3]\n",
    "def Avg_Similarity_matrix(k,matrices_pool):\n",
    "    # All the matrices have the same dimension\n",
    "    return(np.average(matrices_pool))    "
   ]
  },
  {
   "cell_type": "markdown",
   "metadata": {},
   "source": [
    "____________________________________________________________________________________"
   ]
  },
  {
   "cell_type": "code",
   "execution_count": 54,
   "metadata": {},
   "outputs": [],
   "source": [
    "def training(cv,k,FS_method):\n",
    "    accuracy=[]\n",
    "    #pool_matrices=[]\n",
    "    featureranking=[]\n",
    "    #for k in num_fea: \n",
    "    for train_index, test_index in cv.split(X):\n",
    "        #print(\"TRAIN:\", train_index, \"TEST:\", test_index)\n",
    "        X_train, X_test = X[train_index], X[test_index]\n",
    "        y_train, y_test = y[train_index], y[test_index]\n",
    "        if FS_method==reliefF:\n",
    "            idx=relief_FS(X_train,y_train)\n",
    "        elif FS_method==MIFS: ##ERROR\n",
    "            idx=MIFS_FS(k,X_train,y_train)\n",
    "        elif FS_method==lap_score:\n",
    "            idx=lap_score_FS()\n",
    "        elif FS_method==ll_l21:\n",
    "            idx=ll_l21_FS(X_train,y,train_index)\n",
    "        elif FS_method==UDFS:\n",
    "            idx=UDFS_FS()\n",
    "        #elif FS_method==CFS:\n",
    "        #    idx=CFS_FS(X_train,y_train)\n",
    "        #elif FS_method==MRMR:\n",
    "        #    idx=MRMR_FS(X_train,y_train,k)\n",
    "        elif FS_method==fisher_score:\n",
    "            idx=fisher_score_FS(X_train,y_train)\n",
    "        #elif FS_method==trace_ratio:\n",
    "        #    idx=trace_ratio_FS(X_train,y_train,k)\n",
    "        #elif FS_method==MIM:\n",
    "        #    idx=MIM_FS(X_train,y_train,k)\n",
    "        #elif FS_method==decision_tree_backward:\n",
    "        #    idx=decision_tree_backward_FS(X_train,y_train,k)\n",
    "        elif FS_method==chi_square:\n",
    "            idx=chi_square_FS(X_train,y_train)\n",
    "        #elif FS_method==FCBF:\n",
    "        #    idx=FCBF_FS(X_train,y_train,k)\n",
    "        #elif FS_method==RFS:\n",
    "        #    idx=RFS_FS(X,y,train_index)\n",
    "        elif FS_method==gini_index:\n",
    "            idx=gini_index_FS(X_train,y_train)\n",
    "        selected_features = X[:, idx[0:k]]\n",
    "        featureranking.extend([idx])\n",
    "        #featureranking.extend(list(idx))\n",
    "        #features=X[idx[0:k],:]\n",
    "       # print('ranking vector = ',idx[0:k])\n",
    "        #print('selected_features = ',selected_features)\n",
    "        #print('features = ',features)\n",
    "        # train a classification model with the selected features on the training dataset\n",
    "        #clf.fit(selected_features[train_index], y[train_index])  # predict the class labels of test data\n",
    "        #y_predict = clf.predict(selected_features[test_index])\n",
    "        # obtain the classification accuracy on the test data\n",
    "        #acc = accuracy_score(y[test_index], y_predict)\n",
    "        #print(selected_features)\n",
    "\n",
    "        #correct = correct + acc\n",
    "    #accuracy.append(float(correct)/10)\n",
    "    #accuracy.append(acc)\n",
    "    \n",
    "    #pool_matrices.append(selected_features)\n",
    "    #performance.append(accuracy)\n",
    "    #return(selected_features)\n",
    "    #return(pool_matrices)\n",
    "    return(np.array(featureranking))"
   ]
  },
  {
   "cell_type": "code",
   "execution_count": 52,
   "metadata": {},
   "outputs": [],
   "source": [
    "k=10\n",
    "fs_mrmr=training(kf5,k,MRMR)"
   ]
  },
  {
   "cell_type": "code",
   "execution_count": 55,
   "metadata": {},
   "outputs": [],
   "source": [
    "fs_relief=training(kf5,k,reliefF)"
   ]
  },
  {
   "cell_type": "code",
   "execution_count": 61,
   "metadata": {},
   "outputs": [],
   "source": [
    "fs_fisher_score=training(kf5,k,fisher_score)"
   ]
  },
  {
   "cell_type": "code",
   "execution_count": null,
   "metadata": {},
   "outputs": [],
   "source": [
    "fs_trace_ratio=training(kf5,k,trace_ratio)"
   ]
  },
  {
   "cell_type": "code",
   "execution_count": null,
   "metadata": {},
   "outputs": [],
   "source": [
    "fs_mim=training(kf5,k,MIM)"
   ]
  },
  {
   "cell_type": "code",
   "execution_count": null,
   "metadata": {},
   "outputs": [],
   "source": [
    "fs_decision_tree_backward=training(kf5,k,decision_tree_backward)"
   ]
  },
  {
   "cell_type": "code",
   "execution_count": 92,
   "metadata": {},
   "outputs": [
    {
     "name": "stderr",
     "output_type": "stream",
     "text": [
      "/usr/local/lib/python3.5/dist-packages/sklearn/utils/validation.py:724: DataConversionWarning: A column-vector y was passed when a 1d array was expected. Please change the shape of y to (n_samples, ), for example using ravel().\n",
      "  y = column_or_1d(y, warn=True)\n",
      "/usr/local/lib/python3.5/dist-packages/sklearn/utils/validation.py:724: DataConversionWarning: A column-vector y was passed when a 1d array was expected. Please change the shape of y to (n_samples, ), for example using ravel().\n",
      "  y = column_or_1d(y, warn=True)\n",
      "/usr/local/lib/python3.5/dist-packages/sklearn/utils/validation.py:724: DataConversionWarning: A column-vector y was passed when a 1d array was expected. Please change the shape of y to (n_samples, ), for example using ravel().\n",
      "  y = column_or_1d(y, warn=True)\n",
      "/usr/local/lib/python3.5/dist-packages/sklearn/utils/validation.py:724: DataConversionWarning: A column-vector y was passed when a 1d array was expected. Please change the shape of y to (n_samples, ), for example using ravel().\n",
      "  y = column_or_1d(y, warn=True)\n",
      "/usr/local/lib/python3.5/dist-packages/sklearn/utils/validation.py:724: DataConversionWarning: A column-vector y was passed when a 1d array was expected. Please change the shape of y to (n_samples, ), for example using ravel().\n",
      "  y = column_or_1d(y, warn=True)\n"
     ]
    }
   ],
   "source": [
    "fs_chi_square=training(kf5,k,chi_square)"
   ]
  },
  {
   "cell_type": "code",
   "execution_count": null,
   "metadata": {},
   "outputs": [],
   "source": [
    "fs_rfs=training(kf5,k,RFS)"
   ]
  },
  {
   "cell_type": "code",
   "execution_count": 55,
   "metadata": {},
   "outputs": [],
   "source": [
    "fs_gini_index=training(kf5,k,gini_index)"
   ]
  },
  {
   "cell_type": "code",
   "execution_count": 56,
   "metadata": {},
   "outputs": [
    {
     "data": {
      "text/plain": [
       "(5, 630)"
      ]
     },
     "execution_count": 56,
     "metadata": {},
     "output_type": "execute_result"
    }
   ],
   "source": [
    "fs_gini_index.shape"
   ]
  },
  {
   "cell_type": "code",
   "execution_count": 57,
   "metadata": {},
   "outputs": [
    {
     "data": {
      "text/plain": [
       "array([[240, 169, 194, ..., 575, 330, 629],\n",
       "       [169, 282, 192, ..., 575, 330, 629],\n",
       "       [309, 284, 247, ..., 575, 330, 629],\n",
       "       [184, 104,   5, ..., 575, 330, 629],\n",
       "       [411, 175, 169, ..., 575, 330, 629]])"
      ]
     },
     "execution_count": 57,
     "metadata": {},
     "output_type": "execute_result"
    }
   ],
   "source": [
    "fs_gini_index"
   ]
  },
  {
   "cell_type": "code",
   "execution_count": 54,
   "metadata": {},
   "outputs": [
    {
     "data": {
      "text/plain": [
       "(5, 10)"
      ]
     },
     "execution_count": 54,
     "metadata": {},
     "output_type": "execute_result"
    }
   ],
   "source": [
    "fs_mrmr.shape"
   ]
  },
  {
   "cell_type": "code",
   "execution_count": 34,
   "metadata": {},
   "outputs": [],
   "source": [
    "example_relief=training(kf5,k,reliefF)"
   ]
  },
  {
   "cell_type": "code",
   "execution_count": 36,
   "metadata": {},
   "outputs": [
    {
     "data": {
      "text/plain": [
       "(5, 630)"
      ]
     },
     "execution_count": 36,
     "metadata": {},
     "output_type": "execute_result"
    }
   ],
   "source": [
    "example_relief.shape"
   ]
  },
  {
   "cell_type": "code",
   "execution_count": 33,
   "metadata": {},
   "outputs": [
    {
     "data": {
      "text/plain": [
       "array([list([1, 2, 4, 5, 6, 7]), list([1, 2, 4, 5, 6, 7]),\n",
       "       list([1, 2, 4, 5, 6, 7]), list([1, 2, 4, 5, 6, 7, 9, 10, 11, 12]),\n",
       "       list([1, 2, 4, 5, 6, 7])], dtype=object)"
      ]
     },
     "execution_count": 33,
     "metadata": {},
     "output_type": "execute_result"
    }
   ],
   "source": [
    "save_CFS"
   ]
  },
  {
   "cell_type": "code",
   "execution_count": 25,
   "metadata": {},
   "outputs": [],
   "source": [
    "def intersection(a,b):\n",
    "    sum=0\n",
    "    for x in range(a.shape[0]):\n",
    "        for y in range(a.shape[1]):\n",
    "            sum+=np.sum((a[x,y]==b[x,y]))\n",
    "    percentage=(sum*100)/a.size\n",
    "    return(percentage)"
   ]
  },
  {
   "cell_type": "code",
   "execution_count": 26,
   "metadata": {},
   "outputs": [],
   "source": [
    "def FS_to_FS_similarity(FS_k):\n",
    "    n=len(FS_k)\n",
    "    m=np.ones((n,n))\n",
    "    for i in range(n-1):\n",
    "        for j in range(i+1,n):\n",
    "            m[i,j]=intersection(FS_k[i],FS_k[j])\n",
    "            m[j,i]=m[i,j]\n",
    "    for i in range(n):\n",
    "        m[i,i]=intersection(FS_k[i],FS_k[i])\n",
    "    return(m)"
   ]
  },
  {
   "cell_type": "code",
   "execution_count": null,
   "metadata": {},
   "outputs": [],
   "source": [
    "#FS_k_ranking=[]\n",
    "FS_k=[]\n",
    "#k=10\n",
    "ranking_over_k=[]\n",
    "for k in num_fea:\n",
    "    pool_FS=[reliefF,lap_score,ll_l21,UDFS,fisher_score,chi_square,gini_index]#,CFS]\n",
    "    for FS in pool_FS:\n",
    "        _feature_ranking=training(kf5,k,FS)\n",
    "        #FS_k_ranking.append(_feature_ranking)\n",
    "        FS_k.append(_feature_ranking)\n",
    "    ranking_over_k.append(FS_k)\n",
    "    "
   ]
  },
  {
   "cell_type": "code",
   "execution_count": null,
   "metadata": {},
   "outputs": [],
   "source": [
    "top_k_ranked_m=[]\n",
    "for fs_k in ranking_over_k:\n",
    "    similarity_m=FS_to_FS_similarity(fs_k)\n",
    "    top_k_ranked_m.append(similarity_m)"
   ]
  },
  {
   "cell_type": "code",
   "execution_count": 119,
   "metadata": {},
   "outputs": [
    {
     "data": {
      "text/plain": [
       "(5, 630)"
      ]
     },
     "execution_count": 119,
     "metadata": {},
     "output_type": "execute_result"
    }
   ],
   "source": [
    "ranking_over_k[0][0].shape"
   ]
  },
  {
   "cell_type": "code",
   "execution_count": null,
   "metadata": {},
   "outputs": [],
   "source": [
    "#Final similarity matrix\n",
    "average_similarity="
   ]
  },
  {
   "cell_type": "code",
   "execution_count": 103,
   "metadata": {},
   "outputs": [],
   "source": [
    "sim=FS_to_FS_similarity(FS_k)"
   ]
  },
  {
   "cell_type": "code",
   "execution_count": 101,
   "metadata": {},
   "outputs": [
    {
     "data": {
      "text/plain": [
       "4"
      ]
     },
     "execution_count": 101,
     "metadata": {},
     "output_type": "execute_result"
    }
   ],
   "source": [
    "len(FS_k)"
   ]
  },
  {
   "cell_type": "code",
   "execution_count": 88,
   "metadata": {},
   "outputs": [
    {
     "data": {
      "text/plain": [
       "array([[1., 1., 1., 1.],\n",
       "       [1., 1., 2., 1.],\n",
       "       [1., 1., 1., 1.],\n",
       "       [1., 1., 1., 1.]])"
      ]
     },
     "execution_count": 88,
     "metadata": {},
     "output_type": "execute_result"
    }
   ],
   "source": [
    "for i in range()"
   ]
  },
  {
   "cell_type": "code",
   "execution_count": 104,
   "metadata": {},
   "outputs": [
    {
     "data": {
      "text/plain": [
       "array([[100.        ,   0.47619048,   0.15873016,   0.15873016],\n",
       "       [  0.47619048, 100.        ,   0.31746032,   0.47619048],\n",
       "       [  0.15873016,   0.31746032, 100.        ,   0.15873016],\n",
       "       [  0.15873016,   0.47619048,   0.15873016, 100.        ]])"
      ]
     },
     "execution_count": 104,
     "metadata": {},
     "output_type": "execute_result"
    }
   ],
   "source": [
    "sim"
   ]
  },
  {
   "cell_type": "code",
   "execution_count": 49,
   "metadata": {},
   "outputs": [],
   "source": [
    "similarity=np.array(np.nan)"
   ]
  },
  {
   "cell_type": "code",
   "execution_count": 53,
   "metadata": {},
   "outputs": [
    {
     "data": {
      "text/plain": [
       "()"
      ]
     },
     "execution_count": 53,
     "metadata": {},
     "output_type": "execute_result"
    }
   ],
   "source": []
  },
  {
   "cell_type": "code",
   "execution_count": 55,
   "metadata": {},
   "outputs": [],
   "source": [
    "similarity_=dict()\n",
    "columns=['reliefF','lap_score','ll_l21','UDFS']\n",
    "rows=['reliefF','lap_score','ll_l21','UDFS']"
   ]
  },
  {
   "cell_type": "code",
   "execution_count": null,
   "metadata": {},
   "outputs": [],
   "source": [
    "simila"
   ]
  },
  {
   "cell_type": "markdown",
   "metadata": {},
   "source": [
    "## Sk or similarity matrix for k=10"
   ]
  },
  {
   "cell_type": "code",
   "execution_count": 81,
   "metadata": {},
   "outputs": [],
   "source": [
    "#Ranking matrix\n",
    "top_10_ranked_FS=FS_k_ranking"
   ]
  },
  {
   "cell_type": "code",
   "execution_count": null,
   "metadata": {},
   "outputs": [],
   "source": [
    "top_10_ranked_FS"
   ]
  },
  {
   "cell_type": "raw",
   "metadata": {},
   "source": [
    "top_10_ranked_FS=np.array(top_10_ranked_FS)"
   ]
  },
  {
   "cell_type": "raw",
   "metadata": {},
   "source": [
    "type(top_10_ranked_FS)"
   ]
  },
  {
   "cell_type": "code",
   "execution_count": 68,
   "metadata": {},
   "outputs": [],
   "source": [
    "#top_10_ranked_FS[0]"
   ]
  },
  {
   "cell_type": "markdown",
   "metadata": {},
   "source": [
    "## Similarity Model"
   ]
  },
  {
   "cell_type": "code",
   "execution_count": 102,
   "metadata": {},
   "outputs": [],
   "source": [
    "feature_ranking0=training(kf5,k,reliefF)"
   ]
  },
  {
   "cell_type": "code",
   "execution_count": 103,
   "metadata": {},
   "outputs": [],
   "source": [
    "feature_ranking1=training(kf5,k,lap_score)"
   ]
  },
  {
   "cell_type": "code",
   "execution_count": 100,
   "metadata": {},
   "outputs": [
    {
     "data": {
      "text/plain": [
       "array([ True,  True,  True,  True,  True])"
      ]
     },
     "execution_count": 100,
     "metadata": {},
     "output_type": "execute_result"
    }
   ],
   "source": [
    "feature_ranking1[0][0:5]==feature_ranking1[1][0:5]"
   ]
  },
  {
   "cell_type": "code",
   "execution_count": 104,
   "metadata": {},
   "outputs": [
    {
     "data": {
      "text/plain": [
       "array([[191, 192, 104, ..., 575, 330, 629],\n",
       "       [191, 192, 104, ..., 575, 330, 629],\n",
       "       [191, 192, 104, ..., 575, 330, 629],\n",
       "       [191, 192, 104, ..., 575, 330, 629],\n",
       "       [191, 192, 104, ..., 575, 330, 629]])"
      ]
     },
     "execution_count": 104,
     "metadata": {},
     "output_type": "execute_result"
    }
   ],
   "source": [
    "feature_ranking1"
   ]
  },
  {
   "cell_type": "code",
   "execution_count": 87,
   "metadata": {},
   "outputs": [],
   "source": [
    "feature_ranking2=training(kf5,k,ll_l21)"
   ]
  },
  {
   "cell_type": "code",
   "execution_count": 88,
   "metadata": {},
   "outputs": [
    {
     "data": {
      "text/plain": [
       "array([[629, 206, 213, ..., 417, 416,   0],\n",
       "       [629, 206, 213, ..., 417, 416,   0],\n",
       "       [629, 206, 213, ..., 417, 416,   0],\n",
       "       [629, 206, 213, ..., 417, 416,   0],\n",
       "       [629, 206, 213, ..., 417, 416,   0]])"
      ]
     },
     "execution_count": 88,
     "metadata": {},
     "output_type": "execute_result"
    }
   ],
   "source": [
    "feature_ranking2"
   ]
  },
  {
   "cell_type": "code",
   "execution_count": 118,
   "metadata": {},
   "outputs": [],
   "source": []
  },
  {
   "cell_type": "code",
   "execution_count": 119,
   "metadata": {},
   "outputs": [
    {
     "data": {
      "text/plain": [
       "0.5079365079365079"
      ]
     },
     "execution_count": 119,
     "metadata": {},
     "output_type": "execute_result"
    }
   ],
   "source": [
    "intersection(feature_ranking0,feature_ranking1)"
   ]
  },
  {
   "cell_type": "code",
   "execution_count": 115,
   "metadata": {},
   "outputs": [
    {
     "data": {
      "text/plain": [
       "3150"
      ]
     },
     "execution_count": 115,
     "metadata": {},
     "output_type": "execute_result"
    }
   ],
   "source": [
    "feature_ranking0.size"
   ]
  },
  {
   "cell_type": "code",
   "execution_count": null,
   "metadata": {},
   "outputs": [],
   "source": [
    "feature_ranking0"
   ]
  },
  {
   "cell_type": "code",
   "execution_count": 42,
   "metadata": {},
   "outputs": [
    {
     "data": {
      "text/plain": [
       "(630,)"
      ]
     },
     "execution_count": 42,
     "metadata": {},
     "output_type": "execute_result"
    }
   ],
   "source": [
    "top10_features.shape"
   ]
  },
  {
   "cell_type": "code",
   "execution_count": 81,
   "metadata": {},
   "outputs": [
    {
     "data": {
      "text/plain": [
       "(77, 10)"
      ]
     },
     "execution_count": 81,
     "metadata": {},
     "output_type": "execute_result"
    }
   ],
   "source": [
    "selected_features_kf5.shape"
   ]
  },
  {
   "cell_type": "code",
   "execution_count": 82,
   "metadata": {},
   "outputs": [],
   "source": [
    "def main_pipeline(cv,k):\n",
    "    pool_matrices=[]\n",
    "    pool_FS=[reliefF,lap_score,ll_l21,UDFS,CFS]\n",
    "    #for k in num_fea:\n",
    "    for FS in pool_FS:\n",
    "        pool_matrices.append(training(cv,k,FS))\n",
    "    #FS_to_FS_similarity=np.average(pool_matrices,axis=0)\n",
    "    #return(FS_to_FS_similarity)\n",
    "    return(pool_matrices)       "
   ]
  },
  {
   "cell_type": "code",
   "execution_count": 92,
   "metadata": {},
   "outputs": [],
   "source": [
    "pool_matrices=main_pipeline(kf5,10)"
   ]
  },
  {
   "cell_type": "code",
   "execution_count": null,
   "metadata": {},
   "outputs": [],
   "source": [
    "np.array(pool_matrices)"
   ]
  },
  {
   "cell_type": "code",
   "execution_count": 61,
   "metadata": {},
   "outputs": [],
   "source": [
    "element=pool_matrices[0]\n",
    "a=element.astype(object)"
   ]
  },
  {
   "cell_type": "code",
   "execution_count": 63,
   "metadata": {},
   "outputs": [
    {
     "data": {
      "text/plain": [
       "numpy.ndarray"
      ]
     },
     "execution_count": 63,
     "metadata": {},
     "output_type": "execute_result"
    }
   ],
   "source": [
    "type(a)"
   ]
  },
  {
   "cell_type": "code",
   "execution_count": 64,
   "metadata": {},
   "outputs": [
    {
     "data": {
      "text/plain": [
       "numpy.ndarray"
      ]
     },
     "execution_count": 64,
     "metadata": {},
     "output_type": "execute_result"
    }
   ],
   "source": [
    "type(pool_matrices[0])"
   ]
  },
  {
   "cell_type": "code",
   "execution_count": null,
   "metadata": {},
   "outputs": [],
   "source": [
    "FS_to_FS_similarity=np.mean(pool_matrices,axis=1)"
   ]
  },
  {
   "cell_type": "code",
   "execution_count": 44,
   "metadata": {},
   "outputs": [
    {
     "data": {
      "text/plain": [
       "array([[1.33333333, 2.        , 0.66666667],\n",
       "       [3.        , 1.        , 3.66666667],\n",
       "       [2.66666667, 0.        , 0.66666667]])"
      ]
     },
     "execution_count": 44,
     "metadata": {},
     "output_type": "execute_result"
    }
   ],
   "source": [
    "FS_to_FS_similarity"
   ]
  },
  {
   "cell_type": "code",
   "execution_count": 31,
   "metadata": {},
   "outputs": [
    {
     "data": {
      "text/plain": [
       "[10, 20, 30, 40, 50, 60, 70, 80, 90, 100]"
      ]
     },
     "execution_count": 31,
     "metadata": {},
     "output_type": "execute_result"
    }
   ],
   "source": [
    "num_fea"
   ]
  },
  {
   "cell_type": "code",
   "execution_count": null,
   "metadata": {},
   "outputs": [],
   "source": [
    "similarity=[]\n",
    "for k in num_fea:\n",
    "    pool_matrices=main_pipeline(kf5,k)\n",
    "    FS_to_FS_similarity=np.average(pool_matrices,axis=0)\n",
    "    similarity.append(FS_to_FS_similarity)\n",
    "    "
   ]
  },
  {
   "cell_type": "markdown",
   "metadata": {},
   "source": [
    "#### 10-Fold"
   ]
  },
  {
   "cell_type": "code",
   "execution_count": 44,
   "metadata": {},
   "outputs": [],
   "source": [
    "#test=training(num_fea,reliefF)\n",
    "# split data into 10 folds\n",
    "kf10=KFold(n_splits=10,shuffle=True)"
   ]
  },
  {
   "cell_type": "code",
   "execution_count": 45,
   "metadata": {},
   "outputs": [
    {
     "data": {
      "text/plain": [
       "10"
      ]
     },
     "execution_count": 45,
     "metadata": {},
     "output_type": "execute_result"
    }
   ],
   "source": [
    "kf10.get_n_splits()"
   ]
  },
  {
   "cell_type": "markdown",
   "metadata": {},
   "source": [
    "#### LOO"
   ]
  },
  {
   "cell_type": "code",
   "execution_count": 51,
   "metadata": {},
   "outputs": [],
   "source": [
    "from sklearn.model_selection import LeaveOneOut\n",
    "loo=LeaveOneOut()"
   ]
  },
  {
   "cell_type": "code",
   "execution_count": 53,
   "metadata": {},
   "outputs": [
    {
     "data": {
      "text/plain": [
       "77"
      ]
     },
     "execution_count": 53,
     "metadata": {},
     "output_type": "execute_result"
    }
   ],
   "source": [
    "loo.get_n_splits(X)"
   ]
  },
  {
   "cell_type": "code",
   "execution_count": 54,
   "metadata": {},
   "outputs": [],
   "source": [
    "def main_pipeline(cv):\n",
    "    performance=[]\n",
    "    Pool_FS=[reliefF,lap_score,ll_l21,UDFS,CFS]\n",
    "    for FS in Pool_FS:\n",
    "        performance.append(training(cv,num_fea,FS))\n",
    "    return(performance)\n",
    "        "
   ]
  },
  {
   "cell_type": "code",
   "execution_count": 55,
   "metadata": {},
   "outputs": [],
   "source": [
    "performance10=main_pipeline(kf10)"
   ]
  },
  {
   "cell_type": "code",
   "execution_count": null,
   "metadata": {},
   "outputs": [],
   "source": [
    "performance_loo=main_pipeline(loo)"
   ]
  },
  {
   "cell_type": "code",
   "execution_count": 57,
   "metadata": {},
   "outputs": [
    {
     "data": {
      "text/plain": [
       "5"
      ]
     },
     "execution_count": 57,
     "metadata": {},
     "output_type": "execute_result"
    }
   ],
   "source": [
    "len(performance10)"
   ]
  },
  {
   "cell_type": "code",
   "execution_count": 58,
   "metadata": {},
   "outputs": [],
   "source": [
    "def save_performance(file_name,dst_fold,performance):\n",
    "    Pool_FS_names=['reliefF','lap_score','ll_l21','UDFS','CFS']\n",
    "    d={}\n",
    "    for name in Pool_FS_names:\n",
    "        d[name]=performance[Pool_FS_names.index(name)]\n",
    "    #dst_fold='/home/raoua/Desktop/BASIRA/working repo/intermediate/'\n",
    "    f = os.path.join(dst_fold, file_name + '.mat' )\n",
    "    sio.savemat(f,d)"
   ]
  },
  {
   "cell_type": "code",
   "execution_count": 62,
   "metadata": {},
   "outputs": [],
   "source": [
    "import matplotlib.pyplot as plt\n",
    "%matplotlib inline\n",
    "import seaborn as sns \n",
    "sns.set()\n",
    "def plot_performance(result,num_fea):\n",
    "    line1, = plt.plot(num_fea,result['reliefF'][0], label='reliefF')\n",
    "    line2, = plt.plot(num_fea,result['lap_score'][0], marker='', label='lap_score')\n",
    "    line3, = plt.plot(num_fea,result['ll_l21'][0], marker='', label='ll_l21')\n",
    "    line4, = plt.plot(num_fea,result['UDFS'][0], marker='', label='UDFS')\n",
    "    line5, = plt.plot(num_fea,result['CFS'][0], marker='', label='CFS')\n",
    "    plt.legend(bbox_to_anchor=(1.05, 1), loc='upper left', borderaxespad=0)\n",
    "    plt.xlabel('Top k ranked features')\n",
    "    plt.ylabel('Accuracy')\n",
    "    #plt.title('Feature selection methods performance using 5-fold CV')"
   ]
  },
  {
   "cell_type": "markdown",
   "metadata": {},
   "source": [
    "### -------------- Main Program ------------------"
   ]
  },
  {
   "cell_type": "code",
   "execution_count": 60,
   "metadata": {},
   "outputs": [],
   "source": [
    "## import cv method here\n",
    "import os\n",
    "## cv=instance()\n",
    "##dst_fold='bla/bla/bla'\n",
    "#performance_x=main_pipeline(cv)\n",
    "## due to the fact that this pipeline is time consuming I chose to save the results of the pipeline so \n",
    "## I don't have to rerun the whole pipeline from zero\n",
    "dst_fold='/home/raoua/Desktop/BASIRA/working repo/intermediate/'\n",
    "save_performance('Pool_FS_Accuracy_10fold',dst_fold,performance10)\n",
    "## Read the performance result for later processing\n",
    "#result_file= sio.loadmat('blalalalal')\n"
   ]
  },
  {
   "cell_type": "code",
   "execution_count": 63,
   "metadata": {},
   "outputs": [],
   "source": [
    "import scipy.io as sio\n",
    "result=sio.loadmat('./intermediate/Pool_FS_Accuracy_10fold.mat')"
   ]
  },
  {
   "cell_type": "code",
   "execution_count": 66,
   "metadata": {},
   "outputs": [
    {
     "data": {
      "text/plain": [
       "Text(0.5, 1.0, 'Feature selection methods performance using 10-fold CV')"
      ]
     },
     "execution_count": 66,
     "metadata": {},
     "output_type": "execute_result"
    },
    {
     "data": {
      "image/png": "[encoded data removed]",
      "text/plain": [
       "<Figure size 432x288 with 1 Axes>"
      ]
     },
     "metadata": {},
     "output_type": "display_data"
    }
   ],
   "source": [
    "plot_performance(result,num_fea)\n",
    "plt.title('Feature selection methods performance using 10-fold CV')"
   ]
  },
  {
   "cell_type": "markdown",
   "metadata": {},
   "source": [
    "### Plot the results"
   ]
  },
  {
   "cell_type": "code",
   "execution_count": 29,
   "metadata": {},
   "outputs": [
    {
     "name": "stderr",
     "output_type": "stream",
     "text": [
      "/usr/local/lib/python3.6/dist-packages/matplotlib/__init__.py:886: MatplotlibDeprecationWarning: \n",
      "examples.directory is deprecated; in the future, examples will be found relative to the 'datapath' directory.\n",
      "  \"found relative to the 'datapath' directory.\".format(key))\n"
     ]
    }
   ],
   "source": [
    "import matplotlib.pyplot as plt\n",
    "%matplotlib inline\n",
    "import seaborn as sns \n",
    "sns.set()"
   ]
  },
  {
   "cell_type": "code",
   "execution_count": 61,
   "metadata": {},
   "outputs": [
    {
     "data": {
      "text/plain": [
       "Text(0.5, 1.0, 'Feature selection methods performance using 5-fold CV')"
      ]
     },
     "execution_count": 61,
     "metadata": {},
     "output_type": "execute_result"
    },
    {
     "data": {
      "image/png": "[encoded data removed]",
      "text/plain": [
       "<Figure size 432x288 with 1 Axes>"
      ]
     },
     "metadata": {
      "needs_background": "light"
     },
     "output_type": "display_data"
    }
   ],
   "source": [
    "import matplotlib.pyplot as plt\n",
    "#from matplotlib.legend_handler import HandlerLine2D\n",
    "\n",
    "line1, = plt.plot(num_fea,result['reliefF'][0], label='reliefF')\n",
    "line2, = plt.plot(num_fea,result['lap_score'][0], marker='', label='lap_score')\n",
    "line3, = plt.plot(num_fea,result['ll_l21'][0], marker='', label='ll_l21')\n",
    "line4, = plt.plot(num_fea,result['UDFS'][0], marker='', label='UDFS')\n",
    "line5, = plt.plot(num_fea,result['CFS'][0], marker='', label='CFS')\n",
    "plt.legend(bbox_to_anchor=(1.05, 1), loc='upper left', borderaxespad=0)\n",
    "plt.xlabel('Top k ranked features')\n",
    "plt.ylabel('Accuracy')\n",
    "plt.title('Feature selection methods performance using 5-fold CV')"
   ]
  },
  {
   "cell_type": "code",
   "execution_count": null,
   "metadata": {},
   "outputs": [],
   "source": []
  }
 ],
 "metadata": {
  "kernelspec": {
   "display_name": "Python 3",
   "language": "python",
   "name": "python3"
  },
  "language_info": {
   "codemirror_mode": {
    "name": "ipython",
    "version": 3
   },
   "file_extension": ".py",
   "mimetype": "text/x-python",
   "name": "python",
   "nbconvert_exporter": "python",
   "pygments_lexer": "ipython3",
   "version": "3.5.3"
  }
 },
 "nbformat": 4,
 "nbformat_minor": 2
}
