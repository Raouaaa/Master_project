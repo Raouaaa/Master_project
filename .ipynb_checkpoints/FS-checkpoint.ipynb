{
 "cells": [
  {
   "cell_type": "markdown",
   "metadata": {},
   "source": [
    "## Extract the subjects view"
   ]
  },
  {
   "cell_type": "code",
   "execution_count": 1,
   "metadata": {},
   "outputs": [],
   "source": [
    "import os\n",
    "import scipy.io as sio\n",
    "import numpy as np"
   ]
  },
  {
   "cell_type": "code",
   "execution_count": 2,
   "metadata": {},
   "outputs": [],
   "source": [
    "def handle_subj_ops(subj):\n",
    "    subj_file = os.path.join(src_fold, 'subject' + format(subj)+ '.mat')\n",
    "    data = sio.loadmat(subj_file)['A']\n",
    "    # eliminate unwanted regions\n",
    "    #data = data[:, mask]\n",
    "\n",
    "    #subj_dest_fold = os.path.join(dst_fold, 'subject' + format(subj))\n",
    "    #os.mkdir(subj_dest_fold)\n",
    "    return data\n"
   ]
  },
  {
   "cell_type": "code",
   "execution_count": 3,
   "metadata": {},
   "outputs": [],
   "source": [
    "def extract_subj_store(subj, data):\n",
    "\n",
    "    #subj_dest_fold = os.path.join(dst_fold, 'subject' + format(subj))\n",
    "    #Proceeded by transpose  to obtain 4 matrices for each subject, already checked that it is symmetric\n",
    "    data=data.transpose(2,0,1)\n",
    "    #the first matrix (network) in the dataset (over 4)\n",
    "    #upper_tri=np.triu(data[0])\n",
    "    matrix=data[0]\n",
    "    #Vectorize \n",
    "    ui=np.triu_indices(35)\n",
    "    vector=matrix[ui]\n",
    "    \n",
    "\n",
    "    #f = os.path.join(subj_dest_fold, 'subjectA'+ format(subj)  + '.mat' )\n",
    "    ## needed data for classification, labels and features(brain grahps' weights in our case)\n",
    "    #d = {}\n",
    "    #d ['vector']=vector\n",
    "    #sio.savemat(f,d)\n",
    "    return vector"
   ]
  },
  {
   "cell_type": "code",
   "execution_count": 4,
   "metadata": {},
   "outputs": [],
   "source": [
    "def create_dataset(subjects,src_fold,dst_fold):\n",
    "    #subj_dest_fold = os.path.join(dst_fold, 'subject' + format(subj))\n",
    "    d={}\n",
    "    Features_vectors=[0 for i in range(630)]\n",
    "    #v=np.array([[0 for i in range(630)]])\n",
    "    for subj in subjects:\n",
    "        subj_data=handle_subj_ops(subj)\n",
    "        vector=extract_subj_store(subj,subj_data)\n",
    "        Features_vectors=np.vstack((Features_vectors,vector))\n",
    "        \n",
    "        #v=np.append(v,np.array(vector))\n",
    "        #d['subject'+format(subj)]=vector\n",
    "    #d['A']=v\n",
    "    Features_vectors=np.delete(Features_vectors,0,0)\n",
    "    d['Features_vectors']=Features_vectors\n",
    "    f = os.path.join(dst_fold, 'Feature_vectors' + '.mat' )\n",
    "    sio.savemat(f,d)    \n",
    "    "
   ]
  },
  {
   "cell_type": "markdown",
   "metadata": {},
   "source": [
    "### --------------------Main------------------------"
   ]
  },
  {
   "cell_type": "code",
   "execution_count": 5,
   "metadata": {},
   "outputs": [],
   "source": [
    "src_fold  = '/home/raoua/Desktop/BASIRA/working repo/Data_77subjects/LH77subjects/'\n",
    "label_file = '/home/raoua/Desktop/BASIRA/working repo/Data_77subjects/labels77.mat'\n",
    "dst_fold = '/home/raoua/Desktop/BASIRA/working repo/intermediate/'"
   ]
  },
  {
   "cell_type": "code",
   "execution_count": 6,
   "metadata": {},
   "outputs": [],
   "source": [
    "subjects=range(1,78)\n",
    "#for subj in subjects:\n",
    "#    # read and create necessary folders\n",
    "#    subj_data = handle_subj_ops(subj)\n",
    "#    extract_subj_store(subj, subj_data)\n",
    "create_dataset(subjects,src_fold,dst_fold)"
   ]
  },
  {
   "cell_type": "markdown",
   "metadata": {},
   "source": [
    "### Start over here "
   ]
  },
  {
   "cell_type": "code",
   "execution_count": 1,
   "metadata": {},
   "outputs": [],
   "source": [
    "import scipy.io as sio"
   ]
  },
  {
   "cell_type": "code",
   "execution_count": 2,
   "metadata": {},
   "outputs": [],
   "source": [
    "Data=sio.loadmat('./intermediate/Feature_vectors.mat')"
   ]
  },
  {
   "cell_type": "code",
   "execution_count": 3,
   "metadata": {},
   "outputs": [],
   "source": [
    "X=Data['Features_vectors']"
   ]
  },
  {
   "cell_type": "code",
   "execution_count": 4,
   "metadata": {},
   "outputs": [],
   "source": [
    "X = X.astype(float)"
   ]
  },
  {
   "cell_type": "code",
   "execution_count": 5,
   "metadata": {},
   "outputs": [],
   "source": [
    "labels=sio.loadmat('./labels77.mat')"
   ]
  },
  {
   "cell_type": "code",
   "execution_count": 6,
   "metadata": {},
   "outputs": [],
   "source": [
    "y=labels['labels']"
   ]
  },
  {
   "cell_type": "code",
   "execution_count": 7,
   "metadata": {},
   "outputs": [
    {
     "data": {
      "text/plain": [
       "dtype('float64')"
      ]
     },
     "execution_count": 7,
     "metadata": {},
     "output_type": "execute_result"
    }
   ],
   "source": [
    "X.dtype"
   ]
  },
  {
   "cell_type": "markdown",
   "metadata": {},
   "source": [
    "### Feature selection"
   ]
  },
  {
   "cell_type": "code",
   "execution_count": 8,
   "metadata": {},
   "outputs": [],
   "source": [
    "y=y[:, 0]"
   ]
  },
  {
   "cell_type": "code",
   "execution_count": 9,
   "metadata": {},
   "outputs": [],
   "source": [
    " n_samples, n_features = X.shape    # number of samples and number of features"
   ]
  },
  {
   "cell_type": "code",
   "execution_count": 10,
   "metadata": {},
   "outputs": [],
   "source": [
    "from sklearn.model_selection import KFold\n",
    "from sklearn import svm\n",
    "from sklearn.metrics import accuracy_score\n",
    "from skfeature.function.similarity_based import reliefF"
   ]
  },
  {
   "cell_type": "markdown",
   "metadata": {},
   "source": [
    "### 5-fold"
   ]
  },
  {
   "cell_type": "code",
   "execution_count": 11,
   "metadata": {},
   "outputs": [],
   "source": [
    "# split data into 5 folds\n",
    "kf=KFold(n_splits=5,shuffle=True)\n",
    "\n",
    "#ss = cross_validate(n_samples, n_folds=5, shuffle=True)"
   ]
  },
  {
   "cell_type": "code",
   "execution_count": 12,
   "metadata": {},
   "outputs": [
    {
     "data": {
      "text/plain": [
       "5"
      ]
     },
     "execution_count": 12,
     "metadata": {},
     "output_type": "execute_result"
    }
   ],
   "source": [
    "kf.get_n_splits(X)"
   ]
  },
  {
   "cell_type": "code",
   "execution_count": 13,
   "metadata": {},
   "outputs": [],
   "source": [
    "# Number of selected features (top k ranked features)\n",
    "\n",
    "#top K selected features varying from 10 to 100 (with a step size of 10 features)\n",
    "num_fea = [i for i in range(10,110,10)]\n",
    "clf = svm.LinearSVC()    # linear SVM\n",
    "correct=0\n",
    "accuracy=[]"
   ]
  },
  {
   "cell_type": "code",
   "execution_count": 14,
   "metadata": {},
   "outputs": [],
   "source": [
    "#MutInfFS\n",
    "from skfeature.function.information_theoretical_based import MIFS\n",
    "#laplacian\n",
    "from skfeature.function.similarity_based import lap_score\n",
    "from skfeature.utility import construct_W\n",
    "# norm\n",
    "from skfeature.function.sparse_learning_based import ll_l21\n",
    "from skfeature.utility.sparse_learning import *\n",
    "#UDFS\n",
    "from skfeature.function.sparse_learning_based import UDFS\n",
    "from skfeature.utility.sparse_learning import feature_ranking\n",
    "#cFS(correlation based FS)\n",
    "from skfeature.function.statistical_based import CFS"
   ]
  },
  {
   "cell_type": "code",
   "execution_count": 15,
   "metadata": {},
   "outputs": [],
   "source": [
    "def relief_FS(X_train,y_train):\n",
    "    score=reliefF.reliefF(X_train,y_train)\n",
    "    idx=reliefF.feature_ranking(score)\n",
    "    return(idx)"
   ]
  },
  {
   "cell_type": "code",
   "execution_count": 16,
   "metadata": {},
   "outputs": [],
   "source": [
    "def MIFS_FS(k,X_train,y_train):\n",
    "    idx = MIFS.mifs(X_train, y_train, n_selected_features=k)\n",
    "    #print(idx)\n",
    "    return(idx)"
   ]
  },
  {
   "cell_type": "code",
   "execution_count": 17,
   "metadata": {},
   "outputs": [],
   "source": [
    "def lap_score_FS():\n",
    "    # construct affinity matrix\n",
    "    kwargs_W = {\"metric\": \"euclidean\", \"neighbor_mode\": \"knn\", \"weight_mode\": \"heat_kernel\", \"k\": 5, 't': 1}\n",
    "    W = construct_W.construct_W(X, **kwargs_W)\n",
    "    # obtain the scores of features\n",
    "    score = lap_score.lap_score(X, W=W)\n",
    "    idx=lap_score.feature_ranking(score)\n",
    "    return(idx)"
   ]
  },
  {
   "cell_type": "code",
   "execution_count": 18,
   "metadata": {},
   "outputs": [],
   "source": [
    "def ll_l21_FS(X_train,y,train_index):\n",
    "    Y = construct_label_matrix_pan(y)\n",
    "    Y_train=Y[train_index]\n",
    "    Weight, obj, value_gamma = ll_l21.proximal_gradient_descent(X_train, Y[train_index], 0.1, verbose=False)\n",
    "    idx = feature_ranking(Weight)\n",
    "    return(idx)\n",
    "    \n",
    "    "
   ]
  },
  {
   "cell_type": "code",
   "execution_count": 19,
   "metadata": {},
   "outputs": [],
   "source": [
    "def UDFS_FS():\n",
    "    Weight = UDFS.udfs(X)\n",
    "    idx=feature_ranking(Weight)\n",
    "    return(idx)\n",
    "    "
   ]
  },
  {
   "cell_type": "code",
   "execution_count": 20,
   "metadata": {},
   "outputs": [],
   "source": [
    "def CFS_FS(X_train,y_train):\n",
    "    idx = CFS.cfs(X_train, y_train)\n",
    "    return(idx)\n",
    "    "
   ]
  },
  {
   "cell_type": "code",
   "execution_count": 21,
   "metadata": {},
   "outputs": [],
   "source": [
    "def training(num_fea,FS_method):\n",
    "    accuracy=[]\n",
    "    for k in num_fea: \n",
    "        for train_index, test_index in kf.split(X):\n",
    "            #print(\"TRAIN:\", train_index, \"TEST:\", test_index)\n",
    "            X_train, X_test = X[train_index], X[test_index]\n",
    "            y_train, y_test = y[train_index], y[test_index]\n",
    " \n",
    "            if FS_method==reliefF:\n",
    "                idx=relief_FS(X_train,y_train)\n",
    "            #elif FS_method==MIFS: ##ERROR\n",
    "            #    idx=MIFS_FS(k,X_train,y_train)\n",
    "            elif FS_method==lap_score:\n",
    "                idx=lap_score_FS()\n",
    "            elif FS_method==ll_l21:\n",
    "                idx=ll_l21_FS(X_train,y,train_index)\n",
    "            elif FS_method==UDFS:\n",
    "                idx=UDFS_FS()\n",
    "            elif FS_method==CFS:\n",
    "                idx=CFS_FS(X_train,y_train)\n",
    "            selected_features = X[:, idx[0:k]]\n",
    "            # train a classification model with the selected features on the training dataset\n",
    "            clf.fit(selected_features[train_index], y[train_index])\n",
    "            # predict the class labels of test data\n",
    "            y_predict = clf.predict(selected_features[test_index])\n",
    "            # obtain the classification accuracy on the test data\n",
    "            acc = accuracy_score(y[test_index], y_predict)\n",
    "            #correct = correct + acc\n",
    "        #accuracy.append(float(correct)/10)\n",
    "        accuracy.append(acc)\n",
    "    #performance.append(accuracy)\n",
    "    return(accuracy)"
   ]
  },
  {
   "cell_type": "code",
   "execution_count": 22,
   "metadata": {},
   "outputs": [],
   "source": [
    "test=training(num_fea,reliefF)"
   ]
  },
  {
   "cell_type": "code",
   "execution_count": 24,
   "metadata": {},
   "outputs": [
    {
     "ename": "IndexError",
     "evalue": "list index out of range",
     "output_type": "error",
     "traceback": [
      "\u001b[0;31m---------------------------------------------------------------------------\u001b[0m",
      "\u001b[0;31mIndexError\u001b[0m                                Traceback (most recent call last)",
      "\u001b[0;32m<ipython-input-24-b0e58e187214>\u001b[0m in \u001b[0;36m<module>\u001b[0;34m\u001b[0m\n\u001b[0;32m----> 1\u001b[0;31m \u001b[0mtest\u001b[0m\u001b[0;34m[\u001b[0m\u001b[0;36m1\u001b[0m\u001b[0;34m]\u001b[0m\u001b[0;34m\u001b[0m\u001b[0;34m\u001b[0m\u001b[0m\n\u001b[0m",
      "\u001b[0;31mIndexError\u001b[0m: list index out of range"
     ]
    }
   ],
   "source": [
    "test[1]"
   ]
  },
  {
   "cell_type": "code",
   "execution_count": 25,
   "metadata": {},
   "outputs": [],
   "source": [
    "CFS_accuracy=test"
   ]
  },
  {
   "cell_type": "code",
   "execution_count": 34,
   "metadata": {},
   "outputs": [],
   "source": [
    "#MIFS_accuracy=training(num_fea,MIFS)"
   ]
  },
  {
   "cell_type": "code",
   "execution_count": 35,
   "metadata": {},
   "outputs": [],
   "source": [
    "Pool_FS=[reliefF,lap_score,ll_l21,UDFS]"
   ]
  },
  {
   "cell_type": "code",
   "execution_count": 36,
   "metadata": {},
   "outputs": [],
   "source": [
    "performance=[]\n",
    "for FS in Pool_FS:\n",
    "    performance.append(training(num_fea,FS))"
   ]
  },
  {
   "cell_type": "code",
   "execution_count": 39,
   "metadata": {},
   "outputs": [],
   "source": [
    "performance.append(CFS_accuracy)"
   ]
  },
  {
   "cell_type": "code",
   "execution_count": 40,
   "metadata": {},
   "outputs": [
    {
     "data": {
      "text/plain": [
       "5"
      ]
     },
     "execution_count": 40,
     "metadata": {},
     "output_type": "execute_result"
    }
   ],
   "source": [
    "len(performance)"
   ]
  },
  {
   "cell_type": "markdown",
   "metadata": {},
   "source": [
    "### Plot the results"
   ]
  },
  {
   "cell_type": "code",
   "execution_count": 19,
   "metadata": {},
   "outputs": [],
   "source": [
    "import matplotlib.pyplot as plt\n",
    "%matplotlib inline"
   ]
  },
  {
   "cell_type": "code",
   "execution_count": 20,
   "metadata": {},
   "outputs": [
    {
     "data": {
      "text/plain": [
       "[<matplotlib.lines.Line2D at 0x7f4cbdf676d8>]"
      ]
     },
     "execution_count": 20,
     "metadata": {},
     "output_type": "execute_result"
    },
    {
     "data": {
      "image/png": "[encoded data removed]",
      "text/plain": [
       "<Figure size 432x288 with 1 Axes>"
      ]
     },
     "metadata": {
      "needs_background": "light"
     },
     "output_type": "display_data"
    }
   ],
   "source": [
    "plt.plot(num_fea,accuracy)"
   ]
  },
  {
   "cell_type": "code",
   "execution_count": 21,
   "metadata": {},
   "outputs": [
    {
     "name": "stderr",
     "output_type": "stream",
     "text": [
      "/usr/local/lib/python3.6/dist-packages/matplotlib/__init__.py:886: MatplotlibDeprecationWarning: \n",
      "examples.directory is deprecated; in the future, examples will be found relative to the 'datapath' directory.\n",
      "  \"found relative to the 'datapath' directory.\".format(key))\n"
     ]
    }
   ],
   "source": [
    "import seaborn as sns\n",
    "sns.set()"
   ]
  },
  {
   "cell_type": "code",
   "execution_count": 22,
   "metadata": {},
   "outputs": [
    {
     "data": {
      "text/plain": [
       "[<matplotlib.lines.Line2D at 0x7f4cb36e84a8>]"
      ]
     },
     "execution_count": 22,
     "metadata": {},
     "output_type": "execute_result"
    },
    {
     "data": {
      "image/png": "[encoded data removed]",
      "text/plain": [
       "<Figure size 432x288 with 1 Axes>"
      ]
     },
     "metadata": {},
     "output_type": "display_data"
    }
   ],
   "source": [
    "plt.plot(num_fea,accuracy)\n"
   ]
  },
  {
   "cell_type": "code",
   "execution_count": 42,
   "metadata": {},
   "outputs": [],
   "source": [
    "### Save the accuracies\n",
    "Pool_FS_names=['reliefF','lap_score','ll_l21','UDFS','CFS']"
   ]
  },
  {
   "cell_type": "code",
   "execution_count": 44,
   "metadata": {},
   "outputs": [
    {
     "name": "stdout",
     "output_type": "stream",
     "text": [
      "0\n",
      "1\n",
      "2\n",
      "3\n",
      "4\n"
     ]
    }
   ],
   "source": [
    "for name in Pool_FS_names:\n",
    "    print(Pool_FS_names.index(name))"
   ]
  },
  {
   "cell_type": "code",
   "execution_count": 45,
   "metadata": {},
   "outputs": [],
   "source": [
    "d={}\n",
    "for name in Pool_FS_names:\n",
    "    d[name]=performance[Pool_FS_names.index(name)]"
   ]
  },
  {
   "cell_type": "code",
   "execution_count": 48,
   "metadata": {},
   "outputs": [],
   "source": [
    "import os"
   ]
  },
  {
   "cell_type": "code",
   "execution_count": 50,
   "metadata": {},
   "outputs": [],
   "source": [
    "dst_fold='/home/raoua/Desktop/BASIRA/working repo/intermediate/'\n",
    "#d={}\n",
    "#d['accuracy']=performance\n",
    "f = os.path.join(dst_fold, 'Pool_FS_Accuracy' + '.mat' )\n",
    "sio.savemat(f,d)  "
   ]
  },
  {
   "cell_type": "code",
   "execution_count": 25,
   "metadata": {},
   "outputs": [],
   "source": [
    "import scipy.io as sio\n",
    "result=sio.loadmat('./intermediate/Pool_FS_Accuracy.mat')"
   ]
  },
  {
   "cell_type": "code",
   "execution_count": 26,
   "metadata": {},
   "outputs": [
    {
     "data": {
      "text/plain": [
       "{'__header__': b'MATLAB 5.0 MAT-file Platform: posix, Created on: Mon Jun  3 03:57:16 2019',\n",
       " '__version__': '1.0',\n",
       " '__globals__': [],\n",
       " 'reliefF': array([[0.66666667, 0.66666667, 0.6       , 0.6       , 0.26666667,\n",
       "         0.66666667, 0.6       , 0.4       , 0.66666667, 0.8       ]]),\n",
       " 'lap_score': array([[0.66666667, 0.73333333, 0.66666667, 0.6       , 0.73333333,\n",
       "         0.66666667, 0.66666667, 0.66666667, 0.66666667, 0.66666667]]),\n",
       " 'll_l21': array([[0.4       , 0.53333333, 0.73333333, 0.53333333, 0.6       ,\n",
       "         0.66666667, 0.86666667, 0.8       , 0.46666667, 0.66666667]]),\n",
       " 'UDFS': array([[0.4       , 0.66666667, 0.6       , 0.66666667, 0.73333333,\n",
       "         0.8       , 0.66666667, 0.53333333, 0.6       , 0.46666667]]),\n",
       " 'CFS': array([[0.73333333, 0.73333333, 0.8       , 0.86666667, 0.73333333,\n",
       "         0.53333333, 0.73333333, 0.66666667, 0.73333333, 0.53333333]])}"
      ]
     },
     "execution_count": 26,
     "metadata": {},
     "output_type": "execute_result"
    }
   ],
   "source": [
    "result"
   ]
  },
  {
   "cell_type": "code",
   "execution_count": 27,
   "metadata": {},
   "outputs": [
    {
     "data": {
      "text/plain": [
       "array([0.66666667, 0.66666667, 0.6       , 0.6       , 0.26666667,\n",
       "       0.66666667, 0.6       , 0.4       , 0.66666667, 0.8       ])"
      ]
     },
     "execution_count": 27,
     "metadata": {},
     "output_type": "execute_result"
    }
   ],
   "source": [
    "result['reliefF'][0]"
   ]
  },
  {
   "cell_type": "code",
   "execution_count": 28,
   "metadata": {},
   "outputs": [
    {
     "data": {
      "text/plain": [
       "[10, 20, 30, 40, 50, 60, 70, 80, 90, 100]"
      ]
     },
     "execution_count": 28,
     "metadata": {},
     "output_type": "execute_result"
    }
   ],
   "source": [
    "num_fea"
   ]
  },
  {
   "cell_type": "code",
   "execution_count": 29,
   "metadata": {},
   "outputs": [
    {
     "name": "stderr",
     "output_type": "stream",
     "text": [
      "/usr/local/lib/python3.6/dist-packages/matplotlib/__init__.py:886: MatplotlibDeprecationWarning: \n",
      "examples.directory is deprecated; in the future, examples will be found relative to the 'datapath' directory.\n",
      "  \"found relative to the 'datapath' directory.\".format(key))\n"
     ]
    }
   ],
   "source": [
    "import matplotlib.pyplot as plt\n",
    "%matplotlib inline\n",
    "import seaborn as sns \n",
    "sns.set()"
   ]
  },
  {
   "cell_type": "code",
   "execution_count": 34,
   "metadata": {},
   "outputs": [
    {
     "data": {
      "text/plain": [
       "[<matplotlib.lines.Line2D at 0x7f4fd2160fd0>,\n",
       " <matplotlib.lines.Line2D at 0x7f4fd216a1d0>,\n",
       " <matplotlib.lines.Line2D at 0x7f4fd216a550>,\n",
       " <matplotlib.lines.Line2D at 0x7f4fd216a8d0>,\n",
       " <matplotlib.lines.Line2D at 0x7f4fd216ac18>]"
      ]
     },
     "execution_count": 34,
     "metadata": {},
     "output_type": "execute_result"
    },
    {
     "data": {
      "image/png": "[encoded data removed]",
      "text/plain": [
       "<Figure size 432x288 with 1 Axes>"
      ]
     },
     "metadata": {
      "needs_background": "light"
     },
     "output_type": "display_data"
    }
   ],
   "source": [
    "plt.plot(num_fea,result['reliefF'][0],'r',\n",
    "         num_fea,result['lap_score'][0],'y',\n",
    "         num_fea,result['ll_l21'][0],'g',\n",
    "         num_fea,result['UDFS'][0],'p',\n",
    "         num_fea,result['CFS'][0],'c')"
   ]
  },
  {
   "cell_type": "code",
   "execution_count": 51,
   "metadata": {},
   "outputs": [
    {
     "data": {
      "text/plain": [
       "<matplotlib.legend.Legend at 0x7f4fd1926f60>"
      ]
     },
     "execution_count": 51,
     "metadata": {},
     "output_type": "execute_result"
    },
    {
     "data": {
      "image/png": "[encoded data removed]",
      "text/plain": [
       "<Figure size 432x288 with 1 Axes>"
      ]
     },
     "metadata": {
      "needs_background": "light"
     },
     "output_type": "display_data"
    }
   ],
   "source": [
    "import matplotlib.pyplot as plt\n",
    "#from matplotlib.legend_handler import HandlerLine2D\n",
    "\n",
    "line1, = plt.plot(num_fea,result['reliefF'][0], marker='o', label='reliefF')\n",
    "line2, = plt.plot(num_fea,result['lap_score'][0], marker='o', label='lap_score')\n",
    "line3, = plt.plot(num_fea,result['ll_l21'][0], marker='o', label='ll_l21')\n",
    "line4, = plt.plot(num_fea,result['UDFS'][0], marker='o', label='UDFS')\n",
    "line5, = plt.plot(num_fea,result['CFS'][0], marker='o', label='CFS')\n",
    "plt.legend()"
   ]
  },
  {
   "cell_type": "code",
   "execution_count": null,
   "metadata": {},
   "outputs": [],
   "source": []
  }
 ],
 "metadata": {
  "kernelspec": {
   "display_name": "Python 3",
   "language": "python",
   "name": "python3"
  },
  "language_info": {
   "codemirror_mode": {
    "name": "ipython",
    "version": 3
   },
   "file_extension": ".py",
   "mimetype": "text/x-python",
   "name": "python",
   "nbconvert_exporter": "python",
   "pygments_lexer": "ipython3",
   "version": "3.6.7"
  }
 },
 "nbformat": 4,
 "nbformat_minor": 2
}
