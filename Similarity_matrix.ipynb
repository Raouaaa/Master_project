{
 "cells": [
  {
   "cell_type": "code",
   "execution_count": 1,
   "metadata": {},
   "outputs": [],
   "source": [
    "import scipy.io as sio"
   ]
  },
  {
   "cell_type": "code",
   "execution_count": 2,
   "metadata": {},
   "outputs": [],
   "source": [
    "FS_acc_5fold=sio.loadmat('./intermediate/Pool_FS_Accuracy_5fold.mat')"
   ]
  },
  {
   "cell_type": "code",
   "execution_count": 3,
   "metadata": {},
   "outputs": [
    {
     "data": {
      "text/plain": [
       "{'__header__': b'MATLAB 5.0 MAT-file Platform: posix, Created on: Mon Jun  3 03:57:16 2019',\n",
       " '__version__': '1.0',\n",
       " '__globals__': [],\n",
       " 'reliefF': array([[0.66666667, 0.66666667, 0.6       , 0.6       , 0.26666667,\n",
       "         0.66666667, 0.6       , 0.4       , 0.66666667, 0.8       ]]),\n",
       " 'lap_score': array([[0.66666667, 0.73333333, 0.66666667, 0.6       , 0.73333333,\n",
       "         0.66666667, 0.66666667, 0.66666667, 0.66666667, 0.66666667]]),\n",
       " 'll_l21': array([[0.4       , 0.53333333, 0.73333333, 0.53333333, 0.6       ,\n",
       "         0.66666667, 0.86666667, 0.8       , 0.46666667, 0.66666667]]),\n",
       " 'UDFS': array([[0.4       , 0.66666667, 0.6       , 0.66666667, 0.73333333,\n",
       "         0.8       , 0.66666667, 0.53333333, 0.6       , 0.46666667]]),\n",
       " 'CFS': array([[0.73333333, 0.73333333, 0.8       , 0.86666667, 0.73333333,\n",
       "         0.53333333, 0.73333333, 0.66666667, 0.73333333, 0.53333333]])}"
      ]
     },
     "execution_count": 3,
     "metadata": {},
     "output_type": "execute_result"
    }
   ],
   "source": [
    "FS_acc_5fold"
   ]
  },
  {
   "cell_type": "code",
   "execution_count": null,
   "metadata": {},
   "outputs": [],
   "source": []
  }
 ],
 "metadata": {
  "kernelspec": {
   "display_name": "Python 3",
   "language": "python",
   "name": "python3"
  },
  "language_info": {
   "codemirror_mode": {
    "name": "ipython",
    "version": 3
   },
   "file_extension": ".py",
   "mimetype": "text/x-python",
   "name": "python",
   "nbconvert_exporter": "python",
   "pygments_lexer": "ipython3",
   "version": "3.6.7"
  }
 },
 "nbformat": 4,
 "nbformat_minor": 2
}
